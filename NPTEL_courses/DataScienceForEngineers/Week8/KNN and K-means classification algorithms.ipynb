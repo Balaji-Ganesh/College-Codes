{
 "cells": [
  {
   "cell_type": "markdown",
   "id": "e08a6898-9087-4678-b4ef-432e32f6f4e3",
   "metadata": {},
   "source": [
    "![](resources/agenda-knn.png)\n",
    "![](resources/recap-knn.png)\n",
    "![](resources/case-study-label_KNN.png)\n",
    "![](resources/problem-stmt-knn.png)\n",
    "![](resources/data-scientist_into_scene.png)\n",
    "![](resources/solution-banner-knn.png)\n",
    "![](resources/getting_things_ready_knn.png)"
   ]
  },
  {
   "cell_type": "code",
   "execution_count": 1,
   "id": "36da4a2a-4d51-4079-995e-15f636164384",
   "metadata": {},
   "outputs": [
    {
     "ename": "ERROR",
     "evalue": "Error in install.packages(caret): object 'caret' not found\n",
     "output_type": "error",
     "traceback": [
      "Error in install.packages(caret): object 'caret' not found\nTraceback:\n",
      "1. install.packages(caret)"
     ]
    }
   ],
   "source": [
    "install.packages(caret)"
   ]
  },
  {
   "cell_type": "markdown",
   "id": "8a589a4d-31e7-46dc-8e0e-fe44b7e0cfa0",
   "metadata": {},
   "source": [
    "install.packages(class)"
   ]
  },
  {
   "cell_type": "markdown",
   "id": "996f0edd-8300-420f-8a49-c5b8529f245a",
   "metadata": {},
   "source": []
  },
  {
   "cell_type": "markdown",
   "id": "a5ec9ba0-ac9b-4dd5-9a9e-b7d42f13cdbe",
   "metadata": {},
   "source": []
  },
  {
   "cell_type": "markdown",
   "id": "48610b74-e308-4041-8651-354f0dfab088",
   "metadata": {},
   "source": []
  },
  {
   "cell_type": "markdown",
   "id": "bda0fe1e-ff1b-4e3d-ac76-6f483345ac39",
   "metadata": {},
   "source": []
  },
  {
   "cell_type": "markdown",
   "id": "1a4287ed-3c9b-421f-bdc8-55b31f3f33dc",
   "metadata": {},
   "source": []
  },
  {
   "cell_type": "markdown",
   "id": "42801308-6f46-4071-8090-707df9239c48",
   "metadata": {},
   "source": []
  },
  {
   "cell_type": "markdown",
   "id": "a1e901cb-df39-4e25-8e13-9f73704b32e3",
   "metadata": {
    "tags": []
   },
   "source": [
    "# **K-Means clustering algorithm** (Un-Supervised)"
   ]
  },
  {
   "cell_type": "markdown",
   "id": "533093f8-38f0-4c72-81b0-3bdd36f0a491",
   "metadata": {},
   "source": [
    "**What is K-Means Clustering?**\n",
    "* It is a technique to cluster or partition a certain no. of observations (Say, N observations into K clusters)\n",
    "    * that \"K\" canbe choosen manually or via algorithmically.\n",
    "\n",
    "* For the classification algorithms, we're given with the labelled data points, and their job is to find the \"\"\"**Decision Boundaries between different classes**\"\"\" -- These are supervised algos - Ex: KNN.\n",
    "But many of the clustering algos are \"UnSupervised algos\" -- i.e., they are not labelled into classes.\n",
    "> So, can think that... Clustering is slightly diff. from Classification.\n",
    "\n",
    "![](resources/K-means_intro.png)"
   ]
  },
  {
   "cell_type": "markdown",
   "id": "10e8b5a9-e2f2-4b96-8530-6c5a00ac743e",
   "metadata": {},
   "source": [
    "For a clustering technique.. _(look at the below photo, for hand-written representation of this..)_\n",
    "1. Primarily.., after categorization or classification into diff groups..\n",
    "2. Next, looking at, what characteristics these groups pop-out from each group to understand and label them\n",
    "\n",
    "to put it together.. \n",
    "> K-Means is one of the simplest un-supervised algo, where if you give no. of clusters/groups that exist, then it partitions N observations into those categories.\n",
    "\n",
    "****\n",
    "As any machine learning algo contains some optimization approach, this too had it. It does **as the summation expression works**..\n",
    "\n",
    "Can be interpreted as..\n",
    "> The first summation works on each grouped set($S_i$), and the second summation works on all such **$K$** sets.\n",
    "\n",
    "![](resources/K-Means_description_optimization_view.png)\n"
   ]
  },
  {
   "cell_type": "markdown",
   "id": "9d47f4d4-498c-4e6b-b412-51d3d7ab5844",
   "metadata": {},
   "source": [
    "Let's look at some example.. _(for the sake of illustration, considering in 2-dimensions for identifying clusters, but that becomes non-obvious for higher dimensions)_ ..\n",
    "\n",
    "![](resources/K-means_example.png)"
   ]
  },
  {
   "cell_type": "markdown",
   "id": "1e6ce577-f608-41b7-841b-cb74a17768b8",
   "metadata": {},
   "source": [
    "Ok, that's fine through a visual manner.. but how do we do it computationally..?? _as follows.._\n",
    "![](resources/example_continued.png)<br/>\n",
    "**How the grouping is done..?**\n",
    "> _[Here..]_ compared the `distance_1` and `distance_2` for each observation, if `<` => `Group_1` else (`>`) => `Group_2`"
   ]
  },
  {
   "cell_type": "markdown",
   "id": "637fdd66-187d-4f10-9211-7e7f89baa546",
   "metadata": {},
   "source": [
    "By now, we classified the observations into groups, it would be better to re-choose the cluster center right..!!, so that we can represent whole cluster by that one point."
   ]
  },
  {
   "cell_type": "markdown",
   "id": "3eb4e813-d000-47e3-9f18-845572ebe943",
   "metadata": {},
   "source": [
    "![](resources/example_continued1.png) "
   ]
  },
  {
   "cell_type": "markdown",
   "id": "55f659be-00ba-4654-aa79-3c4af9ac7ad6",
   "metadata": {},
   "source": [
    "To sum it up..<br/>\n",
    "![](resources/K-means_clustering_basic_procedure_summary.svg)"
   ]
  },
  {
   "cell_type": "markdown",
   "id": "7274e2dd-77e1-43d5-9fd7-532c06cf5b27",
   "metadata": {},
   "source": [
    "But, in all the cases, the data won't be of two-dimensional right... then how about handling those cases..?<br/>\n",
    "> via **Elbow Method**.\n",
    "![](resources/Elbow_Method.png)"
   ]
  },
  {
   "cell_type": "markdown",
   "id": "b48f3f98-c794-4b76-9091-ed1cb3bfafc3",
   "metadata": {},
   "source": [
    "## Disadvantage of K-Means.."
   ]
  },
  {
   "cell_type": "markdown",
   "id": "f790dad2-fe01-4c5b-b4e0-a898e7765160",
   "metadata": {},
   "source": [
    "* Could converge to **Local Minima**, so initial choosing of centers MATTERS A LOT (~~ Highly sensitive)\n",
    "> i.e., If centers are not chosen carefully _(Say one choosen in the center of [Say 2] clusters and one farther than these.. then those two individual clusters becomes 1 cluster) [Refer to the sir's representation in below figure]_ then classification goes wrong.\n",
    "\n",
    "![](resources/disadvantage_of_K_means.png)"
   ]
  },
  {
   "cell_type": "markdown",
   "id": "612a43dd-2c22-4a78-b35f-59936dc9844b",
   "metadata": {},
   "source": [
    "<h2 style=\"text-align: center\"> That's it, the end of the theory part of this course</h2>"
   ]
  },
  {
   "cell_type": "markdown",
   "id": "6c8487be-de6c-480b-95b8-c492b8276ec4",
   "metadata": {},
   "source": [
    "Let's see the practical implementation of this algorithm with a case study.."
   ]
  },
  {
   "cell_type": "markdown",
   "id": "8c7682c4-d12f-4613-90f1-bcd5d1b59391",
   "metadata": {},
   "source": [
    "![](resources/agenda.png)\n",
    "![](resources/clustering_of_trips_banner.png)\n",
    "![](resources/problem-stmt.png)\n",
    "![](resources/solution-banner.png)"
   ]
  },
  {
   "cell_type": "markdown",
   "id": "1e40ca68-2a80-4cc8-8a3e-917f2e8ef95b",
   "metadata": {},
   "source": [
    "![](resources/reading_dataset.png)\n",
    "![](resources/row.csv().png)\n",
    "![](resources/reading_data.png)"
   ]
  },
  {
   "cell_type": "code",
   "execution_count": 8,
   "id": "907a4ee2-a046-4b29-ab2a-adb1c05b21e1",
   "metadata": {
    "collapsed": true,
    "jupyter": {
     "outputs_hidden": true
    },
    "tags": []
   },
   "outputs": [
    {
     "data": {
      "text/html": [
       "<table>\n",
       "<thead><tr><th scope=col>TripLength</th><th scope=col>MaxSpeed</th><th scope=col>MostFreqSpeed</th><th scope=col>TripDuration</th><th scope=col>Brakes</th><th scope=col>IdlingTime</th><th scope=col>Honking</th></tr></thead>\n",
       "<tbody>\n",
       "\t<tr><td> 21</td><td> 51</td><td> 14</td><td> 93</td><td>307</td><td>27 </td><td>112</td></tr>\n",
       "\t<tr><td>148</td><td>130</td><td>106</td><td>156</td><td>226</td><td> 5 </td><td>114</td></tr>\n",
       "\t<tr><td> 18</td><td> 38</td><td> 16</td><td>100</td><td>351</td><td>26 </td><td>107</td></tr>\n",
       "\t<tr><td> 22</td><td> 43</td><td> 48</td><td> 36</td><td> 17</td><td> 4 </td><td>  5</td></tr>\n",
       "\t<tr><td>183</td><td>108</td><td> 90</td><td>171</td><td> 88</td><td> 5 </td><td> 29</td></tr>\n",
       "\t<tr><td> 18</td><td> 43</td><td> 13</td><td> 64</td><td>136</td><td>25 </td><td> 21</td></tr>\n",
       "\t<tr><td> 20</td><td> 37</td><td> 15</td><td> 85</td><td>121</td><td>26 </td><td> 23</td></tr>\n",
       "\t<tr><td> 21</td><td> 38</td><td> 14</td><td> 69</td><td>114</td><td>25 </td><td> 20</td></tr>\n",
       "\t<tr><td>181</td><td> 99</td><td>108</td><td>155</td><td> 86</td><td> 5 </td><td> 25</td></tr>\n",
       "\t<tr><td>174</td><td>100</td><td> 92</td><td>133</td><td>106</td><td> 5 </td><td> 34</td></tr>\n",
       "\t<tr><td>177</td><td>130</td><td> 85</td><td>152</td><td>210</td><td> 5 </td><td>128</td></tr>\n",
       "\t<tr><td> 17</td><td> 67</td><td> 41</td><td> 30</td><td> 33</td><td> 4 </td><td> 17</td></tr>\n",
       "\t<tr><td> 19</td><td> 42</td><td> 14</td><td>102</td><td>429</td><td>27 </td><td> 97</td></tr>\n",
       "\t<tr><td> 18</td><td> 39</td><td> 39</td><td> 37</td><td> 20</td><td> 4 </td><td>  5</td></tr>\n",
       "\t<tr><td> 17</td><td> 39</td><td> 16</td><td> 87</td><td>115</td><td>25 </td><td> 26</td></tr>\n",
       "\t<tr><td>193</td><td>122</td><td>101</td><td>150</td><td>183</td><td> 6 </td><td> 94</td></tr>\n",
       "\t<tr><td> 17</td><td> 61</td><td> 43</td><td> 26</td><td> 40</td><td> 5 </td><td> 23</td></tr>\n",
       "\t<tr><td> 20</td><td> 35</td><td> 43</td><td> 42</td><td> 15</td><td> 4 </td><td>  5</td></tr>\n",
       "\t<tr><td> 21</td><td> 48</td><td> 15</td><td> 88</td><td>384</td><td>27 </td><td> 98</td></tr>\n",
       "\t<tr><td> 21</td><td> 39</td><td> 15</td><td> 92</td><td>131</td><td>24 </td><td> 23</td></tr>\n",
       "\t<tr><td>181</td><td>111</td><td>100</td><td>147</td><td> 88</td><td> 6 </td><td> 33</td></tr>\n",
       "\t<tr><td> 20</td><td> 35</td><td> 15</td><td> 88</td><td>128</td><td>26 </td><td> 22</td></tr>\n",
       "\t<tr><td> 22</td><td> 35</td><td> 14</td><td> 79</td><td>343</td><td>28 </td><td>100</td></tr>\n",
       "\t<tr><td> 20</td><td> 43</td><td> 16</td><td> 91</td><td>361</td><td>26 </td><td> 96</td></tr>\n",
       "\t<tr><td> 20</td><td> 41</td><td> 14</td><td> 87</td><td>405</td><td>27 </td><td> 84</td></tr>\n",
       "\t<tr><td> 21</td><td> 37</td><td> 16</td><td> 94</td><td>120</td><td>27 </td><td> 20</td></tr>\n",
       "\t<tr><td> 21</td><td> 44</td><td> 45</td><td> 42</td><td> 17</td><td> 5 </td><td>  5</td></tr>\n",
       "\t<tr><td> 19</td><td> 48</td><td> 16</td><td> 86</td><td>311</td><td>24 </td><td> 90</td></tr>\n",
       "\t<tr><td>176</td><td>126</td><td>118</td><td>162</td><td>174</td><td> 6 </td><td>150</td></tr>\n",
       "\t<tr><td>151</td><td>120</td><td>105</td><td>128</td><td>195</td><td> 5 </td><td>108</td></tr>\n",
       "\t<tr><td>...</td><td>...</td><td>...</td><td>...</td><td>...</td><td>...</td><td>...</td></tr>\n",
       "\t<tr><td> 19</td><td> 43</td><td> 40</td><td> 34</td><td> 16</td><td> 4 </td><td>  6</td></tr>\n",
       "\t<tr><td>210</td><td> 99</td><td> 90</td><td>158</td><td>195</td><td> 4 </td><td>155</td></tr>\n",
       "\t<tr><td>163</td><td>119</td><td> 99</td><td>142</td><td>243</td><td> 5 </td><td>135</td></tr>\n",
       "\t<tr><td> 21</td><td> 41</td><td> 15</td><td> 87</td><td>308</td><td>26 </td><td>102</td></tr>\n",
       "\t<tr><td> 21</td><td> 47</td><td> 38</td><td> 31</td><td> 18</td><td> 4 </td><td>  5</td></tr>\n",
       "\t<tr><td> 18</td><td> 69</td><td> 44</td><td> 32</td><td> 39</td><td> 6 </td><td> 21</td></tr>\n",
       "\t<tr><td> 19</td><td> 64</td><td> 38</td><td> 32</td><td> 36</td><td> 5 </td><td> 18</td></tr>\n",
       "\t<tr><td>159</td><td>138</td><td> 84</td><td>151</td><td> 94</td><td> 4 </td><td> 32</td></tr>\n",
       "\t<tr><td> 22</td><td> 38</td><td> 14</td><td> 92</td><td>137</td><td>22 </td><td> 21</td></tr>\n",
       "\t<tr><td> 20</td><td> 36</td><td> 14</td><td>106</td><td>149</td><td>24 </td><td> 22</td></tr>\n",
       "\t<tr><td> 21</td><td> 47</td><td> 17</td><td> 84</td><td>345</td><td>24 </td><td> 90</td></tr>\n",
       "\t<tr><td> 16</td><td> 42</td><td> 42</td><td> 34</td><td> 17</td><td> 5 </td><td>  5</td></tr>\n",
       "\t<tr><td> 23</td><td> 41</td><td> 44</td><td> 36</td><td> 20</td><td> 5 </td><td>  5</td></tr>\n",
       "\t<tr><td> 20</td><td> 60</td><td> 40</td><td> 30</td><td> 37</td><td> 5 </td><td> 20</td></tr>\n",
       "\t<tr><td>176</td><td>136</td><td> 99</td><td>138</td><td>206</td><td> 6 </td><td>118</td></tr>\n",
       "\t<tr><td>183</td><td>106</td><td>102</td><td>142</td><td>211</td><td> 5 </td><td>115</td></tr>\n",
       "\t<tr><td>163</td><td>116</td><td> 93</td><td>151</td><td> 87</td><td> 4 </td><td> 26</td></tr>\n",
       "\t<tr><td> 21</td><td> 49</td><td> 43</td><td> 33</td><td> 19</td><td> 4 </td><td>  5</td></tr>\n",
       "\t<tr><td> 19</td><td> 62</td><td> 39</td><td> 33</td><td> 36</td><td> 4 </td><td> 17</td></tr>\n",
       "\t<tr><td>164</td><td>105</td><td>101</td><td>166</td><td> 96</td><td> 4 </td><td> 30</td></tr>\n",
       "\t<tr><td>154</td><td>128</td><td>107</td><td>152</td><td>201</td><td> 5 </td><td>148</td></tr>\n",
       "\t<tr><td>179</td><td>118</td><td>100</td><td>139</td><td>168</td><td> 4 </td><td>121</td></tr>\n",
       "\t<tr><td>196</td><td>107</td><td> 89</td><td>142</td><td> 79</td><td> 5 </td><td> 31</td></tr>\n",
       "\t<tr><td> 16</td><td> 61</td><td> 42</td><td> 35</td><td> 38</td><td> 5 </td><td> 17</td></tr>\n",
       "\t<tr><td> 20</td><td> 59</td><td> 42</td><td> 28</td><td> 41</td><td> 6 </td><td> 20</td></tr>\n",
       "\t<tr><td> 21</td><td> 42</td><td> 13</td><td> 92</td><td>360</td><td>24 </td><td> 98</td></tr>\n",
       "\t<tr><td>183</td><td>126</td><td> 89</td><td>149</td><td>189</td><td> 5 </td><td>130</td></tr>\n",
       "\t<tr><td> 22</td><td> 44</td><td> 12</td><td> 72</td><td>349</td><td>24 </td><td> 93</td></tr>\n",
       "\t<tr><td>163</td><td>135</td><td> 91</td><td>129</td><td>202</td><td> 5 </td><td>144</td></tr>\n",
       "\t<tr><td> 20</td><td> 64</td><td> 42</td><td> 27</td><td> 36</td><td> 5 </td><td> 20</td></tr>\n",
       "</tbody>\n",
       "</table>\n"
      ],
      "text/latex": [
       "\\begin{tabular}{r|lllllll}\n",
       " TripLength & MaxSpeed & MostFreqSpeed & TripDuration & Brakes & IdlingTime & Honking\\\\\n",
       "\\hline\n",
       "\t  21 &  51 &  14 &  93 & 307 & 27  & 112\\\\\n",
       "\t 148 & 130 & 106 & 156 & 226 &  5  & 114\\\\\n",
       "\t  18 &  38 &  16 & 100 & 351 & 26  & 107\\\\\n",
       "\t  22 &  43 &  48 &  36 &  17 &  4  &   5\\\\\n",
       "\t 183 & 108 &  90 & 171 &  88 &  5  &  29\\\\\n",
       "\t  18 &  43 &  13 &  64 & 136 & 25  &  21\\\\\n",
       "\t  20 &  37 &  15 &  85 & 121 & 26  &  23\\\\\n",
       "\t  21 &  38 &  14 &  69 & 114 & 25  &  20\\\\\n",
       "\t 181 &  99 & 108 & 155 &  86 &  5  &  25\\\\\n",
       "\t 174 & 100 &  92 & 133 & 106 &  5  &  34\\\\\n",
       "\t 177 & 130 &  85 & 152 & 210 &  5  & 128\\\\\n",
       "\t  17 &  67 &  41 &  30 &  33 &  4  &  17\\\\\n",
       "\t  19 &  42 &  14 & 102 & 429 & 27  &  97\\\\\n",
       "\t  18 &  39 &  39 &  37 &  20 &  4  &   5\\\\\n",
       "\t  17 &  39 &  16 &  87 & 115 & 25  &  26\\\\\n",
       "\t 193 & 122 & 101 & 150 & 183 &  6  &  94\\\\\n",
       "\t  17 &  61 &  43 &  26 &  40 &  5  &  23\\\\\n",
       "\t  20 &  35 &  43 &  42 &  15 &  4  &   5\\\\\n",
       "\t  21 &  48 &  15 &  88 & 384 & 27  &  98\\\\\n",
       "\t  21 &  39 &  15 &  92 & 131 & 24  &  23\\\\\n",
       "\t 181 & 111 & 100 & 147 &  88 &  6  &  33\\\\\n",
       "\t  20 &  35 &  15 &  88 & 128 & 26  &  22\\\\\n",
       "\t  22 &  35 &  14 &  79 & 343 & 28  & 100\\\\\n",
       "\t  20 &  43 &  16 &  91 & 361 & 26  &  96\\\\\n",
       "\t  20 &  41 &  14 &  87 & 405 & 27  &  84\\\\\n",
       "\t  21 &  37 &  16 &  94 & 120 & 27  &  20\\\\\n",
       "\t  21 &  44 &  45 &  42 &  17 &  5  &   5\\\\\n",
       "\t  19 &  48 &  16 &  86 & 311 & 24  &  90\\\\\n",
       "\t 176 & 126 & 118 & 162 & 174 &  6  & 150\\\\\n",
       "\t 151 & 120 & 105 & 128 & 195 &  5  & 108\\\\\n",
       "\t ... & ... & ... & ... & ... & ... & ...\\\\\n",
       "\t  19 &  43 &  40 &  34 &  16 &  4  &   6\\\\\n",
       "\t 210 &  99 &  90 & 158 & 195 &  4  & 155\\\\\n",
       "\t 163 & 119 &  99 & 142 & 243 &  5  & 135\\\\\n",
       "\t  21 &  41 &  15 &  87 & 308 & 26  & 102\\\\\n",
       "\t  21 &  47 &  38 &  31 &  18 &  4  &   5\\\\\n",
       "\t  18 &  69 &  44 &  32 &  39 &  6  &  21\\\\\n",
       "\t  19 &  64 &  38 &  32 &  36 &  5  &  18\\\\\n",
       "\t 159 & 138 &  84 & 151 &  94 &  4  &  32\\\\\n",
       "\t  22 &  38 &  14 &  92 & 137 & 22  &  21\\\\\n",
       "\t  20 &  36 &  14 & 106 & 149 & 24  &  22\\\\\n",
       "\t  21 &  47 &  17 &  84 & 345 & 24  &  90\\\\\n",
       "\t  16 &  42 &  42 &  34 &  17 &  5  &   5\\\\\n",
       "\t  23 &  41 &  44 &  36 &  20 &  5  &   5\\\\\n",
       "\t  20 &  60 &  40 &  30 &  37 &  5  &  20\\\\\n",
       "\t 176 & 136 &  99 & 138 & 206 &  6  & 118\\\\\n",
       "\t 183 & 106 & 102 & 142 & 211 &  5  & 115\\\\\n",
       "\t 163 & 116 &  93 & 151 &  87 &  4  &  26\\\\\n",
       "\t  21 &  49 &  43 &  33 &  19 &  4  &   5\\\\\n",
       "\t  19 &  62 &  39 &  33 &  36 &  4  &  17\\\\\n",
       "\t 164 & 105 & 101 & 166 &  96 &  4  &  30\\\\\n",
       "\t 154 & 128 & 107 & 152 & 201 &  5  & 148\\\\\n",
       "\t 179 & 118 & 100 & 139 & 168 &  4  & 121\\\\\n",
       "\t 196 & 107 &  89 & 142 &  79 &  5  &  31\\\\\n",
       "\t  16 &  61 &  42 &  35 &  38 &  5  &  17\\\\\n",
       "\t  20 &  59 &  42 &  28 &  41 &  6  &  20\\\\\n",
       "\t  21 &  42 &  13 &  92 & 360 & 24  &  98\\\\\n",
       "\t 183 & 126 &  89 & 149 & 189 &  5  & 130\\\\\n",
       "\t  22 &  44 &  12 &  72 & 349 & 24  &  93\\\\\n",
       "\t 163 & 135 &  91 & 129 & 202 &  5  & 144\\\\\n",
       "\t  20 &  64 &  42 &  27 &  36 &  5  &  20\\\\\n",
       "\\end{tabular}\n"
      ],
      "text/markdown": [
       "\n",
       "| TripLength | MaxSpeed | MostFreqSpeed | TripDuration | Brakes | IdlingTime | Honking |\n",
       "|---|---|---|---|---|---|---|\n",
       "|  21 |  51 |  14 |  93 | 307 | 27  | 112 |\n",
       "| 148 | 130 | 106 | 156 | 226 |  5  | 114 |\n",
       "|  18 |  38 |  16 | 100 | 351 | 26  | 107 |\n",
       "|  22 |  43 |  48 |  36 |  17 |  4  |   5 |\n",
       "| 183 | 108 |  90 | 171 |  88 |  5  |  29 |\n",
       "|  18 |  43 |  13 |  64 | 136 | 25  |  21 |\n",
       "|  20 |  37 |  15 |  85 | 121 | 26  |  23 |\n",
       "|  21 |  38 |  14 |  69 | 114 | 25  |  20 |\n",
       "| 181 |  99 | 108 | 155 |  86 |  5  |  25 |\n",
       "| 174 | 100 |  92 | 133 | 106 |  5  |  34 |\n",
       "| 177 | 130 |  85 | 152 | 210 |  5  | 128 |\n",
       "|  17 |  67 |  41 |  30 |  33 |  4  |  17 |\n",
       "|  19 |  42 |  14 | 102 | 429 | 27  |  97 |\n",
       "|  18 |  39 |  39 |  37 |  20 |  4  |   5 |\n",
       "|  17 |  39 |  16 |  87 | 115 | 25  |  26 |\n",
       "| 193 | 122 | 101 | 150 | 183 |  6  |  94 |\n",
       "|  17 |  61 |  43 |  26 |  40 |  5  |  23 |\n",
       "|  20 |  35 |  43 |  42 |  15 |  4  |   5 |\n",
       "|  21 |  48 |  15 |  88 | 384 | 27  |  98 |\n",
       "|  21 |  39 |  15 |  92 | 131 | 24  |  23 |\n",
       "| 181 | 111 | 100 | 147 |  88 |  6  |  33 |\n",
       "|  20 |  35 |  15 |  88 | 128 | 26  |  22 |\n",
       "|  22 |  35 |  14 |  79 | 343 | 28  | 100 |\n",
       "|  20 |  43 |  16 |  91 | 361 | 26  |  96 |\n",
       "|  20 |  41 |  14 |  87 | 405 | 27  |  84 |\n",
       "|  21 |  37 |  16 |  94 | 120 | 27  |  20 |\n",
       "|  21 |  44 |  45 |  42 |  17 |  5  |   5 |\n",
       "|  19 |  48 |  16 |  86 | 311 | 24  |  90 |\n",
       "| 176 | 126 | 118 | 162 | 174 |  6  | 150 |\n",
       "| 151 | 120 | 105 | 128 | 195 |  5  | 108 |\n",
       "| ... | ... | ... | ... | ... | ... | ... |\n",
       "|  19 |  43 |  40 |  34 |  16 |  4  |   6 |\n",
       "| 210 |  99 |  90 | 158 | 195 |  4  | 155 |\n",
       "| 163 | 119 |  99 | 142 | 243 |  5  | 135 |\n",
       "|  21 |  41 |  15 |  87 | 308 | 26  | 102 |\n",
       "|  21 |  47 |  38 |  31 |  18 |  4  |   5 |\n",
       "|  18 |  69 |  44 |  32 |  39 |  6  |  21 |\n",
       "|  19 |  64 |  38 |  32 |  36 |  5  |  18 |\n",
       "| 159 | 138 |  84 | 151 |  94 |  4  |  32 |\n",
       "|  22 |  38 |  14 |  92 | 137 | 22  |  21 |\n",
       "|  20 |  36 |  14 | 106 | 149 | 24  |  22 |\n",
       "|  21 |  47 |  17 |  84 | 345 | 24  |  90 |\n",
       "|  16 |  42 |  42 |  34 |  17 |  5  |   5 |\n",
       "|  23 |  41 |  44 |  36 |  20 |  5  |   5 |\n",
       "|  20 |  60 |  40 |  30 |  37 |  5  |  20 |\n",
       "| 176 | 136 |  99 | 138 | 206 |  6  | 118 |\n",
       "| 183 | 106 | 102 | 142 | 211 |  5  | 115 |\n",
       "| 163 | 116 |  93 | 151 |  87 |  4  |  26 |\n",
       "|  21 |  49 |  43 |  33 |  19 |  4  |   5 |\n",
       "|  19 |  62 |  39 |  33 |  36 |  4  |  17 |\n",
       "| 164 | 105 | 101 | 166 |  96 |  4  |  30 |\n",
       "| 154 | 128 | 107 | 152 | 201 |  5  | 148 |\n",
       "| 179 | 118 | 100 | 139 | 168 |  4  | 121 |\n",
       "| 196 | 107 |  89 | 142 |  79 |  5  |  31 |\n",
       "|  16 |  61 |  42 |  35 |  38 |  5  |  17 |\n",
       "|  20 |  59 |  42 |  28 |  41 |  6  |  20 |\n",
       "|  21 |  42 |  13 |  92 | 360 | 24  |  98 |\n",
       "| 183 | 126 |  89 | 149 | 189 |  5  | 130 |\n",
       "|  22 |  44 |  12 |  72 | 349 | 24  |  93 |\n",
       "| 163 | 135 |  91 | 129 | 202 |  5  | 144 |\n",
       "|  20 |  64 |  42 |  27 |  36 |  5  |  20 |\n",
       "\n"
      ],
      "text/plain": [
       "    TripLength MaxSpeed MostFreqSpeed TripDuration Brakes IdlingTime Honking\n",
       "1    21         51       14            93          307    27         112    \n",
       "2   148        130      106           156          226     5         114    \n",
       "3    18         38       16           100          351    26         107    \n",
       "4    22         43       48            36           17     4           5    \n",
       "5   183        108       90           171           88     5          29    \n",
       "6    18         43       13            64          136    25          21    \n",
       "7    20         37       15            85          121    26          23    \n",
       "8    21         38       14            69          114    25          20    \n",
       "9   181         99      108           155           86     5          25    \n",
       "10  174        100       92           133          106     5          34    \n",
       "11  177        130       85           152          210     5         128    \n",
       "12   17         67       41            30           33     4          17    \n",
       "13   19         42       14           102          429    27          97    \n",
       "14   18         39       39            37           20     4           5    \n",
       "15   17         39       16            87          115    25          26    \n",
       "16  193        122      101           150          183     6          94    \n",
       "17   17         61       43            26           40     5          23    \n",
       "18   20         35       43            42           15     4           5    \n",
       "19   21         48       15            88          384    27          98    \n",
       "20   21         39       15            92          131    24          23    \n",
       "21  181        111      100           147           88     6          33    \n",
       "22   20         35       15            88          128    26          22    \n",
       "23   22         35       14            79          343    28         100    \n",
       "24   20         43       16            91          361    26          96    \n",
       "25   20         41       14            87          405    27          84    \n",
       "26   21         37       16            94          120    27          20    \n",
       "27   21         44       45            42           17     5           5    \n",
       "28   19         48       16            86          311    24          90    \n",
       "29  176        126      118           162          174     6         150    \n",
       "30  151        120      105           128          195     5         108    \n",
       "... ...        ...      ...           ...          ...    ...        ...    \n",
       "62   19         43       40            34           16     4           6    \n",
       "63  210         99       90           158          195     4         155    \n",
       "64  163        119       99           142          243     5         135    \n",
       "65   21         41       15            87          308    26         102    \n",
       "66   21         47       38            31           18     4           5    \n",
       "67   18         69       44            32           39     6          21    \n",
       "68   19         64       38            32           36     5          18    \n",
       "69  159        138       84           151           94     4          32    \n",
       "70   22         38       14            92          137    22          21    \n",
       "71   20         36       14           106          149    24          22    \n",
       "72   21         47       17            84          345    24          90    \n",
       "73   16         42       42            34           17     5           5    \n",
       "74   23         41       44            36           20     5           5    \n",
       "75   20         60       40            30           37     5          20    \n",
       "76  176        136       99           138          206     6         118    \n",
       "77  183        106      102           142          211     5         115    \n",
       "78  163        116       93           151           87     4          26    \n",
       "79   21         49       43            33           19     4           5    \n",
       "80   19         62       39            33           36     4          17    \n",
       "81  164        105      101           166           96     4          30    \n",
       "82  154        128      107           152          201     5         148    \n",
       "83  179        118      100           139          168     4         121    \n",
       "84  196        107       89           142           79     5          31    \n",
       "85   16         61       42            35           38     5          17    \n",
       "86   20         59       42            28           41     6          20    \n",
       "87   21         42       13            92          360    24          98    \n",
       "88  183        126       89           149          189     5         130    \n",
       "89   22         44       12            72          349    24          93    \n",
       "90  163        135       91           129          202     5         144    \n",
       "91   20         64       42            27           36     5          20    "
      ]
     },
     "metadata": {},
     "output_type": "display_data"
    }
   ],
   "source": [
    "tripDetails = read.csv(\"resources/datasets/tripDetails.csv\", row.names=1)  # For the given dataset, the 1st row contains the headers\n",
    "tripDetails      # View(tripDetails) GUI's work in command-line.."
   ]
  },
  {
   "cell_type": "markdown",
   "id": "998aefad-4ca1-40e4-a9e5-b1d6bc7eb4f7",
   "metadata": {},
   "source": [
    "![](resources/structure-str().png)"
   ]
  },
  {
   "cell_type": "code",
   "execution_count": 9,
   "id": "50a796f6-d28a-4deb-a0c0-40993f4371f7",
   "metadata": {},
   "outputs": [
    {
     "name": "stdout",
     "output_type": "stream",
     "text": [
      "'data.frame':\t91 obs. of  7 variables:\n",
      " $ TripLength   : int  21 148 18 22 183 18 20 21 181 174 ...\n",
      " $ MaxSpeed     : int  51 130 38 43 108 43 37 38 99 100 ...\n",
      " $ MostFreqSpeed: int  14 106 16 48 90 13 15 14 108 92 ...\n",
      " $ TripDuration : int  93 156 100 36 171 64 85 69 155 133 ...\n",
      " $ Brakes       : int  307 226 351 17 88 136 121 114 86 106 ...\n",
      " $ IdlingTime   : int  27 5 26 4 5 25 26 25 5 5 ...\n",
      " $ Honking      : int  112 114 107 5 29 21 23 20 25 34 ...\n"
     ]
    }
   ],
   "source": [
    "str(tripDetails)"
   ]
  },
  {
   "cell_type": "markdown",
   "id": "114e33c1-7845-46ae-a275-4744600f5a69",
   "metadata": {},
   "source": [
    "![](resources/summary().png)"
   ]
  },
  {
   "cell_type": "code",
   "execution_count": 11,
   "id": "ce2e83fb-e2b2-44e1-9b7f-08dc2319eb2b",
   "metadata": {},
   "outputs": [
    {
     "data": {
      "text/plain": [
       "   TripLength        MaxSpeed      MostFreqSpeed     TripDuration   \n",
       " Min.   : 16.00   Min.   : 35.00   Min.   : 12.00   Min.   : 22.00  \n",
       " 1st Qu.: 20.00   1st Qu.: 42.00   1st Qu.: 15.50   1st Qu.: 34.50  \n",
       " Median : 21.00   Median : 54.00   Median : 42.00   Median : 88.00  \n",
       " Mean   : 70.77   Mean   : 70.36   Mean   : 50.65   Mean   : 87.37  \n",
       " 3rd Qu.:163.00   3rd Qu.:105.50   3rd Qu.: 89.00   3rd Qu.:133.00  \n",
       " Max.   :210.00   Max.   :138.00   Max.   :118.00   Max.   :171.00  \n",
       "     Brakes        IdlingTime       Honking      \n",
       " Min.   : 14.0   Min.   : 4.00   Min.   :  4.00  \n",
       " 1st Qu.: 36.5   1st Qu.: 5.00   1st Qu.: 20.00  \n",
       " Median :100.0   Median : 5.00   Median : 25.00  \n",
       " Mean   :135.4   Mean   :11.59   Mean   : 49.92  \n",
       " 3rd Qu.:198.0   3rd Qu.:24.00   3rd Qu.: 97.50  \n",
       " Max.   :429.0   Max.   :32.00   Max.   :155.00  "
      ]
     },
     "metadata": {},
     "output_type": "display_data"
    }
   ],
   "source": [
    "summary(tripDetails)  # Gives the five-point summary .. as same as for the box-plot / candle-stick plot.."
   ]
  },
  {
   "cell_type": "markdown",
   "id": "b37e9ef7-6314-4470-b231-f862970a458c",
   "metadata": {},
   "source": [
    "**NOTICE** that... the dataset given to us, hasn't labelled as **Short-trip**, **Long-trip**..,, so if knowing these are the target from the dataset, then the un-supervised K-means would be the good choice.<br/>\n",
    "![](resources/kmeans_emphasis.png)\n",
    "![](resources/kmeans_usage.png)"
   ]
  },
  {
   "cell_type": "code",
   "execution_count": 16,
   "id": "54b6b048-b09d-4fc9-9612-00ed6a0f8203",
   "metadata": {},
   "outputs": [],
   "source": [
    "# Implementing kmeans.\n",
    "tripCluster = kmeans(tripDetails, 3)  # with 3 Clusters... \n",
    "#tripCluster  # See below image with interpretations"
   ]
  },
  {
   "cell_type": "markdown",
   "id": "b32c3da3-cf92-4ab5-a848-2b86c23e5760",
   "metadata": {},
   "source": [
    "![](resources/kmeans_results.svg) "
   ]
  },
  {
   "cell_type": "markdown",
   "id": "5cf2533a-0967-4165-8218-90aa07399b56",
   "metadata": {
    "tags": []
   },
   "source": [
    "The biggest problem with the K-means is that.. **Choosing the no. of clusters** -- that's where **elbow method** comes to rescue..<br/>"
   ]
  },
  {
   "cell_type": "markdown",
   "id": "6b11489f-9400-440e-8dd7-c0f3639dde00",
   "metadata": {
    "tags": []
   },
   "source": [
    "## **Elbow method**: Optimal method to calculate `k`"
   ]
  },
  {
   "cell_type": "markdown",
   "id": "80bf40b1-94ab-48e2-a0d8-a9c470351178",
   "metadata": {},
   "source": [
    "Strategy:<br/>\n",
    "* In a loop apply the `kmeans` over a range of cluster_sizes and take that metric of `sum of squares`, and plot it.\n",
    "* The elbow point tells the optimal cluster-value."
   ]
  },
  {
   "cell_type": "code",
   "execution_count": 32,
   "id": "92952492-50b0-499e-8fcb-befe45770686",
   "metadata": {},
   "outputs": [],
   "source": [
    "k.max=10                  # Assuming the max-clusters can be 10..\n",
    "wss <- rep(NA, k.max)     # Allocating a vector of the req. size x 1 and filling with NA's.. wss: within_sum_of_squares\n",
    "#num_clusters <- list()    # A empty list to store the clusters....??\n",
    "for(i in 1:k.max)\n",
    "{\n",
    "    result_obj <- kmeans(tripDetails, i)   # Applying the kmeans ..\n",
    "    wss[i] <- result_obj$tot.withinss      # Calculating within-sum_of_squares..\n",
    "}"
   ]
  },
  {
   "cell_type": "code",
   "execution_count": 36,
   "id": "c382c74a-27de-47d7-b4a1-4c3a04ba5e30",
   "metadata": {},
   "outputs": [
    {
     "data": {
      "image/png": "[encoded data removed]",
      "text/plain": [
       "plot without title"
      ]
     },
     "metadata": {},
     "output_type": "display_data"
    }
   ],
   "source": [
    "plot(1:k.max, wss, \n",
    "     type=\"b\", pch=19,\n",
    "     xlab = \"Number of clusters (K)\",\n",
    "     ylab = \"Total within-clusters sum of squares: Trips\")"
   ]
  },
  {
   "cell_type": "markdown",
   "id": "6d896616-8912-4379-b764-ed5b51de0696",
   "metadata": {},
   "source": [
    "The elbo-point.. seems to be 3, hence that becomes the optimal point.<br/>\n",
    "**Why shouldn't we take other ones like.. 4, 5, 6..??**\n",
    "> _[May be..]_ we'll get too many clusters (probably may become difficult to make labellings to those clusterings)"
   ]
  },
  {
   "cell_type": "markdown",
   "id": "bd46a385-ef65-4898-a684-e7f3435a7690",
   "metadata": {},
   "source": [
    "![](resources/summary.png)"
   ]
  },
  {
   "cell_type": "code",
   "execution_count": null,
   "id": "53ebb4a1-40e9-4f84-9754-1b9e44431168",
   "metadata": {},
   "outputs": [],
   "source": []
  }
 ],
 "metadata": {
  "kernelspec": {
   "display_name": "R",
   "language": "R",
   "name": "ir"
  },
  "language_info": {
   "codemirror_mode": "r",
   "file_extension": ".r",
   "mimetype": "text/x-r-source",
   "name": "R",
   "pygments_lexer": "r",
   "version": "3.6.1"
  }
 },
 "nbformat": 4,
 "nbformat_minor": 5
}
