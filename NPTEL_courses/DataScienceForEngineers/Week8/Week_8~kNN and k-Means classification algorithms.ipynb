{
 "cells": [
  {
   "cell_type": "markdown",
   "id": "5525f022-23e1-4472-8646-23f4dc273a8a",
   "metadata": {},
   "source": [
    "on 25th September, 2021 ~ Saturday_4"
   ]
  },
  {
   "cell_type": "markdown",
   "id": "83427664-9452-4727-9a6c-b9b3272a5145",
   "metadata": {},
   "source": [
    "## Module-1: **K-Nearest Neighbors** _--- A Supervised Learning algorithm_"
   ]
  },
  {
   "cell_type": "markdown",
   "id": "5d2e5ad5-6baf-44ea-bf84-bc997af7d70a",
   "metadata": {},
   "source": [
    "![](resources/KNN-Intro.png)"
   ]
  },
  {
   "cell_type": "markdown",
   "id": "2405fb7f-c4a8-4c7a-9eb0-2dbf566f3c9c",
   "metadata": {},
   "source": [
    "<ul>\n",
    "    <li>Its <b>Non-Parametric</b>\n",
    "<blockquote> i.e., (Recall the idea of applying <i>Linear Regression, Multiple Regression...</i>, there we derive some parameters <i>[informally.. \"\"a function\"\"]</i> from the training data, and later when proposed a new test_data, those are plugged into those parameters and calculated).\n",
    "<p style=\"text-align: right\"> <i>-----------------------That's called the <b>Parametric Method</b></i></p>\n",
    "Here interestingly.. we don't use any such parameters. -- Hence called <b>Non-Parametric Method..</b>\n",
    "   </blockquote>\n",
    "   \n",
    "   Then what about telling that <b>KNN with 4,5,..8 neighbors..??</b> aren't we using any parameter there..??<br/>\n",
    "   <blockquote>\n",
    "       Its a <b>subtle difference</b>. That's the <b>tuning parameter</b> -- <i>In the sense that... these parameters are <u>for tuning the model</u>, and moreover, like the Linear Regression models, those parameters are <u>derived from the given data itself..</u></i>\n",
    "    </blockquote>\n",
    "  </li>\n",
    "    \n",
    " <li> Its a <b>Lazy Learning algorithm</b>\n",
    " <blockquote>\n",
    "     Say for the Logistic regression.. in order to go for prediction, need to derive the parameters, then can go for prediction.<br/>\n",
    "     Whereas here... just give the training-dataset and test-point -- it'll classify. <u>But, a lot of work has to be done earlier to that</u>\n",
    " </blockquote>\n",
    " </li>\n",
    "</ul>"
   ]
  },
  {
   "cell_type": "markdown",
   "id": "913d8387-fd85-476c-8b48-2666684011ed",
   "metadata": {},
   "source": [
    "![](resources/Why-KNN.png)\n",
    "![](resources/KNN_input_and_output.svg)\n",
    "![](resources/assumptions-knn.png)\n",
    "![](resources/kNN-Algorithm.png) <br/>\n",
    "> Based on the level of proximity for a point, a class is chosen (like $C_1, C_2,....c_n$). <br/>\n",
    "<u>If a point comes in more than one class</u> **Majority voting** is done."
   ]
  },
  {
   "cell_type": "markdown",
   "id": "6f0652ed-b1b3-4043-8f6a-8d17ada74137",
   "metadata": {},
   "source": [
    "![](resources/knn-illustration.svg)\n",
    "![](resources/knn-illustration_testing.svg)"
   ]
  },
  {
   "cell_type": "markdown",
   "id": "90295649-176f-45b9-9254-e4b64b800ffc",
   "metadata": {},
   "source": [
    "![](resources/kNN-things_to_consider.svg)\n",
    "![](resources/kNN-parameter_selection.png)\n",
    "![](resources/feature_selection_and_scaling.png)"
   ]
  },
  {
   "cell_type": "markdown",
   "id": "7bf79102-a118-4992-b797-d7201c15977f",
   "metadata": {},
   "source": [
    "## Module-2: **Implementing KNN in R**"
   ]
  },
  {
   "cell_type": "markdown",
   "id": "31747d40-cc47-4373-aff2-716a7bc0178f",
   "metadata": {},
   "source": [
    "Agenda:<br/>\n",
    "![](resources/agenda.png)<hr/>\n",
    "Recap...\n",
    "![](resources/recap.png)"
   ]
  },
  {
   "cell_type": "markdown",
   "id": "209b8393-b4de-4893-a81a-8eda21010abd",
   "metadata": {},
   "source": [
    "![](resources/problem-stmt.png)\n",
    "![](resources/problem-stmt_data_scientist_to_scene.png)\n",
    "![](resources/problem-stmt_data_scientist_to_scene_sol_banner.png)"
   ]
  },
  {
   "cell_type": "markdown",
   "id": "fc42463f-6817-4988-ba15-0751d8dfb00f",
   "metadata": {},
   "source": [
    "![](resources/gettingThingsReady.png)"
   ]
  },
  {
   "cell_type": "code",
   "execution_count": 2,
   "id": "2a8be360-785d-4ae7-adce-762bd07005ea",
   "metadata": {},
   "outputs": [],
   "source": [
    "install.packages(\"caret\", dependencies=TRUE)"
   ]
  },
  {
   "cell_type": "code",
   "execution_count": null,
   "id": "b101a110-3968-4438-a12a-bb9dc1aa3a63",
   "metadata": {},
   "outputs": [],
   "source": [
    "install.pacakges(\"class\", dependencies=TRUE)  # Contains various classification algorithms.."
   ]
  },
  {
   "cell_type": "markdown",
   "id": "d6d813e1-d0c0-4dd6-8a6b-c29ab12cad74",
   "metadata": {},
   "source": [
    "![](resources/readingData.png)\n",
    "![](resources/read.csv().png)\n",
    "![](resources/read.csv()_1.png)"
   ]
  },
  {
   "cell_type": "code",
   "execution_count": 1,
   "id": "bb3b8d6d-bd47-4f08-9722-f6031e3d01df",
   "metadata": {},
   "outputs": [],
   "source": [
    "serviceTrain = read.csv(\"resources/datasets/serviceTrainData.csv\")\n",
    "serviceTest = read.csv(\"resources/datasets/serviceTestData.csv\")   # Here even for this had the final column of answer. But, will be acting as \"UnKnown\".."
   ]
  },
  {
   "cell_type": "code",
   "execution_count": 11,
   "id": "6a1858e5-422b-409b-96fc-41a6883ecd1a",
   "metadata": {},
   "outputs": [],
   "source": [
    "library(class)"
   ]
  },
  {
   "cell_type": "code",
   "execution_count": 12,
   "id": "290e409b-0b31-42fb-b01e-c28766f1d550",
   "metadata": {},
   "outputs": [
    {
     "name": "stderr",
     "output_type": "stream",
     "text": [
      "Loading required package: lattice\n",
      "Loading required package: ggplot2\n",
      "Registered S3 methods overwritten by 'ggplot2':\n",
      "  method         from \n",
      "  [.quosures     rlang\n",
      "  c.quosures     rlang\n",
      "  print.quosures rlang\n"
     ]
    }
   ],
   "source": [
    "library(caret)"
   ]
  },
  {
   "cell_type": "code",
   "execution_count": 3,
   "id": "f8ee2dc4-e225-42e3-b8f9-141d802d0820",
   "metadata": {},
   "outputs": [
    {
     "ename": "ERROR",
     "evalue": "Error in View(serviceTrain): ‘View()’ not yet supported in the Jupyter R kernel\n",
     "output_type": "error",
     "traceback": [
      "Error in View(serviceTrain): ‘View()’ not yet supported in the Jupyter R kernel\nTraceback:\n",
      "1. View(serviceTrain)",
      "2. stop(sQuote(\"View()\"), \" not yet supported in the Jupyter R kernel\")"
     ]
    }
   ],
   "source": [
    "View(serviceTrain)"
   ]
  },
  {
   "cell_type": "markdown",
   "id": "ee175d9c-c805-48b2-9ab4-749b271bc354",
   "metadata": {},
   "source": [
    "![](resources/view_serviceTest.png)  -- here in the test dataset, there ias already a column of \"Whether the \""
   ]
  },
  {
   "cell_type": "code",
   "execution_count": null,
   "id": "30789dc9-c6b1-4d6b-9e58-67341e23cded",
   "metadata": {},
   "outputs": [],
   "source": [
    "serviceTrain"
   ]
  },
  {
   "cell_type": "markdown",
   "id": "47312be6-41b6-41b7-86cb-0b703689ecb1",
   "metadata": {},
   "source": [
    "![](resources/understanding_data.png)"
   ]
  },
  {
   "cell_type": "markdown",
   "id": "86c16468-a072-4156-951f-cd74c7854608",
   "metadata": {},
   "source": [
    "Ok, then what are the datatypes of each..?? How can one know about those..?? \n",
    "> via Structure of data as: `str(object)`<br/>\n",
    "![](resources/structure_of_data_syntax.png)"
   ]
  },
  {
   "cell_type": "code",
   "execution_count": 2,
   "id": "228e1181-c908-4820-a2ba-402f4ecdd44b",
   "metadata": {},
   "outputs": [
    {
     "name": "stdout",
     "output_type": "stream",
     "text": [
      "'data.frame':\t315 obs. of  6 variables:\n",
      " $ OilQual    : num  103.4 26.8 62.4 45.5 104.4 ...\n",
      " $ EnginePerf : num  103.5 26.2 63.7 49.9 103.3 ...\n",
      " $ NormMileage: num  103.1 31.3 59.7 48.8 103.1 ...\n",
      " $ TyreWear   : num  106.2 29.2 64.7 48.1 105.8 ...\n",
      " $ HVACwear   : num  105.7 31.3 58.6 48 106.5 ...\n",
      " $ Service    : Factor w/ 2 levels \"No\",\"Yes\": 1 2 2 1 1 1 1 1 1 1 ...\n"
     ]
    }
   ],
   "source": [
    "str(serviceTrain)"
   ]
  },
  {
   "cell_type": "code",
   "execution_count": 3,
   "id": "f79b8dc8-7139-4577-ab95-8a2f662b565f",
   "metadata": {},
   "outputs": [
    {
     "name": "stdout",
     "output_type": "stream",
     "text": [
      "'data.frame':\t135 obs. of  6 variables:\n",
      " $ OilQual    : num  45.77 4.99 4.99 106.39 104.39 ...\n",
      " $ EnginePerf : num  49.94 7.89 4.89 104.45 103.74 ...\n",
      " $ NormMileage: num  49.78 6.59 7.31 103.05 103.05 ...\n",
      " $ TyreWear   : num  48.26 9.49 8.37 106.28 106.13 ...\n",
      " $ HVACwear   : num  50.95 3.24 2.78 105.54 105.78 ...\n",
      " $ Service    : Factor w/ 2 levels \"No\",\"Yes\": 1 1 1 1 1 1 1 2 2 1 ...\n"
     ]
    }
   ],
   "source": [
    "str(serviceTest)"
   ]
  },
  {
   "cell_type": "markdown",
   "id": "58bf07b1-cb00-4c14-8e0b-9d4c65ffa369",
   "metadata": {},
   "source": [
    "Is there any way of getting the summary of the data read..??\n",
    "> Yes.. via `sumary(object)`<br/>\n",
    "![](resources/structure_of_data_syntax.png)"
   ]
  },
  {
   "cell_type": "code",
   "execution_count": 4,
   "id": "b5d3b7a6-86f5-402f-89a4-d56f25f03d5f",
   "metadata": {},
   "outputs": [
    {
     "data": {
      "text/plain": [
       "    OilQual           EnginePerf       NormMileage         TyreWear      \n",
       " Min.   :  0.9872   Min.   :  1.891   Min.   :  3.359   Min.   :  6.213  \n",
       " 1st Qu.: 26.7655   1st Qu.: 27.418   1st Qu.: 31.260   1st Qu.: 29.036  \n",
       " Median : 59.6633   Median : 59.741   Median : 57.221   Median : 60.304  \n",
       " Mean   : 59.6493   Mean   : 60.306   Mean   : 60.297   Mean   : 61.759  \n",
       " 3rd Qu.:104.3888   3rd Qu.:103.744   3rd Qu.:103.051   3rd Qu.:106.173  \n",
       " Max.   :106.4288   Max.   :105.744   Max.   :105.051   Max.   :108.173  \n",
       "    HVACwear      Service  \n",
       " Min.   : -1.72   No :232  \n",
       " 1st Qu.: 31.34   Yes: 83  \n",
       " Median : 60.62            \n",
       " Mean   : 60.39            \n",
       " 3rd Qu.:105.54            \n",
       " Max.   :107.54            "
      ]
     },
     "metadata": {},
     "output_type": "display_data"
    }
   ],
   "source": [
    "summary(serviceTrain)"
   ]
  },
  {
   "cell_type": "code",
   "execution_count": 5,
   "id": "198a75be-cf41-441e-b17a-6aa8f447fff9",
   "metadata": {},
   "outputs": [
    {
     "data": {
      "text/plain": [
       "    OilQual          EnginePerf       NormMileage         TyreWear      \n",
       " Min.   :  2.597   Min.   :  1.891   Min.   :  3.589   Min.   :  6.143  \n",
       " 1st Qu.: 26.696   1st Qu.: 27.418   1st Qu.: 31.260   1st Qu.: 28.901  \n",
       " Median : 61.023   Median : 61.501   Median : 59.351   Median : 61.304  \n",
       " Mean   : 58.629   Mean   : 59.077   Mean   : 59.118   Mean   : 60.864  \n",
       " 3rd Qu.:104.229   3rd Qu.:103.744   3rd Qu.:103.051   3rd Qu.:106.173  \n",
       " Max.   :106.389   Max.   :105.744   Max.   :105.051   Max.   :108.173  \n",
       "    HVACwear      Service \n",
       " Min.   : -1.72   No :99  \n",
       " 1st Qu.: 31.31   Yes:36  \n",
       " Median : 62.62           \n",
       " Mean   : 58.99           \n",
       " 3rd Qu.:105.33           \n",
       " Max.   :105.83           "
      ]
     },
     "metadata": {},
     "output_type": "display_data"
    }
   ],
   "source": [
    "summary(serviceTest)"
   ]
  },
  {
   "cell_type": "markdown",
   "id": "c72ed9d5-071c-450a-9559-9a5d4f0be836",
   "metadata": {},
   "source": [
    "As of now, thee one to be predicted: \"**Service**\", is already given, but now we need to that same job via **KNN**..<br/> Come, let's go ahead.."
   ]
  },
  {
   "cell_type": "markdown",
   "id": "3f1336b2-fe8a-44d7-a548-d277d16357fb",
   "metadata": {},
   "source": [
    "![](resources/knn-syntax.png)"
   ]
  },
  {
   "cell_type": "markdown",
   "id": "042af3ec-0a19-4ad6-81ab-9e7ab79c0326",
   "metadata": {},
   "source": [
    "![](resources/applying_KNN.png)"
   ]
  },
  {
   "cell_type": "code",
   "execution_count": 14,
   "id": "1f2bf49e-5fa8-40a9-b4e8-f1abfad9b991",
   "metadata": {},
   "outputs": [],
   "source": [
    "KNN_prediction = knn(train = serviceTrain[, -6],     # Pass the whole training data, except the one, to be predicted (its given at \"cl\")\n",
    "                     test  = serviceTest[, -6],     # for us, they gave the: finally predicted value, but we need to do via KNN, so excluding it.\n",
    "                     cl = serviceTrain$Service,     # Column which contains the target-predictions of the training_dataset\n",
    "                     k=3)                           # num_neighbors"
   ]
  },
  {
   "cell_type": "code",
   "execution_count": null,
   "id": "564facf3-665a-493e-9c3b-0a9d854d9e21",
   "metadata": {},
   "outputs": [],
   "source": [
    "KNN_prediction"
   ]
  },
  {
   "cell_type": "markdown",
   "id": "f59e4f0d-41f6-4b07-8b82-1e766d930443",
   "metadata": {},
   "source": [
    "![](resources/KNN_result.png)"
   ]
  },
  {
   "cell_type": "markdown",
   "id": "96f80aaa-7c43-48b4-9bd2-6eef3494f789",
   "metadata": {},
   "source": [
    "**How well this classification happened.......??** .. is there any such metric to know..??\n",
    "> Yes..!! its the **Confusion Matrix**. <br/>Can obtain manually or via `caret` package.."
   ]
  },
  {
   "cell_type": "markdown",
   "id": "2c821edc-ed8b-4afa-8e6f-e14388bfb7cc",
   "metadata": {},
   "source": [
    "Manual approach..!!<br/>\n",
    " ![](resources/confusionMatrix.png)"
   ]
  },
  {
   "cell_type": "code",
   "execution_count": 19,
   "id": "841b2622-af50-4e33-9f63-227d70e43c5e",
   "metadata": {},
   "outputs": [
    {
     "data": {
      "text/plain": [
       "              \n",
       "KNN_prediction No Yes\n",
       "           No  99   0\n",
       "           Yes  0  36"
      ]
     },
     "metadata": {},
     "output_type": "display_data"
    }
   ],
   "source": [
    "conf_matrix = table(KNN_prediction, serviceTest$Service)\n",
    "conf_matrix"
   ]
  },
  {
   "cell_type": "markdown",
   "id": "747c5ca5-fb7f-4e3c-a0fe-7d65fdc72047",
   "metadata": {},
   "source": [
    "Oh...!! Its quite good..!! Predicted **Yes** as **Only YES** and **False** as **Only FALSE**.."
   ]
  },
  {
   "cell_type": "code",
   "execution_count": 21,
   "id": "f4a17ea4-e328-480f-bbdb-20d0755e3227",
   "metadata": {},
   "outputs": [
    {
     "data": {
      "text/html": [
       "1"
      ],
      "text/latex": [
       "1"
      ],
      "text/markdown": [
       "1"
      ],
      "text/plain": [
       "[1] 1"
      ]
     },
     "metadata": {},
     "output_type": "display_data"
    }
   ],
   "source": [
    "# Let's find out the accuracy (Consider the diagonal elements: refer to the Performance Metric Lecture of Week--??????????)\n",
    "prediction_accuracy <- sum(diag(conf_matrix)/nrow(serviceTest))\n",
    "prediction_accuracy"
   ]
  },
  {
   "cell_type": "markdown",
   "id": "905f4bf2-476f-44ec-ac8f-0bbe4d31118f",
   "metadata": {},
   "source": [
    "That's what connotated here numerically... right"
   ]
  },
  {
   "cell_type": "markdown",
   "id": "9bc661e0-0b46-4509-baf0-0d1dd1958351",
   "metadata": {},
   "source": [
    "Via `caret` package..<br/>\n",
    "![](resources/confusion_matrix-via-caret.png)"
   ]
  },
  {
   "cell_type": "code",
   "execution_count": 24,
   "id": "1f7bf811-d243-463f-a442-5c894617f5eb",
   "metadata": {},
   "outputs": [
    {
     "data": {
      "text/plain": [
       "Confusion Matrix and Statistics\n",
       "\n",
       "          Reference\n",
       "Prediction No Yes\n",
       "       No  99   0\n",
       "       Yes  0  36\n",
       "                                    \n",
       "               Accuracy : 1         \n",
       "                 95% CI : (0.973, 1)\n",
       "    No Information Rate : 0.7333    \n",
       "    P-Value [Acc > NIR] : < 2.2e-16 \n",
       "                                    \n",
       "                  Kappa : 1         \n",
       "                                    \n",
       " Mcnemar's Test P-Value : NA        \n",
       "                                    \n",
       "            Sensitivity : 1.0000    \n",
       "            Specificity : 1.0000    \n",
       "         Pos Pred Value : 1.0000    \n",
       "         Neg Pred Value : 1.0000    \n",
       "             Prevalence : 0.7333    \n",
       "         Detection Rate : 0.7333    \n",
       "   Detection Prevalence : 0.7333    \n",
       "      Balanced Accuracy : 1.0000    \n",
       "                                    \n",
       "       'Positive' Class : No        \n",
       "                                    "
      ]
     },
     "metadata": {},
     "output_type": "display_data"
    }
   ],
   "source": [
    "library('caret')\n",
    "conf_matrix <- confusionMatrix(data = KNN_prediction,\n",
    "                                serviceTest$Service)\n",
    "conf_matrix"
   ]
  },
  {
   "cell_type": "markdown",
   "id": "f1d9cff6-7788-4fca-82aa-4e5c7d39152b",
   "metadata": {},
   "source": [
    "`Sensitivity` and `Specificity` are 1, because all TRUE's are classified as TRUE and respectively for All FALSE's..<br/>\n",
    "and the \n",
    "$$\\text{Balanced Accuracy} = \\frac{\\text{Sensitivity}+\\text{Specificity}} {2} = \\frac{1+1}{2}=1$$"
   ]
  },
  {
   "cell_type": "markdown",
   "id": "dc012836-c307-42ba-9625-3fb3ee622a42",
   "metadata": {},
   "source": [
    "![](resources/knn-implementation-summary.png)"
   ]
  },
  {
   "cell_type": "markdown",
   "id": "597f8009-1a1f-4411-ad0a-6f0daf780213",
   "metadata": {},
   "source": [
    "****\n",
    "****\n",
    "****"
   ]
  },
  {
   "cell_type": "markdown",
   "id": "51136390-10dd-41f1-af85-ee61992533c9",
   "metadata": {},
   "source": [
    "on 24th September, 2021 ~ Friday_4"
   ]
  },
  {
   "cell_type": "markdown",
   "id": "06b70238-7376-419f-9469-8b20785924c3",
   "metadata": {},
   "source": [
    "Done in Laptop, need to transfer to desktop to merge.."
   ]
  },
  {
   "cell_type": "code",
   "execution_count": null,
   "id": "0b56d275-6cb7-42d9-9afc-efbfb7376064",
   "metadata": {},
   "outputs": [],
   "source": []
  },
  {
   "cell_type": "code",
   "execution_count": null,
   "id": "8e579ba6-8e65-48b2-a9ef-d7fe744b05d1",
   "metadata": {},
   "outputs": [],
   "source": []
  },
  {
   "cell_type": "code",
   "execution_count": null,
   "id": "274cf14d-745e-4936-abec-3ab643a08f08",
   "metadata": {},
   "outputs": [],
   "source": []
  },
  {
   "cell_type": "code",
   "execution_count": null,
   "id": "b1790ea9-ffa0-4d24-af42-f9a420c9cc51",
   "metadata": {},
   "outputs": [],
   "source": []
  },
  {
   "cell_type": "code",
   "execution_count": null,
   "id": "b9d30762-5f2b-4ebf-9979-3d18862d77d4",
   "metadata": {},
   "outputs": [],
   "source": []
  },
  {
   "cell_type": "code",
   "execution_count": null,
   "id": "e529cdc3-a40a-4b6f-b20b-b58341192640",
   "metadata": {},
   "outputs": [],
   "source": []
  },
  {
   "cell_type": "code",
   "execution_count": null,
   "id": "ae9221fd-e436-4c7a-b64e-8cce85cbb6b9",
   "metadata": {},
   "outputs": [],
   "source": []
  },
  {
   "cell_type": "code",
   "execution_count": null,
   "id": "a46126a1-c53f-421d-bfa5-64daffe03fcd",
   "metadata": {},
   "outputs": [],
   "source": []
  },
  {
   "cell_type": "code",
   "execution_count": null,
   "id": "373b9575-8c40-44fd-8a50-99a13a265dc9",
   "metadata": {},
   "outputs": [],
   "source": []
  },
  {
   "cell_type": "code",
   "execution_count": null,
   "id": "ee4d4308-16d0-40b5-a40a-9bc498d4a1d2",
   "metadata": {},
   "outputs": [],
   "source": []
  },
  {
   "cell_type": "code",
   "execution_count": null,
   "id": "1758e629-d2c3-4943-b96d-350b14db8017",
   "metadata": {},
   "outputs": [],
   "source": []
  },
  {
   "cell_type": "markdown",
   "id": "f43b8a15-a28e-4b94-b0fd-cbb3d9518aa5",
   "metadata": {
    "tags": []
   },
   "source": [
    "# **K-Means clustering algorithm** (Un-Supervised)"
   ]
  },
  {
   "cell_type": "markdown",
   "id": "6ed7d523-1092-40a4-b6ff-256ec0912081",
   "metadata": {},
   "source": [
    "**What is K-Means Clustering?**\n",
    "* It is a technique to cluster or partition a certain no. of observations (Say, N observations into K clusters)\n",
    "    * that \"K\" canbe choosen manually or via algorithmically.\n",
    "\n",
    "* For the classification algorithms, we're given with the labelled data points, and their job is to find the \"\"\"**Decision Boundaries between different classes**\"\"\" -- These are supervised algos - Ex: KNN.\n",
    "But many of the clustering algos are \"UnSupervised algos\" -- i.e., they are not labelled into classes.\n",
    "> So, can think that... Clustering is slightly diff. from Classification.\n",
    "\n",
    "![](resources/K-means_intro.png)"
   ]
  },
  {
   "cell_type": "markdown",
   "id": "b0435c14-3c2e-48ec-b1f2-1487b5a217f8",
   "metadata": {},
   "source": [
    "For a clustering technique.. _(look at the below photo, for hand-written representation of this..)_\n",
    "1. Primarily.., after categorization or classification into diff groups..\n",
    "2. Next, looking at, what characteristics these groups pop-out from each group to understand and label them\n",
    "\n",
    "to put it together.. \n",
    "> K-Means is one of the simplest un-supervised algo, where if you give no. of clusters/groups that exist, then it partitions N observations into those categories.\n",
    "\n",
    "****\n",
    "As any machine learning algo contains some optimization approach, this too had it. It does **as the summation expression works**..\n",
    "\n",
    "Can be interpreted as..\n",
    "> The first summation works on each grouped set($S_i$), and the second summation works on all such **$K$** sets.\n",
    "\n",
    "![](resources/K-Means_description_optimization_view.png)\n"
   ]
  },
  {
   "cell_type": "markdown",
   "id": "f9fe24a6-0939-46f6-b757-270473813c51",
   "metadata": {},
   "source": [
    "Let's look at some example.. _(for the sake of illustration, considering in 2-dimensions for identifying clusters, but that becomes non-obvious for higher dimensions)_ ..\n",
    "\n",
    "![](resources/K-means_example.png)"
   ]
  },
  {
   "cell_type": "markdown",
   "id": "ab346274-9ce0-407b-83fd-c2f87bd01167",
   "metadata": {},
   "source": [
    "Ok, that's fine through a visual manner.. but how do we do it computationally..?? _as follows.._\n",
    "![](resources/example_continued.png)<br/>\n",
    "**How the grouping is done..?**\n",
    "> _[Here..]_ compared the `distance_1` and `distance_2` for each observation, if `<` => `Group_1` else (`>`) => `Group_2`"
   ]
  },
  {
   "cell_type": "markdown",
   "id": "919060b9-adc2-4e78-9164-61d4b27f2453",
   "metadata": {},
   "source": [
    "By now, we classified the observations into groups, it would be better to re-choose the cluster center right..!!, so that we can represent whole cluster by that one point."
   ]
  },
  {
   "cell_type": "markdown",
   "id": "78c38a71-6a9c-4b99-9883-6426677cf54f",
   "metadata": {},
   "source": [
    "![](resources/example_continued1.png) "
   ]
  },
  {
   "cell_type": "markdown",
   "id": "af48beed-4a6d-4d7a-abab-3af469704d82",
   "metadata": {},
   "source": [
    "To sum it up..<br/>\n",
    "![](resources/K-means_clustering_basic_procedure_summary.svg)"
   ]
  },
  {
   "cell_type": "markdown",
   "id": "1b146b06-48c9-4b74-bfbb-8fed3b84bd00",
   "metadata": {},
   "source": [
    "But, in all the cases, the data won't be of two-dimensional right... then how about handling those cases..?<br/>\n",
    "> via **Elbow Method**.\n",
    "![](resources/Elbow_Method.png)"
   ]
  },
  {
   "cell_type": "markdown",
   "id": "051f6a1d-1ee3-421b-a952-066dd80472fa",
   "metadata": {},
   "source": [
    "## Disadvantage of K-Means.."
   ]
  },
  {
   "cell_type": "markdown",
   "id": "17c18c4b-e424-47dd-8b07-f8dfc942bd72",
   "metadata": {},
   "source": [
    "* Could converge to **Local Minima**, so initial choosing of centers MATTERS A LOT (~~ Highly sensitive)\n",
    "> i.e., If centers are not chosen carefully _(Say one choosen in the center of [Say 2] clusters and one farther than these.. then those two individual clusters becomes 1 cluster) [Refer to the sir's representation in below figure]_ then classification goes wrong.\n",
    "\n",
    "![](resources/disadvantage_of_K_means.png)"
   ]
  },
  {
   "cell_type": "markdown",
   "id": "7da5f2f0-8232-4041-b071-203ed0ebe31d",
   "metadata": {},
   "source": [
    "<h2 style=\"text-align: center\"> That's it, the end of the theory part of this course</h2>"
   ]
  },
  {
   "cell_type": "markdown",
   "id": "7edfb223-8e86-47f9-b44c-ff1fb87a71d0",
   "metadata": {},
   "source": [
    "Let's see the practical implementation of this algorithm with a case study.."
   ]
  },
  {
   "cell_type": "markdown",
   "id": "181cde77-d1f1-4d6e-8dc4-53be40042374",
   "metadata": {},
   "source": [
    "![](resources/agenda.png)\n",
    "![](resources/clustering_of_trips_banner.png)\n",
    "![](resources/problem-stmt.png)\n",
    "![](resources/solution-banner.png)"
   ]
  },
  {
   "cell_type": "markdown",
   "id": "37e6ea53-7524-447b-ab3f-76a01f51752b",
   "metadata": {},
   "source": [
    "![](resources/reading_dataset.png)\n",
    "![](resources/row.csv().png)\n",
    "![](resources/reading_data.png)"
   ]
  },
  {
   "cell_type": "code",
   "execution_count": 8,
   "id": "56bed3e8-3ccf-4cf2-9552-9c47981c05df",
   "metadata": {
    "collapsed": true,
    "jupyter": {
     "outputs_hidden": true
    },
    "tags": []
   },
   "outputs": [
    {
     "data": {
      "text/html": [
       "<table>\n",
       "<thead><tr><th scope=col>TripLength</th><th scope=col>MaxSpeed</th><th scope=col>MostFreqSpeed</th><th scope=col>TripDuration</th><th scope=col>Brakes</th><th scope=col>IdlingTime</th><th scope=col>Honking</th></tr></thead>\n",
       "<tbody>\n",
       "\t<tr><td> 21</td><td> 51</td><td> 14</td><td> 93</td><td>307</td><td>27 </td><td>112</td></tr>\n",
       "\t<tr><td>148</td><td>130</td><td>106</td><td>156</td><td>226</td><td> 5 </td><td>114</td></tr>\n",
       "\t<tr><td> 18</td><td> 38</td><td> 16</td><td>100</td><td>351</td><td>26 </td><td>107</td></tr>\n",
       "\t<tr><td> 22</td><td> 43</td><td> 48</td><td> 36</td><td> 17</td><td> 4 </td><td>  5</td></tr>\n",
       "\t<tr><td>183</td><td>108</td><td> 90</td><td>171</td><td> 88</td><td> 5 </td><td> 29</td></tr>\n",
       "\t<tr><td> 18</td><td> 43</td><td> 13</td><td> 64</td><td>136</td><td>25 </td><td> 21</td></tr>\n",
       "\t<tr><td> 20</td><td> 37</td><td> 15</td><td> 85</td><td>121</td><td>26 </td><td> 23</td></tr>\n",
       "\t<tr><td> 21</td><td> 38</td><td> 14</td><td> 69</td><td>114</td><td>25 </td><td> 20</td></tr>\n",
       "\t<tr><td>181</td><td> 99</td><td>108</td><td>155</td><td> 86</td><td> 5 </td><td> 25</td></tr>\n",
       "\t<tr><td>174</td><td>100</td><td> 92</td><td>133</td><td>106</td><td> 5 </td><td> 34</td></tr>\n",
       "\t<tr><td>177</td><td>130</td><td> 85</td><td>152</td><td>210</td><td> 5 </td><td>128</td></tr>\n",
       "\t<tr><td> 17</td><td> 67</td><td> 41</td><td> 30</td><td> 33</td><td> 4 </td><td> 17</td></tr>\n",
       "\t<tr><td> 19</td><td> 42</td><td> 14</td><td>102</td><td>429</td><td>27 </td><td> 97</td></tr>\n",
       "\t<tr><td> 18</td><td> 39</td><td> 39</td><td> 37</td><td> 20</td><td> 4 </td><td>  5</td></tr>\n",
       "\t<tr><td> 17</td><td> 39</td><td> 16</td><td> 87</td><td>115</td><td>25 </td><td> 26</td></tr>\n",
       "\t<tr><td>193</td><td>122</td><td>101</td><td>150</td><td>183</td><td> 6 </td><td> 94</td></tr>\n",
       "\t<tr><td> 17</td><td> 61</td><td> 43</td><td> 26</td><td> 40</td><td> 5 </td><td> 23</td></tr>\n",
       "\t<tr><td> 20</td><td> 35</td><td> 43</td><td> 42</td><td> 15</td><td> 4 </td><td>  5</td></tr>\n",
       "\t<tr><td> 21</td><td> 48</td><td> 15</td><td> 88</td><td>384</td><td>27 </td><td> 98</td></tr>\n",
       "\t<tr><td> 21</td><td> 39</td><td> 15</td><td> 92</td><td>131</td><td>24 </td><td> 23</td></tr>\n",
       "\t<tr><td>181</td><td>111</td><td>100</td><td>147</td><td> 88</td><td> 6 </td><td> 33</td></tr>\n",
       "\t<tr><td> 20</td><td> 35</td><td> 15</td><td> 88</td><td>128</td><td>26 </td><td> 22</td></tr>\n",
       "\t<tr><td> 22</td><td> 35</td><td> 14</td><td> 79</td><td>343</td><td>28 </td><td>100</td></tr>\n",
       "\t<tr><td> 20</td><td> 43</td><td> 16</td><td> 91</td><td>361</td><td>26 </td><td> 96</td></tr>\n",
       "\t<tr><td> 20</td><td> 41</td><td> 14</td><td> 87</td><td>405</td><td>27 </td><td> 84</td></tr>\n",
       "\t<tr><td> 21</td><td> 37</td><td> 16</td><td> 94</td><td>120</td><td>27 </td><td> 20</td></tr>\n",
       "\t<tr><td> 21</td><td> 44</td><td> 45</td><td> 42</td><td> 17</td><td> 5 </td><td>  5</td></tr>\n",
       "\t<tr><td> 19</td><td> 48</td><td> 16</td><td> 86</td><td>311</td><td>24 </td><td> 90</td></tr>\n",
       "\t<tr><td>176</td><td>126</td><td>118</td><td>162</td><td>174</td><td> 6 </td><td>150</td></tr>\n",
       "\t<tr><td>151</td><td>120</td><td>105</td><td>128</td><td>195</td><td> 5 </td><td>108</td></tr>\n",
       "\t<tr><td>...</td><td>...</td><td>...</td><td>...</td><td>...</td><td>...</td><td>...</td></tr>\n",
       "\t<tr><td> 19</td><td> 43</td><td> 40</td><td> 34</td><td> 16</td><td> 4 </td><td>  6</td></tr>\n",
       "\t<tr><td>210</td><td> 99</td><td> 90</td><td>158</td><td>195</td><td> 4 </td><td>155</td></tr>\n",
       "\t<tr><td>163</td><td>119</td><td> 99</td><td>142</td><td>243</td><td> 5 </td><td>135</td></tr>\n",
       "\t<tr><td> 21</td><td> 41</td><td> 15</td><td> 87</td><td>308</td><td>26 </td><td>102</td></tr>\n",
       "\t<tr><td> 21</td><td> 47</td><td> 38</td><td> 31</td><td> 18</td><td> 4 </td><td>  5</td></tr>\n",
       "\t<tr><td> 18</td><td> 69</td><td> 44</td><td> 32</td><td> 39</td><td> 6 </td><td> 21</td></tr>\n",
       "\t<tr><td> 19</td><td> 64</td><td> 38</td><td> 32</td><td> 36</td><td> 5 </td><td> 18</td></tr>\n",
       "\t<tr><td>159</td><td>138</td><td> 84</td><td>151</td><td> 94</td><td> 4 </td><td> 32</td></tr>\n",
       "\t<tr><td> 22</td><td> 38</td><td> 14</td><td> 92</td><td>137</td><td>22 </td><td> 21</td></tr>\n",
       "\t<tr><td> 20</td><td> 36</td><td> 14</td><td>106</td><td>149</td><td>24 </td><td> 22</td></tr>\n",
       "\t<tr><td> 21</td><td> 47</td><td> 17</td><td> 84</td><td>345</td><td>24 </td><td> 90</td></tr>\n",
       "\t<tr><td> 16</td><td> 42</td><td> 42</td><td> 34</td><td> 17</td><td> 5 </td><td>  5</td></tr>\n",
       "\t<tr><td> 23</td><td> 41</td><td> 44</td><td> 36</td><td> 20</td><td> 5 </td><td>  5</td></tr>\n",
       "\t<tr><td> 20</td><td> 60</td><td> 40</td><td> 30</td><td> 37</td><td> 5 </td><td> 20</td></tr>\n",
       "\t<tr><td>176</td><td>136</td><td> 99</td><td>138</td><td>206</td><td> 6 </td><td>118</td></tr>\n",
       "\t<tr><td>183</td><td>106</td><td>102</td><td>142</td><td>211</td><td> 5 </td><td>115</td></tr>\n",
       "\t<tr><td>163</td><td>116</td><td> 93</td><td>151</td><td> 87</td><td> 4 </td><td> 26</td></tr>\n",
       "\t<tr><td> 21</td><td> 49</td><td> 43</td><td> 33</td><td> 19</td><td> 4 </td><td>  5</td></tr>\n",
       "\t<tr><td> 19</td><td> 62</td><td> 39</td><td> 33</td><td> 36</td><td> 4 </td><td> 17</td></tr>\n",
       "\t<tr><td>164</td><td>105</td><td>101</td><td>166</td><td> 96</td><td> 4 </td><td> 30</td></tr>\n",
       "\t<tr><td>154</td><td>128</td><td>107</td><td>152</td><td>201</td><td> 5 </td><td>148</td></tr>\n",
       "\t<tr><td>179</td><td>118</td><td>100</td><td>139</td><td>168</td><td> 4 </td><td>121</td></tr>\n",
       "\t<tr><td>196</td><td>107</td><td> 89</td><td>142</td><td> 79</td><td> 5 </td><td> 31</td></tr>\n",
       "\t<tr><td> 16</td><td> 61</td><td> 42</td><td> 35</td><td> 38</td><td> 5 </td><td> 17</td></tr>\n",
       "\t<tr><td> 20</td><td> 59</td><td> 42</td><td> 28</td><td> 41</td><td> 6 </td><td> 20</td></tr>\n",
       "\t<tr><td> 21</td><td> 42</td><td> 13</td><td> 92</td><td>360</td><td>24 </td><td> 98</td></tr>\n",
       "\t<tr><td>183</td><td>126</td><td> 89</td><td>149</td><td>189</td><td> 5 </td><td>130</td></tr>\n",
       "\t<tr><td> 22</td><td> 44</td><td> 12</td><td> 72</td><td>349</td><td>24 </td><td> 93</td></tr>\n",
       "\t<tr><td>163</td><td>135</td><td> 91</td><td>129</td><td>202</td><td> 5 </td><td>144</td></tr>\n",
       "\t<tr><td> 20</td><td> 64</td><td> 42</td><td> 27</td><td> 36</td><td> 5 </td><td> 20</td></tr>\n",
       "</tbody>\n",
       "</table>\n"
      ],
      "text/latex": [
       "\\begin{tabular}{r|lllllll}\n",
       " TripLength & MaxSpeed & MostFreqSpeed & TripDuration & Brakes & IdlingTime & Honking\\\\\n",
       "\\hline\n",
       "\t  21 &  51 &  14 &  93 & 307 & 27  & 112\\\\\n",
       "\t 148 & 130 & 106 & 156 & 226 &  5  & 114\\\\\n",
       "\t  18 &  38 &  16 & 100 & 351 & 26  & 107\\\\\n",
       "\t  22 &  43 &  48 &  36 &  17 &  4  &   5\\\\\n",
       "\t 183 & 108 &  90 & 171 &  88 &  5  &  29\\\\\n",
       "\t  18 &  43 &  13 &  64 & 136 & 25  &  21\\\\\n",
       "\t  20 &  37 &  15 &  85 & 121 & 26  &  23\\\\\n",
       "\t  21 &  38 &  14 &  69 & 114 & 25  &  20\\\\\n",
       "\t 181 &  99 & 108 & 155 &  86 &  5  &  25\\\\\n",
       "\t 174 & 100 &  92 & 133 & 106 &  5  &  34\\\\\n",
       "\t 177 & 130 &  85 & 152 & 210 &  5  & 128\\\\\n",
       "\t  17 &  67 &  41 &  30 &  33 &  4  &  17\\\\\n",
       "\t  19 &  42 &  14 & 102 & 429 & 27  &  97\\\\\n",
       "\t  18 &  39 &  39 &  37 &  20 &  4  &   5\\\\\n",
       "\t  17 &  39 &  16 &  87 & 115 & 25  &  26\\\\\n",
       "\t 193 & 122 & 101 & 150 & 183 &  6  &  94\\\\\n",
       "\t  17 &  61 &  43 &  26 &  40 &  5  &  23\\\\\n",
       "\t  20 &  35 &  43 &  42 &  15 &  4  &   5\\\\\n",
       "\t  21 &  48 &  15 &  88 & 384 & 27  &  98\\\\\n",
       "\t  21 &  39 &  15 &  92 & 131 & 24  &  23\\\\\n",
       "\t 181 & 111 & 100 & 147 &  88 &  6  &  33\\\\\n",
       "\t  20 &  35 &  15 &  88 & 128 & 26  &  22\\\\\n",
       "\t  22 &  35 &  14 &  79 & 343 & 28  & 100\\\\\n",
       "\t  20 &  43 &  16 &  91 & 361 & 26  &  96\\\\\n",
       "\t  20 &  41 &  14 &  87 & 405 & 27  &  84\\\\\n",
       "\t  21 &  37 &  16 &  94 & 120 & 27  &  20\\\\\n",
       "\t  21 &  44 &  45 &  42 &  17 &  5  &   5\\\\\n",
       "\t  19 &  48 &  16 &  86 & 311 & 24  &  90\\\\\n",
       "\t 176 & 126 & 118 & 162 & 174 &  6  & 150\\\\\n",
       "\t 151 & 120 & 105 & 128 & 195 &  5  & 108\\\\\n",
       "\t ... & ... & ... & ... & ... & ... & ...\\\\\n",
       "\t  19 &  43 &  40 &  34 &  16 &  4  &   6\\\\\n",
       "\t 210 &  99 &  90 & 158 & 195 &  4  & 155\\\\\n",
       "\t 163 & 119 &  99 & 142 & 243 &  5  & 135\\\\\n",
       "\t  21 &  41 &  15 &  87 & 308 & 26  & 102\\\\\n",
       "\t  21 &  47 &  38 &  31 &  18 &  4  &   5\\\\\n",
       "\t  18 &  69 &  44 &  32 &  39 &  6  &  21\\\\\n",
       "\t  19 &  64 &  38 &  32 &  36 &  5  &  18\\\\\n",
       "\t 159 & 138 &  84 & 151 &  94 &  4  &  32\\\\\n",
       "\t  22 &  38 &  14 &  92 & 137 & 22  &  21\\\\\n",
       "\t  20 &  36 &  14 & 106 & 149 & 24  &  22\\\\\n",
       "\t  21 &  47 &  17 &  84 & 345 & 24  &  90\\\\\n",
       "\t  16 &  42 &  42 &  34 &  17 &  5  &   5\\\\\n",
       "\t  23 &  41 &  44 &  36 &  20 &  5  &   5\\\\\n",
       "\t  20 &  60 &  40 &  30 &  37 &  5  &  20\\\\\n",
       "\t 176 & 136 &  99 & 138 & 206 &  6  & 118\\\\\n",
       "\t 183 & 106 & 102 & 142 & 211 &  5  & 115\\\\\n",
       "\t 163 & 116 &  93 & 151 &  87 &  4  &  26\\\\\n",
       "\t  21 &  49 &  43 &  33 &  19 &  4  &   5\\\\\n",
       "\t  19 &  62 &  39 &  33 &  36 &  4  &  17\\\\\n",
       "\t 164 & 105 & 101 & 166 &  96 &  4  &  30\\\\\n",
       "\t 154 & 128 & 107 & 152 & 201 &  5  & 148\\\\\n",
       "\t 179 & 118 & 100 & 139 & 168 &  4  & 121\\\\\n",
       "\t 196 & 107 &  89 & 142 &  79 &  5  &  31\\\\\n",
       "\t  16 &  61 &  42 &  35 &  38 &  5  &  17\\\\\n",
       "\t  20 &  59 &  42 &  28 &  41 &  6  &  20\\\\\n",
       "\t  21 &  42 &  13 &  92 & 360 & 24  &  98\\\\\n",
       "\t 183 & 126 &  89 & 149 & 189 &  5  & 130\\\\\n",
       "\t  22 &  44 &  12 &  72 & 349 & 24  &  93\\\\\n",
       "\t 163 & 135 &  91 & 129 & 202 &  5  & 144\\\\\n",
       "\t  20 &  64 &  42 &  27 &  36 &  5  &  20\\\\\n",
       "\\end{tabular}\n"
      ],
      "text/markdown": [
       "\n",
       "| TripLength | MaxSpeed | MostFreqSpeed | TripDuration | Brakes | IdlingTime | Honking |\n",
       "|---|---|---|---|---|---|---|\n",
       "|  21 |  51 |  14 |  93 | 307 | 27  | 112 |\n",
       "| 148 | 130 | 106 | 156 | 226 |  5  | 114 |\n",
       "|  18 |  38 |  16 | 100 | 351 | 26  | 107 |\n",
       "|  22 |  43 |  48 |  36 |  17 |  4  |   5 |\n",
       "| 183 | 108 |  90 | 171 |  88 |  5  |  29 |\n",
       "|  18 |  43 |  13 |  64 | 136 | 25  |  21 |\n",
       "|  20 |  37 |  15 |  85 | 121 | 26  |  23 |\n",
       "|  21 |  38 |  14 |  69 | 114 | 25  |  20 |\n",
       "| 181 |  99 | 108 | 155 |  86 |  5  |  25 |\n",
       "| 174 | 100 |  92 | 133 | 106 |  5  |  34 |\n",
       "| 177 | 130 |  85 | 152 | 210 |  5  | 128 |\n",
       "|  17 |  67 |  41 |  30 |  33 |  4  |  17 |\n",
       "|  19 |  42 |  14 | 102 | 429 | 27  |  97 |\n",
       "|  18 |  39 |  39 |  37 |  20 |  4  |   5 |\n",
       "|  17 |  39 |  16 |  87 | 115 | 25  |  26 |\n",
       "| 193 | 122 | 101 | 150 | 183 |  6  |  94 |\n",
       "|  17 |  61 |  43 |  26 |  40 |  5  |  23 |\n",
       "|  20 |  35 |  43 |  42 |  15 |  4  |   5 |\n",
       "|  21 |  48 |  15 |  88 | 384 | 27  |  98 |\n",
       "|  21 |  39 |  15 |  92 | 131 | 24  |  23 |\n",
       "| 181 | 111 | 100 | 147 |  88 |  6  |  33 |\n",
       "|  20 |  35 |  15 |  88 | 128 | 26  |  22 |\n",
       "|  22 |  35 |  14 |  79 | 343 | 28  | 100 |\n",
       "|  20 |  43 |  16 |  91 | 361 | 26  |  96 |\n",
       "|  20 |  41 |  14 |  87 | 405 | 27  |  84 |\n",
       "|  21 |  37 |  16 |  94 | 120 | 27  |  20 |\n",
       "|  21 |  44 |  45 |  42 |  17 |  5  |   5 |\n",
       "|  19 |  48 |  16 |  86 | 311 | 24  |  90 |\n",
       "| 176 | 126 | 118 | 162 | 174 |  6  | 150 |\n",
       "| 151 | 120 | 105 | 128 | 195 |  5  | 108 |\n",
       "| ... | ... | ... | ... | ... | ... | ... |\n",
       "|  19 |  43 |  40 |  34 |  16 |  4  |   6 |\n",
       "| 210 |  99 |  90 | 158 | 195 |  4  | 155 |\n",
       "| 163 | 119 |  99 | 142 | 243 |  5  | 135 |\n",
       "|  21 |  41 |  15 |  87 | 308 | 26  | 102 |\n",
       "|  21 |  47 |  38 |  31 |  18 |  4  |   5 |\n",
       "|  18 |  69 |  44 |  32 |  39 |  6  |  21 |\n",
       "|  19 |  64 |  38 |  32 |  36 |  5  |  18 |\n",
       "| 159 | 138 |  84 | 151 |  94 |  4  |  32 |\n",
       "|  22 |  38 |  14 |  92 | 137 | 22  |  21 |\n",
       "|  20 |  36 |  14 | 106 | 149 | 24  |  22 |\n",
       "|  21 |  47 |  17 |  84 | 345 | 24  |  90 |\n",
       "|  16 |  42 |  42 |  34 |  17 |  5  |   5 |\n",
       "|  23 |  41 |  44 |  36 |  20 |  5  |   5 |\n",
       "|  20 |  60 |  40 |  30 |  37 |  5  |  20 |\n",
       "| 176 | 136 |  99 | 138 | 206 |  6  | 118 |\n",
       "| 183 | 106 | 102 | 142 | 211 |  5  | 115 |\n",
       "| 163 | 116 |  93 | 151 |  87 |  4  |  26 |\n",
       "|  21 |  49 |  43 |  33 |  19 |  4  |   5 |\n",
       "|  19 |  62 |  39 |  33 |  36 |  4  |  17 |\n",
       "| 164 | 105 | 101 | 166 |  96 |  4  |  30 |\n",
       "| 154 | 128 | 107 | 152 | 201 |  5  | 148 |\n",
       "| 179 | 118 | 100 | 139 | 168 |  4  | 121 |\n",
       "| 196 | 107 |  89 | 142 |  79 |  5  |  31 |\n",
       "|  16 |  61 |  42 |  35 |  38 |  5  |  17 |\n",
       "|  20 |  59 |  42 |  28 |  41 |  6  |  20 |\n",
       "|  21 |  42 |  13 |  92 | 360 | 24  |  98 |\n",
       "| 183 | 126 |  89 | 149 | 189 |  5  | 130 |\n",
       "|  22 |  44 |  12 |  72 | 349 | 24  |  93 |\n",
       "| 163 | 135 |  91 | 129 | 202 |  5  | 144 |\n",
       "|  20 |  64 |  42 |  27 |  36 |  5  |  20 |\n",
       "\n"
      ],
      "text/plain": [
       "    TripLength MaxSpeed MostFreqSpeed TripDuration Brakes IdlingTime Honking\n",
       "1    21         51       14            93          307    27         112    \n",
       "2   148        130      106           156          226     5         114    \n",
       "3    18         38       16           100          351    26         107    \n",
       "4    22         43       48            36           17     4           5    \n",
       "5   183        108       90           171           88     5          29    \n",
       "6    18         43       13            64          136    25          21    \n",
       "7    20         37       15            85          121    26          23    \n",
       "8    21         38       14            69          114    25          20    \n",
       "9   181         99      108           155           86     5          25    \n",
       "10  174        100       92           133          106     5          34    \n",
       "11  177        130       85           152          210     5         128    \n",
       "12   17         67       41            30           33     4          17    \n",
       "13   19         42       14           102          429    27          97    \n",
       "14   18         39       39            37           20     4           5    \n",
       "15   17         39       16            87          115    25          26    \n",
       "16  193        122      101           150          183     6          94    \n",
       "17   17         61       43            26           40     5          23    \n",
       "18   20         35       43            42           15     4           5    \n",
       "19   21         48       15            88          384    27          98    \n",
       "20   21         39       15            92          131    24          23    \n",
       "21  181        111      100           147           88     6          33    \n",
       "22   20         35       15            88          128    26          22    \n",
       "23   22         35       14            79          343    28         100    \n",
       "24   20         43       16            91          361    26          96    \n",
       "25   20         41       14            87          405    27          84    \n",
       "26   21         37       16            94          120    27          20    \n",
       "27   21         44       45            42           17     5           5    \n",
       "28   19         48       16            86          311    24          90    \n",
       "29  176        126      118           162          174     6         150    \n",
       "30  151        120      105           128          195     5         108    \n",
       "... ...        ...      ...           ...          ...    ...        ...    \n",
       "62   19         43       40            34           16     4           6    \n",
       "63  210         99       90           158          195     4         155    \n",
       "64  163        119       99           142          243     5         135    \n",
       "65   21         41       15            87          308    26         102    \n",
       "66   21         47       38            31           18     4           5    \n",
       "67   18         69       44            32           39     6          21    \n",
       "68   19         64       38            32           36     5          18    \n",
       "69  159        138       84           151           94     4          32    \n",
       "70   22         38       14            92          137    22          21    \n",
       "71   20         36       14           106          149    24          22    \n",
       "72   21         47       17            84          345    24          90    \n",
       "73   16         42       42            34           17     5           5    \n",
       "74   23         41       44            36           20     5           5    \n",
       "75   20         60       40            30           37     5          20    \n",
       "76  176        136       99           138          206     6         118    \n",
       "77  183        106      102           142          211     5         115    \n",
       "78  163        116       93           151           87     4          26    \n",
       "79   21         49       43            33           19     4           5    \n",
       "80   19         62       39            33           36     4          17    \n",
       "81  164        105      101           166           96     4          30    \n",
       "82  154        128      107           152          201     5         148    \n",
       "83  179        118      100           139          168     4         121    \n",
       "84  196        107       89           142           79     5          31    \n",
       "85   16         61       42            35           38     5          17    \n",
       "86   20         59       42            28           41     6          20    \n",
       "87   21         42       13            92          360    24          98    \n",
       "88  183        126       89           149          189     5         130    \n",
       "89   22         44       12            72          349    24          93    \n",
       "90  163        135       91           129          202     5         144    \n",
       "91   20         64       42            27           36     5          20    "
      ]
     },
     "metadata": {},
     "output_type": "display_data"
    }
   ],
   "source": [
    "tripDetails = read.csv(\"resources/datasets/tripDetails.csv\", row.names=1)  # For the given dataset, the 1st row contains the headers\n",
    "tripDetails      # View(tripDetails) GUI's work in command-line.."
   ]
  },
  {
   "cell_type": "markdown",
   "id": "dc898137-baad-4787-961b-f223effaab75",
   "metadata": {},
   "source": [
    "![](resources/structure-str().png)"
   ]
  },
  {
   "cell_type": "code",
   "execution_count": 9,
   "id": "74d6b185-5d0c-4699-ba47-c3cf25a719c8",
   "metadata": {},
   "outputs": [
    {
     "name": "stdout",
     "output_type": "stream",
     "text": [
      "'data.frame':\t91 obs. of  7 variables:\n",
      " $ TripLength   : int  21 148 18 22 183 18 20 21 181 174 ...\n",
      " $ MaxSpeed     : int  51 130 38 43 108 43 37 38 99 100 ...\n",
      " $ MostFreqSpeed: int  14 106 16 48 90 13 15 14 108 92 ...\n",
      " $ TripDuration : int  93 156 100 36 171 64 85 69 155 133 ...\n",
      " $ Brakes       : int  307 226 351 17 88 136 121 114 86 106 ...\n",
      " $ IdlingTime   : int  27 5 26 4 5 25 26 25 5 5 ...\n",
      " $ Honking      : int  112 114 107 5 29 21 23 20 25 34 ...\n"
     ]
    }
   ],
   "source": [
    "str(tripDetails)"
   ]
  },
  {
   "cell_type": "markdown",
   "id": "1cc6a2ea-d92b-4383-8dc8-60ad916d3106",
   "metadata": {},
   "source": [
    "![](resources/summary().png)"
   ]
  },
  {
   "cell_type": "code",
   "execution_count": 11,
   "id": "cb783d35-9476-4119-80fa-9bade49ac304",
   "metadata": {},
   "outputs": [
    {
     "data": {
      "text/plain": [
       "   TripLength        MaxSpeed      MostFreqSpeed     TripDuration   \n",
       " Min.   : 16.00   Min.   : 35.00   Min.   : 12.00   Min.   : 22.00  \n",
       " 1st Qu.: 20.00   1st Qu.: 42.00   1st Qu.: 15.50   1st Qu.: 34.50  \n",
       " Median : 21.00   Median : 54.00   Median : 42.00   Median : 88.00  \n",
       " Mean   : 70.77   Mean   : 70.36   Mean   : 50.65   Mean   : 87.37  \n",
       " 3rd Qu.:163.00   3rd Qu.:105.50   3rd Qu.: 89.00   3rd Qu.:133.00  \n",
       " Max.   :210.00   Max.   :138.00   Max.   :118.00   Max.   :171.00  \n",
       "     Brakes        IdlingTime       Honking      \n",
       " Min.   : 14.0   Min.   : 4.00   Min.   :  4.00  \n",
       " 1st Qu.: 36.5   1st Qu.: 5.00   1st Qu.: 20.00  \n",
       " Median :100.0   Median : 5.00   Median : 25.00  \n",
       " Mean   :135.4   Mean   :11.59   Mean   : 49.92  \n",
       " 3rd Qu.:198.0   3rd Qu.:24.00   3rd Qu.: 97.50  \n",
       " Max.   :429.0   Max.   :32.00   Max.   :155.00  "
      ]
     },
     "metadata": {},
     "output_type": "display_data"
    }
   ],
   "source": [
    "summary(tripDetails)  # Gives the five-point summary .. as same as for the box-plot / candle-stick plot.."
   ]
  },
  {
   "cell_type": "markdown",
   "id": "ebb35c4b-1077-4266-baa5-0e000a8983a2",
   "metadata": {},
   "source": [
    "**NOTICE** that... the dataset given to us, hasn't labelled as **Short-trip**, **Long-trip**..,, so if knowing these are the target from the dataset, then the un-supervised K-means would be the good choice.<br/>\n",
    "![](resources/kmeans_emphasis.png)\n",
    "![](resources/kmeans_usage.png)"
   ]
  },
  {
   "cell_type": "code",
   "execution_count": 16,
   "id": "2e3ec908-e903-4ced-8c46-6ec85f876ce3",
   "metadata": {},
   "outputs": [],
   "source": [
    "# Implementing kmeans.\n",
    "tripCluster = kmeans(tripDetails, 3)  # with 3 Clusters... \n",
    "#tripCluster  # See below image with interpretations"
   ]
  },
  {
   "cell_type": "markdown",
   "id": "b35da173-a9a4-47e9-8575-13557d86f481",
   "metadata": {},
   "source": [
    "![](resources/kmeans_results.svg) "
   ]
  },
  {
   "cell_type": "markdown",
   "id": "723147cf-25ff-4671-aaa3-8d5c8db4cd53",
   "metadata": {
    "tags": []
   },
   "source": [
    "The biggest problem with the K-means is that.. **Choosing the no. of clusters** -- that's where **elbow method** comes to rescue..<br/>"
   ]
  },
  {
   "cell_type": "markdown",
   "id": "d61086e9-0ce2-415a-bb9b-3097246698c0",
   "metadata": {
    "tags": []
   },
   "source": [
    "## **Elbow method**: Optimal method to calculate `k`"
   ]
  },
  {
   "cell_type": "markdown",
   "id": "0c879083-1be7-4957-84b7-4a63f45c5ed5",
   "metadata": {},
   "source": [
    "Strategy:<br/>\n",
    "* In a loop apply the `kmeans` over a range of cluster_sizes and take that metric of `sum of squares`, and plot it.\n",
    "* The elbow point tells the optimal cluster-value."
   ]
  },
  {
   "cell_type": "code",
   "execution_count": 32,
   "id": "a2c59783-d551-4dad-811e-b6baafd057e0",
   "metadata": {},
   "outputs": [],
   "source": [
    "k.max=10                  # Assuming the max-clusters can be 10..\n",
    "wss <- rep(NA, k.max)     # Allocating a vector of the req. size x 1 and filling with NA's.. wss: within_sum_of_squares\n",
    "#num_clusters <- list()    # A empty list to store the clusters....??\n",
    "for(i in 1:k.max)\n",
    "{\n",
    "    result_obj <- kmeans(tripDetails, i)   # Applying the kmeans ..\n",
    "    wss[i] <- result_obj$tot.withinss      # Calculating within-sum_of_squares..\n",
    "}"
   ]
  },
  {
   "cell_type": "code",
   "execution_count": 36,
   "id": "173ed605-7c81-4eb2-8a25-dc812f7f5630",
   "metadata": {},
   "outputs": [
    {
     "data": {
      "image/png": "[encoded data removed]",
      "text/plain": [
       "plot without title"
      ]
     },
     "metadata": {},
     "output_type": "display_data"
    }
   ],
   "source": [
    "plot(1:k.max, wss, \n",
    "     type=\"b\", pch=19,\n",
    "     xlab = \"Number of clusters (K)\",\n",
    "     ylab = \"Total within-clusters sum of squares: Trips\")"
   ]
  },
  {
   "cell_type": "markdown",
   "id": "68a0fac1-7957-4b4e-b0f3-b4f67b4f06ac",
   "metadata": {},
   "source": [
    "The elbo-point.. seems to be 3, hence that becomes the optimal point.<br/>\n",
    "**Why shouldn't we take other ones like.. 4, 5, 6..??**\n",
    "> _[May be..]_ we'll get too many clusters (probably may become difficult to make labellings to those clusterings)"
   ]
  },
  {
   "cell_type": "markdown",
   "id": "dda9d017-2b24-438d-a600-bae3a40e54a1",
   "metadata": {},
   "source": [
    "![](resources/summary.png)"
   ]
  },
  {
   "cell_type": "markdown",
   "id": "9cee1222-2e61-4328-8eca-b8779efd6c62",
   "metadata": {},
   "source": [
    "END"
   ]
  },
  {
   "cell_type": "code",
   "execution_count": null,
   "id": "e9c6f085-25b1-491d-89e4-10bcac498469",
   "metadata": {},
   "outputs": [],
   "source": []
  }
 ],
 "metadata": {
  "kernelspec": {
   "display_name": "R",
   "language": "R",
   "name": "ir"
  },
  "language_info": {
   "codemirror_mode": "r",
   "file_extension": ".r",
   "mimetype": "text/x-r-source",
   "name": "R",
   "pygments_lexer": "r",
   "version": "3.6.1"
  }
 },
 "nbformat": 4,
 "nbformat_minor": 5
}
