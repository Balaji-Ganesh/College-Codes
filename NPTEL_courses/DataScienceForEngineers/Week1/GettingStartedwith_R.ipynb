{
 "cells": [
  {
   "cell_type": "markdown",
   "id": "c16659ee-b810-4af3-9060-b5a3274d0412",
   "metadata": {
    "jp-MarkdownHeadingCollapsed": true,
    "tags": []
   },
   "source": [
    "# Work on 9th August, 2021 - Tuesday"
   ]
  },
  {
   "cell_type": "markdown",
   "id": "be1f25bd-24f7-4f2f-9a41-dda26e3532cb",
   "metadata": {},
   "source": [
    "* <a href=\"#-Creating-Dataframes\"> Creating Dataframes</a>\n",
    "    * <a href=\"Creating Dataframes via lists\"> Creating Dataframes via lists</a>\n",
    "    * <a href=\"Creating Dataframes via files\"> Creating Dataframes via files</a>\n",
    "\n",
    "* <a href=\"Accessing Rows and Columns to a Dataset\"> Accessing Rows and Columns to a Dataset</a>\n",
    "* <a href=\"Adding extra Rows and Columns to the dataframe\">Adding extra Rows and Columns to the dataframe</a>\n",
    "* <a href=\"Deleting rows and columns\">Deleting rows and columns</a>\n",
    "* <a href=\"Manipulating Rows\">Manipulating Rows</a>\n",
    "    * <a href=\"Manipulating Rows -- Understanding the factor issue\">Manipulating Rows -- Understanding the factor issue</a>\n",
    "    * <a href=\"#Manipulating-rows----with-resolve-of-factor-issue\">Manipulating rows -- with resolve of factor issue</a>"
   ]
  },
  {
   "cell_type": "code",
   "execution_count": null,
   "id": "235565cd-8bd7-439a-ab94-51d8970dd74c",
   "metadata": {},
   "outputs": [],
   "source": [
    "Work on 19th August, 2021 - Thursday\n"
   ]
  },
  {
   "cell_type": "markdown",
   "id": "b496ba55-742e-43c0-8da2-11b2582dc89b",
   "metadata": {
    "tags": []
   },
   "source": [
    "# <id name=\"Creating Dataframes\"> Creating Dataframes</a>"
   ]
  },
  {
   "cell_type": "markdown",
   "id": "15621077-4a71-4da6-8584-7ba75d988e12",
   "metadata": {},
   "source": [
    "## Creating Dataframes via lists"
   ]
  },
  {
   "cell_type": "markdown",
   "id": "59ce5f12-70e8-490d-9cec-48a5c5d1bf85",
   "metadata": {
    "jp-MarkdownHeadingCollapsed": true,
    "tags": []
   },
   "source": [
    "## Creating Dataframes via files"
   ]
  },
  {
   "cell_type": "markdown",
   "id": "c7f1fb38-1e47-4a89-85be-45507bf6884e",
   "metadata": {},
   "source": [
    "syntax: `dataframe = read.table(path=\"<path>\", sep)`"
   ]
  },
  {
   "cell_type": "code",
   "execution_count": 63,
   "id": "6556d094-89f6-477c-95cb-d5b0c1d2c1de",
   "metadata": {},
   "outputs": [],
   "source": [
    "dataframe = read.table(\"test.csv\", sep=\",\", header = 1)"
   ]
  },
  {
   "cell_type": "code",
   "execution_count": 64,
   "id": "a40b782f-876e-4608-a3c5-8c8fed71e5f2",
   "metadata": {},
   "outputs": [
    {
     "data": {
      "text/html": [
       "<table>\n",
       "<thead><tr><th scope=col>GadgetName</th><th scope=col>Category</th><th scope=col>Price</th></tr></thead>\n",
       "<tbody>\n",
       "\t<tr><td>Mouse       </td><td> Electronics</td><td>  250       </td></tr>\n",
       "\t<tr><td>Key Board   </td><td> Electronics</td><td>  300       </td></tr>\n",
       "\t<tr><td>UPS         </td><td> Electrical </td><td> 1000       </td></tr>\n",
       "\t<tr><td>Switch Board</td><td> Electrical </td><td>  200       </td></tr>\n",
       "\t<tr><td>Mobile Phone</td><td> Electronics</td><td>10000       </td></tr>\n",
       "</tbody>\n",
       "</table>\n"
      ],
      "text/latex": [
       "\\begin{tabular}{r|lll}\n",
       " GadgetName & Category & Price\\\\\n",
       "\\hline\n",
       "\t Mouse        &  Electronics &   250       \\\\\n",
       "\t Key Board    &  Electronics &   300       \\\\\n",
       "\t UPS          &  Electrical  &  1000       \\\\\n",
       "\t Switch Board &  Electrical  &   200       \\\\\n",
       "\t Mobile Phone &  Electronics & 10000       \\\\\n",
       "\\end{tabular}\n"
      ],
      "text/markdown": [
       "\n",
       "| GadgetName | Category | Price |\n",
       "|---|---|---|\n",
       "| Mouse        |  Electronics |   250        |\n",
       "| Key Board    |  Electronics |   300        |\n",
       "| UPS          |  Electrical  |  1000        |\n",
       "| Switch Board |  Electrical  |   200        |\n",
       "| Mobile Phone |  Electronics | 10000        |\n",
       "\n"
      ],
      "text/plain": [
       "  GadgetName   Category     Price\n",
       "1 Mouse         Electronics   250\n",
       "2 Key Board     Electronics   300\n",
       "3 UPS           Electrical   1000\n",
       "4 Switch Board  Electrical    200\n",
       "5 Mobile Phone  Electronics 10000"
      ]
     },
     "metadata": {},
     "output_type": "display_data"
    }
   ],
   "source": [
    "dataframe"
   ]
  },
  {
   "cell_type": "markdown",
   "id": "820c092d-331f-4315-b675-269697168ea3",
   "metadata": {
    "jp-MarkdownHeadingCollapsed": true,
    "tags": []
   },
   "source": [
    "## Accessing Rows and Columns to a Dataset"
   ]
  },
  {
   "cell_type": "markdown",
   "id": "7377e414-f057-411b-85c8-9892abc30d70",
   "metadata": {},
   "source": [
    "`df[row1, col1]` refers element which corresponds to row **row1** and column **col1** -- Can be number(Index) or string.\n",
    "<br/>\n",
    "**row1** or **col1** can also be array of values like **`1:3`** or **`c(1, 4)`**.\n",
    "<br/>"
   ]
  },
  {
   "cell_type": "markdown",
   "id": "9ff9e596-628c-4a42-be0c-d443a4cec8e8",
   "metadata": {},
   "source": [
    "Let's access element in first_row and 2nd column -- should result `\"Electronics\"`"
   ]
  },
  {
   "cell_type": "code",
   "execution_count": 11,
   "id": "cb2764c8-d195-4b30-92dc-2194c2fe587e",
   "metadata": {},
   "outputs": [
    {
     "data": {
      "text/html": [
       " Electronics\n",
       "<details>\n",
       "\t<summary style=display:list-item;cursor:pointer>\n",
       "\t\t<strong>Levels</strong>:\n",
       "\t</summary>\n",
       "\t<ol class=list-inline>\n",
       "\t\t<li>' Electrical'</li>\n",
       "\t\t<li>' Electronics'</li>\n",
       "\t</ol>\n",
       "</details>"
      ],
      "text/latex": [
       " Electronics\n",
       "\\emph{Levels}: \\begin{enumerate*}\n",
       "\\item ' Electrical'\n",
       "\\item ' Electronics'\n",
       "\\end{enumerate*}\n"
      ],
      "text/markdown": [
       " Electronics\n",
       "**Levels**: 1. ' Electrical'\n",
       "2. ' Electronics'\n",
       "\n",
       "\n"
      ],
      "text/plain": [
       "[1]  Electronics\n",
       "Levels:  Electrical  Electronics"
      ]
     },
     "metadata": {},
     "output_type": "display_data"
    }
   ],
   "source": [
    "dataframe[1,2]"
   ]
  },
  {
   "cell_type": "markdown",
   "id": "ac1cea02-f2c1-4a74-bf94-37c1e31f3c35",
   "metadata": {},
   "source": [
    "Let's try accessing the value `200` in the column_3, row_4"
   ]
  },
  {
   "cell_type": "code",
   "execution_count": 12,
   "id": "2d8937fd-35da-4acf-9d20-77e070b5cb8b",
   "metadata": {},
   "outputs": [
    {
     "data": {
      "text/html": [
       "200"
      ],
      "text/latex": [
       "200"
      ],
      "text/markdown": [
       "200"
      ],
      "text/plain": [
       "[1] 200"
      ]
     },
     "metadata": {},
     "output_type": "display_data"
    }
   ],
   "source": [
    "dataframe[4, 3]"
   ]
  },
  {
   "cell_type": "markdown",
   "id": "593ac340-2d0a-4d0f-8603-852052db3361",
   "metadata": {},
   "source": [
    "Let's try accessing the 2nd and 3rd rows"
   ]
  },
  {
   "cell_type": "code",
   "execution_count": 13,
   "id": "5a1da708-d7c1-4ebc-a54f-ee28e139975a",
   "metadata": {},
   "outputs": [
    {
     "data": {
      "text/html": [
       "<table>\n",
       "<thead><tr><th></th><th scope=col>GadgetName</th><th scope=col>Category</th><th scope=col>Price</th></tr></thead>\n",
       "<tbody>\n",
       "\t<tr><th scope=row>2</th><td>Key Board   </td><td> Electronics</td><td> 300        </td></tr>\n",
       "\t<tr><th scope=row>3</th><td>UPS         </td><td> Electrical </td><td>1000        </td></tr>\n",
       "</tbody>\n",
       "</table>\n"
      ],
      "text/latex": [
       "\\begin{tabular}{r|lll}\n",
       "  & GadgetName & Category & Price\\\\\n",
       "\\hline\n",
       "\t2 & Key Board    &  Electronics &  300        \\\\\n",
       "\t3 & UPS          &  Electrical  & 1000        \\\\\n",
       "\\end{tabular}\n"
      ],
      "text/markdown": [
       "\n",
       "| <!--/--> | GadgetName | Category | Price |\n",
       "|---|---|---|---|\n",
       "| 2 | Key Board    |  Electronics |  300         |\n",
       "| 3 | UPS          |  Electrical  | 1000         |\n",
       "\n"
      ],
      "text/plain": [
       "  GadgetName Category     Price\n",
       "2 Key Board   Electronics  300 \n",
       "3 UPS         Electrical  1000 "
      ]
     },
     "metadata": {},
     "output_type": "display_data"
    }
   ],
   "source": [
    "dataframe[2:3, ]   # \"Column_field\", empty connotates that, take all the columns presetnt..             (WITH Comma)"
   ]
  },
  {
   "cell_type": "markdown",
   "id": "024861f9-12a5-48b0-9c25-e349026825ed",
   "metadata": {},
   "source": [
    "Let's try accessing the columns 1st and 2nd"
   ]
  },
  {
   "cell_type": "code",
   "execution_count": 15,
   "id": "93256bdf-da4d-4a5a-9d08-873335a7d321",
   "metadata": {},
   "outputs": [
    {
     "data": {
      "text/html": [
       "<table>\n",
       "<thead><tr><th scope=col>GadgetName</th><th scope=col>Category</th></tr></thead>\n",
       "<tbody>\n",
       "\t<tr><td>Mouse       </td><td> Electronics</td></tr>\n",
       "\t<tr><td>Key Board   </td><td> Electronics</td></tr>\n",
       "\t<tr><td>UPS         </td><td> Electrical </td></tr>\n",
       "\t<tr><td>Switch Board</td><td> Electrical </td></tr>\n",
       "\t<tr><td>Mobile Phone</td><td> Electronics</td></tr>\n",
       "</tbody>\n",
       "</table>\n"
      ],
      "text/latex": [
       "\\begin{tabular}{r|ll}\n",
       " GadgetName & Category\\\\\n",
       "\\hline\n",
       "\t Mouse        &  Electronics\\\\\n",
       "\t Key Board    &  Electronics\\\\\n",
       "\t UPS          &  Electrical \\\\\n",
       "\t Switch Board &  Electrical \\\\\n",
       "\t Mobile Phone &  Electronics\\\\\n",
       "\\end{tabular}\n"
      ],
      "text/markdown": [
       "\n",
       "| GadgetName | Category |\n",
       "|---|---|\n",
       "| Mouse        |  Electronics |\n",
       "| Key Board    |  Electronics |\n",
       "| UPS          |  Electrical  |\n",
       "| Switch Board |  Electrical  |\n",
       "| Mobile Phone |  Electronics |\n",
       "\n"
      ],
      "text/plain": [
       "  GadgetName   Category    \n",
       "1 Mouse         Electronics\n",
       "2 Key Board     Electronics\n",
       "3 UPS           Electrical \n",
       "4 Switch Board  Electrical \n",
       "5 Mobile Phone  Electronics"
      ]
     },
     "metadata": {},
     "output_type": "display_data"
    }
   ],
   "source": [
    "dataframe[ , 1:2] # \"Row_field\" empty connotates that, take all the available rows..                     (WITH Comma)"
   ]
  },
  {
   "cell_type": "markdown",
   "id": "e776dac0-f61f-416a-a2dc-3070470e81cf",
   "metadata": {},
   "source": [
    "This time, lets take 2nd, 3rd, 4th rows and 1st, 2nd columns.."
   ]
  },
  {
   "cell_type": "code",
   "execution_count": 18,
   "id": "2dd5f0a7-33ff-49cf-8160-a8c237d3c91f",
   "metadata": {},
   "outputs": [
    {
     "data": {
      "text/html": [
       "<table>\n",
       "<thead><tr><th></th><th scope=col>GadgetName</th><th scope=col>Category</th></tr></thead>\n",
       "<tbody>\n",
       "\t<tr><th scope=row>2</th><td>Key Board   </td><td> Electronics</td></tr>\n",
       "\t<tr><th scope=row>3</th><td>UPS         </td><td> Electrical </td></tr>\n",
       "\t<tr><th scope=row>4</th><td>Switch Board</td><td> Electrical </td></tr>\n",
       "</tbody>\n",
       "</table>\n"
      ],
      "text/latex": [
       "\\begin{tabular}{r|ll}\n",
       "  & GadgetName & Category\\\\\n",
       "\\hline\n",
       "\t2 & Key Board    &  Electronics\\\\\n",
       "\t3 & UPS          &  Electrical \\\\\n",
       "\t4 & Switch Board &  Electrical \\\\\n",
       "\\end{tabular}\n"
      ],
      "text/markdown": [
       "\n",
       "| <!--/--> | GadgetName | Category |\n",
       "|---|---|---|\n",
       "| 2 | Key Board    |  Electronics |\n",
       "| 3 | UPS          |  Electrical  |\n",
       "| 4 | Switch Board |  Electrical  |\n",
       "\n"
      ],
      "text/plain": [
       "  GadgetName   Category    \n",
       "2 Key Board     Electronics\n",
       "3 UPS           Electrical \n",
       "4 Switch Board  Electrical "
      ]
     },
     "metadata": {},
     "output_type": "display_data"
    }
   ],
   "source": [
    "dataframe[2:4, 1:2]"
   ]
  },
  {
   "cell_type": "code",
   "execution_count": 28,
   "id": "2d2bd1c8-15ef-430e-a9ff-e28b87cec27c",
   "metadata": {},
   "outputs": [
    {
     "data": {
      "text/html": [
       "<table>\n",
       "<thead><tr><th scope=col>GadgetName</th></tr></thead>\n",
       "<tbody>\n",
       "\t<tr><td>Mouse       </td></tr>\n",
       "\t<tr><td>Key Board   </td></tr>\n",
       "\t<tr><td>UPS         </td></tr>\n",
       "\t<tr><td>Switch Board</td></tr>\n",
       "\t<tr><td>Mobile Phone</td></tr>\n",
       "</tbody>\n",
       "</table>\n"
      ],
      "text/latex": [
       "\\begin{tabular}{r|l}\n",
       " GadgetName\\\\\n",
       "\\hline\n",
       "\t Mouse       \\\\\n",
       "\t Key Board   \\\\\n",
       "\t UPS         \\\\\n",
       "\t Switch Board\\\\\n",
       "\t Mobile Phone\\\\\n",
       "\\end{tabular}\n"
      ],
      "text/markdown": [
       "\n",
       "| GadgetName |\n",
       "|---|\n",
       "| Mouse        |\n",
       "| Key Board    |\n",
       "| UPS          |\n",
       "| Switch Board |\n",
       "| Mobile Phone |\n",
       "\n"
      ],
      "text/plain": [
       "  GadgetName  \n",
       "1 Mouse       \n",
       "2 Key Board   \n",
       "3 UPS         \n",
       "4 Switch Board\n",
       "5 Mobile Phone"
      ]
     },
     "metadata": {},
     "output_type": "display_data"
    }
   ],
   "source": [
    "dataframe['GadgetName']  # Only one value, tells to take only that specific column with all the available rows. (WITHOUT comma)"
   ]
  },
  {
   "cell_type": "markdown",
   "id": "28201d04-c7f8-47f1-9953-782981f3f8e6",
   "metadata": {},
   "source": [
    "**How to access particular set of rows?**\n",
    "<br/>\n",
    "Have a list of those rows..and use as below.."
   ]
  },
  {
   "cell_type": "code",
   "execution_count": 30,
   "id": "2310ab2b-8d69-471d-be2a-52d8d4cb0842",
   "metadata": {},
   "outputs": [
    {
     "data": {
      "text/html": [
       "<table>\n",
       "<thead><tr><th></th><th scope=col>GadgetName</th><th scope=col>Category</th><th scope=col>Price</th></tr></thead>\n",
       "<tbody>\n",
       "\t<tr><th scope=row>1</th><td>Mouse       </td><td> Electronics</td><td> 250        </td></tr>\n",
       "\t<tr><th scope=row>3</th><td>UPS         </td><td> Electrical </td><td>1000        </td></tr>\n",
       "\t<tr><th scope=row>4</th><td>Switch Board</td><td> Electrical </td><td> 200        </td></tr>\n",
       "</tbody>\n",
       "</table>\n"
      ],
      "text/latex": [
       "\\begin{tabular}{r|lll}\n",
       "  & GadgetName & Category & Price\\\\\n",
       "\\hline\n",
       "\t1 & Mouse        &  Electronics &  250        \\\\\n",
       "\t3 & UPS          &  Electrical  & 1000        \\\\\n",
       "\t4 & Switch Board &  Electrical  &  200        \\\\\n",
       "\\end{tabular}\n"
      ],
      "text/markdown": [
       "\n",
       "| <!--/--> | GadgetName | Category | Price |\n",
       "|---|---|---|---|\n",
       "| 1 | Mouse        |  Electronics |  250         |\n",
       "| 3 | UPS          |  Electrical  | 1000         |\n",
       "| 4 | Switch Board |  Electrical  |  200         |\n",
       "\n"
      ],
      "text/plain": [
       "  GadgetName   Category     Price\n",
       "1 Mouse         Electronics  250 \n",
       "3 UPS           Electrical  1000 \n",
       "4 Switch Board  Electrical   200 "
      ]
     },
     "metadata": {},
     "output_type": "display_data"
    }
   ],
   "source": [
    "dataframe[c(1, 3, 4), ]"
   ]
  },
  {
   "cell_type": "markdown",
   "id": "bfe763d8-f23b-40d9-ba98-b06b8e28f615",
   "metadata": {},
   "source": [
    "**How to get certain instances(rows) based on certain condition?**\n",
    "<br/>\n",
    "use `subset()`"
   ]
  },
  {
   "cell_type": "markdown",
   "id": "89b9c692-a4f6-4128-83eb-808db61fc33f",
   "metadata": {
    "tags": []
   },
   "source": [
    "#### Subset\n",
    "\n",
    "To extract a subset of data based on certain conditions"
   ]
  },
  {
   "cell_type": "markdown",
   "id": "ed2ae18c-be6a-4b90-bc7c-2c3883124006",
   "metadata": {},
   "source": [
    "Get the instance of the gadget `UPS`.."
   ]
  },
  {
   "cell_type": "code",
   "execution_count": 31,
   "id": "8cdee798-9bed-4db0-b25e-035c0854ac63",
   "metadata": {},
   "outputs": [
    {
     "data": {
      "text/html": [
       "<table>\n",
       "<thead><tr><th></th><th scope=col>GadgetName</th><th scope=col>Category</th><th scope=col>Price</th></tr></thead>\n",
       "<tbody>\n",
       "\t<tr><th scope=row>3</th><td>UPS        </td><td> Electrical</td><td>1000       </td></tr>\n",
       "</tbody>\n",
       "</table>\n"
      ],
      "text/latex": [
       "\\begin{tabular}{r|lll}\n",
       "  & GadgetName & Category & Price\\\\\n",
       "\\hline\n",
       "\t3 & UPS         &  Electrical & 1000       \\\\\n",
       "\\end{tabular}\n"
      ],
      "text/markdown": [
       "\n",
       "| <!--/--> | GadgetName | Category | Price |\n",
       "|---|---|---|---|\n",
       "| 3 | UPS         |  Electrical | 1000        |\n",
       "\n"
      ],
      "text/plain": [
       "  GadgetName Category    Price\n",
       "3 UPS         Electrical 1000 "
      ]
     },
     "metadata": {},
     "output_type": "display_data"
    }
   ],
   "source": [
    "subset(dataframe, GadgetName==\"UPS\")"
   ]
  },
  {
   "cell_type": "markdown",
   "id": "5593e893-b5e5-40f6-9f88-7b304d93ce81",
   "metadata": {},
   "source": [
    "Get the instances which has **price** of **electrical** goods **>200**"
   ]
  },
  {
   "cell_type": "code",
   "execution_count": 51,
   "id": "b098f781-d728-4559-ace9-20d065a1a449",
   "metadata": {},
   "outputs": [
    {
     "data": {
      "text/html": [
       "<table>\n",
       "<thead><tr><th scope=col>GadgetName</th><th scope=col>Category</th><th scope=col>Price</th></tr></thead>\n",
       "<tbody>\n",
       "</tbody>\n",
       "</table>\n"
      ],
      "text/latex": [
       "\\begin{tabular}{r|lll}\n",
       " GadgetName & Category & Price\\\\\n",
       "\\hline\n",
       "\\end{tabular}\n"
      ],
      "text/markdown": [
       "\n",
       "| GadgetName | Category | Price |\n",
       "|---|---|---|\n",
       "\n"
      ],
      "text/plain": [
       "     GadgetName Category Price"
      ]
     },
     "metadata": {},
     "output_type": "display_data"
    }
   ],
   "source": [
    "subset(dataframe, Category==\"Electrical\")  # WHY NOT WORKING....................???????????"
   ]
  },
  {
   "cell_type": "markdown",
   "id": "9fda9730-7ac6-45ae-bae8-2f19817d9717",
   "metadata": {},
   "source": [
    "subset(dataframe, Price>200)"
   ]
  },
  {
   "cell_type": "code",
   "execution_count": 56,
   "id": "cd9b48ec-8e6c-4c67-9d36-28536f9ff1b5",
   "metadata": {},
   "outputs": [
    {
     "data": {
      "text/html": [
       "<table>\n",
       "<thead><tr><th></th><th scope=col>GadgetName</th><th scope=col>Category</th><th scope=col>Price</th></tr></thead>\n",
       "<tbody>\n",
       "\t<tr><th scope=row>1</th><td>Mouse       </td><td> Electronics</td><td>  250       </td></tr>\n",
       "\t<tr><th scope=row>2</th><td>Key Board   </td><td> Electronics</td><td>  300       </td></tr>\n",
       "\t<tr><th scope=row>3</th><td>UPS         </td><td> Electrical </td><td> 1000       </td></tr>\n",
       "\t<tr><th scope=row>5</th><td>Mobile Phone</td><td> Electronics</td><td>10000       </td></tr>\n",
       "</tbody>\n",
       "</table>\n"
      ],
      "text/latex": [
       "\\begin{tabular}{r|lll}\n",
       "  & GadgetName & Category & Price\\\\\n",
       "\\hline\n",
       "\t1 & Mouse        &  Electronics &   250       \\\\\n",
       "\t2 & Key Board    &  Electronics &   300       \\\\\n",
       "\t3 & UPS          &  Electrical  &  1000       \\\\\n",
       "\t5 & Mobile Phone &  Electronics & 10000       \\\\\n",
       "\\end{tabular}\n"
      ],
      "text/markdown": [
       "\n",
       "| <!--/--> | GadgetName | Category | Price |\n",
       "|---|---|---|---|\n",
       "| 1 | Mouse        |  Electronics |   250        |\n",
       "| 2 | Key Board    |  Electronics |   300        |\n",
       "| 3 | UPS          |  Electrical  |  1000        |\n",
       "| 5 | Mobile Phone |  Electronics | 10000        |\n",
       "\n"
      ],
      "text/plain": [
       "  GadgetName   Category     Price\n",
       "1 Mouse         Electronics   250\n",
       "2 Key Board     Electronics   300\n",
       "3 UPS           Electrical   1000\n",
       "5 Mobile Phone  Electronics 10000"
      ]
     },
     "metadata": {},
     "output_type": "display_data"
    }
   ],
   "source": [
    "subset(dataframe, Price>200 | Category==\"Electrical\")"
   ]
  },
  {
   "cell_type": "code",
   "execution_count": null,
   "id": "d53b05b9-c236-4dde-8a50-60833ccce994",
   "metadata": {},
   "outputs": [],
   "source": []
  },
  {
   "cell_type": "markdown",
   "id": "9ac04764-2742-407b-b456-53364647726a",
   "metadata": {},
   "source": [
    "#### Editing dataframes *(GUI way)*  \n",
    "<br/>\n",
    "Tested in RStudio"
   ]
  },
  {
   "cell_type": "code",
   "execution_count": 57,
   "id": "0ed704e1-bfe2-430a-8c9d-a78e7ade0b34",
   "metadata": {},
   "outputs": [
    {
     "ename": "ERROR",
     "evalue": "Error in edit(table): ‘edit()’ not yet supported in the Jupyter R kernel\n",
     "output_type": "error",
     "traceback": [
      "Error in edit(table): ‘edit()’ not yet supported in the Jupyter R kernel\nTraceback:\n",
      "1. edit(table)",
      "2. stop(sQuote(\"edit()\"), \" not yet supported in the Jupyter R kernel\")"
     ]
    }
   ],
   "source": [
    "table = data.frame() # Create the instance of DataFrame..\n",
    "table = edit(table) # Now a table gets opened... enter the data and quit the window ... that's it values gets stored as dataframe."
   ]
  },
  {
   "cell_type": "markdown",
   "id": "8241ca10-b558-42ca-9232-16fe0dcfd24d",
   "metadata": {},
   "source": [
    "Can also be used for existing dataframes..."
   ]
  },
  {
   "cell_type": "markdown",
   "id": "19752737-d50f-4797-9608-67b05e9b3a99",
   "metadata": {
    "tags": []
   },
   "source": [
    "## Adding extra Rows and Columns to the dataframe"
   ]
  },
  {
   "cell_type": "markdown",
   "id": "81c759c8-886c-47fa-8082-33a6edec9f8e",
   "metadata": {
    "jp-MarkdownHeadingCollapsed": true,
    "tags": []
   },
   "source": [
    "#### `rbind()` -  Adding extra rows.."
   ]
  },
  {
   "cell_type": "code",
   "execution_count": 67,
   "id": "cb8575a3-ac70-4d38-b821-c2643e4b1e97",
   "metadata": {},
   "outputs": [
    {
     "data": {
      "text/html": [
       "<table>\n",
       "<thead><tr><th scope=col>GadgetName</th><th scope=col>Category</th><th scope=col>Price</th></tr></thead>\n",
       "<tbody>\n",
       "\t<tr><td>Mouse       </td><td> Electronics</td><td>  250       </td></tr>\n",
       "\t<tr><td>Key Board   </td><td> Electronics</td><td>  300       </td></tr>\n",
       "\t<tr><td>UPS         </td><td> Electrical </td><td> 1000       </td></tr>\n",
       "\t<tr><td>Switch Board</td><td> Electrical </td><td>  200       </td></tr>\n",
       "\t<tr><td>Mobile Phone</td><td> Electronics</td><td>10000       </td></tr>\n",
       "\t<tr><td>Pen         </td><td>Stationary  </td><td>    5       </td></tr>\n",
       "</tbody>\n",
       "</table>\n"
      ],
      "text/latex": [
       "\\begin{tabular}{r|lll}\n",
       " GadgetName & Category & Price\\\\\n",
       "\\hline\n",
       "\t Mouse        &  Electronics &   250       \\\\\n",
       "\t Key Board    &  Electronics &   300       \\\\\n",
       "\t UPS          &  Electrical  &  1000       \\\\\n",
       "\t Switch Board &  Electrical  &   200       \\\\\n",
       "\t Mobile Phone &  Electronics & 10000       \\\\\n",
       "\t Pen          & Stationary   &     5       \\\\\n",
       "\\end{tabular}\n"
      ],
      "text/markdown": [
       "\n",
       "| GadgetName | Category | Price |\n",
       "|---|---|---|\n",
       "| Mouse        |  Electronics |   250        |\n",
       "| Key Board    |  Electronics |   300        |\n",
       "| UPS          |  Electrical  |  1000        |\n",
       "| Switch Board |  Electrical  |   200        |\n",
       "| Mobile Phone |  Electronics | 10000        |\n",
       "| Pen          | Stationary   |     5        |\n",
       "\n"
      ],
      "text/plain": [
       "  GadgetName   Category     Price\n",
       "1 Mouse         Electronics   250\n",
       "2 Key Board     Electronics   300\n",
       "3 UPS           Electrical   1000\n",
       "4 Switch Board  Electrical    200\n",
       "5 Mobile Phone  Electronics 10000\n",
       "6 Pen          Stationary       5"
      ]
     },
     "metadata": {},
     "output_type": "display_data"
    }
   ],
   "source": [
    "rbind(dataframe, data.frame(GadgetName=\"Pen\", Category=\"Stationary\", Price=5))"
   ]
  },
  {
   "cell_type": "markdown",
   "id": "35416e2f-adee-4e71-a71e-f6c23c8c9fb0",
   "metadata": {
    "jp-MarkdownHeadingCollapsed": true,
    "tags": []
   },
   "source": [
    "#### `cbind()` - Adding Extra cols.."
   ]
  },
  {
   "cell_type": "code",
   "execution_count": 70,
   "id": "f9404400-8a82-40c5-ac84-4eb94d58dfaf",
   "metadata": {},
   "outputs": [
    {
     "data": {
      "text/html": [
       "<table>\n",
       "<thead><tr><th scope=col>GadgetName</th><th scope=col>Category</th><th scope=col>Price</th><th scope=col>Stock</th></tr></thead>\n",
       "<tbody>\n",
       "\t<tr><td>Mouse       </td><td> Electronics</td><td>  250       </td><td> 20         </td></tr>\n",
       "\t<tr><td>Key Board   </td><td> Electronics</td><td>  300       </td><td> 50         </td></tr>\n",
       "\t<tr><td>UPS         </td><td> Electrical </td><td> 1000       </td><td> 10         </td></tr>\n",
       "\t<tr><td>Switch Board</td><td> Electrical </td><td>  200       </td><td>100         </td></tr>\n",
       "\t<tr><td>Mobile Phone</td><td> Electronics</td><td>10000       </td><td>  5         </td></tr>\n",
       "</tbody>\n",
       "</table>\n"
      ],
      "text/latex": [
       "\\begin{tabular}{r|llll}\n",
       " GadgetName & Category & Price & Stock\\\\\n",
       "\\hline\n",
       "\t Mouse        &  Electronics &   250        &  20         \\\\\n",
       "\t Key Board    &  Electronics &   300        &  50         \\\\\n",
       "\t UPS          &  Electrical  &  1000        &  10         \\\\\n",
       "\t Switch Board &  Electrical  &   200        & 100         \\\\\n",
       "\t Mobile Phone &  Electronics & 10000        &   5         \\\\\n",
       "\\end{tabular}\n"
      ],
      "text/markdown": [
       "\n",
       "| GadgetName | Category | Price | Stock |\n",
       "|---|---|---|---|\n",
       "| Mouse        |  Electronics |   250        |  20          |\n",
       "| Key Board    |  Electronics |   300        |  50          |\n",
       "| UPS          |  Electrical  |  1000        |  10          |\n",
       "| Switch Board |  Electrical  |   200        | 100          |\n",
       "| Mobile Phone |  Electronics | 10000        |   5          |\n",
       "\n"
      ],
      "text/plain": [
       "  GadgetName   Category     Price Stock\n",
       "1 Mouse         Electronics   250  20  \n",
       "2 Key Board     Electronics   300  50  \n",
       "3 UPS           Electrical   1000  10  \n",
       "4 Switch Board  Electrical    200 100  \n",
       "5 Mobile Phone  Electronics 10000   5  "
      ]
     },
     "metadata": {},
     "output_type": "display_data"
    }
   ],
   "source": [
    "cbind(dataframe, Stock=c(20, 50, 10, 100, 5))"
   ]
  },
  {
   "cell_type": "markdown",
   "id": "ff0818c2-0c16-4c13-9808-2183fbda9f45",
   "metadata": {},
   "source": [
    "An Observation: \n",
    "*  For adding row need a dataframe, as only dataframe can hold each element of different type\n",
    "*  For adding column, need to pass a vector, as the whole column will be of same datatype.\n",
    "\n",
    "Need confirmation..!!"
   ]
  },
  {
   "cell_type": "markdown",
   "id": "840858f9-4387-46db-80ac-08d89fe1ba88",
   "metadata": {
    "jp-MarkdownHeadingCollapsed": true,
    "tags": []
   },
   "source": [
    "## Deleting rows and columns"
   ]
  },
  {
   "cell_type": "markdown",
   "id": "72cdd174-9f9c-4199-9831-5e245c415865",
   "metadata": {},
   "source": [
    "* There are several ways to delete a row/column. Some are shown below.."
   ]
  },
  {
   "cell_type": "markdown",
   "id": "653732dc-4e7f-42d8-92ed-d8f3d3341fe0",
   "metadata": {
    "jp-MarkdownHeadingCollapsed": true,
    "tags": []
   },
   "source": [
    "#### Direct deletion\n",
    " -  Deletion via indices"
   ]
  },
  {
   "cell_type": "markdown",
   "id": "09ab1402-05b2-4d92-871b-a0004a437404",
   "metadata": {},
   "source": [
    "Prefix the **`-`** sign before the indices. --- Not clear.. take the example to get clear..\n",
    "<br/> \n",
    "**Let's try removing the value 2nd row..**"
   ]
  },
  {
   "cell_type": "code",
   "execution_count": 73,
   "id": "6a88a951-a3f2-4f8e-b406-5939dec227dd",
   "metadata": {},
   "outputs": [
    {
     "data": {
      "text/html": [
       "<table>\n",
       "<thead><tr><th></th><th scope=col>GadgetName</th><th scope=col>Category</th><th scope=col>Price</th></tr></thead>\n",
       "<tbody>\n",
       "\t<tr><th scope=row>1</th><td>Mouse       </td><td> Electronics</td><td>  250       </td></tr>\n",
       "\t<tr><th scope=row>3</th><td>UPS         </td><td> Electrical </td><td> 1000       </td></tr>\n",
       "\t<tr><th scope=row>4</th><td>Switch Board</td><td> Electrical </td><td>  200       </td></tr>\n",
       "\t<tr><th scope=row>5</th><td>Mobile Phone</td><td> Electronics</td><td>10000       </td></tr>\n",
       "</tbody>\n",
       "</table>\n"
      ],
      "text/latex": [
       "\\begin{tabular}{r|lll}\n",
       "  & GadgetName & Category & Price\\\\\n",
       "\\hline\n",
       "\t1 & Mouse        &  Electronics &   250       \\\\\n",
       "\t3 & UPS          &  Electrical  &  1000       \\\\\n",
       "\t4 & Switch Board &  Electrical  &   200       \\\\\n",
       "\t5 & Mobile Phone &  Electronics & 10000       \\\\\n",
       "\\end{tabular}\n"
      ],
      "text/markdown": [
       "\n",
       "| <!--/--> | GadgetName | Category | Price |\n",
       "|---|---|---|---|\n",
       "| 1 | Mouse        |  Electronics |   250        |\n",
       "| 3 | UPS          |  Electrical  |  1000        |\n",
       "| 4 | Switch Board |  Electrical  |   200        |\n",
       "| 5 | Mobile Phone |  Electronics | 10000        |\n",
       "\n"
      ],
      "text/plain": [
       "  GadgetName   Category     Price\n",
       "1 Mouse         Electronics   250\n",
       "3 UPS           Electrical   1000\n",
       "4 Switch Board  Electrical    200\n",
       "5 Mobile Phone  Electronics 10000"
      ]
     },
     "metadata": {},
     "output_type": "display_data"
    }
   ],
   "source": [
    "dataframe[-2,]"
   ]
  },
  {
   "cell_type": "markdown",
   "id": "76fb5f23-bc0d-4e80-bc70-492942943146",
   "metadata": {},
   "source": [
    "**Let's try removing column_1**"
   ]
  },
  {
   "cell_type": "code",
   "execution_count": 74,
   "id": "75705487-f50c-4fcd-85c7-33b8174b257b",
   "metadata": {},
   "outputs": [
    {
     "data": {
      "text/html": [
       "<table>\n",
       "<thead><tr><th scope=col>Category</th><th scope=col>Price</th></tr></thead>\n",
       "<tbody>\n",
       "\t<tr><td> Electronics</td><td>  250       </td></tr>\n",
       "\t<tr><td> Electronics</td><td>  300       </td></tr>\n",
       "\t<tr><td> Electrical </td><td> 1000       </td></tr>\n",
       "\t<tr><td> Electrical </td><td>  200       </td></tr>\n",
       "\t<tr><td> Electronics</td><td>10000       </td></tr>\n",
       "</tbody>\n",
       "</table>\n"
      ],
      "text/latex": [
       "\\begin{tabular}{r|ll}\n",
       " Category & Price\\\\\n",
       "\\hline\n",
       "\t  Electronics &   250       \\\\\n",
       "\t  Electronics &   300       \\\\\n",
       "\t  Electrical  &  1000       \\\\\n",
       "\t  Electrical  &   200       \\\\\n",
       "\t  Electronics & 10000       \\\\\n",
       "\\end{tabular}\n"
      ],
      "text/markdown": [
       "\n",
       "| Category | Price |\n",
       "|---|---|\n",
       "|  Electronics |   250        |\n",
       "|  Electronics |   300        |\n",
       "|  Electrical  |  1000        |\n",
       "|  Electrical  |   200        |\n",
       "|  Electronics | 10000        |\n",
       "\n"
      ],
      "text/plain": [
       "  Category     Price\n",
       "1  Electronics   250\n",
       "2  Electronics   300\n",
       "3  Electrical   1000\n",
       "4  Electrical    200\n",
       "5  Electronics 10000"
      ]
     },
     "metadata": {},
     "output_type": "display_data"
    }
   ],
   "source": [
    "dataframe[-1]"
   ]
  },
  {
   "cell_type": "code",
   "execution_count": 75,
   "id": "e320b95c-76a7-4079-9213-275f3bbe1414",
   "metadata": {},
   "outputs": [
    {
     "data": {
      "text/html": [
       "<table>\n",
       "<thead><tr><th scope=col>GadgetName</th><th scope=col>Category</th><th scope=col>Price</th></tr></thead>\n",
       "<tbody>\n",
       "\t<tr><td>Mouse       </td><td> Electronics</td><td>  250       </td></tr>\n",
       "\t<tr><td>Key Board   </td><td> Electronics</td><td>  300       </td></tr>\n",
       "\t<tr><td>UPS         </td><td> Electrical </td><td> 1000       </td></tr>\n",
       "\t<tr><td>Switch Board</td><td> Electrical </td><td>  200       </td></tr>\n",
       "\t<tr><td>Mobile Phone</td><td> Electronics</td><td>10000       </td></tr>\n",
       "</tbody>\n",
       "</table>\n"
      ],
      "text/latex": [
       "\\begin{tabular}{r|lll}\n",
       " GadgetName & Category & Price\\\\\n",
       "\\hline\n",
       "\t Mouse        &  Electronics &   250       \\\\\n",
       "\t Key Board    &  Electronics &   300       \\\\\n",
       "\t UPS          &  Electrical  &  1000       \\\\\n",
       "\t Switch Board &  Electrical  &   200       \\\\\n",
       "\t Mobile Phone &  Electronics & 10000       \\\\\n",
       "\\end{tabular}\n"
      ],
      "text/markdown": [
       "\n",
       "| GadgetName | Category | Price |\n",
       "|---|---|---|\n",
       "| Mouse        |  Electronics |   250        |\n",
       "| Key Board    |  Electronics |   300        |\n",
       "| UPS          |  Electrical  |  1000        |\n",
       "| Switch Board |  Electrical  |   200        |\n",
       "| Mobile Phone |  Electronics | 10000        |\n",
       "\n"
      ],
      "text/plain": [
       "  GadgetName   Category     Price\n",
       "1 Mouse         Electronics   250\n",
       "2 Key Board     Electronics   300\n",
       "3 UPS           Electrical   1000\n",
       "4 Switch Board  Electrical    200\n",
       "5 Mobile Phone  Electronics 10000"
      ]
     },
     "metadata": {},
     "output_type": "display_data"
    }
   ],
   "source": [
    "dataframe"
   ]
  },
  {
   "cell_type": "markdown",
   "id": "dc827e92-2347-4c1c-bc53-d2be2774de52",
   "metadata": {},
   "source": [
    "**Get the row 3, without having column_2..**"
   ]
  },
  {
   "cell_type": "code",
   "execution_count": 76,
   "id": "2832f485-ee25-4309-adb4-d25f8802a45b",
   "metadata": {},
   "outputs": [
    {
     "data": {
      "text/html": [
       "<table>\n",
       "<thead><tr><th></th><th scope=col>GadgetName</th><th scope=col>Price</th></tr></thead>\n",
       "<tbody>\n",
       "\t<tr><th scope=row>3</th><td>UPS </td><td>1000</td></tr>\n",
       "</tbody>\n",
       "</table>\n"
      ],
      "text/latex": [
       "\\begin{tabular}{r|ll}\n",
       "  & GadgetName & Price\\\\\n",
       "\\hline\n",
       "\t3 & UPS  & 1000\\\\\n",
       "\\end{tabular}\n"
      ],
      "text/markdown": [
       "\n",
       "| <!--/--> | GadgetName | Price |\n",
       "|---|---|---|\n",
       "| 3 | UPS  | 1000 |\n",
       "\n"
      ],
      "text/plain": [
       "  GadgetName Price\n",
       "3 UPS        1000 "
      ]
     },
     "metadata": {},
     "output_type": "display_data"
    }
   ],
   "source": [
    "dataframe[3, -2]"
   ]
  },
  {
   "cell_type": "markdown",
   "id": "02687509-00a9-4c5e-a6b1-37bf600a6487",
   "metadata": {},
   "source": [
    "NOTE: To make the changes permanent to the dataframe, assign the result to the same dataframe-name."
   ]
  },
  {
   "cell_type": "markdown",
   "id": "e95da05d-f10e-4c1f-b00c-02d03543ac5c",
   "metadata": {},
   "source": [
    "#### Conditional Deletion\n",
    "   - Deletion based on certain condition."
   ]
  },
  {
   "cell_type": "markdown",
   "id": "2e46ad59-46f2-4aec-a595-f94d1aac63bf",
   "metadata": {},
   "source": [
    "Delete the column_3 -- *another view:* Accessing all other columns except the 3rd."
   ]
  },
  {
   "cell_type": "code",
   "execution_count": 87,
   "id": "2893c1e5-0177-41bd-84cc-25a21940765d",
   "metadata": {},
   "outputs": [
    {
     "data": {
      "text/html": [
       "<ol class=list-inline>\n",
       "\t<li>'GadgetName'</li>\n",
       "\t<li>'Category'</li>\n",
       "\t<li>'Price'</li>\n",
       "</ol>\n"
      ],
      "text/latex": [
       "\\begin{enumerate*}\n",
       "\\item 'GadgetName'\n",
       "\\item 'Category'\n",
       "\\item 'Price'\n",
       "\\end{enumerate*}\n"
      ],
      "text/markdown": [
       "1. 'GadgetName'\n",
       "2. 'Category'\n",
       "3. 'Price'\n",
       "\n",
       "\n"
      ],
      "text/plain": [
       "[1] \"GadgetName\" \"Category\"   \"Price\"     "
      ]
     },
     "metadata": {},
     "output_type": "display_data"
    }
   ],
   "source": [
    "# Way to obtain the columns of a dataframe..\n",
    "names(dataframe)  "
   ]
  },
  {
   "cell_type": "code",
   "execution_count": 86,
   "id": "203139c2-d7ba-428e-bc89-04d6902a19be",
   "metadata": {},
   "outputs": [
    {
     "data": {
      "text/html": [
       "<ol class=list-inline>\n",
       "\t<li>250</li>\n",
       "\t<li>300</li>\n",
       "\t<li>1000</li>\n",
       "\t<li>200</li>\n",
       "\t<li>10000</li>\n",
       "</ol>\n"
      ],
      "text/latex": [
       "\\begin{enumerate*}\n",
       "\\item 250\n",
       "\\item 300\n",
       "\\item 1000\n",
       "\\item 200\n",
       "\\item 10000\n",
       "\\end{enumerate*}\n"
      ],
      "text/markdown": [
       "1. 250\n",
       "2. 300\n",
       "3. 1000\n",
       "4. 200\n",
       "5. 10000\n",
       "\n",
       "\n"
      ],
      "text/plain": [
       "[1]   250   300  1000   200 10000"
      ]
     },
     "metadata": {},
     "output_type": "display_data"
    }
   ],
   "source": [
    "# First understand the working of `in` operator...\n",
    "dataframe[ ,  names(dataframe) %in% c(\"Price\")]"
   ]
  },
  {
   "cell_type": "code",
   "execution_count": 84,
   "id": "cdec1f90-090b-4cc7-bad0-f817e9007024",
   "metadata": {},
   "outputs": [
    {
     "data": {
      "text/html": [
       "<table>\n",
       "<thead><tr><th scope=col>GadgetName</th><th scope=col>Category</th></tr></thead>\n",
       "<tbody>\n",
       "\t<tr><td>Mouse       </td><td> Electronics</td></tr>\n",
       "\t<tr><td>Key Board   </td><td> Electronics</td></tr>\n",
       "\t<tr><td>UPS         </td><td> Electrical </td></tr>\n",
       "\t<tr><td>Switch Board</td><td> Electrical </td></tr>\n",
       "\t<tr><td>Mobile Phone</td><td> Electronics</td></tr>\n",
       "</tbody>\n",
       "</table>\n"
      ],
      "text/latex": [
       "\\begin{tabular}{r|ll}\n",
       " GadgetName & Category\\\\\n",
       "\\hline\n",
       "\t Mouse        &  Electronics\\\\\n",
       "\t Key Board    &  Electronics\\\\\n",
       "\t UPS          &  Electrical \\\\\n",
       "\t Switch Board &  Electrical \\\\\n",
       "\t Mobile Phone &  Electronics\\\\\n",
       "\\end{tabular}\n"
      ],
      "text/markdown": [
       "\n",
       "| GadgetName | Category |\n",
       "|---|---|\n",
       "| Mouse        |  Electronics |\n",
       "| Key Board    |  Electronics |\n",
       "| UPS          |  Electrical  |\n",
       "| Switch Board |  Electrical  |\n",
       "| Mobile Phone |  Electronics |\n",
       "\n"
      ],
      "text/plain": [
       "  GadgetName   Category    \n",
       "1 Mouse         Electronics\n",
       "2 Key Board     Electronics\n",
       "3 UPS           Electrical \n",
       "4 Switch Board  Electrical \n",
       "5 Mobile Phone  Electronics"
      ]
     },
     "metadata": {},
     "output_type": "display_data"
    }
   ],
   "source": [
    "# Negate the above result with other gives.. the required result..\n",
    "dataframe [ ,   !names(dataframe) %in% c(\"Price\")]# ! for negation. Connotates that: \"No to these columns which satisfy the condition\""
   ]
  },
  {
   "cell_type": "markdown",
   "id": "459edb33-e790-45e7-b8eb-51489f64c432",
   "metadata": {
    "tags": []
   },
   "source": [
    "## Manipulating Rows"
   ]
  },
  {
   "cell_type": "markdown",
   "id": "94f2a0e3-4bbd-4281-9422-352512112feb",
   "metadata": {
    "jp-MarkdownHeadingCollapsed": true,
    "tags": []
   },
   "source": [
    "### Manipulating Rows -- Understanding the factor issue"
   ]
  },
  {
   "cell_type": "markdown",
   "id": "8e5950cd-6e85-4536-9573-f31187cdd937",
   "metadata": {},
   "source": [
    "R has inbuilt characteristic to assign the data types to the data you enter.\n",
    "* If entered numeric variable... it knows all the numeric variables that you are available to enter.\n",
    "* If entered character variable... it takes whatever characters you entered as the **Factors**, and it assumes that these are the only factors available for now.\n",
    "\n",
    "**What are factor variables?**\n",
    "* Factor variables are those, where the character column gets splits into *Categories* or *Factor-levels*."
   ]
  },
  {
   "cell_type": "markdown",
   "id": "bdd04af8-e14a-4a0f-8978-c79dab7710dd",
   "metadata": {},
   "source": [
    "Let's play with this to get handy..."
   ]
  },
  {
   "cell_type": "code",
   "execution_count": 88,
   "id": "a360eb08-802f-40ac-8b7d-17a76a880574",
   "metadata": {},
   "outputs": [
    {
     "data": {
      "text/html": [
       "<table>\n",
       "<thead><tr><th scope=col>GadgetName</th><th scope=col>Category</th><th scope=col>Price</th></tr></thead>\n",
       "<tbody>\n",
       "\t<tr><td>Mouse       </td><td> Electronics</td><td>  250       </td></tr>\n",
       "\t<tr><td>Key Board   </td><td> Electronics</td><td>  300       </td></tr>\n",
       "\t<tr><td>UPS         </td><td> Electrical </td><td> 1000       </td></tr>\n",
       "\t<tr><td>Switch Board</td><td> Electrical </td><td>  200       </td></tr>\n",
       "\t<tr><td>Mobile Phone</td><td> Electronics</td><td>10000       </td></tr>\n",
       "</tbody>\n",
       "</table>\n"
      ],
      "text/latex": [
       "\\begin{tabular}{r|lll}\n",
       " GadgetName & Category & Price\\\\\n",
       "\\hline\n",
       "\t Mouse        &  Electronics &   250       \\\\\n",
       "\t Key Board    &  Electronics &   300       \\\\\n",
       "\t UPS          &  Electrical  &  1000       \\\\\n",
       "\t Switch Board &  Electrical  &   200       \\\\\n",
       "\t Mobile Phone &  Electronics & 10000       \\\\\n",
       "\\end{tabular}\n"
      ],
      "text/markdown": [
       "\n",
       "| GadgetName | Category | Price |\n",
       "|---|---|---|\n",
       "| Mouse        |  Electronics |   250        |\n",
       "| Key Board    |  Electronics |   300        |\n",
       "| UPS          |  Electrical  |  1000        |\n",
       "| Switch Board |  Electrical  |   200        |\n",
       "| Mobile Phone |  Electronics | 10000        |\n",
       "\n"
      ],
      "text/plain": [
       "  GadgetName   Category     Price\n",
       "1 Mouse         Electronics   250\n",
       "2 Key Board     Electronics   300\n",
       "3 UPS           Electrical   1000\n",
       "4 Switch Board  Electrical    200\n",
       "5 Mobile Phone  Electronics 10000"
      ]
     },
     "metadata": {},
     "output_type": "display_data"
    }
   ],
   "source": [
    "dataframe"
   ]
  },
  {
   "cell_type": "markdown",
   "id": "bd104cb0-bc69-4ef7-81ff-d61f9d16d040",
   "metadata": {},
   "source": [
    "Let's try to assign some invalid value. i.e., a numerical value in a categorical column.."
   ]
  },
  {
   "cell_type": "code",
   "execution_count": 103,
   "id": "bd5c0e95-e614-4e7c-9195-e9ac4e705cc2",
   "metadata": {},
   "outputs": [
    {
     "name": "stderr",
     "output_type": "stream",
     "text": [
      "Warning message in `[<-.factor`(`*tmp*`, iseq, value = 1000):\n",
      "“invalid factor level, NA generated”"
     ]
    }
   ],
   "source": [
    "dataframe[3, 2] = 1000"
   ]
  },
  {
   "cell_type": "code",
   "execution_count": 104,
   "id": "85186d8b-49aa-453e-94c7-43124f512b1a",
   "metadata": {},
   "outputs": [
    {
     "data": {
      "text/html": [
       "<table>\n",
       "<thead><tr><th scope=col>GadgetName</th><th scope=col>Category</th><th scope=col>Price</th></tr></thead>\n",
       "<tbody>\n",
       "\t<tr><td>Mouse       </td><td> Electronics</td><td>250         </td></tr>\n",
       "\t<tr><td>Key Board   </td><td> Electronics</td><td>300         </td></tr>\n",
       "\t<tr><td>UPS         </td><td>NA          </td><td>1000        </td></tr>\n",
       "\t<tr><td>Switch Board</td><td> Electrical </td><td>200         </td></tr>\n",
       "\t<tr><td>Mobile Phone</td><td> Electronics</td><td>10000       </td></tr>\n",
       "</tbody>\n",
       "</table>\n"
      ],
      "text/latex": [
       "\\begin{tabular}{r|lll}\n",
       " GadgetName & Category & Price\\\\\n",
       "\\hline\n",
       "\t Mouse        &  Electronics & 250         \\\\\n",
       "\t Key Board    &  Electronics & 300         \\\\\n",
       "\t UPS          & NA           & 1000        \\\\\n",
       "\t Switch Board &  Electrical  & 200         \\\\\n",
       "\t Mobile Phone &  Electronics & 10000       \\\\\n",
       "\\end{tabular}\n"
      ],
      "text/markdown": [
       "\n",
       "| GadgetName | Category | Price |\n",
       "|---|---|---|\n",
       "| Mouse        |  Electronics | 250          |\n",
       "| Key Board    |  Electronics | 300          |\n",
       "| UPS          | NA           | 1000         |\n",
       "| Switch Board |  Electrical  | 200          |\n",
       "| Mobile Phone |  Electronics | 10000        |\n",
       "\n"
      ],
      "text/plain": [
       "  GadgetName   Category     Price\n",
       "1 Mouse         Electronics 250  \n",
       "2 Key Board     Electronics 300  \n",
       "3 UPS          NA           1000 \n",
       "4 Switch Board  Electrical  200  \n",
       "5 Mobile Phone  Electronics 10000"
      ]
     },
     "metadata": {},
     "output_type": "display_data"
    }
   ],
   "source": [
    "dataframe"
   ]
  },
  {
   "cell_type": "markdown",
   "id": "bd7f8002-3c1c-4485-b559-d596b14bf03d",
   "metadata": {},
   "source": [
    "Let's try assigning some value that are not in the column `Category`.. say `Object`.."
   ]
  },
  {
   "cell_type": "code",
   "execution_count": 110,
   "id": "13936ab1-884e-4c2a-bc48-cc4c5d275214",
   "metadata": {},
   "outputs": [
    {
     "name": "stderr",
     "output_type": "stream",
     "text": [
      "Warning message in `[<-.factor`(`*tmp*`, iseq, value = \"Object\"):\n",
      "“invalid factor level, NA generated”"
     ]
    }
   ],
   "source": [
    "dataframe[4, 2] = \"Object\""
   ]
  },
  {
   "cell_type": "code",
   "execution_count": 109,
   "id": "f8d6239f-5ba2-46b5-8f85-4dd2e2e696cc",
   "metadata": {},
   "outputs": [
    {
     "data": {
      "text/html": [
       "<table>\n",
       "<thead><tr><th scope=col>GadgetName</th><th scope=col>Category</th><th scope=col>Price</th></tr></thead>\n",
       "<tbody>\n",
       "\t<tr><td>Mouse       </td><td> Electronics</td><td>250         </td></tr>\n",
       "\t<tr><td>Key Board   </td><td> Electronics</td><td>300         </td></tr>\n",
       "\t<tr><td>UPS         </td><td>NA          </td><td>1000        </td></tr>\n",
       "\t<tr><td>Switch Board</td><td>NA          </td><td>200         </td></tr>\n",
       "\t<tr><td>Mobile Phone</td><td> Electronics</td><td>10000       </td></tr>\n",
       "</tbody>\n",
       "</table>\n"
      ],
      "text/latex": [
       "\\begin{tabular}{r|lll}\n",
       " GadgetName & Category & Price\\\\\n",
       "\\hline\n",
       "\t Mouse        &  Electronics & 250         \\\\\n",
       "\t Key Board    &  Electronics & 300         \\\\\n",
       "\t UPS          & NA           & 1000        \\\\\n",
       "\t Switch Board & NA           & 200         \\\\\n",
       "\t Mobile Phone &  Electronics & 10000       \\\\\n",
       "\\end{tabular}\n"
      ],
      "text/markdown": [
       "\n",
       "| GadgetName | Category | Price |\n",
       "|---|---|---|\n",
       "| Mouse        |  Electronics | 250          |\n",
       "| Key Board    |  Electronics | 300          |\n",
       "| UPS          | NA           | 1000         |\n",
       "| Switch Board | NA           | 200          |\n",
       "| Mobile Phone |  Electronics | 10000        |\n",
       "\n"
      ],
      "text/plain": [
       "  GadgetName   Category     Price\n",
       "1 Mouse         Electronics 250  \n",
       "2 Key Board     Electronics 300  \n",
       "3 UPS          NA           1000 \n",
       "4 Switch Board NA           200  \n",
       "5 Mobile Phone  Electronics 10000"
      ]
     },
     "metadata": {},
     "output_type": "display_data"
    }
   ],
   "source": [
    "dataframe"
   ]
  },
  {
   "cell_type": "markdown",
   "id": "f4a8d2dc-4c79-4f15-b024-0459d3d08059",
   "metadata": {},
   "source": [
    "**Lesson:** When tried to give a value other than existing *Category* or *Factor level*.. results in loss of that value in the dataframe. -- i.e, `NA` gets inserted at that element position."
   ]
  },
  {
   "cell_type": "markdown",
   "id": "a9d62657-64f5-4518-9441-336b6e0d89d0",
   "metadata": {},
   "source": [
    "**NOTE:** This warning arises only when we try to *Manipulate* the existing value, not when already exists.\n",
    "\n",
    "As in above *Inserting rows and columns*, this issue didn't arised. --- Please Correct this, if not."
   ]
  },
  {
   "cell_type": "markdown",
   "id": "0eeac836-67bd-40df-be3b-dba7aa8a8b93",
   "metadata": {
    "jp-MarkdownHeadingCollapsed": true,
    "tags": []
   },
   "source": [
    "### Manipulating rows -- with resolve of factor issue"
   ]
  },
  {
   "cell_type": "markdown",
   "id": "6d5606f5-c0fd-417d-9e4c-7f751ebfe3bf",
   "metadata": {},
   "source": [
    "First know the **reason** for the issue:\n",
    "* New entries need to be consistent with the factor levels which are fixed when the dataframe is first created.\n",
    "* When this gets violated, it results in Warning as above.\n",
    "\n",
    "****\n",
    "**FIX:**\n",
    "* Medicine for this lies at the creation of dataframe.\n",
    "    * While creating the dataframe, pass `F`  to the parameter `stringsAsFactors`.\n",
    "    i.e., `df = data.frame(v1, v2, v3, ..., stringsAsFactors=F)`"
   ]
  },
  {
   "cell_type": "code",
   "execution_count": 122,
   "id": "e5380261-6bb0-459c-b416-3c6d943be083",
   "metadata": {},
   "outputs": [
    {
     "data": {
      "text/html": [
       "<table>\n",
       "<thead><tr><th scope=col>GadgetName</th><th scope=col>Category</th><th scope=col>Price</th></tr></thead>\n",
       "<tbody>\n",
       "\t<tr><td>Mouse       </td><td> Electronics</td><td>  250       </td></tr>\n",
       "\t<tr><td>Key Board   </td><td> Electronics</td><td>  300       </td></tr>\n",
       "\t<tr><td>UPS         </td><td> Electrical </td><td> 1000       </td></tr>\n",
       "\t<tr><td>Switch Board</td><td> Electrical </td><td>  200       </td></tr>\n",
       "\t<tr><td>Mobile Phone</td><td> Electronics</td><td>10000       </td></tr>\n",
       "</tbody>\n",
       "</table>\n"
      ],
      "text/latex": [
       "\\begin{tabular}{r|lll}\n",
       " GadgetName & Category & Price\\\\\n",
       "\\hline\n",
       "\t Mouse        &  Electronics &   250       \\\\\n",
       "\t Key Board    &  Electronics &   300       \\\\\n",
       "\t UPS          &  Electrical  &  1000       \\\\\n",
       "\t Switch Board &  Electrical  &   200       \\\\\n",
       "\t Mobile Phone &  Electronics & 10000       \\\\\n",
       "\\end{tabular}\n"
      ],
      "text/markdown": [
       "\n",
       "| GadgetName | Category | Price |\n",
       "|---|---|---|\n",
       "| Mouse        |  Electronics |   250        |\n",
       "| Key Board    |  Electronics |   300        |\n",
       "| UPS          |  Electrical  |  1000        |\n",
       "| Switch Board |  Electrical  |   200        |\n",
       "| Mobile Phone |  Electronics | 10000        |\n",
       "\n"
      ],
      "text/plain": [
       "  GadgetName   Category     Price\n",
       "1 Mouse         Electronics   250\n",
       "2 Key Board     Electronics   300\n",
       "3 UPS           Electrical   1000\n",
       "4 Switch Board  Electrical    200\n",
       "5 Mobile Phone  Electronics 10000"
      ]
     },
     "metadata": {},
     "output_type": "display_data"
    }
   ],
   "source": [
    "# here showing for read.Table, but same applies for the data.frame() too..\n",
    "test_df = read.table(\"test.csv\", sep=\",\", header=1, stringsAsFactors=F)  \n",
    "test_df"
   ]
  },
  {
   "cell_type": "code",
   "execution_count": 121,
   "id": "b42c3450-844b-4590-af3e-5a3ddeb6e9df",
   "metadata": {},
   "outputs": [
    {
     "data": {
      "text/html": [
       "<table>\n",
       "<thead><tr><th scope=col>GadgetName</th><th scope=col>Category</th><th scope=col>Price</th></tr></thead>\n",
       "<tbody>\n",
       "\t<tr><td>Mouse       </td><td> Electronics</td><td>  250       </td></tr>\n",
       "\t<tr><td>Key Board   </td><td> Electronics</td><td>  300       </td></tr>\n",
       "\t<tr><td>UPS         </td><td>Object      </td><td> 1000       </td></tr>\n",
       "\t<tr><td>Switch Board</td><td> Electrical </td><td>  200       </td></tr>\n",
       "\t<tr><td>Mobile Phone</td><td> Electronics</td><td>10000       </td></tr>\n",
       "</tbody>\n",
       "</table>\n"
      ],
      "text/latex": [
       "\\begin{tabular}{r|lll}\n",
       " GadgetName & Category & Price\\\\\n",
       "\\hline\n",
       "\t Mouse        &  Electronics &   250       \\\\\n",
       "\t Key Board    &  Electronics &   300       \\\\\n",
       "\t UPS          & Object       &  1000       \\\\\n",
       "\t Switch Board &  Electrical  &   200       \\\\\n",
       "\t Mobile Phone &  Electronics & 10000       \\\\\n",
       "\\end{tabular}\n"
      ],
      "text/markdown": [
       "\n",
       "| GadgetName | Category | Price |\n",
       "|---|---|---|\n",
       "| Mouse        |  Electronics |   250        |\n",
       "| Key Board    |  Electronics |   300        |\n",
       "| UPS          | Object       |  1000        |\n",
       "| Switch Board |  Electrical  |   200        |\n",
       "| Mobile Phone |  Electronics | 10000        |\n",
       "\n"
      ],
      "text/plain": [
       "  GadgetName   Category     Price\n",
       "1 Mouse         Electronics   250\n",
       "2 Key Board     Electronics   300\n",
       "3 UPS          Object        1000\n",
       "4 Switch Board  Electrical    200\n",
       "5 Mobile Phone  Electronics 10000"
      ]
     },
     "metadata": {},
     "output_type": "display_data"
    }
   ],
   "source": [
    "test_df[3, 2] = \"Object\"\n",
    "test_df"
   ]
  },
  {
   "cell_type": "markdown",
   "id": "1cb7cebf-56fa-4e4d-a978-c8e53c0d4a2a",
   "metadata": {},
   "source": [
    "See, now neither such warning or improper value insertion (`NA`).. it got successfully inserted."
   ]
  },
  {
   "cell_type": "markdown",
   "id": "1801feb9-4b5a-4cba-b071-c9975ee368ab",
   "metadata": {
    "tags": []
   },
   "source": [
    "# Work on 20th August, 2021 - Friday"
   ]
  },
  {
   "cell_type": "markdown",
   "id": "42a987ac-2617-4038-9e46-7d17b5df7ef0",
   "metadata": {},
   "source": [
    "## Recasting Dataframes"
   ]
  },
  {
   "cell_type": "markdown",
   "id": "70479f9c-fe41-456c-ab10-55e069030473",
   "metadata": {},
   "source": [
    "It is the process of manipulating a dataframe in terms of its variables.\n",
    "Why need to re-cast..??\n",
    "    It helps in re-shaping the data.,"
   ]
  },
  {
   "cell_type": "code",
   "execution_count": 1,
   "id": "a7e66bbc-e5f9-4aa8-a3f3-e50bc9e92153",
   "metadata": {},
   "outputs": [
    {
     "data": {
      "text/html": [
       "<table>\n",
       "<thead><tr><th scope=col>productName</th><th scope=col>soldInMonth</th><th scope=col>price</th><th scope=col>quantity</th></tr></thead>\n",
       "<tbody>\n",
       "\t<tr><td>Oil Pastels   </td><td>January       </td><td>150           </td><td>20            </td></tr>\n",
       "\t<tr><td>Brushes       </td><td>February      </td><td>100           </td><td>40            </td></tr>\n",
       "\t<tr><td>Erasers       </td><td>January       </td><td>  5           </td><td>20            </td></tr>\n",
       "\t<tr><td>Sharpeners    </td><td>March         </td><td>  5           </td><td>10            </td></tr>\n",
       "\t<tr><td>Papers        </td><td>January       </td><td>260           </td><td>30            </td></tr>\n",
       "\t<tr><td>Acrylic Colors</td><td>February      </td><td>250           </td><td>50            </td></tr>\n",
       "</tbody>\n",
       "</table>\n"
      ],
      "text/latex": [
       "\\begin{tabular}{r|llll}\n",
       " productName & soldInMonth & price & quantity\\\\\n",
       "\\hline\n",
       "\t Oil Pastels    & January        & 150            & 20            \\\\\n",
       "\t Brushes        & February       & 100            & 40            \\\\\n",
       "\t Erasers        & January        &   5            & 20            \\\\\n",
       "\t Sharpeners     & March          &   5            & 10            \\\\\n",
       "\t Papers         & January        & 260            & 30            \\\\\n",
       "\t Acrylic Colors & February       & 250            & 50            \\\\\n",
       "\\end{tabular}\n"
      ],
      "text/markdown": [
       "\n",
       "| productName | soldInMonth | price | quantity |\n",
       "|---|---|---|---|\n",
       "| Oil Pastels    | January        | 150            | 20             |\n",
       "| Brushes        | February       | 100            | 40             |\n",
       "| Erasers        | January        |   5            | 20             |\n",
       "| Sharpeners     | March          |   5            | 10             |\n",
       "| Papers         | January        | 260            | 30             |\n",
       "| Acrylic Colors | February       | 250            | 50             |\n",
       "\n"
      ],
      "text/plain": [
       "  productName    soldInMonth price quantity\n",
       "1 Oil Pastels    January     150   20      \n",
       "2 Brushes        February    100   40      \n",
       "3 Erasers        January       5   20      \n",
       "4 Sharpeners     March         5   10      \n",
       "5 Papers         January     260   30      \n",
       "6 Acrylic Colors February    250   50      "
      ]
     },
     "metadata": {},
     "output_type": "display_data"
    }
   ],
   "source": [
    "soldInMonth = c(\"January\", \"February\", \"January\", \"March\", \"January\", \"February\")\n",
    "productName = c(\"Oil Pastels\", \"Brushes\", \"Erasers\", \"Sharpeners\", \"Papers\", \"Acrylic Colors\")\n",
    "price = c(150, 100, 5, 5, 260, 250)\n",
    "quantity = c(20, 40, 20, 10, 30, 50)\n",
    "\n",
    "df = data.frame(productName, soldInMonth, price, quantity)\n",
    "df"
   ]
  },
  {
   "cell_type": "markdown",
   "id": "04f18f63-2a38-4326-ae67-1582b8a0128d",
   "metadata": {
    "tags": []
   },
   "source": [
    "## Recasting in 2 steps\n",
    "some work  pending at the end.."
   ]
  },
  {
   "cell_type": "markdown",
   "id": "473754da-c794-435a-868f-3013dc01eb2d",
   "metadata": {
    "jp-MarkdownHeadingCollapsed": true,
    "tags": []
   },
   "source": [
    "\n",
    "1. `melt` -  available in `reshape2` library. \n",
    "    - Install as `install.package(\"reshape2\")` next, `library(reshape2)` to load the library..\n",
    "    - __Syntax__: `melt(data, id.vars, measure.vars, variable.name=\"variable\", value.name=\"value\")` \n",
    "    - Except `data` , all the arguments are positional arguments.\n",
    "        - `data`, `id.vars`, are mandatory to be passed, rest are taken as by default as the numerical variables.\n",
    "![Melting](resources/melting.png)\n",
    "2. `dcast`\n",
    "    - __P2N__: Need to classify the variables of the dataframe as before heading to melt the dataframe..\n",
    "    - Identifier variables(Discrete type variables or Categorical variables)\n",
    "    - Measurements (Numerical variables)\n",
    "        - __NOTE__: Categorical and Date variables cannot be the measurements.\n",
    "    - __Syntax__: `dcast(data, formula, value.var=col with values)`\n",
    "![Casting](resources/casting.png)\n",
    "    \n",
    "Now identified these in a dataframe, good to go.."
   ]
  },
  {
   "cell_type": "code",
   "execution_count": 40,
   "id": "e6902fa7-0f42-4ed5-8156-4888842bcaea",
   "metadata": {},
   "outputs": [
    {
     "data": {
      "text/html": [
       "<table>\n",
       "<thead><tr><th scope=col>productName</th><th scope=col>soldInMonth</th><th scope=col>variable</th><th scope=col>value</th></tr></thead>\n",
       "<tbody>\n",
       "\t<tr><td>Oil Pastels   </td><td>January       </td><td>price         </td><td>150           </td></tr>\n",
       "\t<tr><td>Brushes       </td><td>February      </td><td>price         </td><td>100           </td></tr>\n",
       "\t<tr><td>Erasers       </td><td>January       </td><td>price         </td><td>  5           </td></tr>\n",
       "\t<tr><td>Sharpeners    </td><td>March         </td><td>price         </td><td>  5           </td></tr>\n",
       "\t<tr><td>Papers        </td><td>January       </td><td>price         </td><td>260           </td></tr>\n",
       "\t<tr><td>Acrylic Colors</td><td>February      </td><td>price         </td><td>250           </td></tr>\n",
       "\t<tr><td>Oil Pastels   </td><td>January       </td><td>quantity      </td><td> 20           </td></tr>\n",
       "\t<tr><td>Brushes       </td><td>February      </td><td>quantity      </td><td> 40           </td></tr>\n",
       "\t<tr><td>Erasers       </td><td>January       </td><td>quantity      </td><td> 20           </td></tr>\n",
       "\t<tr><td>Sharpeners    </td><td>March         </td><td>quantity      </td><td> 10           </td></tr>\n",
       "\t<tr><td>Papers        </td><td>January       </td><td>quantity      </td><td> 30           </td></tr>\n",
       "\t<tr><td>Acrylic Colors</td><td>February      </td><td>quantity      </td><td> 50           </td></tr>\n",
       "</tbody>\n",
       "</table>\n"
      ],
      "text/latex": [
       "\\begin{tabular}{r|llll}\n",
       " productName & soldInMonth & variable & value\\\\\n",
       "\\hline\n",
       "\t Oil Pastels    & January        & price          & 150           \\\\\n",
       "\t Brushes        & February       & price          & 100           \\\\\n",
       "\t Erasers        & January        & price          &   5           \\\\\n",
       "\t Sharpeners     & March          & price          &   5           \\\\\n",
       "\t Papers         & January        & price          & 260           \\\\\n",
       "\t Acrylic Colors & February       & price          & 250           \\\\\n",
       "\t Oil Pastels    & January        & quantity       &  20           \\\\\n",
       "\t Brushes        & February       & quantity       &  40           \\\\\n",
       "\t Erasers        & January        & quantity       &  20           \\\\\n",
       "\t Sharpeners     & March          & quantity       &  10           \\\\\n",
       "\t Papers         & January        & quantity       &  30           \\\\\n",
       "\t Acrylic Colors & February       & quantity       &  50           \\\\\n",
       "\\end{tabular}\n"
      ],
      "text/markdown": [
       "\n",
       "| productName | soldInMonth | variable | value |\n",
       "|---|---|---|---|\n",
       "| Oil Pastels    | January        | price          | 150            |\n",
       "| Brushes        | February       | price          | 100            |\n",
       "| Erasers        | January        | price          |   5            |\n",
       "| Sharpeners     | March          | price          |   5            |\n",
       "| Papers         | January        | price          | 260            |\n",
       "| Acrylic Colors | February       | price          | 250            |\n",
       "| Oil Pastels    | January        | quantity       |  20            |\n",
       "| Brushes        | February       | quantity       |  40            |\n",
       "| Erasers        | January        | quantity       |  20            |\n",
       "| Sharpeners     | March          | quantity       |  10            |\n",
       "| Papers         | January        | quantity       |  30            |\n",
       "| Acrylic Colors | February       | quantity       |  50            |\n",
       "\n"
      ],
      "text/plain": [
       "   productName    soldInMonth variable value\n",
       "1  Oil Pastels    January     price    150  \n",
       "2  Brushes        February    price    100  \n",
       "3  Erasers        January     price      5  \n",
       "4  Sharpeners     March       price      5  \n",
       "5  Papers         January     price    260  \n",
       "6  Acrylic Colors February    price    250  \n",
       "7  Oil Pastels    January     quantity  20  \n",
       "8  Brushes        February    quantity  40  \n",
       "9  Erasers        January     quantity  20  \n",
       "10 Sharpeners     March       quantity  10  \n",
       "11 Papers         January     quantity  30  \n",
       "12 Acrylic Colors February    quantity  50  "
      ]
     },
     "metadata": {},
     "output_type": "display_data"
    }
   ],
   "source": [
    "library(\"reshape2\")    # Loading the library..\n",
    "# STEP-1: Melt the dataframe..\n",
    "temp = melt(df, id.vars=c(\"productName\", \"soldInMonth\"))#, measure.vars=c(\"price\", \"quantity\"))  # Try out here..\n",
    "temp"
   ]
  },
  {
   "cell_type": "code",
   "execution_count": 41,
   "id": "abe40283-a7b2-40bb-8403-18a01ca403d0",
   "metadata": {},
   "outputs": [
    {
     "data": {
      "text/html": [
       "<table>\n",
       "<thead><tr><th scope=col>variable</th><th scope=col>soldInMonth</th><th scope=col>Acrylic Colors</th><th scope=col>Brushes</th><th scope=col>Erasers</th><th scope=col>Oil Pastels</th><th scope=col>Papers</th><th scope=col>Sharpeners</th></tr></thead>\n",
       "<tbody>\n",
       "\t<tr><td>price   </td><td>February</td><td>250     </td><td>100     </td><td>NA      </td><td> NA     </td><td> NA     </td><td>NA      </td></tr>\n",
       "\t<tr><td>price   </td><td>January </td><td> NA     </td><td> NA     </td><td> 5      </td><td>150     </td><td>260     </td><td>NA      </td></tr>\n",
       "\t<tr><td>price   </td><td>March   </td><td> NA     </td><td> NA     </td><td>NA      </td><td> NA     </td><td> NA     </td><td> 5      </td></tr>\n",
       "\t<tr><td>quantity</td><td>February</td><td> 50     </td><td> 40     </td><td>NA      </td><td> NA     </td><td> NA     </td><td>NA      </td></tr>\n",
       "\t<tr><td>quantity</td><td>January </td><td> NA     </td><td> NA     </td><td>20      </td><td> 20     </td><td> 30     </td><td>NA      </td></tr>\n",
       "\t<tr><td>quantity</td><td>March   </td><td> NA     </td><td> NA     </td><td>NA      </td><td> NA     </td><td> NA     </td><td>10      </td></tr>\n",
       "</tbody>\n",
       "</table>\n"
      ],
      "text/latex": [
       "\\begin{tabular}{r|llllllll}\n",
       " variable & soldInMonth & Acrylic Colors & Brushes & Erasers & Oil Pastels & Papers & Sharpeners\\\\\n",
       "\\hline\n",
       "\t price    & February & 250      & 100      & NA       &  NA      &  NA      & NA      \\\\\n",
       "\t price    & January  &  NA      &  NA      &  5       & 150      & 260      & NA      \\\\\n",
       "\t price    & March    &  NA      &  NA      & NA       &  NA      &  NA      &  5      \\\\\n",
       "\t quantity & February &  50      &  40      & NA       &  NA      &  NA      & NA      \\\\\n",
       "\t quantity & January  &  NA      &  NA      & 20       &  20      &  30      & NA      \\\\\n",
       "\t quantity & March    &  NA      &  NA      & NA       &  NA      &  NA      & 10      \\\\\n",
       "\\end{tabular}\n"
      ],
      "text/markdown": [
       "\n",
       "| variable | soldInMonth | Acrylic Colors | Brushes | Erasers | Oil Pastels | Papers | Sharpeners |\n",
       "|---|---|---|---|---|---|---|---|\n",
       "| price    | February | 250      | 100      | NA       |  NA      |  NA      | NA       |\n",
       "| price    | January  |  NA      |  NA      |  5       | 150      | 260      | NA       |\n",
       "| price    | March    |  NA      |  NA      | NA       |  NA      |  NA      |  5       |\n",
       "| quantity | February |  50      |  40      | NA       |  NA      |  NA      | NA       |\n",
       "| quantity | January  |  NA      |  NA      | 20       |  20      |  30      | NA       |\n",
       "| quantity | March    |  NA      |  NA      | NA       |  NA      |  NA      | 10       |\n",
       "\n"
      ],
      "text/plain": [
       "  variable soldInMonth Acrylic Colors Brushes Erasers Oil Pastels Papers\n",
       "1 price    February    250            100     NA       NA          NA   \n",
       "2 price    January      NA             NA      5      150         260   \n",
       "3 price    March        NA             NA     NA       NA          NA   \n",
       "4 quantity February     50             40     NA       NA          NA   \n",
       "5 quantity January      NA             NA     20       20          30   \n",
       "6 quantity March        NA             NA     NA       NA          NA   \n",
       "  Sharpeners\n",
       "1 NA        \n",
       "2 NA        \n",
       "3  5        \n",
       "4 NA        \n",
       "5 NA        \n",
       "6 10        "
      ]
     },
     "metadata": {},
     "output_type": "display_data"
    }
   ],
   "source": [
    "# STEP-2: Cast the dataframe..\n",
    "temp = dcast(temp,                              # Dataframe\n",
    "             variable+soldInMonth~productName,  # Formula: Columns \"variable\", \"soldInMonth\" to remain as is, categories in `productName`, wil become new variables.\n",
    "             )#value.var=\"value\")                 # Columns of dataframe from which the values are to be taken from.. \n",
    "                                                #    - No of categories in `productName` will become those many variables\n",
    "temp"
   ]
  },
  {
   "cell_type": "code",
   "execution_count": 42,
   "id": "1664cbfe-4ebf-4486-a03a-eee5b5f48c16",
   "metadata": {},
   "outputs": [
    {
     "name": "stderr",
     "output_type": "stream",
     "text": [
      "Using Sharpeners as value column: use value.var to override.\n"
     ]
    },
    {
     "data": {
      "text/html": [
       "<table>\n",
       "<thead><tr><th scope=col>variable</th><th scope=col>soldInMonth</th><th scope=col>Acrylic Colors</th><th scope=col>Brushes</th><th scope=col>Erasers</th><th scope=col>Oil Pastels</th><th scope=col>Papers</th><th scope=col>Sharpeners</th></tr></thead>\n",
       "<tbody>\n",
       "\t<tr><td>price   </td><td>February</td><td>NA      </td><td>NA      </td><td>NA      </td><td>NA      </td><td>NA      </td><td>NA      </td></tr>\n",
       "\t<tr><td>price   </td><td>January </td><td>NA      </td><td>NA      </td><td>NA      </td><td>NA      </td><td>NA      </td><td>NA      </td></tr>\n",
       "\t<tr><td>price   </td><td>March   </td><td>NA      </td><td>NA      </td><td> 5      </td><td>NA      </td><td>NA      </td><td>NA      </td></tr>\n",
       "\t<tr><td>quantity</td><td>February</td><td>NA      </td><td>NA      </td><td>NA      </td><td>NA      </td><td>NA      </td><td>NA      </td></tr>\n",
       "\t<tr><td>quantity</td><td>January </td><td>NA      </td><td>NA      </td><td>NA      </td><td>NA      </td><td>NA      </td><td>NA      </td></tr>\n",
       "\t<tr><td>quantity</td><td>March   </td><td>10      </td><td>NA      </td><td>NA      </td><td>NA      </td><td>NA      </td><td>NA      </td></tr>\n",
       "</tbody>\n",
       "</table>\n"
      ],
      "text/latex": [
       "\\begin{tabular}{r|llllllll}\n",
       " variable & soldInMonth & Acrylic Colors & Brushes & Erasers & Oil Pastels & Papers & Sharpeners\\\\\n",
       "\\hline\n",
       "\t price    & February & NA       & NA       & NA       & NA       & NA       & NA      \\\\\n",
       "\t price    & January  & NA       & NA       & NA       & NA       & NA       & NA      \\\\\n",
       "\t price    & March    & NA       & NA       &  5       & NA       & NA       & NA      \\\\\n",
       "\t quantity & February & NA       & NA       & NA       & NA       & NA       & NA      \\\\\n",
       "\t quantity & January  & NA       & NA       & NA       & NA       & NA       & NA      \\\\\n",
       "\t quantity & March    & 10       & NA       & NA       & NA       & NA       & NA      \\\\\n",
       "\\end{tabular}\n"
      ],
      "text/markdown": [
       "\n",
       "| variable | soldInMonth | Acrylic Colors | Brushes | Erasers | Oil Pastels | Papers | Sharpeners |\n",
       "|---|---|---|---|---|---|---|---|\n",
       "| price    | February | NA       | NA       | NA       | NA       | NA       | NA       |\n",
       "| price    | January  | NA       | NA       | NA       | NA       | NA       | NA       |\n",
       "| price    | March    | NA       | NA       |  5       | NA       | NA       | NA       |\n",
       "| quantity | February | NA       | NA       | NA       | NA       | NA       | NA       |\n",
       "| quantity | January  | NA       | NA       | NA       | NA       | NA       | NA       |\n",
       "| quantity | March    | 10       | NA       | NA       | NA       | NA       | NA       |\n",
       "\n"
      ],
      "text/plain": [
       "  variable soldInMonth Acrylic Colors Brushes Erasers Oil Pastels Papers\n",
       "1 price    February    NA             NA      NA      NA          NA    \n",
       "2 price    January     NA             NA      NA      NA          NA    \n",
       "3 price    March       NA             NA       5      NA          NA    \n",
       "4 quantity February    NA             NA      NA      NA          NA    \n",
       "5 quantity January     NA             NA      NA      NA          NA    \n",
       "6 quantity March       10             NA      NA      NA          NA    \n",
       "  Sharpeners\n",
       "1 NA        \n",
       "2 NA        \n",
       "3 NA        \n",
       "4 NA        \n",
       "5 NA        \n",
       "6 NA        "
      ]
     },
     "metadata": {},
     "output_type": "display_data"
    }
   ],
   "source": [
    "# STEP-2: Cast the dataframe..\n",
    "temp = dcast(temp,                              # Dataframe\n",
    "             variable+soldInMonth~productName,  # Formula: Columns \"variable\", \"soldInMonth\" to remain as is, categories in `productName`, wil become new variables.\n",
    "             value.val=1:2)                 # Columns of dataframe from which the values are to be taken from.. \n",
    "                                                #    - No of categories in `productName` will become those many variables\n",
    "temp"
   ]
  },
  {
   "cell_type": "markdown",
   "id": "4fc55cff-c2a9-4e7d-87c1-8864818c8149",
   "metadata": {},
   "source": [
    "Why getting this way..?? lets checkout with the sir's example.."
   ]
  },
  {
   "cell_type": "code",
   "execution_count": 36,
   "id": "dd1b472a-3237-4019-9a89-e5191fc73792",
   "metadata": {},
   "outputs": [
    {
     "data": {
      "text/html": [
       "<table>\n",
       "<thead><tr><th scope=col>Name</th><th scope=col>Month</th><th scope=col>BloodSugar</th><th scope=col>BloodPressure</th></tr></thead>\n",
       "<tbody>\n",
       "\t<tr><td>Senthil</td><td>Jan    </td><td>141.2  </td><td>90     </td></tr>\n",
       "\t<tr><td>Senthil</td><td>Fev    </td><td>139.3  </td><td>78     </td></tr>\n",
       "\t<tr><td>Sam    </td><td>Jan    </td><td>135.2  </td><td>80     </td></tr>\n",
       "\t<tr><td>Sam    </td><td>Feb    </td><td>160.1  </td><td>81     </td></tr>\n",
       "</tbody>\n",
       "</table>\n"
      ],
      "text/latex": [
       "\\begin{tabular}{r|llll}\n",
       " Name & Month & BloodSugar & BloodPressure\\\\\n",
       "\\hline\n",
       "\t Senthil & Jan     & 141.2   & 90     \\\\\n",
       "\t Senthil & Fev     & 139.3   & 78     \\\\\n",
       "\t Sam     & Jan     & 135.2   & 80     \\\\\n",
       "\t Sam     & Feb     & 160.1   & 81     \\\\\n",
       "\\end{tabular}\n"
      ],
      "text/markdown": [
       "\n",
       "| Name | Month | BloodSugar | BloodPressure |\n",
       "|---|---|---|---|\n",
       "| Senthil | Jan     | 141.2   | 90      |\n",
       "| Senthil | Fev     | 139.3   | 78      |\n",
       "| Sam     | Jan     | 135.2   | 80      |\n",
       "| Sam     | Feb     | 160.1   | 81      |\n",
       "\n"
      ],
      "text/plain": [
       "  Name    Month BloodSugar BloodPressure\n",
       "1 Senthil Jan   141.2      90           \n",
       "2 Senthil Fev   139.3      78           \n",
       "3 Sam     Jan   135.2      80           \n",
       "4 Sam     Feb   160.1      81           "
      ]
     },
     "metadata": {},
     "output_type": "display_data"
    }
   ],
   "source": [
    "Name = c(\"Senthil\", \"Senthil\", \"Sam\", \"Sam\")\n",
    "Month = c(\"Jan\", \"Fev\", \"Jan\", \"Feb\")\n",
    "BloodSugar = c(141.2, 139.3, 135.2, 160.1)\n",
    "BloodPressure = c(90, 78, 80, 81)\n",
    "pd = data.frame(Name, Month, BloodSugar, BloodPressure)\n",
    "pd"
   ]
  },
  {
   "cell_type": "code",
   "execution_count": 38,
   "id": "5366f666-c6d4-4506-be8f-cb9c1f28ed36",
   "metadata": {},
   "outputs": [
    {
     "data": {
      "text/html": [
       "<table>\n",
       "<thead><tr><th scope=col>Name</th><th scope=col>Month</th><th scope=col>variable</th><th scope=col>value</th></tr></thead>\n",
       "<tbody>\n",
       "\t<tr><td>Senthil      </td><td>Jan          </td><td>BloodSugar   </td><td>141.2        </td></tr>\n",
       "\t<tr><td>Senthil      </td><td>Fev          </td><td>BloodSugar   </td><td>139.3        </td></tr>\n",
       "\t<tr><td>Sam          </td><td>Jan          </td><td>BloodSugar   </td><td>135.2        </td></tr>\n",
       "\t<tr><td>Sam          </td><td>Feb          </td><td>BloodSugar   </td><td>160.1        </td></tr>\n",
       "\t<tr><td>Senthil      </td><td>Jan          </td><td>BloodPressure</td><td> 90.0        </td></tr>\n",
       "\t<tr><td>Senthil      </td><td>Fev          </td><td>BloodPressure</td><td> 78.0        </td></tr>\n",
       "\t<tr><td>Sam          </td><td>Jan          </td><td>BloodPressure</td><td> 80.0        </td></tr>\n",
       "\t<tr><td>Sam          </td><td>Feb          </td><td>BloodPressure</td><td> 81.0        </td></tr>\n",
       "</tbody>\n",
       "</table>\n"
      ],
      "text/latex": [
       "\\begin{tabular}{r|llll}\n",
       " Name & Month & variable & value\\\\\n",
       "\\hline\n",
       "\t Senthil       & Jan           & BloodSugar    & 141.2        \\\\\n",
       "\t Senthil       & Fev           & BloodSugar    & 139.3        \\\\\n",
       "\t Sam           & Jan           & BloodSugar    & 135.2        \\\\\n",
       "\t Sam           & Feb           & BloodSugar    & 160.1        \\\\\n",
       "\t Senthil       & Jan           & BloodPressure &  90.0        \\\\\n",
       "\t Senthil       & Fev           & BloodPressure &  78.0        \\\\\n",
       "\t Sam           & Jan           & BloodPressure &  80.0        \\\\\n",
       "\t Sam           & Feb           & BloodPressure &  81.0        \\\\\n",
       "\\end{tabular}\n"
      ],
      "text/markdown": [
       "\n",
       "| Name | Month | variable | value |\n",
       "|---|---|---|---|\n",
       "| Senthil       | Jan           | BloodSugar    | 141.2         |\n",
       "| Senthil       | Fev           | BloodSugar    | 139.3         |\n",
       "| Sam           | Jan           | BloodSugar    | 135.2         |\n",
       "| Sam           | Feb           | BloodSugar    | 160.1         |\n",
       "| Senthil       | Jan           | BloodPressure |  90.0         |\n",
       "| Senthil       | Fev           | BloodPressure |  78.0         |\n",
       "| Sam           | Jan           | BloodPressure |  80.0         |\n",
       "| Sam           | Feb           | BloodPressure |  81.0         |\n",
       "\n"
      ],
      "text/plain": [
       "  Name    Month variable      value\n",
       "1 Senthil Jan   BloodSugar    141.2\n",
       "2 Senthil Fev   BloodSugar    139.3\n",
       "3 Sam     Jan   BloodSugar    135.2\n",
       "4 Sam     Feb   BloodSugar    160.1\n",
       "5 Senthil Jan   BloodPressure  90.0\n",
       "6 Senthil Fev   BloodPressure  78.0\n",
       "7 Sam     Jan   BloodPressure  80.0\n",
       "8 Sam     Feb   BloodPressure  81.0"
      ]
     },
     "metadata": {},
     "output_type": "display_data"
    },
    {
     "data": {
      "text/html": [
       "<table>\n",
       "<thead><tr><th scope=col>variable</th><th scope=col>Month</th><th scope=col>Sam</th><th scope=col>Senthil</th></tr></thead>\n",
       "<tbody>\n",
       "\t<tr><td>BloodSugar   </td><td>Feb          </td><td>160.1        </td><td>   NA        </td></tr>\n",
       "\t<tr><td>BloodSugar   </td><td>Fev          </td><td>   NA        </td><td>139.3        </td></tr>\n",
       "\t<tr><td>BloodSugar   </td><td>Jan          </td><td>135.2        </td><td>141.2        </td></tr>\n",
       "\t<tr><td>BloodPressure</td><td>Feb          </td><td> 81.0        </td><td>   NA        </td></tr>\n",
       "\t<tr><td>BloodPressure</td><td>Fev          </td><td>   NA        </td><td> 78.0        </td></tr>\n",
       "\t<tr><td>BloodPressure</td><td>Jan          </td><td> 80.0        </td><td> 90.0        </td></tr>\n",
       "</tbody>\n",
       "</table>\n"
      ],
      "text/latex": [
       "\\begin{tabular}{r|llll}\n",
       " variable & Month & Sam & Senthil\\\\\n",
       "\\hline\n",
       "\t BloodSugar    & Feb           & 160.1         &    NA        \\\\\n",
       "\t BloodSugar    & Fev           &    NA         & 139.3        \\\\\n",
       "\t BloodSugar    & Jan           & 135.2         & 141.2        \\\\\n",
       "\t BloodPressure & Feb           &  81.0         &    NA        \\\\\n",
       "\t BloodPressure & Fev           &    NA         &  78.0        \\\\\n",
       "\t BloodPressure & Jan           &  80.0         &  90.0        \\\\\n",
       "\\end{tabular}\n"
      ],
      "text/markdown": [
       "\n",
       "| variable | Month | Sam | Senthil |\n",
       "|---|---|---|---|\n",
       "| BloodSugar    | Feb           | 160.1         |    NA         |\n",
       "| BloodSugar    | Fev           |    NA         | 139.3         |\n",
       "| BloodSugar    | Jan           | 135.2         | 141.2         |\n",
       "| BloodPressure | Feb           |  81.0         |    NA         |\n",
       "| BloodPressure | Fev           |    NA         |  78.0         |\n",
       "| BloodPressure | Jan           |  80.0         |  90.0         |\n",
       "\n"
      ],
      "text/plain": [
       "  variable      Month Sam   Senthil\n",
       "1 BloodSugar    Feb   160.1    NA  \n",
       "2 BloodSugar    Fev      NA 139.3  \n",
       "3 BloodSugar    Jan   135.2 141.2  \n",
       "4 BloodPressure Feb    81.0    NA  \n",
       "5 BloodPressure Fev      NA  78.0  \n",
       "6 BloodPressure Jan    80.0  90.0  "
      ]
     },
     "metadata": {},
     "output_type": "display_data"
    }
   ],
   "source": [
    "df_melt = melt(pd, id.vars=c(\"Name\", \"Month\"))\n",
    "df_melt\n",
    "dcast(df_melt, variable+Month~Name, value.var=\"value\")"
   ]
  },
  {
   "cell_type": "markdown",
   "id": "d5e2269f-6960-4262-8402-e40f2f26cb98",
   "metadata": {},
   "source": [
    "But for sir, its getting as...\n",
    "```\n",
    "BloodSugar \tFeb \t160.1 \t139.3\n",
    "BloodSugar \tJan \t135.2 \t141.2\n",
    "BloodPressure\tFeb \t81.0 \t78.0\n",
    "BloodPressure\tJan \t80.0 \t90.0\n",
    "```\n",
    "Need some workout.. please go for that in revision session.."
   ]
  },
  {
   "cell_type": "markdown",
   "id": "8a468506-48e6-4256-a522-9588c61fcc1e",
   "metadata": {
    "tags": []
   },
   "source": [
    "## Recasting in single step"
   ]
  },
  {
   "cell_type": "markdown",
   "id": "8e7ff98e-0895-46cd-a60e-a2b9cee5a2eb",
   "metadata": {},
   "source": [
    "- Applying the `recast()` function performs `melt` and `cast` in single step..\n",
    "- __Syntax__: `recast(data, formula, ..., id.var, measure.var)`\n",
    "![Recasting](resources/recasting.png)"
   ]
  },
  {
   "cell_type": "code",
   "execution_count": 49,
   "id": "d13cb5fe-3f27-4fd5-a864-33d3e66c52e2",
   "metadata": {},
   "outputs": [
    {
     "data": {
      "text/html": [
       "<table>\n",
       "<thead><tr><th scope=col>variable</th><th scope=col>soldInMonth</th><th scope=col>Acrylic Colors</th><th scope=col>Brushes</th><th scope=col>Erasers</th><th scope=col>Oil Pastels</th><th scope=col>Papers</th><th scope=col>Sharpeners</th></tr></thead>\n",
       "<tbody>\n",
       "\t<tr><td>price   </td><td>February</td><td>250     </td><td>100     </td><td>NA      </td><td> NA     </td><td> NA     </td><td>NA      </td></tr>\n",
       "\t<tr><td>price   </td><td>January </td><td> NA     </td><td> NA     </td><td> 5      </td><td>150     </td><td>260     </td><td>NA      </td></tr>\n",
       "\t<tr><td>price   </td><td>March   </td><td> NA     </td><td> NA     </td><td>NA      </td><td> NA     </td><td> NA     </td><td> 5      </td></tr>\n",
       "\t<tr><td>quantity</td><td>February</td><td> 50     </td><td> 40     </td><td>NA      </td><td> NA     </td><td> NA     </td><td>NA      </td></tr>\n",
       "\t<tr><td>quantity</td><td>January </td><td> NA     </td><td> NA     </td><td>20      </td><td> 20     </td><td> 30     </td><td>NA      </td></tr>\n",
       "\t<tr><td>quantity</td><td>March   </td><td> NA     </td><td> NA     </td><td>NA      </td><td> NA     </td><td> NA     </td><td>10      </td></tr>\n",
       "</tbody>\n",
       "</table>\n"
      ],
      "text/latex": [
       "\\begin{tabular}{r|llllllll}\n",
       " variable & soldInMonth & Acrylic Colors & Brushes & Erasers & Oil Pastels & Papers & Sharpeners\\\\\n",
       "\\hline\n",
       "\t price    & February & 250      & 100      & NA       &  NA      &  NA      & NA      \\\\\n",
       "\t price    & January  &  NA      &  NA      &  5       & 150      & 260      & NA      \\\\\n",
       "\t price    & March    &  NA      &  NA      & NA       &  NA      &  NA      &  5      \\\\\n",
       "\t quantity & February &  50      &  40      & NA       &  NA      &  NA      & NA      \\\\\n",
       "\t quantity & January  &  NA      &  NA      & 20       &  20      &  30      & NA      \\\\\n",
       "\t quantity & March    &  NA      &  NA      & NA       &  NA      &  NA      & 10      \\\\\n",
       "\\end{tabular}\n"
      ],
      "text/markdown": [
       "\n",
       "| variable | soldInMonth | Acrylic Colors | Brushes | Erasers | Oil Pastels | Papers | Sharpeners |\n",
       "|---|---|---|---|---|---|---|---|\n",
       "| price    | February | 250      | 100      | NA       |  NA      |  NA      | NA       |\n",
       "| price    | January  |  NA      |  NA      |  5       | 150      | 260      | NA       |\n",
       "| price    | March    |  NA      |  NA      | NA       |  NA      |  NA      |  5       |\n",
       "| quantity | February |  50      |  40      | NA       |  NA      |  NA      | NA       |\n",
       "| quantity | January  |  NA      |  NA      | 20       |  20      |  30      | NA       |\n",
       "| quantity | March    |  NA      |  NA      | NA       |  NA      |  NA      | 10       |\n",
       "\n"
      ],
      "text/plain": [
       "  variable soldInMonth Acrylic Colors Brushes Erasers Oil Pastels Papers\n",
       "1 price    February    250            100     NA       NA          NA   \n",
       "2 price    January      NA             NA      5      150         260   \n",
       "3 price    March        NA             NA     NA       NA          NA   \n",
       "4 quantity February     50             40     NA       NA          NA   \n",
       "5 quantity January      NA             NA     20       20          30   \n",
       "6 quantity March        NA             NA     NA       NA          NA   \n",
       "  Sharpeners\n",
       "1 NA        \n",
       "2 NA        \n",
       "3  5        \n",
       "4 NA        \n",
       "5 NA        \n",
       "6 10        "
      ]
     },
     "metadata": {},
     "output_type": "display_data"
    }
   ],
   "source": [
    "recast(df, variable+soldInMonth~productName, id.var=c(\"productName\", \"soldInMonth\"))"
   ]
  },
  {
   "cell_type": "markdown",
   "id": "67bdd980-00eb-4757-9cb0-a0ffd44177af",
   "metadata": {},
   "source": [
    "let's checkout with the sir's..."
   ]
  },
  {
   "cell_type": "code",
   "execution_count": 50,
   "id": "275109c4-3bd8-4356-abc1-88bf17bed8b0",
   "metadata": {},
   "outputs": [
    {
     "data": {
      "text/html": [
       "<table>\n",
       "<thead><tr><th scope=col>variable</th><th scope=col>Month</th><th scope=col>Sam</th><th scope=col>Senthil</th></tr></thead>\n",
       "<tbody>\n",
       "\t<tr><td>BloodSugar   </td><td>Feb          </td><td>160.1        </td><td>   NA        </td></tr>\n",
       "\t<tr><td>BloodSugar   </td><td>Fev          </td><td>   NA        </td><td>139.3        </td></tr>\n",
       "\t<tr><td>BloodSugar   </td><td>Jan          </td><td>135.2        </td><td>141.2        </td></tr>\n",
       "\t<tr><td>BloodPressure</td><td>Feb          </td><td> 81.0        </td><td>   NA        </td></tr>\n",
       "\t<tr><td>BloodPressure</td><td>Fev          </td><td>   NA        </td><td> 78.0        </td></tr>\n",
       "\t<tr><td>BloodPressure</td><td>Jan          </td><td> 80.0        </td><td> 90.0        </td></tr>\n",
       "</tbody>\n",
       "</table>\n"
      ],
      "text/latex": [
       "\\begin{tabular}{r|llll}\n",
       " variable & Month & Sam & Senthil\\\\\n",
       "\\hline\n",
       "\t BloodSugar    & Feb           & 160.1         &    NA        \\\\\n",
       "\t BloodSugar    & Fev           &    NA         & 139.3        \\\\\n",
       "\t BloodSugar    & Jan           & 135.2         & 141.2        \\\\\n",
       "\t BloodPressure & Feb           &  81.0         &    NA        \\\\\n",
       "\t BloodPressure & Fev           &    NA         &  78.0        \\\\\n",
       "\t BloodPressure & Jan           &  80.0         &  90.0        \\\\\n",
       "\\end{tabular}\n"
      ],
      "text/markdown": [
       "\n",
       "| variable | Month | Sam | Senthil |\n",
       "|---|---|---|---|\n",
       "| BloodSugar    | Feb           | 160.1         |    NA         |\n",
       "| BloodSugar    | Fev           |    NA         | 139.3         |\n",
       "| BloodSugar    | Jan           | 135.2         | 141.2         |\n",
       "| BloodPressure | Feb           |  81.0         |    NA         |\n",
       "| BloodPressure | Fev           |    NA         |  78.0         |\n",
       "| BloodPressure | Jan           |  80.0         |  90.0         |\n",
       "\n"
      ],
      "text/plain": [
       "  variable      Month Sam   Senthil\n",
       "1 BloodSugar    Feb   160.1    NA  \n",
       "2 BloodSugar    Fev      NA 139.3  \n",
       "3 BloodSugar    Jan   135.2 141.2  \n",
       "4 BloodPressure Feb    81.0    NA  \n",
       "5 BloodPressure Fev      NA  78.0  \n",
       "6 BloodPressure Jan    80.0  90.0  "
      ]
     },
     "metadata": {},
     "output_type": "display_data"
    }
   ],
   "source": [
    "recast(pd, \n",
    "       variable+Month~Name,        # This parameter refers to the \"cast\" section of command\n",
    "       id.var=c(\"Name\", \"Month\"))  #                              \"melt\"                   , \n",
    "                                   #   as measurement varaibles are taken excluding the categorical, didn' passed. "
   ]
  },
  {
   "cell_type": "markdown",
   "id": "57df90cd-363b-451a-b75a-c999f368c9f7",
   "metadata": {},
   "source": [
    "Still, the output is different..\n",
    "as like in the _Recasting in 2 steps_"
   ]
  },
  {
   "cell_type": "markdown",
   "id": "2a64b7dc-5e61-4e85-9433-d0a1457e0eb4",
   "metadata": {},
   "source": [
    " ## Adding new variable to dataframe based on existing ones \n",
    "via `mutate()`"
   ]
  },
  {
   "cell_type": "markdown",
   "id": "1f672b50-0fb7-4745-950b-9b69549c43bf",
   "metadata": {},
   "source": [
    "- Need `dplyr` library. Load as `library(dplyr)`\n"
   ]
  },
  {
   "cell_type": "code",
   "execution_count": 54,
   "id": "352ee269-5f19-413b-b8b2-7657f2c6d531",
   "metadata": {},
   "outputs": [
    {
     "data": {
      "text/html": [
       "<table>\n",
       "<thead><tr><th scope=col>Name</th><th scope=col>Month</th><th scope=col>BloodSugar</th><th scope=col>BloodPressure</th><th scope=col>log_BP</th></tr></thead>\n",
       "<tbody>\n",
       "\t<tr><td>Senthil </td><td>Jan     </td><td>141.2   </td><td>90      </td><td>4.499810</td></tr>\n",
       "\t<tr><td>Senthil </td><td>Fev     </td><td>139.3   </td><td>78      </td><td>4.356709</td></tr>\n",
       "\t<tr><td>Sam     </td><td>Jan     </td><td>135.2   </td><td>80      </td><td>4.382027</td></tr>\n",
       "\t<tr><td>Sam     </td><td>Feb     </td><td>160.1   </td><td>81      </td><td>4.394449</td></tr>\n",
       "</tbody>\n",
       "</table>\n"
      ],
      "text/latex": [
       "\\begin{tabular}{r|lllll}\n",
       " Name & Month & BloodSugar & BloodPressure & log\\_BP\\\\\n",
       "\\hline\n",
       "\t Senthil  & Jan      & 141.2    & 90       & 4.499810\\\\\n",
       "\t Senthil  & Fev      & 139.3    & 78       & 4.356709\\\\\n",
       "\t Sam      & Jan      & 135.2    & 80       & 4.382027\\\\\n",
       "\t Sam      & Feb      & 160.1    & 81       & 4.394449\\\\\n",
       "\\end{tabular}\n"
      ],
      "text/markdown": [
       "\n",
       "| Name | Month | BloodSugar | BloodPressure | log_BP |\n",
       "|---|---|---|---|---|\n",
       "| Senthil  | Jan      | 141.2    | 90       | 4.499810 |\n",
       "| Senthil  | Fev      | 139.3    | 78       | 4.356709 |\n",
       "| Sam      | Jan      | 135.2    | 80       | 4.382027 |\n",
       "| Sam      | Feb      | 160.1    | 81       | 4.394449 |\n",
       "\n"
      ],
      "text/plain": [
       "  Name    Month BloodSugar BloodPressure log_BP  \n",
       "1 Senthil Jan   141.2      90            4.499810\n",
       "2 Senthil Fev   139.3      78            4.356709\n",
       "3 Sam     Jan   135.2      80            4.382027\n",
       "4 Sam     Feb   160.1      81            4.394449"
      ]
     },
     "metadata": {},
     "output_type": "display_data"
    }
   ],
   "source": [
    "library(dplyr)\n",
    "mutate(pd, \n",
    "       log_BP=log(BloodPressure))  # A new variable `log_BP` will be created, and it gets filled with some transformation of other variable.\n",
    "                                   #    here using \"Logarthmic\".."
   ]
  },
  {
   "cell_type": "markdown",
   "id": "9f0869be-8e16-4bd9-a8af-8aa9e7704968",
   "metadata": {
    "jp-MarkdownHeadingCollapsed": true,
    "tags": []
   },
   "source": [
    "## Joining DataFrames"
   ]
  },
  {
   "cell_type": "markdown",
   "id": "6cbc9f0f-a328-4349-9440-90571766939b",
   "metadata": {},
   "source": [
    "__Why??__\n",
    "- We often get data in chunks from different sources. Now when we need to merge these data having some common ids.. -- How do we do this?\n",
    "- Need `dplyr` package.\n",
    "- Common syntax: `function(dataframe1, dataframe2, by=id.variable`)\n",
    "    - Based on the nature of combination, changes`function`, like `inner_join`, `left_join`...\n",
    "    - `dataframe1` and `dataframe2` are the two dataframes to be joined.\n",
    "    - `by=id.variable` - provides the identifiers common in both for combining.\n",
    "\n",
    "A Sample Illustration\n",
    "\n",
    "![A sample Illustration](resources/joining_dataframes_illustration.png)"
   ]
  },
  {
   "cell_type": "markdown",
   "id": "3454a3e3-4da3-401f-8539-787da3fde4bd",
   "metadata": {
    "tags": []
   },
   "source": [
    "<h3>Join types</h3>\n",
    "\n",
    "<p>Currently dplyr supports four types of mutating joins, two types of filtering joins, and\n",
    "a nesting join.\n",
    "</p>\n",
    "<p><strong>Mutating joins</strong> combine variables from the two data.frames:\n",
    "</p>\n",
    "\n",
    "<dl>\n",
    "<dt><code>inner_join()</code></dt><dd><p>return all rows from <code>x</code> where there are matching\n",
    "values in <code>y</code>, and all columns from <code>x</code> and <code>y</code>. If there are multiple matches\n",
    "between <code>x</code> and <code>y</code>, all combination of the matches are returned.</p>\n",
    "</dd>\n",
    "<dt><code>left_join()</code></dt><dd><p>return all rows from <code>x</code>, and all columns from <code>x</code>\n",
    "and <code>y</code>. Rows in <code>x</code> with no match in <code>y</code> will have <code>NA</code> values in the new\n",
    "columns. If there are multiple matches between <code>x</code> and <code>y</code>, all combinations\n",
    "of the matches are returned.</p>\n",
    "</dd>\n",
    "<dt><code>right_join()</code></dt><dd><p>return all rows from <code>y</code>, and all columns from <code>x</code>\n",
    "and y. Rows in <code>y</code> with no match in <code>x</code> will have <code>NA</code> values in the new\n",
    "columns. If there are multiple matches between <code>x</code> and <code>y</code>, all combinations\n",
    "of the matches are returned.</p>\n",
    "</dd>\n",
    "<dt><code>full_join()</code></dt><dd><p>return all rows and all columns from both <code>x</code> and <code>y</code>.\n",
    "Where there are not matching values, returns <code>NA</code> for the one missing.</p>\n",
    "</dd>\n",
    "</dl>\n",
    "\n",
    "<p><strong>Filtering joins</strong> keep cases from the left-hand data.frame:\n",
    "</p>\n",
    "\n",
    "<dl>\n",
    "<dt><code>semi_join()</code></dt><dd><p>return all rows from <code>x</code> where there are matching\n",
    "values in <code>y</code>, keeping just columns from <code>x</code>.\n",
    "</p>\n",
    "<p>A semi join differs from an inner join because an inner join will return\n",
    "one row of <code>x</code> for each matching row  of <code>y</code>, where a semi\n",
    "join will never duplicate rows of <code>x</code>.</p>\n",
    "</dd>\n",
    "<dt><code>anti_join()</code></dt><dd><p>return all rows from <code>x</code> where there are not\n",
    "matching values in <code>y</code>, keeping just columns from <code>x</code>.</p>\n",
    "</dd>\n",
    "</dl>\n",
    "\n",
    "<p><strong>Nesting joins</strong> create a list column of data.frames:\n",
    "</p>\n",
    "\n",
    "<dl>\n",
    "<dt><code>nest_join()</code></dt><dd><p>return all rows and all columns from <code>x</code>. Adds a\n",
    "list column of tibbles. Each tibble contains all the rows from <code>y</code>\n",
    "that match that row of <code>x</code>. When there is no match, the list column is\n",
    "a 0-row tibble with the same column names and types as <code>y</code>.\n",
    "</p>\n",
    "<p><code>nest_join()</code> is the most fundamental join since you can recreate the other joins from it.\n",
    "An <code>inner_join()</code> is a <code>nest_join()</code> plus an <code>tidyr::unnest()</code>, and <code>left_join()</code> is a\n",
    "<code>nest_join()</code> plus an <code>unnest(.drop = FALSE)</code>.\n",
    "A <code>semi_join()</code> is a <code>nest_join()</code> plus a <code>filter()</code> where you check that every element of data has\n",
    "at least one row, and an <code>anti_join()</code> is a <code>nest_join()</code> plus a <code>filter()</code> where you check every element has zero rows.\n",
    "</p>\n",
    "</dd>\n",
    "</dl>"
   ]
  },
  {
   "cell_type": "code",
   "execution_count": 60,
   "id": "61df774f-8f69-4049-97df-5b2a4c2377f9",
   "metadata": {},
   "outputs": [
    {
     "data": {
      "text/html": [
       "<table>\n",
       "<thead><tr><th scope=col>Name</th><th scope=col>Month</th><th scope=col>BloodSugar</th><th scope=col>BloodPressure</th></tr></thead>\n",
       "<tbody>\n",
       "\t<tr><td>Senthil</td><td>Jan    </td><td>141.2  </td><td>90     </td></tr>\n",
       "\t<tr><td>Senthil</td><td>Fev    </td><td>139.3  </td><td>78     </td></tr>\n",
       "\t<tr><td>Sam    </td><td>Jan    </td><td>135.2  </td><td>80     </td></tr>\n",
       "\t<tr><td>Sam    </td><td>Feb    </td><td>160.1  </td><td>81     </td></tr>\n",
       "</tbody>\n",
       "</table>\n"
      ],
      "text/latex": [
       "\\begin{tabular}{r|llll}\n",
       " Name & Month & BloodSugar & BloodPressure\\\\\n",
       "\\hline\n",
       "\t Senthil & Jan     & 141.2   & 90     \\\\\n",
       "\t Senthil & Fev     & 139.3   & 78     \\\\\n",
       "\t Sam     & Jan     & 135.2   & 80     \\\\\n",
       "\t Sam     & Feb     & 160.1   & 81     \\\\\n",
       "\\end{tabular}\n"
      ],
      "text/markdown": [
       "\n",
       "| Name | Month | BloodSugar | BloodPressure |\n",
       "|---|---|---|---|\n",
       "| Senthil | Jan     | 141.2   | 90      |\n",
       "| Senthil | Fev     | 139.3   | 78      |\n",
       "| Sam     | Jan     | 135.2   | 80      |\n",
       "| Sam     | Feb     | 160.1   | 81      |\n",
       "\n"
      ],
      "text/plain": [
       "  Name    Month BloodSugar BloodPressure\n",
       "1 Senthil Jan   141.2      90           \n",
       "2 Senthil Fev   139.3      78           \n",
       "3 Sam     Jan   135.2      80           \n",
       "4 Sam     Feb   160.1      81           "
      ]
     },
     "metadata": {},
     "output_type": "display_data"
    }
   ],
   "source": [
    "# Dataframe1\n",
    "dataframe1 = pd\n",
    "dataframe1"
   ]
  },
  {
   "cell_type": "code",
   "execution_count": 58,
   "id": "1e77b0d6-fe52-403d-b526-ed38ac48b055",
   "metadata": {},
   "outputs": [
    {
     "data": {
      "text/html": [
       "<table>\n",
       "<thead><tr><th scope=col>Name</th><th scope=col>Department</th></tr></thead>\n",
       "<tbody>\n",
       "\t<tr><td>Senthil       </td><td>PSE           </td></tr>\n",
       "\t<tr><td>Ramesh        </td><td>Data Analytics</td></tr>\n",
       "\t<tr><td>Sam           </td><td>PSE           </td></tr>\n",
       "</tbody>\n",
       "</table>\n"
      ],
      "text/latex": [
       "\\begin{tabular}{r|ll}\n",
       " Name & Department\\\\\n",
       "\\hline\n",
       "\t Senthil        & PSE           \\\\\n",
       "\t Ramesh         & Data Analytics\\\\\n",
       "\t Sam            & PSE           \\\\\n",
       "\\end{tabular}\n"
      ],
      "text/markdown": [
       "\n",
       "| Name | Department |\n",
       "|---|---|\n",
       "| Senthil        | PSE            |\n",
       "| Ramesh         | Data Analytics |\n",
       "| Sam            | PSE            |\n",
       "\n"
      ],
      "text/plain": [
       "  Name    Department    \n",
       "1 Senthil PSE           \n",
       "2 Ramesh  Data Analytics\n",
       "3 Sam     PSE           "
      ]
     },
     "metadata": {},
     "output_type": "display_data"
    }
   ],
   "source": [
    "#Dataframe2\n",
    "Name=c(\"Senthil\", \"Ramesh\", \"Sam\")\n",
    "Department=c(\"PSE\", \"Data Analytics\", \"PSE\")\n",
    "dataframe2 = data.frame(Name, Department)\n",
    "dataframe2"
   ]
  },
  {
   "cell_type": "code",
   "execution_count": 57,
   "id": "f9c90f2b-12ce-4d75-981e-54aa509d236c",
   "metadata": {},
   "outputs": [],
   "source": [
    "library(dplyr)"
   ]
  },
  {
   "cell_type": "markdown",
   "id": "c0e2b685-e49d-49ce-bc86-f7022e12d281",
   "metadata": {
    "jp-MarkdownHeadingCollapsed": true,
    "tags": []
   },
   "source": [
    "### LeftJoin"
   ]
  },
  {
   "cell_type": "markdown",
   "id": "84fd0486-9ad4-4cb1-8972-377f76ce9f48",
   "metadata": {},
   "source": [
    "* Takes the __Left dataframe__ (`dataframe1`) as the reference and compares with another one, based on the ` by=<id-variable>`\n",
    "![LeftJoin](resources/LeftJoin.png)\n",
    "\n",
    "Technically..\n",
    "> return all rows from `x`, and all columns from `x` and `y`. Rows in `x` with no match in `y` will have `NA` values in the new columns. If there are multiple matches between `x` and `y`, all combinations of the matches are returned."
   ]
  },
  {
   "cell_type": "code",
   "execution_count": 64,
   "id": "15fdb504-7dfe-44b7-a880-d102fb60389e",
   "metadata": {},
   "outputs": [
    {
     "name": "stderr",
     "output_type": "stream",
     "text": [
      "Warning message:\n",
      "“Column `Name` joining factors with different levels, coercing to character vector”"
     ]
    },
    {
     "data": {
      "text/html": [
       "<table>\n",
       "<thead><tr><th scope=col>Name</th><th scope=col>Month</th><th scope=col>BloodSugar</th><th scope=col>BloodPressure</th><th scope=col>Department</th></tr></thead>\n",
       "<tbody>\n",
       "\t<tr><td>Senthil</td><td>Jan    </td><td>141.2  </td><td>90     </td><td>PSE    </td></tr>\n",
       "\t<tr><td>Senthil</td><td>Fev    </td><td>139.3  </td><td>78     </td><td>PSE    </td></tr>\n",
       "\t<tr><td>Sam    </td><td>Jan    </td><td>135.2  </td><td>80     </td><td>PSE    </td></tr>\n",
       "\t<tr><td>Sam    </td><td>Feb    </td><td>160.1  </td><td>81     </td><td>PSE    </td></tr>\n",
       "</tbody>\n",
       "</table>\n"
      ],
      "text/latex": [
       "\\begin{tabular}{r|lllll}\n",
       " Name & Month & BloodSugar & BloodPressure & Department\\\\\n",
       "\\hline\n",
       "\t Senthil & Jan     & 141.2   & 90      & PSE    \\\\\n",
       "\t Senthil & Fev     & 139.3   & 78      & PSE    \\\\\n",
       "\t Sam     & Jan     & 135.2   & 80      & PSE    \\\\\n",
       "\t Sam     & Feb     & 160.1   & 81      & PSE    \\\\\n",
       "\\end{tabular}\n"
      ],
      "text/markdown": [
       "\n",
       "| Name | Month | BloodSugar | BloodPressure | Department |\n",
       "|---|---|---|---|---|\n",
       "| Senthil | Jan     | 141.2   | 90      | PSE     |\n",
       "| Senthil | Fev     | 139.3   | 78      | PSE     |\n",
       "| Sam     | Jan     | 135.2   | 80      | PSE     |\n",
       "| Sam     | Feb     | 160.1   | 81      | PSE     |\n",
       "\n"
      ],
      "text/plain": [
       "  Name    Month BloodSugar BloodPressure Department\n",
       "1 Senthil Jan   141.2      90            PSE       \n",
       "2 Senthil Fev   139.3      78            PSE       \n",
       "3 Sam     Jan   135.2      80            PSE       \n",
       "4 Sam     Feb   160.1      81            PSE       "
      ]
     },
     "metadata": {},
     "output_type": "display_data"
    }
   ],
   "source": [
    "left_join(dataframe1,dataframe2, by=\"Name\")"
   ]
  },
  {
   "cell_type": "code",
   "execution_count": 62,
   "id": "44a47d04-fe34-414d-980c-b905124e685b",
   "metadata": {},
   "outputs": [
    {
     "data": {
      "text/html": [
       "<table>\n",
       "<thead><tr><th scope=col>Name</th><th scope=col>Month</th><th scope=col>BloodSugar</th><th scope=col>BloodPressure</th></tr></thead>\n",
       "<tbody>\n",
       "\t<tr><td>Senthil</td><td>Jan    </td><td>141.2  </td><td>90     </td></tr>\n",
       "\t<tr><td>Senthil</td><td>Fev    </td><td>139.3  </td><td>78     </td></tr>\n",
       "\t<tr><td>Sam    </td><td>Jan    </td><td>135.2  </td><td>80     </td></tr>\n",
       "\t<tr><td>Sam    </td><td>Feb    </td><td>160.1  </td><td>81     </td></tr>\n",
       "</tbody>\n",
       "</table>\n"
      ],
      "text/latex": [
       "\\begin{tabular}{r|llll}\n",
       " Name & Month & BloodSugar & BloodPressure\\\\\n",
       "\\hline\n",
       "\t Senthil & Jan     & 141.2   & 90     \\\\\n",
       "\t Senthil & Fev     & 139.3   & 78     \\\\\n",
       "\t Sam     & Jan     & 135.2   & 80     \\\\\n",
       "\t Sam     & Feb     & 160.1   & 81     \\\\\n",
       "\\end{tabular}\n"
      ],
      "text/markdown": [
       "\n",
       "| Name | Month | BloodSugar | BloodPressure |\n",
       "|---|---|---|---|\n",
       "| Senthil | Jan     | 141.2   | 90      |\n",
       "| Senthil | Fev     | 139.3   | 78      |\n",
       "| Sam     | Jan     | 135.2   | 80      |\n",
       "| Sam     | Feb     | 160.1   | 81      |\n",
       "\n"
      ],
      "text/plain": [
       "  Name    Month BloodSugar BloodPressure\n",
       "1 Senthil Jan   141.2      90           \n",
       "2 Senthil Fev   139.3      78           \n",
       "3 Sam     Jan   135.2      80           \n",
       "4 Sam     Feb   160.1      81           "
      ]
     },
     "metadata": {},
     "output_type": "display_data"
    }
   ],
   "source": [
    "dataframe1"
   ]
  },
  {
   "cell_type": "markdown",
   "id": "ebbef6f9-5f5e-47d3-be52-65e7117e05a9",
   "metadata": {
    "jp-MarkdownHeadingCollapsed": true,
    "tags": []
   },
   "source": [
    "### RightJoin"
   ]
  },
  {
   "cell_type": "markdown",
   "id": "63998601-4e6c-4bd8-9245-e278b3cb5357",
   "metadata": {},
   "source": [
    "* Takes the __Rightdataframe__  (dataframe2) as the reference and compares with another one, based on the  by=<id-variable>\n",
    "Technically..\n",
    "    > return all rows from `y`, and all columns from `x` and `y`. Rows in `y` with no match in `x` will have `NA` values in the new columns. If there are multiple matches between `x` and `y`, all combinations of the matches are returned.\n"
   ]
  },
  {
   "cell_type": "code",
   "execution_count": 65,
   "id": "26d2f751-dbb2-4357-864d-aa7c296162c8",
   "metadata": {},
   "outputs": [
    {
     "name": "stderr",
     "output_type": "stream",
     "text": [
      "Warning message:\n",
      "“Column `Name` joining factors with different levels, coercing to character vector”"
     ]
    },
    {
     "data": {
      "text/html": [
       "<table>\n",
       "<thead><tr><th scope=col>Name</th><th scope=col>Month</th><th scope=col>BloodSugar</th><th scope=col>BloodPressure</th><th scope=col>Department</th></tr></thead>\n",
       "<tbody>\n",
       "\t<tr><td>Senthil       </td><td>Jan           </td><td>141.2         </td><td>90            </td><td>PSE           </td></tr>\n",
       "\t<tr><td>Senthil       </td><td>Fev           </td><td>139.3         </td><td>78            </td><td>PSE           </td></tr>\n",
       "\t<tr><td>Ramesh        </td><td>NA            </td><td>   NA         </td><td>NA            </td><td>Data Analytics</td></tr>\n",
       "\t<tr><td>Sam           </td><td>Jan           </td><td>135.2         </td><td>80            </td><td>PSE           </td></tr>\n",
       "\t<tr><td>Sam           </td><td>Feb           </td><td>160.1         </td><td>81            </td><td>PSE           </td></tr>\n",
       "</tbody>\n",
       "</table>\n"
      ],
      "text/latex": [
       "\\begin{tabular}{r|lllll}\n",
       " Name & Month & BloodSugar & BloodPressure & Department\\\\\n",
       "\\hline\n",
       "\t Senthil        & Jan            & 141.2          & 90             & PSE           \\\\\n",
       "\t Senthil        & Fev            & 139.3          & 78             & PSE           \\\\\n",
       "\t Ramesh         & NA             &    NA          & NA             & Data Analytics\\\\\n",
       "\t Sam            & Jan            & 135.2          & 80             & PSE           \\\\\n",
       "\t Sam            & Feb            & 160.1          & 81             & PSE           \\\\\n",
       "\\end{tabular}\n"
      ],
      "text/markdown": [
       "\n",
       "| Name | Month | BloodSugar | BloodPressure | Department |\n",
       "|---|---|---|---|---|\n",
       "| Senthil        | Jan            | 141.2          | 90             | PSE            |\n",
       "| Senthil        | Fev            | 139.3          | 78             | PSE            |\n",
       "| Ramesh         | NA             |    NA          | NA             | Data Analytics |\n",
       "| Sam            | Jan            | 135.2          | 80             | PSE            |\n",
       "| Sam            | Feb            | 160.1          | 81             | PSE            |\n",
       "\n"
      ],
      "text/plain": [
       "  Name    Month BloodSugar BloodPressure Department    \n",
       "1 Senthil Jan   141.2      90            PSE           \n",
       "2 Senthil Fev   139.3      78            PSE           \n",
       "3 Ramesh  NA       NA      NA            Data Analytics\n",
       "4 Sam     Jan   135.2      80            PSE           \n",
       "5 Sam     Feb   160.1      81            PSE           "
      ]
     },
     "metadata": {},
     "output_type": "display_data"
    }
   ],
   "source": [
    "right_join(dataframe1, dataframe2, by=\"Name\")"
   ]
  },
  {
   "cell_type": "code",
   "execution_count": 67,
   "id": "ea7ca5c7-2f82-4f58-8ef6-320f7addd1b5",
   "metadata": {},
   "outputs": [
    {
     "name": "stderr",
     "output_type": "stream",
     "text": [
      "Warning message:\n",
      "“Column `Name` joining factors with different levels, coercing to character vector”"
     ]
    },
    {
     "data": {
      "text/html": [
       "<table>\n",
       "<thead><tr><th scope=col>Name</th><th scope=col>Department</th><th scope=col>Month</th><th scope=col>BloodSugar</th><th scope=col>BloodPressure</th></tr></thead>\n",
       "<tbody>\n",
       "\t<tr><td>Senthil</td><td>PSE    </td><td>Jan    </td><td>141.2  </td><td>90     </td></tr>\n",
       "\t<tr><td>Senthil</td><td>PSE    </td><td>Fev    </td><td>139.3  </td><td>78     </td></tr>\n",
       "\t<tr><td>Sam    </td><td>PSE    </td><td>Jan    </td><td>135.2  </td><td>80     </td></tr>\n",
       "\t<tr><td>Sam    </td><td>PSE    </td><td>Feb    </td><td>160.1  </td><td>81     </td></tr>\n",
       "</tbody>\n",
       "</table>\n"
      ],
      "text/latex": [
       "\\begin{tabular}{r|lllll}\n",
       " Name & Department & Month & BloodSugar & BloodPressure\\\\\n",
       "\\hline\n",
       "\t Senthil & PSE     & Jan     & 141.2   & 90     \\\\\n",
       "\t Senthil & PSE     & Fev     & 139.3   & 78     \\\\\n",
       "\t Sam     & PSE     & Jan     & 135.2   & 80     \\\\\n",
       "\t Sam     & PSE     & Feb     & 160.1   & 81     \\\\\n",
       "\\end{tabular}\n"
      ],
      "text/markdown": [
       "\n",
       "| Name | Department | Month | BloodSugar | BloodPressure |\n",
       "|---|---|---|---|---|\n",
       "| Senthil | PSE     | Jan     | 141.2   | 90      |\n",
       "| Senthil | PSE     | Fev     | 139.3   | 78      |\n",
       "| Sam     | PSE     | Jan     | 135.2   | 80      |\n",
       "| Sam     | PSE     | Feb     | 160.1   | 81      |\n",
       "\n"
      ],
      "text/plain": [
       "  Name    Department Month BloodSugar BloodPressure\n",
       "1 Senthil PSE        Jan   141.2      90           \n",
       "2 Senthil PSE        Fev   139.3      78           \n",
       "3 Sam     PSE        Jan   135.2      80           \n",
       "4 Sam     PSE        Feb   160.1      81           "
      ]
     },
     "metadata": {},
     "output_type": "display_data"
    }
   ],
   "source": [
    "# A try...\n",
    "right_join(dataframe2, dataframe1, by=\"Name\")  # FOCUS on the order..."
   ]
  },
  {
   "cell_type": "markdown",
   "id": "fc731d7b-8ed0-43e9-af61-edabeb8d061d",
   "metadata": {},
   "source": [
    "See, its as same as the LeftJoin..\n",
    "\n",
    "So, what do learn from this..\n",
    "- Order matters..\n",
    "- Left and Right joins can be used interchangeably, by changing the order of dataframes."
   ]
  },
  {
   "cell_type": "markdown",
   "id": "52f3cba9-b1c8-4423-9333-1e3f69379187",
   "metadata": {
    "jp-MarkdownHeadingCollapsed": true,
    "tags": []
   },
   "source": [
    "### InnerJoin"
   ]
  },
  {
   "cell_type": "markdown",
   "id": "cf6c397c-ea3f-4a56-86f8-19915cb56e8e",
   "metadata": {},
   "source": [
    "Merges and retains those rows with IDs present in boht the dataframes.\n",
    "\n",
    "i.e. (From the understanding of DBMS subject in academics)\n",
    "   - Takes the ones __common__ in both Left and Right Join...\n",
    "   - Like, the __intersection operation__ of the LeftJoin and the RightJoin\n",
    "\n",
    "Technically..\n",
    "\n",
    "  > return all rows from `x` where there are matching values in `y`, and all columns from `x` and`y`. If there are multiple matches between `x` and `y`, all combination of the matches are returned.\n"
   ]
  },
  {
   "cell_type": "code",
   "execution_count": 68,
   "id": "86cdc8c9-45da-44f5-bff8-25437fe52d55",
   "metadata": {},
   "outputs": [
    {
     "name": "stderr",
     "output_type": "stream",
     "text": [
      "Warning message:\n",
      "“Column `Name` joining factors with different levels, coercing to character vector”"
     ]
    },
    {
     "data": {
      "text/html": [
       "<table>\n",
       "<thead><tr><th scope=col>Name</th><th scope=col>Month</th><th scope=col>BloodSugar</th><th scope=col>BloodPressure</th><th scope=col>Department</th></tr></thead>\n",
       "<tbody>\n",
       "\t<tr><td>Senthil</td><td>Jan    </td><td>141.2  </td><td>90     </td><td>PSE    </td></tr>\n",
       "\t<tr><td>Senthil</td><td>Fev    </td><td>139.3  </td><td>78     </td><td>PSE    </td></tr>\n",
       "\t<tr><td>Sam    </td><td>Jan    </td><td>135.2  </td><td>80     </td><td>PSE    </td></tr>\n",
       "\t<tr><td>Sam    </td><td>Feb    </td><td>160.1  </td><td>81     </td><td>PSE    </td></tr>\n",
       "</tbody>\n",
       "</table>\n"
      ],
      "text/latex": [
       "\\begin{tabular}{r|lllll}\n",
       " Name & Month & BloodSugar & BloodPressure & Department\\\\\n",
       "\\hline\n",
       "\t Senthil & Jan     & 141.2   & 90      & PSE    \\\\\n",
       "\t Senthil & Fev     & 139.3   & 78      & PSE    \\\\\n",
       "\t Sam     & Jan     & 135.2   & 80      & PSE    \\\\\n",
       "\t Sam     & Feb     & 160.1   & 81      & PSE    \\\\\n",
       "\\end{tabular}\n"
      ],
      "text/markdown": [
       "\n",
       "| Name | Month | BloodSugar | BloodPressure | Department |\n",
       "|---|---|---|---|---|\n",
       "| Senthil | Jan     | 141.2   | 90      | PSE     |\n",
       "| Senthil | Fev     | 139.3   | 78      | PSE     |\n",
       "| Sam     | Jan     | 135.2   | 80      | PSE     |\n",
       "| Sam     | Feb     | 160.1   | 81      | PSE     |\n",
       "\n"
      ],
      "text/plain": [
       "  Name    Month BloodSugar BloodPressure Department\n",
       "1 Senthil Jan   141.2      90            PSE       \n",
       "2 Senthil Fev   139.3      78            PSE       \n",
       "3 Sam     Jan   135.2      80            PSE       \n",
       "4 Sam     Feb   160.1      81            PSE       "
      ]
     },
     "metadata": {},
     "output_type": "display_data"
    }
   ],
   "source": [
    "inner_join(dataframe1, dataframe2, by=\"Name\")"
   ]
  },
  {
   "cell_type": "code",
   "execution_count": 69,
   "id": "ac590be7-fc6b-41f2-b804-656a4700e572",
   "metadata": {},
   "outputs": [
    {
     "name": "stderr",
     "output_type": "stream",
     "text": [
      "Warning message:\n",
      "“Column `Name` joining factors with different levels, coercing to character vector”"
     ]
    },
    {
     "data": {
      "text/html": [
       "<table>\n",
       "<thead><tr><th scope=col>Name</th><th scope=col>Department</th><th scope=col>Month</th><th scope=col>BloodSugar</th><th scope=col>BloodPressure</th></tr></thead>\n",
       "<tbody>\n",
       "\t<tr><td>Senthil</td><td>PSE    </td><td>Jan    </td><td>141.2  </td><td>90     </td></tr>\n",
       "\t<tr><td>Senthil</td><td>PSE    </td><td>Fev    </td><td>139.3  </td><td>78     </td></tr>\n",
       "\t<tr><td>Sam    </td><td>PSE    </td><td>Jan    </td><td>135.2  </td><td>80     </td></tr>\n",
       "\t<tr><td>Sam    </td><td>PSE    </td><td>Feb    </td><td>160.1  </td><td>81     </td></tr>\n",
       "</tbody>\n",
       "</table>\n"
      ],
      "text/latex": [
       "\\begin{tabular}{r|lllll}\n",
       " Name & Department & Month & BloodSugar & BloodPressure\\\\\n",
       "\\hline\n",
       "\t Senthil & PSE     & Jan     & 141.2   & 90     \\\\\n",
       "\t Senthil & PSE     & Fev     & 139.3   & 78     \\\\\n",
       "\t Sam     & PSE     & Jan     & 135.2   & 80     \\\\\n",
       "\t Sam     & PSE     & Feb     & 160.1   & 81     \\\\\n",
       "\\end{tabular}\n"
      ],
      "text/markdown": [
       "\n",
       "| Name | Department | Month | BloodSugar | BloodPressure |\n",
       "|---|---|---|---|---|\n",
       "| Senthil | PSE     | Jan     | 141.2   | 90      |\n",
       "| Senthil | PSE     | Fev     | 139.3   | 78      |\n",
       "| Sam     | PSE     | Jan     | 135.2   | 80      |\n",
       "| Sam     | PSE     | Feb     | 160.1   | 81      |\n",
       "\n"
      ],
      "text/plain": [
       "  Name    Department Month BloodSugar BloodPressure\n",
       "1 Senthil PSE        Jan   141.2      90           \n",
       "2 Senthil PSE        Fev   139.3      78           \n",
       "3 Sam     PSE        Jan   135.2      80           \n",
       "4 Sam     PSE        Feb   160.1      81           "
      ]
     },
     "metadata": {},
     "output_type": "display_data"
    }
   ],
   "source": [
    "inner_join(dataframe2, dataframe1, by=\"Name\")  # Changed the order.."
   ]
  },
  {
   "cell_type": "markdown",
   "id": "170e7418-0edd-480b-b691-5093bc0fbccd",
   "metadata": {
    "jp-MarkdownHeadingCollapsed": true,
    "tags": []
   },
   "source": [
    "### Full Join"
   ]
  },
  {
   "cell_type": "markdown",
   "id": "feb4c606-b742-4a4e-a3f0-41f5f38516df",
   "metadata": {},
   "source": [
    "Intuitively..\n",
    "> UNION of LeftJoin and RightJoin\n",
    "\n",
    "Technically..\n",
    "> return all rows and all columns from both `x` and `y`. Where there are not matching values, returns `NA` for the one missing.\n"
   ]
  },
  {
   "cell_type": "code",
   "execution_count": 70,
   "id": "9ff37272-7864-47ac-bfe4-e09d725c974c",
   "metadata": {},
   "outputs": [
    {
     "name": "stderr",
     "output_type": "stream",
     "text": [
      "Warning message:\n",
      "“Column `Name` joining factors with different levels, coercing to character vector”"
     ]
    },
    {
     "data": {
      "text/html": [
       "<table>\n",
       "<thead><tr><th scope=col>Name</th><th scope=col>Month</th><th scope=col>BloodSugar</th><th scope=col>BloodPressure</th><th scope=col>Department</th></tr></thead>\n",
       "<tbody>\n",
       "\t<tr><td>Senthil       </td><td>Jan           </td><td>141.2         </td><td>90            </td><td>PSE           </td></tr>\n",
       "\t<tr><td>Senthil       </td><td>Fev           </td><td>139.3         </td><td>78            </td><td>PSE           </td></tr>\n",
       "\t<tr><td>Sam           </td><td>Jan           </td><td>135.2         </td><td>80            </td><td>PSE           </td></tr>\n",
       "\t<tr><td>Sam           </td><td>Feb           </td><td>160.1         </td><td>81            </td><td>PSE           </td></tr>\n",
       "\t<tr><td>Ramesh        </td><td>NA            </td><td>   NA         </td><td>NA            </td><td>Data Analytics</td></tr>\n",
       "</tbody>\n",
       "</table>\n"
      ],
      "text/latex": [
       "\\begin{tabular}{r|lllll}\n",
       " Name & Month & BloodSugar & BloodPressure & Department\\\\\n",
       "\\hline\n",
       "\t Senthil        & Jan            & 141.2          & 90             & PSE           \\\\\n",
       "\t Senthil        & Fev            & 139.3          & 78             & PSE           \\\\\n",
       "\t Sam            & Jan            & 135.2          & 80             & PSE           \\\\\n",
       "\t Sam            & Feb            & 160.1          & 81             & PSE           \\\\\n",
       "\t Ramesh         & NA             &    NA          & NA             & Data Analytics\\\\\n",
       "\\end{tabular}\n"
      ],
      "text/markdown": [
       "\n",
       "| Name | Month | BloodSugar | BloodPressure | Department |\n",
       "|---|---|---|---|---|\n",
       "| Senthil        | Jan            | 141.2          | 90             | PSE            |\n",
       "| Senthil        | Fev            | 139.3          | 78             | PSE            |\n",
       "| Sam            | Jan            | 135.2          | 80             | PSE            |\n",
       "| Sam            | Feb            | 160.1          | 81             | PSE            |\n",
       "| Ramesh         | NA             |    NA          | NA             | Data Analytics |\n",
       "\n"
      ],
      "text/plain": [
       "  Name    Month BloodSugar BloodPressure Department    \n",
       "1 Senthil Jan   141.2      90            PSE           \n",
       "2 Senthil Fev   139.3      78            PSE           \n",
       "3 Sam     Jan   135.2      80            PSE           \n",
       "4 Sam     Feb   160.1      81            PSE           \n",
       "5 Ramesh  NA       NA      NA            Data Analytics"
      ]
     },
     "metadata": {},
     "output_type": "display_data"
    }
   ],
   "source": [
    "full_join(dataframe1, dataframe2, by=\"Name\")"
   ]
  },
  {
   "cell_type": "markdown",
   "id": "3b5c3833-0d5b-40cf-870f-f45908d901ec",
   "metadata": {
    "tags": []
   },
   "source": [
    "## Arithmetic, Logical and Matrix operations"
   ]
  },
  {
   "cell_type": "markdown",
   "id": "6f407c88-3a8d-4ae4-8b3d-11385f62dceb",
   "metadata": {
    "jp-MarkdownHeadingCollapsed": true,
    "tags": []
   },
   "source": [
    "### Arithmetic Operators"
   ]
  },
  {
   "cell_type": "markdown",
   "id": "f1743ed7-a61f-4e94-b5e3-932181ea112f",
   "metadata": {
    "tags": []
   },
   "source": [
    "<table>\n",
    "    <thead>\n",
    "        <td>Symbols</td>\n",
    "        <td>Operation</td>\n",
    "    </thead>\n",
    "    <tr>\n",
    "        <td>=, &lt;- </td>\n",
    "        <td>Assignment</td>\n",
    "    </tr>\n",
    "    <tr>\n",
    "        <td>+</td>\n",
    "        <td>Addition</td>\n",
    "    </tr>\n",
    "    <tr>\n",
    "        <td>-</td>\n",
    "        <td>Subtraction</td>\n",
    "    </tr>\n",
    "    <tr>\n",
    "        <td>*</td>\n",
    "        <td>Multiplication</td>\n",
    "    </tr>\n",
    "    <tr>\n",
    "        <td>/</td>\n",
    "        <td>Division</td>\n",
    "    </tr>\n",
    "    <tr>\n",
    "        <td>^, **</td>\n",
    "        <td>Exponent</td>\n",
    "    </tr>\n",
    "    <tr>\n",
    "        <td>%%</td>\n",
    "        <td>Remainder</td>\n",
    "    </tr>\n",
    "    <tr>\n",
    "        <td>%/%</td>\n",
    "        <td>Integer Division</td>\n",
    "    </tr>\n",
    "</table>\n",
    "\n",
    "NOTE: In R only `<-` is valid, but in RStudio both `=` and `<-` will work.\n",
    "\n",
    "<table>\n",
    "    <thead>\n",
    "        <td>Order of preference</td>\n",
    "        <td>Operation</td>\n",
    "    </thead>\n",
    "    <tr>\n",
    "        <td>Bracket</td>\n",
    "        <td>()</td>\n",
    "    </tr>\n",
    "    <tr>\n",
    "        <td>Exponent</td>\n",
    "        <td>^, **</td>\n",
    "    </tr>\n",
    "    <tr>\n",
    "        <td>Division</td>\n",
    "        <td>/</td>\n",
    "    </tr>\n",
    "    <tr>\n",
    "        <td>Multiplication</td>\n",
    "        <td>*</td>\n",
    "    </tr>\n",
    "    <tr>\n",
    "        <td>Addition and Subtraction\n",
    "        <td>+, -</td>\n",
    "    </tr>\n",
    "</table>\n",
    "<center> Like the <strong> BODMAS </strong> rule </center>\n",
    "\n",
    "`A = 7-2x^(27/3^2)+4`\n",
    "    - First, exponent - `27/3^2`, then Division in between those.. next exponent of Dr.,, then Mulitplication of x with 2.\n",
    "      then SUB then ADD (Following Left-to-Right associativity)"
   ]
  },
  {
   "cell_type": "markdown",
   "id": "dd4b4eed-9c51-477b-acec-8283f9940121",
   "metadata": {
    "tags": []
   },
   "source": [
    "### Logical Operators"
   ]
  },
  {
   "cell_type": "markdown",
   "id": "eb6a5d16-e240-44c2-924c-286adf72d86d",
   "metadata": {},
   "source": [
    "Supported Logical Operators\n",
    "<table>\n",
    "    <thead>\n",
    "        <td>Symbols</td>\n",
    "        <td>Operation</td>\n",
    "    </thead>\n",
    "    <tr>\n",
    "        <td>&lt;</td>\n",
    "        <td>Less than</td>\n",
    "    </tr>\n",
    "    <tr>\n",
    "        <td>&lt;=</td>\n",
    "        <td> Less than equal to</td>\n",
    "    </tr>\n",
    "    <tr>\n",
    "        <td>&gt;</td>\n",
    "        <td>Greater than</td>\n",
    "    </tr>\n",
    "    <tr>\n",
    "        <td>&gt;=</td>\n",
    "        <td>Greater than or Equal to</td>\n",
    "    </tr>\n",
    "    <tr>\n",
    "        <td>==</td>\n",
    "        <td>Exactly equal</td>\n",
    "    </tr>\n",
    "    <tr>\n",
    "        <td>!=</td>\n",
    "        <td>Not equal to</td>\n",
    "    </tr>\n",
    "    <tr>\n",
    "        <td>!</td>\n",
    "        <td>Logical NOT</td>\n",
    "    </tr>\n",
    "    <tr>\n",
    "        <td>|</td>\n",
    "        <td>Logical OR</td>\n",
    "    </tr>\n",
    "    <tr>\n",
    "        <td>&amp;</td>\n",
    "        <td>Logical AND </td>\n",
    "    </tr>\n",
    "    \n",
    "</table>"
   ]
  },
  {
   "cell_type": "markdown",
   "id": "66df6695-b64b-420c-8adb-c5da35ef7334",
   "metadata": {
    "tags": []
   },
   "source": [
    "### Matrix Operations"
   ]
  },
  {
   "cell_type": "markdown",
   "id": "064cc80c-6f2a-40df-8943-428ec3605624",
   "metadata": {
    "jp-MarkdownHeadingCollapsed": true,
    "tags": []
   },
   "source": [
    "#### Creating Matrices"
   ]
  },
  {
   "cell_type": "markdown",
   "id": "e9a04630-2dd7-4a22-aaf9-7bf53e678330",
   "metadata": {},
   "source": [
    "__Signature__: `matrix(data = NA, nrow = 1, ncol = 1, byrow = FALSE, dimnames = NULL)`  \n",
    "- __FOCUS__: `byrow=FALSE`, so the passed vector just becomes a single column. To form a matrix, this need to be set to `TRUE` explicitly. _-- as said by sir.._\n",
    "    - Its when passed only `ncol` parameter like: `matrix(c(1:9),ncol=3, byrow=TRUE)`\n",
    "- When passed the `nrow` prop, without `byrow`, it fills column-wise. _Refer to the below second example_"
   ]
  },
  {
   "cell_type": "code",
   "execution_count": 29,
   "id": "0d92ef83-c784-4a29-a596-966538da4dc4",
   "metadata": {},
   "outputs": [
    {
     "data": {
      "text/html": [
       "<table>\n",
       "<tbody>\n",
       "\t<tr><td>1</td><td>2</td><td>3</td></tr>\n",
       "\t<tr><td>4</td><td>5</td><td>6</td></tr>\n",
       "\t<tr><td>7</td><td>8</td><td>9</td></tr>\n",
       "</tbody>\n",
       "</table>\n"
      ],
      "text/latex": [
       "\\begin{tabular}{lll}\n",
       "\t 1 & 2 & 3\\\\\n",
       "\t 4 & 5 & 6\\\\\n",
       "\t 7 & 8 & 9\\\\\n",
       "\\end{tabular}\n"
      ],
      "text/markdown": [
       "\n",
       "| 1 | 2 | 3 |\n",
       "| 4 | 5 | 6 |\n",
       "| 7 | 8 | 9 |\n",
       "\n"
      ],
      "text/plain": [
       "     [,1] [,2] [,3]\n",
       "[1,] 1    2    3   \n",
       "[2,] 4    5    6   \n",
       "[3,] 7    8    9   "
      ]
     },
     "metadata": {},
     "output_type": "display_data"
    }
   ],
   "source": [
    "matrix(c(1:9),nrow=3, byrow=TRUE)  #  == matrix(c(1:9),nrow=3, ncol=3, byrow=TRUE)"
   ]
  },
  {
   "cell_type": "code",
   "execution_count": 31,
   "id": "5229d048-3b12-4df1-8ba1-8e3001c95346",
   "metadata": {},
   "outputs": [
    {
     "data": {
      "text/html": [
       "<table>\n",
       "<tbody>\n",
       "\t<tr><td>1</td><td>4</td><td>7</td></tr>\n",
       "\t<tr><td>2</td><td>5</td><td>8</td></tr>\n",
       "\t<tr><td>3</td><td>6</td><td>9</td></tr>\n",
       "</tbody>\n",
       "</table>\n"
      ],
      "text/latex": [
       "\\begin{tabular}{lll}\n",
       "\t 1 & 4 & 7\\\\\n",
       "\t 2 & 5 & 8\\\\\n",
       "\t 3 & 6 & 9\\\\\n",
       "\\end{tabular}\n"
      ],
      "text/markdown": [
       "\n",
       "| 1 | 4 | 7 |\n",
       "| 2 | 5 | 8 |\n",
       "| 3 | 6 | 9 |\n",
       "\n"
      ],
      "text/plain": [
       "     [,1] [,2] [,3]\n",
       "[1,] 1    4    7   \n",
       "[2,] 2    5    8   \n",
       "[3,] 3    6    9   "
      ]
     },
     "metadata": {},
     "output_type": "display_data"
    }
   ],
   "source": [
    "matrix(c(1:9), nrow=3)"
   ]
  },
  {
   "cell_type": "markdown",
   "id": "913e9f34-6c38-4076-b8cc-9a76ceb7b067",
   "metadata": {
    "jp-MarkdownHeadingCollapsed": true,
    "tags": []
   },
   "source": [
    "#### Special Matrices"
   ]
  },
  {
   "cell_type": "markdown",
   "id": "bcacc2e3-d851-4cb7-840e-59df8516811d",
   "metadata": {},
   "source": [
    "##### Matrix having all elements filled with `k`"
   ]
  },
  {
   "cell_type": "markdown",
   "id": "1a200cba-7c4a-480e-b45d-a47900875d25",
   "metadata": {},
   "source": [
    "`matrix(k, m, n)` -- fills `k` in the matrix of size `m x n`"
   ]
  },
  {
   "cell_type": "code",
   "execution_count": 20,
   "id": "dc397a82-fb78-42a9-8b82-0c33265ffbcb",
   "metadata": {},
   "outputs": [
    {
     "data": {
      "text/html": [
       "<table>\n",
       "<tbody>\n",
       "\t<tr><td>5</td><td>5</td><td>5</td></tr>\n",
       "\t<tr><td>5</td><td>5</td><td>5</td></tr>\n",
       "\t<tr><td>5</td><td>5</td><td>5</td></tr>\n",
       "\t<tr><td>5</td><td>5</td><td>5</td></tr>\n",
       "</tbody>\n",
       "</table>\n"
      ],
      "text/latex": [
       "\\begin{tabular}{lll}\n",
       "\t 5 & 5 & 5\\\\\n",
       "\t 5 & 5 & 5\\\\\n",
       "\t 5 & 5 & 5\\\\\n",
       "\t 5 & 5 & 5\\\\\n",
       "\\end{tabular}\n"
      ],
      "text/markdown": [
       "\n",
       "| 5 | 5 | 5 |\n",
       "| 5 | 5 | 5 |\n",
       "| 5 | 5 | 5 |\n",
       "| 5 | 5 | 5 |\n",
       "\n"
      ],
      "text/plain": [
       "     [,1] [,2] [,3]\n",
       "[1,] 5    5    5   \n",
       "[2,] 5    5    5   \n",
       "[3,] 5    5    5   \n",
       "[4,] 5    5    5   "
      ]
     },
     "metadata": {},
     "output_type": "display_data"
    }
   ],
   "source": [
    "matrix(5, 4, 3)   # Filling 5 in 4x3 matrix.."
   ]
  },
  {
   "cell_type": "markdown",
   "id": "6c84fb6c-651d-488a-8ff1-f96602be3ea2",
   "metadata": {
    "jp-MarkdownHeadingCollapsed": true,
    "tags": []
   },
   "source": [
    "#### Diagonal Matrix"
   ]
  },
  {
   "cell_type": "markdown",
   "id": "267dcd83-0891-45db-97f0-6e7d69ddbe76",
   "metadata": {},
   "source": [
    "`diag(k, m, n)` - Fills the diagonal elements with `k` in the matrix of `m x n` dimensions."
   ]
  },
  {
   "cell_type": "code",
   "execution_count": 21,
   "id": "7c75992f-ad4a-4852-8728-a9a55388ecfe",
   "metadata": {},
   "outputs": [
    {
     "data": {
      "text/html": [
       "<table>\n",
       "<tbody>\n",
       "\t<tr><td>3</td><td>0</td><td>0</td><td>0</td><td>0</td><td>0</td></tr>\n",
       "\t<tr><td>0</td><td>3</td><td>0</td><td>0</td><td>0</td><td>0</td></tr>\n",
       "</tbody>\n",
       "</table>\n"
      ],
      "text/latex": [
       "\\begin{tabular}{llllll}\n",
       "\t 3 & 0 & 0 & 0 & 0 & 0\\\\\n",
       "\t 0 & 3 & 0 & 0 & 0 & 0\\\\\n",
       "\\end{tabular}\n"
      ],
      "text/markdown": [
       "\n",
       "| 3 | 0 | 0 | 0 | 0 | 0 |\n",
       "| 0 | 3 | 0 | 0 | 0 | 0 |\n",
       "\n"
      ],
      "text/plain": [
       "     [,1] [,2] [,3] [,4] [,5] [,6]\n",
       "[1,] 3    0    0    0    0    0   \n",
       "[2,] 0    3    0    0    0    0   "
      ]
     },
     "metadata": {},
     "output_type": "display_data"
    }
   ],
   "source": [
    "diag(3, 2, 6)"
   ]
  },
  {
   "cell_type": "code",
   "execution_count": 22,
   "id": "0992c515-8e0d-43de-bb4f-6bd18db67a38",
   "metadata": {},
   "outputs": [
    {
     "data": {
      "text/html": [
       "<table>\n",
       "<tbody>\n",
       "\t<tr><td>3</td><td>0</td><td>0</td><td>0</td><td>0</td></tr>\n",
       "\t<tr><td>0</td><td>3</td><td>0</td><td>0</td><td>0</td></tr>\n",
       "\t<tr><td>0</td><td>0</td><td>3</td><td>0</td><td>0</td></tr>\n",
       "\t<tr><td>0</td><td>0</td><td>0</td><td>3</td><td>0</td></tr>\n",
       "\t<tr><td>0</td><td>0</td><td>0</td><td>0</td><td>3</td></tr>\n",
       "</tbody>\n",
       "</table>\n"
      ],
      "text/latex": [
       "\\begin{tabular}{lllll}\n",
       "\t 3 & 0 & 0 & 0 & 0\\\\\n",
       "\t 0 & 3 & 0 & 0 & 0\\\\\n",
       "\t 0 & 0 & 3 & 0 & 0\\\\\n",
       "\t 0 & 0 & 0 & 3 & 0\\\\\n",
       "\t 0 & 0 & 0 & 0 & 3\\\\\n",
       "\\end{tabular}\n"
      ],
      "text/markdown": [
       "\n",
       "| 3 | 0 | 0 | 0 | 0 |\n",
       "| 0 | 3 | 0 | 0 | 0 |\n",
       "| 0 | 0 | 3 | 0 | 0 |\n",
       "| 0 | 0 | 0 | 3 | 0 |\n",
       "| 0 | 0 | 0 | 0 | 3 |\n",
       "\n"
      ],
      "text/plain": [
       "     [,1] [,2] [,3] [,4] [,5]\n",
       "[1,] 3    0    0    0    0   \n",
       "[2,] 0    3    0    0    0   \n",
       "[3,] 0    0    3    0    0   \n",
       "[4,] 0    0    0    3    0   \n",
       "[5,] 0    0    0    0    3   "
      ]
     },
     "metadata": {},
     "output_type": "display_data"
    }
   ],
   "source": [
    "diag(3, 5, 5)"
   ]
  },
  {
   "cell_type": "markdown",
   "id": "37659c36-e3c4-4e5d-b3eb-8aa81303c552",
   "metadata": {
    "tags": []
   },
   "source": [
    "#### Identity Matrix"
   ]
  },
  {
   "cell_type": "markdown",
   "id": "a23f4e5f-b488-43d3-bc21-e8fd53716c9e",
   "metadata": {},
   "source": [
    "simply take `k=1` in `diag(k, m, n)`"
   ]
  },
  {
   "cell_type": "code",
   "execution_count": 23,
   "id": "ff9e4462-9e5a-4f7c-8536-468b3ff08013",
   "metadata": {},
   "outputs": [
    {
     "data": {
      "text/html": [
       "<table>\n",
       "<tbody>\n",
       "\t<tr><td>1</td><td>0</td><td>0</td><td>0</td></tr>\n",
       "\t<tr><td>0</td><td>1</td><td>0</td><td>0</td></tr>\n",
       "\t<tr><td>0</td><td>0</td><td>1</td><td>0</td></tr>\n",
       "\t<tr><td>0</td><td>0</td><td>0</td><td>1</td></tr>\n",
       "</tbody>\n",
       "</table>\n"
      ],
      "text/latex": [
       "\\begin{tabular}{llll}\n",
       "\t 1 & 0 & 0 & 0\\\\\n",
       "\t 0 & 1 & 0 & 0\\\\\n",
       "\t 0 & 0 & 1 & 0\\\\\n",
       "\t 0 & 0 & 0 & 1\\\\\n",
       "\\end{tabular}\n"
      ],
      "text/markdown": [
       "\n",
       "| 1 | 0 | 0 | 0 |\n",
       "| 0 | 1 | 0 | 0 |\n",
       "| 0 | 0 | 1 | 0 |\n",
       "| 0 | 0 | 0 | 1 |\n",
       "\n"
      ],
      "text/plain": [
       "     [,1] [,2] [,3] [,4]\n",
       "[1,] 1    0    0    0   \n",
       "[2,] 0    1    0    0   \n",
       "[3,] 0    0    1    0   \n",
       "[4,] 0    0    0    1   "
      ]
     },
     "metadata": {},
     "output_type": "display_data"
    }
   ],
   "source": [
    "diag(1, 4, 4)"
   ]
  },
  {
   "cell_type": "markdown",
   "id": "8b89e75b-386f-4665-92db-2c133ddf9811",
   "metadata": {},
   "source": [
    "#### Exercise"
   ]
  },
  {
   "cell_type": "code",
   "execution_count": 24,
   "id": "c9086cea-4bb2-42e7-9028-cc270c40f40f",
   "metadata": {},
   "outputs": [
    {
     "data": {
      "text/html": [
       "<table>\n",
       "<tbody>\n",
       "\t<tr><td>3 </td><td>-2</td></tr>\n",
       "\t<tr><td>5 </td><td> 0</td></tr>\n",
       "</tbody>\n",
       "</table>\n"
      ],
      "text/latex": [
       "\\begin{tabular}{ll}\n",
       "\t 3  & -2\\\\\n",
       "\t 5  &  0\\\\\n",
       "\\end{tabular}\n"
      ],
      "text/markdown": [
       "\n",
       "| 3  | -2 |\n",
       "| 5  |  0 |\n",
       "\n"
      ],
      "text/plain": [
       "     [,1] [,2]\n",
       "[1,] 3    -2  \n",
       "[2,] 5     0  "
      ]
     },
     "metadata": {},
     "output_type": "display_data"
    }
   ],
   "source": [
    "matrix(c(3, 5, -2, 0), nrow=2)"
   ]
  },
  {
   "cell_type": "code",
   "execution_count": 28,
   "id": "f7ee28e2-25d8-4f84-a0fe-79b1bec1cd19",
   "metadata": {},
   "outputs": [
    {
     "data": {
      "text/html": [
       "<table>\n",
       "<tbody>\n",
       "\t<tr><td>1 </td><td>10</td></tr>\n",
       "\t<tr><td>3 </td><td>-1</td></tr>\n",
       "\t<tr><td>7 </td><td> 5</td></tr>\n",
       "</tbody>\n",
       "</table>\n"
      ],
      "text/latex": [
       "\\begin{tabular}{ll}\n",
       "\t 1  & 10\\\\\n",
       "\t 3  & -1\\\\\n",
       "\t 7  &  5\\\\\n",
       "\\end{tabular}\n"
      ],
      "text/markdown": [
       "\n",
       "| 1  | 10 |\n",
       "| 3  | -1 |\n",
       "| 7  |  5 |\n",
       "\n"
      ],
      "text/plain": [
       "     [,1] [,2]\n",
       "[1,] 1    10  \n",
       "[2,] 3    -1  \n",
       "[3,] 7     5  "
      ]
     },
     "metadata": {},
     "output_type": "display_data"
    }
   ],
   "source": [
    "matrix(c(1, 10, 3, -1, 7, 5), nrow=3, byrow=TRUE)"
   ]
  },
  {
   "cell_type": "code",
   "execution_count": 30,
   "id": "a043aad2-2b2b-4387-bd8d-fd4a3596db00",
   "metadata": {},
   "outputs": [
    {
     "data": {
      "text/html": [
       "<table>\n",
       "<tbody>\n",
       "\t<tr><td> 2</td><td> 3</td><td> 4</td></tr>\n",
       "\t<tr><td> 0</td><td> 1</td><td> 2</td></tr>\n",
       "\t<tr><td>-1</td><td>-2</td><td>-3</td></tr>\n",
       "\t<tr><td> 5</td><td> 4</td><td> 3</td></tr>\n",
       "</tbody>\n",
       "</table>\n"
      ],
      "text/latex": [
       "\\begin{tabular}{lll}\n",
       "\t  2 &  3 &  4\\\\\n",
       "\t  0 &  1 &  2\\\\\n",
       "\t -1 & -2 & -3\\\\\n",
       "\t  5 &  4 &  3\\\\\n",
       "\\end{tabular}\n"
      ],
      "text/markdown": [
       "\n",
       "|  2 |  3 |  4 |\n",
       "|  0 |  1 |  2 |\n",
       "| -1 | -2 | -3 |\n",
       "|  5 |  4 |  3 |\n",
       "\n"
      ],
      "text/plain": [
       "     [,1] [,2] [,3]\n",
       "[1,]  2    3    4  \n",
       "[2,]  0    1    2  \n",
       "[3,] -1   -2   -3  \n",
       "[4,]  5    4    3  "
      ]
     },
     "metadata": {},
     "output_type": "display_data"
    }
   ],
   "source": [
    "matrix(c(2, 3, 4, 0, 1, 2, -1, -2, -3, 5, 4, 3), nrow=4, byrow=TRUE)"
   ]
  },
  {
   "cell_type": "markdown",
   "id": "0394e930-cbdb-47c0-ae6e-1efe1f8faf66",
   "metadata": {
    "tags": []
   },
   "source": [
    "#### Matrix Metrics "
   ]
  },
  {
   "cell_type": "markdown",
   "id": "304471ba-9403-4df9-ba27-42e2efea7c94",
   "metadata": {},
   "source": [
    "- `dim(A)` : Returns the dimensional size of the matrix.\n",
    "- `nrow(A)`: Returns the rows of the matrix.\n",
    "- `ncol(A)`: Returns the cols of the matrix.\n",
    "- `prod(dim(A))` or `length(A)`: Returns no. of elements in the matrix."
   ]
  },
  {
   "cell_type": "code",
   "execution_count": 39,
   "id": "57892349-b699-4e2b-a19c-bf0542b5dbea",
   "metadata": {},
   "outputs": [
    {
     "data": {
      "text/html": [
       "<table>\n",
       "<tbody>\n",
       "\t<tr><td>2 </td><td>5 </td><td> 8</td><td>11</td></tr>\n",
       "\t<tr><td>3 </td><td>6 </td><td> 9</td><td>12</td></tr>\n",
       "\t<tr><td>4 </td><td>7 </td><td>10</td><td>13</td></tr>\n",
       "</tbody>\n",
       "</table>\n"
      ],
      "text/latex": [
       "\\begin{tabular}{llll}\n",
       "\t 2  & 5  &  8 & 11\\\\\n",
       "\t 3  & 6  &  9 & 12\\\\\n",
       "\t 4  & 7  & 10 & 13\\\\\n",
       "\\end{tabular}\n"
      ],
      "text/markdown": [
       "\n",
       "| 2  | 5  |  8 | 11 |\n",
       "| 3  | 6  |  9 | 12 |\n",
       "| 4  | 7  | 10 | 13 |\n",
       "\n"
      ],
      "text/plain": [
       "     [,1] [,2] [,3] [,4]\n",
       "[1,] 2    5     8   11  \n",
       "[2,] 3    6     9   12  \n",
       "[3,] 4    7    10   13  "
      ]
     },
     "metadata": {},
     "output_type": "display_data"
    }
   ],
   "source": [
    "A = matrix(c(2:13), ncol=4)\n",
    "A"
   ]
  },
  {
   "cell_type": "code",
   "execution_count": 40,
   "id": "f90ade29-b4d2-4304-b641-5944740da452",
   "metadata": {},
   "outputs": [
    {
     "data": {
      "text/html": [
       "<ol class=list-inline>\n",
       "\t<li>3</li>\n",
       "\t<li>4</li>\n",
       "</ol>\n"
      ],
      "text/latex": [
       "\\begin{enumerate*}\n",
       "\\item 3\n",
       "\\item 4\n",
       "\\end{enumerate*}\n"
      ],
      "text/markdown": [
       "1. 3\n",
       "2. 4\n",
       "\n",
       "\n"
      ],
      "text/plain": [
       "[1] 3 4"
      ]
     },
     "metadata": {},
     "output_type": "display_data"
    }
   ],
   "source": [
    "dim(A)"
   ]
  },
  {
   "cell_type": "code",
   "execution_count": 42,
   "id": "c11a0772-1245-478b-8e16-cab7826372ee",
   "metadata": {},
   "outputs": [
    {
     "data": {
      "text/html": [
       "3"
      ],
      "text/latex": [
       "3"
      ],
      "text/markdown": [
       "3"
      ],
      "text/plain": [
       "[1] 3"
      ]
     },
     "metadata": {},
     "output_type": "display_data"
    }
   ],
   "source": [
    "nrow(A)"
   ]
  },
  {
   "cell_type": "code",
   "execution_count": 43,
   "id": "6d52570f-5310-4d4f-82e8-677dcb583665",
   "metadata": {},
   "outputs": [
    {
     "data": {
      "text/html": [
       "4"
      ],
      "text/latex": [
       "4"
      ],
      "text/markdown": [
       "4"
      ],
      "text/plain": [
       "[1] 4"
      ]
     },
     "metadata": {},
     "output_type": "display_data"
    }
   ],
   "source": [
    "ncol(A)"
   ]
  },
  {
   "cell_type": "code",
   "execution_count": 44,
   "id": "04f5b182-b97c-4d7d-b861-c3f535cdb765",
   "metadata": {},
   "outputs": [
    {
     "data": {
      "text/html": [
       "12"
      ],
      "text/latex": [
       "12"
      ],
      "text/markdown": [
       "12"
      ],
      "text/plain": [
       "[1] 12"
      ]
     },
     "metadata": {},
     "output_type": "display_data"
    }
   ],
   "source": [
    "prod(dim(A))"
   ]
  },
  {
   "cell_type": "code",
   "execution_count": 45,
   "id": "be7ce727-2186-4e89-961d-47a7a76b27cf",
   "metadata": {},
   "outputs": [
    {
     "data": {
      "text/html": [
       "12"
      ],
      "text/latex": [
       "12"
      ],
      "text/markdown": [
       "12"
      ],
      "text/plain": [
       "[1] 12"
      ]
     },
     "metadata": {},
     "output_type": "display_data"
    }
   ],
   "source": [
    "length(A)"
   ]
  },
  {
   "cell_type": "markdown",
   "id": "5f1281d5-6509-4d61-9eac-f4efde8de831",
   "metadata": {
    "jp-MarkdownHeadingCollapsed": true,
    "tags": []
   },
   "source": [
    "#### Accessing and deleting matrix elements"
   ]
  },
  {
   "cell_type": "markdown",
   "id": "34a451f6-4f37-4c13-b5c8-8948b5a6cbb1",
   "metadata": {},
   "source": [
    "Follows the same convention of the dataframes\n",
    "- __Accessing rows__: array/value __before__ `,`\n",
    "- __Accessing cols__: array/value __after__ `,`\n",
    "- __Removing rows/cols__: prefix '-' sign\n",
    "- Strings can be assigned to rows and column names via `rownames()` and `colnames()`."
   ]
  },
  {
   "cell_type": "code",
   "execution_count": 46,
   "id": "6b25a769-da1b-4d4e-969e-35946ea7d60d",
   "metadata": {},
   "outputs": [
    {
     "data": {
      "text/html": [
       "<table>\n",
       "<tbody>\n",
       "\t<tr><td>2 </td><td>5 </td><td> 8</td><td>11</td></tr>\n",
       "\t<tr><td>3 </td><td>6 </td><td> 9</td><td>12</td></tr>\n",
       "\t<tr><td>4 </td><td>7 </td><td>10</td><td>13</td></tr>\n",
       "</tbody>\n",
       "</table>\n"
      ],
      "text/latex": [
       "\\begin{tabular}{llll}\n",
       "\t 2  & 5  &  8 & 11\\\\\n",
       "\t 3  & 6  &  9 & 12\\\\\n",
       "\t 4  & 7  & 10 & 13\\\\\n",
       "\\end{tabular}\n"
      ],
      "text/markdown": [
       "\n",
       "| 2  | 5  |  8 | 11 |\n",
       "| 3  | 6  |  9 | 12 |\n",
       "| 4  | 7  | 10 | 13 |\n",
       "\n"
      ],
      "text/plain": [
       "     [,1] [,2] [,3] [,4]\n",
       "[1,] 2    5     8   11  \n",
       "[2,] 3    6     9   12  \n",
       "[3,] 4    7    10   13  "
      ]
     },
     "metadata": {},
     "output_type": "display_data"
    }
   ],
   "source": [
    "A"
   ]
  },
  {
   "cell_type": "code",
   "execution_count": 47,
   "id": "affece49-3052-420b-ba36-a589306547cf",
   "metadata": {},
   "outputs": [
    {
     "data": {
      "text/html": [
       "9"
      ],
      "text/latex": [
       "9"
      ],
      "text/markdown": [
       "9"
      ],
      "text/plain": [
       "[1] 9"
      ]
     },
     "metadata": {},
     "output_type": "display_data"
    }
   ],
   "source": [
    "# Let's try accessing element \"9\"..\n",
    "A[2, 3]"
   ]
  },
  {
   "cell_type": "code",
   "execution_count": 48,
   "id": "f7db467f-0034-486a-8dd7-756c65dd330d",
   "metadata": {},
   "outputs": [
    {
     "data": {
      "text/html": [
       "<table>\n",
       "<tbody>\n",
       "\t<tr><td>3 </td><td>6 </td><td> 9</td><td>12</td></tr>\n",
       "\t<tr><td>4 </td><td>7 </td><td>10</td><td>13</td></tr>\n",
       "</tbody>\n",
       "</table>\n"
      ],
      "text/latex": [
       "\\begin{tabular}{llll}\n",
       "\t 3  & 6  &  9 & 12\\\\\n",
       "\t 4  & 7  & 10 & 13\\\\\n",
       "\\end{tabular}\n"
      ],
      "text/markdown": [
       "\n",
       "| 3  | 6  |  9 | 12 |\n",
       "| 4  | 7  | 10 | 13 |\n",
       "\n"
      ],
      "text/plain": [
       "     [,1] [,2] [,3] [,4]\n",
       "[1,] 3    6     9   12  \n",
       "[2,] 4    7    10   13  "
      ]
     },
     "metadata": {},
     "output_type": "display_data"
    }
   ],
   "source": [
    "# Let's try accessing the rows 2 and 3\n",
    "A[2:3,]"
   ]
  },
  {
   "cell_type": "code",
   "execution_count": 50,
   "id": "34048550-70fa-44de-b9af-ab9750c46a15",
   "metadata": {},
   "outputs": [
    {
     "data": {
      "text/html": [
       "<table>\n",
       "<tbody>\n",
       "\t<tr><td>2 </td><td> 8</td><td>11</td></tr>\n",
       "\t<tr><td>3 </td><td> 9</td><td>12</td></tr>\n",
       "\t<tr><td>4 </td><td>10</td><td>13</td></tr>\n",
       "</tbody>\n",
       "</table>\n"
      ],
      "text/latex": [
       "\\begin{tabular}{lll}\n",
       "\t 2  &  8 & 11\\\\\n",
       "\t 3  &  9 & 12\\\\\n",
       "\t 4  & 10 & 13\\\\\n",
       "\\end{tabular}\n"
      ],
      "text/markdown": [
       "\n",
       "| 2  |  8 | 11 |\n",
       "| 3  |  9 | 12 |\n",
       "| 4  | 10 | 13 |\n",
       "\n"
      ],
      "text/plain": [
       "     [,1] [,2] [,3]\n",
       "[1,] 2     8   11  \n",
       "[2,] 3     9   12  \n",
       "[3,] 4    10   13  "
      ]
     },
     "metadata": {},
     "output_type": "display_data"
    }
   ],
   "source": [
    "# Let's try accessing columns 1, 3 and 4\n",
    "A[ , c(1, 3, 4)]"
   ]
  },
  {
   "cell_type": "code",
   "execution_count": 52,
   "id": "d438fe15-27d8-496e-9e80-d89dae7f27c4",
   "metadata": {},
   "outputs": [
    {
     "data": {
      "text/html": [
       "<table>\n",
       "<thead><tr><th></th><th scope=col>1st</th><th scope=col>2nd</th><th scope=col>3rd</th><th scope=col>4th</th></tr></thead>\n",
       "<tbody>\n",
       "\t<tr><th scope=row>i</th><td>2 </td><td>5 </td><td> 8</td><td>11</td></tr>\n",
       "\t<tr><th scope=row>ii</th><td>3 </td><td>6 </td><td> 9</td><td>12</td></tr>\n",
       "\t<tr><th scope=row>iii</th><td>4 </td><td>7 </td><td>10</td><td>13</td></tr>\n",
       "</tbody>\n",
       "</table>\n"
      ],
      "text/latex": [
       "\\begin{tabular}{r|llll}\n",
       "  & 1st & 2nd & 3rd & 4th\\\\\n",
       "\\hline\n",
       "\ti & 2  & 5  &  8 & 11\\\\\n",
       "\tii & 3  & 6  &  9 & 12\\\\\n",
       "\tiii & 4  & 7  & 10 & 13\\\\\n",
       "\\end{tabular}\n"
      ],
      "text/markdown": [
       "\n",
       "| <!--/--> | 1st | 2nd | 3rd | 4th |\n",
       "|---|---|---|---|---|\n",
       "| i | 2  | 5  |  8 | 11 |\n",
       "| ii | 3  | 6  |  9 | 12 |\n",
       "| iii | 4  | 7  | 10 | 13 |\n",
       "\n"
      ],
      "text/plain": [
       "    1st 2nd 3rd 4th\n",
       "i   2   5    8  11 \n",
       "ii  3   6    9  12 \n",
       "iii 4   7   10  13 "
      ]
     },
     "metadata": {},
     "output_type": "display_data"
    }
   ],
   "source": [
    "# Let's try assigning the names to the rows and cols..\n",
    "colnames(A) = c(\"1st\", \"2nd\", \"3rd\", \"4th\")\n",
    "rownames(A) = c(\"i\", \"ii\", \"iii\")\n",
    "A"
   ]
  },
  {
   "cell_type": "code",
   "execution_count": 56,
   "id": "7eb471da-fdd2-4a6e-98e5-cc5b8ea3f5fe",
   "metadata": {},
   "outputs": [
    {
     "data": {
      "text/html": [
       "<table>\n",
       "<thead><tr><th></th><th scope=col>1st</th><th scope=col>2nd</th><th scope=col>4th</th></tr></thead>\n",
       "<tbody>\n",
       "\t<tr><th scope=row>i</th><td>2 </td><td>5 </td><td>11</td></tr>\n",
       "\t<tr><th scope=row>iii</th><td>4 </td><td>7 </td><td>13</td></tr>\n",
       "</tbody>\n",
       "</table>\n"
      ],
      "text/latex": [
       "\\begin{tabular}{r|lll}\n",
       "  & 1st & 2nd & 4th\\\\\n",
       "\\hline\n",
       "\ti & 2  & 5  & 11\\\\\n",
       "\tiii & 4  & 7  & 13\\\\\n",
       "\\end{tabular}\n"
      ],
      "text/markdown": [
       "\n",
       "| <!--/--> | 1st | 2nd | 4th |\n",
       "|---|---|---|---|\n",
       "| i | 2  | 5  | 11 |\n",
       "| iii | 4  | 7  | 13 |\n",
       "\n"
      ],
      "text/plain": [
       "    1st 2nd 4th\n",
       "i   2   5   11 \n",
       "iii 4   7   13 "
      ]
     },
     "metadata": {},
     "output_type": "display_data"
    }
   ],
   "source": [
    "# Now let's try accessing the \"1st\", \"2nd\" and \"4th\" columns along with \"i\" and \"iii\" rows..\n",
    "A[ c(\"i\", \"iii\"), c(\"1st\", \"2nd\", \"4th\")]"
   ]
  },
  {
   "cell_type": "code",
   "execution_count": 57,
   "id": "9434d3ed-1d17-4bad-88bc-c290f128e8cd",
   "metadata": {},
   "outputs": [
    {
     "data": {
      "text/html": [
       "<table>\n",
       "<thead><tr><th></th><th scope=col>1st</th><th scope=col>2nd</th><th scope=col>3rd</th><th scope=col>4th</th></tr></thead>\n",
       "<tbody>\n",
       "\t<tr><th scope=row>i</th><td>2 </td><td>5 </td><td> 8</td><td>11</td></tr>\n",
       "\t<tr><th scope=row>iii</th><td>4 </td><td>7 </td><td>10</td><td>13</td></tr>\n",
       "</tbody>\n",
       "</table>\n"
      ],
      "text/latex": [
       "\\begin{tabular}{r|llll}\n",
       "  & 1st & 2nd & 3rd & 4th\\\\\n",
       "\\hline\n",
       "\ti & 2  & 5  &  8 & 11\\\\\n",
       "\tiii & 4  & 7  & 10 & 13\\\\\n",
       "\\end{tabular}\n"
      ],
      "text/markdown": [
       "\n",
       "| <!--/--> | 1st | 2nd | 3rd | 4th |\n",
       "|---|---|---|---|---|\n",
       "| i | 2  | 5  |  8 | 11 |\n",
       "| iii | 4  | 7  | 10 | 13 |\n",
       "\n"
      ],
      "text/plain": [
       "    1st 2nd 3rd 4th\n",
       "i   2   5    8  11 \n",
       "iii 4   7   10  13 "
      ]
     },
     "metadata": {},
     "output_type": "display_data"
    }
   ],
   "source": [
    "# Now, get the 1st and 3rd row..\n",
    "A[c(1, 3), ]"
   ]
  },
  {
   "cell_type": "code",
   "execution_count": 58,
   "id": "80421e39-7569-4e18-9768-02656baa9c72",
   "metadata": {},
   "outputs": [
    {
     "data": {
      "text/html": [
       "<dl class=dl-horizontal>\n",
       "\t<dt>i</dt>\n",
       "\t\t<dd>11</dd>\n",
       "\t<dt>ii</dt>\n",
       "\t\t<dd>12</dd>\n",
       "\t<dt>iii</dt>\n",
       "\t\t<dd>13</dd>\n",
       "</dl>\n"
      ],
      "text/latex": [
       "\\begin{description*}\n",
       "\\item[i] 11\n",
       "\\item[ii] 12\n",
       "\\item[iii] 13\n",
       "\\end{description*}\n"
      ],
      "text/markdown": [
       "i\n",
       ":   11ii\n",
       ":   12iii\n",
       ":   13\n",
       "\n"
      ],
      "text/plain": [
       "  i  ii iii \n",
       " 11  12  13 "
      ]
     },
     "metadata": {},
     "output_type": "display_data"
    }
   ],
   "source": [
    "# Now get the 4th column\n",
    "A[, 4]"
   ]
  },
  {
   "cell_type": "code",
   "execution_count": 59,
   "id": "1c5e87ba-7f77-4ec6-b706-ba1902975c4a",
   "metadata": {},
   "outputs": [
    {
     "data": {
      "text/html": [
       "<dl class=dl-horizontal>\n",
       "\t<dt>1st</dt>\n",
       "\t\t<dd>3</dd>\n",
       "\t<dt>2nd</dt>\n",
       "\t\t<dd>6</dd>\n",
       "\t<dt>3rd</dt>\n",
       "\t\t<dd>9</dd>\n",
       "\t<dt>4th</dt>\n",
       "\t\t<dd>12</dd>\n",
       "</dl>\n"
      ],
      "text/latex": [
       "\\begin{description*}\n",
       "\\item[1st] 3\n",
       "\\item[2nd] 6\n",
       "\\item[3rd] 9\n",
       "\\item[4th] 12\n",
       "\\end{description*}\n"
      ],
      "text/markdown": [
       "1st\n",
       ":   32nd\n",
       ":   63rd\n",
       ":   94th\n",
       ":   12\n",
       "\n"
      ],
      "text/plain": [
       "1st 2nd 3rd 4th \n",
       "  3   6   9  12 "
      ]
     },
     "metadata": {},
     "output_type": "display_data"
    }
   ],
   "source": [
    "# Get the 2nd row..\n",
    "A[2, ]"
   ]
  },
  {
   "cell_type": "code",
   "execution_count": 60,
   "id": "abe1332f-f394-4896-9c54-71aa83223f9d",
   "metadata": {},
   "outputs": [
    {
     "data": {
      "text/html": [
       "<table>\n",
       "<thead><tr><th></th><th scope=col>1st</th><th scope=col>2nd</th><th scope=col>3rd</th><th scope=col>4th</th></tr></thead>\n",
       "<tbody>\n",
       "\t<tr><th scope=row>i</th><td>2 </td><td>5 </td><td> 8</td><td>11</td></tr>\n",
       "\t<tr><th scope=row>iii</th><td>4 </td><td>7 </td><td>10</td><td>13</td></tr>\n",
       "</tbody>\n",
       "</table>\n"
      ],
      "text/latex": [
       "\\begin{tabular}{r|llll}\n",
       "  & 1st & 2nd & 3rd & 4th\\\\\n",
       "\\hline\n",
       "\ti & 2  & 5  &  8 & 11\\\\\n",
       "\tiii & 4  & 7  & 10 & 13\\\\\n",
       "\\end{tabular}\n"
      ],
      "text/markdown": [
       "\n",
       "| <!--/--> | 1st | 2nd | 3rd | 4th |\n",
       "|---|---|---|---|---|\n",
       "| i | 2  | 5  |  8 | 11 |\n",
       "| iii | 4  | 7  | 10 | 13 |\n",
       "\n"
      ],
      "text/plain": [
       "    1st 2nd 3rd 4th\n",
       "i   2   5    8  11 \n",
       "iii 4   7   10  13 "
      ]
     },
     "metadata": {},
     "output_type": "display_data"
    }
   ],
   "source": [
    "# Get all the rows, except the 2nd..\n",
    "A[-2, ]"
   ]
  },
  {
   "cell_type": "code",
   "execution_count": 61,
   "id": "33274e13-526e-4c74-9b7c-7fa9b2fce39b",
   "metadata": {},
   "outputs": [
    {
     "data": {
      "text/html": [
       "<table>\n",
       "<thead><tr><th></th><th scope=col>1st</th><th scope=col>4th</th></tr></thead>\n",
       "<tbody>\n",
       "\t<tr><th scope=row>i</th><td>2 </td><td>11</td></tr>\n",
       "\t<tr><th scope=row>ii</th><td>3 </td><td>12</td></tr>\n",
       "\t<tr><th scope=row>iii</th><td>4 </td><td>13</td></tr>\n",
       "</tbody>\n",
       "</table>\n"
      ],
      "text/latex": [
       "\\begin{tabular}{r|ll}\n",
       "  & 1st & 4th\\\\\n",
       "\\hline\n",
       "\ti & 2  & 11\\\\\n",
       "\tii & 3  & 12\\\\\n",
       "\tiii & 4  & 13\\\\\n",
       "\\end{tabular}\n"
      ],
      "text/markdown": [
       "\n",
       "| <!--/--> | 1st | 4th |\n",
       "|---|---|---|\n",
       "| i | 2  | 11 |\n",
       "| ii | 3  | 12 |\n",
       "| iii | 4  | 13 |\n",
       "\n"
      ],
      "text/plain": [
       "    1st 4th\n",
       "i   2   11 \n",
       "ii  3   12 \n",
       "iii 4   13 "
      ]
     },
     "metadata": {},
     "output_type": "display_data"
    }
   ],
   "source": [
    "# Get all the cols except 2nd and 3rd..\n",
    "A[, -c(2, 3)]"
   ]
  },
  {
   "cell_type": "code",
   "execution_count": 62,
   "id": "7aab4d01-748b-49ae-9c8e-697d21a81f0f",
   "metadata": {},
   "outputs": [
    {
     "data": {
      "text/html": [
       "<table>\n",
       "<thead><tr><th></th><th scope=col>1st</th><th scope=col>2nd</th><th scope=col>3rd</th><th scope=col>4th</th></tr></thead>\n",
       "<tbody>\n",
       "\t<tr><th scope=row>i</th><td>2 </td><td>5 </td><td> 8</td><td>11</td></tr>\n",
       "\t<tr><th scope=row>ii</th><td>3 </td><td>6 </td><td> 9</td><td>12</td></tr>\n",
       "\t<tr><th scope=row>iii</th><td>4 </td><td>7 </td><td>10</td><td>13</td></tr>\n",
       "</tbody>\n",
       "</table>\n"
      ],
      "text/latex": [
       "\\begin{tabular}{r|llll}\n",
       "  & 1st & 2nd & 3rd & 4th\\\\\n",
       "\\hline\n",
       "\ti & 2  & 5  &  8 & 11\\\\\n",
       "\tii & 3  & 6  &  9 & 12\\\\\n",
       "\tiii & 4  & 7  & 10 & 13\\\\\n",
       "\\end{tabular}\n"
      ],
      "text/markdown": [
       "\n",
       "| <!--/--> | 1st | 2nd | 3rd | 4th |\n",
       "|---|---|---|---|---|\n",
       "| i | 2  | 5  |  8 | 11 |\n",
       "| ii | 3  | 6  |  9 | 12 |\n",
       "| iii | 4  | 7  | 10 | 13 |\n",
       "\n"
      ],
      "text/plain": [
       "    1st 2nd 3rd 4th\n",
       "i   2   5    8  11 \n",
       "ii  3   6    9  12 \n",
       "iii 4   7   10  13 "
      ]
     },
     "metadata": {},
     "output_type": "display_data"
    }
   ],
   "source": [
    "A"
   ]
  },
  {
   "cell_type": "code",
   "execution_count": 64,
   "id": "5eaa6a66-7827-4787-84ed-e269be4d1c46",
   "metadata": {},
   "outputs": [
    {
     "data": {
      "text/html": [
       "<table>\n",
       "<thead><tr><th></th><th scope=col>1st</th><th scope=col>2nd</th><th scope=col>3rd</th><th scope=col>4th</th></tr></thead>\n",
       "<tbody>\n",
       "\t<tr><th scope=row>i</th><td>2  </td><td>5  </td><td>  8</td><td>11 </td></tr>\n",
       "\t<tr><th scope=row>ii</th><td>3  </td><td>6  </td><td>100</td><td>12 </td></tr>\n",
       "\t<tr><th scope=row>iii</th><td>4  </td><td>7  </td><td> 10</td><td>13 </td></tr>\n",
       "</tbody>\n",
       "</table>\n"
      ],
      "text/latex": [
       "\\begin{tabular}{r|llll}\n",
       "  & 1st & 2nd & 3rd & 4th\\\\\n",
       "\\hline\n",
       "\ti & 2   & 5   &   8 & 11 \\\\\n",
       "\tii & 3   & 6   & 100 & 12 \\\\\n",
       "\tiii & 4   & 7   &  10 & 13 \\\\\n",
       "\\end{tabular}\n"
      ],
      "text/markdown": [
       "\n",
       "| <!--/--> | 1st | 2nd | 3rd | 4th |\n",
       "|---|---|---|---|---|\n",
       "| i | 2   | 5   |   8 | 11  |\n",
       "| ii | 3   | 6   | 100 | 12  |\n",
       "| iii | 4   | 7   |  10 | 13  |\n",
       "\n"
      ],
      "text/plain": [
       "    1st 2nd 3rd 4th\n",
       "i   2   5     8 11 \n",
       "ii  3   6   100 12 \n",
       "iii 4   7    10 13 "
      ]
     },
     "metadata": {},
     "output_type": "display_data"
    }
   ],
   "source": [
    "# Update the (2, 3) to 100..\n",
    "A[2, 3] = 100\n",
    "A"
   ]
  },
  {
   "cell_type": "markdown",
   "id": "c8c627f4-03b3-4699-be26-a6f0f57e1fe1",
   "metadata": {
    "jp-MarkdownHeadingCollapsed": true,
    "tags": []
   },
   "source": [
    "#### Colon operator: Sub matrices selection"
   ]
  },
  {
   "cell_type": "code",
   "execution_count": 67,
   "id": "a388c576-a107-4c6f-b2f9-5f4194668ae6",
   "metadata": {},
   "outputs": [
    {
     "data": {
      "text/html": [
       "<ol class=list-inline>\n",
       "\t<li>4</li>\n",
       "\t<li>5</li>\n",
       "\t<li>6</li>\n",
       "\t<li>7</li>\n",
       "\t<li>8</li>\n",
       "\t<li>9</li>\n",
       "\t<li>10</li>\n",
       "</ol>\n"
      ],
      "text/latex": [
       "\\begin{enumerate*}\n",
       "\\item 4\n",
       "\\item 5\n",
       "\\item 6\n",
       "\\item 7\n",
       "\\item 8\n",
       "\\item 9\n",
       "\\item 10\n",
       "\\end{enumerate*}\n"
      ],
      "text/markdown": [
       "1. 4\n",
       "2. 5\n",
       "3. 6\n",
       "4. 7\n",
       "5. 8\n",
       "6. 9\n",
       "7. 10\n",
       "\n",
       "\n"
      ],
      "text/plain": [
       "[1]  4  5  6  7  8  9 10"
      ]
     },
     "metadata": {},
     "output_type": "display_data"
    },
    {
     "data": {
      "text/html": [
       "<ol class=list-inline>\n",
       "\t<li>7</li>\n",
       "\t<li>6</li>\n",
       "\t<li>5</li>\n",
       "\t<li>4</li>\n",
       "\t<li>3</li>\n",
       "\t<li>2</li>\n",
       "</ol>\n"
      ],
      "text/latex": [
       "\\begin{enumerate*}\n",
       "\\item 7\n",
       "\\item 6\n",
       "\\item 5\n",
       "\\item 4\n",
       "\\item 3\n",
       "\\item 2\n",
       "\\end{enumerate*}\n"
      ],
      "text/markdown": [
       "1. 7\n",
       "2. 6\n",
       "3. 5\n",
       "4. 4\n",
       "5. 3\n",
       "6. 2\n",
       "\n",
       "\n"
      ],
      "text/plain": [
       "[1] 7 6 5 4 3 2"
      ]
     },
     "metadata": {},
     "output_type": "display_data"
    }
   ],
   "source": [
    "4:10\n",
    "7:2"
   ]
  },
  {
   "cell_type": "code",
   "execution_count": 68,
   "id": "42978627-cab4-4a25-b41d-aabf6fd91626",
   "metadata": {},
   "outputs": [
    {
     "data": {
      "text/html": [
       "<table>\n",
       "<thead><tr><th></th><th scope=col>1st</th><th scope=col>2nd</th><th scope=col>3rd</th><th scope=col>4th</th></tr></thead>\n",
       "<tbody>\n",
       "\t<tr><th scope=row>i</th><td>2  </td><td>5  </td><td>  8</td><td>11 </td></tr>\n",
       "\t<tr><th scope=row>ii</th><td>3  </td><td>6  </td><td>100</td><td>12 </td></tr>\n",
       "\t<tr><th scope=row>iii</th><td>4  </td><td>7  </td><td> 10</td><td>13 </td></tr>\n",
       "</tbody>\n",
       "</table>\n"
      ],
      "text/latex": [
       "\\begin{tabular}{r|llll}\n",
       "  & 1st & 2nd & 3rd & 4th\\\\\n",
       "\\hline\n",
       "\ti & 2   & 5   &   8 & 11 \\\\\n",
       "\tii & 3   & 6   & 100 & 12 \\\\\n",
       "\tiii & 4   & 7   &  10 & 13 \\\\\n",
       "\\end{tabular}\n"
      ],
      "text/markdown": [
       "\n",
       "| <!--/--> | 1st | 2nd | 3rd | 4th |\n",
       "|---|---|---|---|---|\n",
       "| i | 2   | 5   |   8 | 11  |\n",
       "| ii | 3   | 6   | 100 | 12  |\n",
       "| iii | 4   | 7   |  10 | 13  |\n",
       "\n"
      ],
      "text/plain": [
       "    1st 2nd 3rd 4th\n",
       "i   2   5     8 11 \n",
       "ii  3   6   100 12 \n",
       "iii 4   7    10 13 "
      ]
     },
     "metadata": {},
     "output_type": "display_data"
    }
   ],
   "source": [
    "A"
   ]
  },
  {
   "cell_type": "code",
   "execution_count": 69,
   "id": "6fb6d711-6a26-4a75-b7f2-781e873cadde",
   "metadata": {},
   "outputs": [
    {
     "data": {
      "text/html": [
       "<table>\n",
       "<thead><tr><th></th><th scope=col>1st</th><th scope=col>2nd</th><th scope=col>3rd</th></tr></thead>\n",
       "<tbody>\n",
       "\t<tr><th scope=row>ii</th><td>3  </td><td>6  </td><td>100</td></tr>\n",
       "\t<tr><th scope=row>iii</th><td>4  </td><td>7  </td><td> 10</td></tr>\n",
       "</tbody>\n",
       "</table>\n"
      ],
      "text/latex": [
       "\\begin{tabular}{r|lll}\n",
       "  & 1st & 2nd & 3rd\\\\\n",
       "\\hline\n",
       "\tii & 3   & 6   & 100\\\\\n",
       "\tiii & 4   & 7   &  10\\\\\n",
       "\\end{tabular}\n"
      ],
      "text/markdown": [
       "\n",
       "| <!--/--> | 1st | 2nd | 3rd |\n",
       "|---|---|---|---|\n",
       "| ii | 3   | 6   | 100 |\n",
       "| iii | 4   | 7   |  10 |\n",
       "\n"
      ],
      "text/plain": [
       "    1st 2nd 3rd\n",
       "ii  3   6   100\n",
       "iii 4   7    10"
      ]
     },
     "metadata": {},
     "output_type": "display_data"
    }
   ],
   "source": [
    "# Get the First-3 columns, and last two rows..\n",
    "A[2:3, 1:3]"
   ]
  },
  {
   "cell_type": "code",
   "execution_count": 70,
   "id": "b342fef8-5716-4c68-b054-0717b4d21bc4",
   "metadata": {},
   "outputs": [
    {
     "data": {
      "text/html": [
       "<table>\n",
       "<thead><tr><th></th><th scope=col>2nd</th><th scope=col>3rd</th></tr></thead>\n",
       "<tbody>\n",
       "\t<tr><th scope=row>i</th><td>5 </td><td> 8</td></tr>\n",
       "\t<tr><th scope=row>iii</th><td>7 </td><td>10</td></tr>\n",
       "</tbody>\n",
       "</table>\n"
      ],
      "text/latex": [
       "\\begin{tabular}{r|ll}\n",
       "  & 2nd & 3rd\\\\\n",
       "\\hline\n",
       "\ti & 5  &  8\\\\\n",
       "\tiii & 7  & 10\\\\\n",
       "\\end{tabular}\n"
      ],
      "text/markdown": [
       "\n",
       "| <!--/--> | 2nd | 3rd |\n",
       "|---|---|---|\n",
       "| i | 5  |  8 |\n",
       "| iii | 7  | 10 |\n",
       "\n"
      ],
      "text/plain": [
       "    2nd 3rd\n",
       "i   5    8 \n",
       "iii 7   10 "
      ]
     },
     "metadata": {},
     "output_type": "display_data"
    }
   ],
   "source": [
    "# Get the 1st and 3rd rows being only 2nd, 3rd cols elements..\n",
    "A[c(1, 3), 2:3]"
   ]
  },
  {
   "cell_type": "markdown",
   "id": "968e451b-9021-4123-ae0c-d8b045510eb1",
   "metadata": {
    "jp-MarkdownHeadingCollapsed": true,
    "tags": []
   },
   "source": [
    "#### Matrix Concatenation"
   ]
  },
  {
   "cell_type": "markdown",
   "id": "342c119e-863e-46ac-99d3-1d0b811448e3",
   "metadata": {
    "jp-MarkdownHeadingCollapsed": true,
    "tags": []
   },
   "source": [
    "Merging of a row and column to a matrix.\n",
    "- `rbind()`: Concatenation of a row.\n",
    "- `cbind()`: Concatenation of a column.\n",
    "\n",
    "__NOTE__: Check the dimensional consistency before concatenation."
   ]
  },
  {
   "cell_type": "markdown",
   "id": "06b892e3-460d-446b-be2f-6358931d4fcc",
   "metadata": {
    "tags": []
   },
   "source": [
    "##### `rbind()`: Concatenation of rows.."
   ]
  },
  {
   "cell_type": "markdown",
   "id": "918f3601-6e31-4c37-82a2-5c61418ab38f",
   "metadata": {},
   "source": [
    "Let, \n",
    "$\n",
    "A = \\begin{bmatrix}\n",
    "1 & 2 & 3 \\\\\n",
    "4 & 5 & 6 \\\\\n",
    "7 & 8 & 9\n",
    "\\end{bmatrix}\n",
    "$\n",
    "\n",
    "$\n",
    "B = \\begin{bmatrix}\n",
    "10 & 11 & 12\\\\\n",
    "\\end{bmatrix}\n",
    "$\n",
    "\n",
    "and required as\n",
    "$\n",
    "C = \\begin{bmatrix}\n",
    "A \\\\\n",
    "B\n",
    "\\end{bmatrix}\n",
    "$"
   ]
  },
  {
   "cell_type": "code",
   "execution_count": 73,
   "id": "73b04683-1bb9-413b-bacf-3e7837b65180",
   "metadata": {},
   "outputs": [
    {
     "data": {
      "text/html": [
       "<table>\n",
       "<tbody>\n",
       "\t<tr><td>1</td><td>2</td><td>3</td></tr>\n",
       "\t<tr><td>4</td><td>5</td><td>6</td></tr>\n",
       "\t<tr><td>7</td><td>8</td><td>9</td></tr>\n",
       "</tbody>\n",
       "</table>\n"
      ],
      "text/latex": [
       "\\begin{tabular}{lll}\n",
       "\t 1 & 2 & 3\\\\\n",
       "\t 4 & 5 & 6\\\\\n",
       "\t 7 & 8 & 9\\\\\n",
       "\\end{tabular}\n"
      ],
      "text/markdown": [
       "\n",
       "| 1 | 2 | 3 |\n",
       "| 4 | 5 | 6 |\n",
       "| 7 | 8 | 9 |\n",
       "\n"
      ],
      "text/plain": [
       "     [,1] [,2] [,3]\n",
       "[1,] 1    2    3   \n",
       "[2,] 4    5    6   \n",
       "[3,] 7    8    9   "
      ]
     },
     "metadata": {},
     "output_type": "display_data"
    },
    {
     "data": {
      "text/html": [
       "<table>\n",
       "<tbody>\n",
       "\t<tr><td>10</td><td>11</td><td>12</td></tr>\n",
       "</tbody>\n",
       "</table>\n"
      ],
      "text/latex": [
       "\\begin{tabular}{lll}\n",
       "\t 10 & 11 & 12\\\\\n",
       "\\end{tabular}\n"
      ],
      "text/markdown": [
       "\n",
       "| 10 | 11 | 12 |\n",
       "\n"
      ],
      "text/plain": [
       "     [,1] [,2] [,3]\n",
       "[1,] 10   11   12  "
      ]
     },
     "metadata": {},
     "output_type": "display_data"
    }
   ],
   "source": [
    "A = matrix(1:9, nrow=3, byrow=T)\n",
    "A\n",
    "B = matrix(10:12, nrow=1, byrow=T)\n",
    "B"
   ]
  },
  {
   "cell_type": "code",
   "execution_count": 74,
   "id": "0987a1a2-581d-4062-96f4-9c5793728529",
   "metadata": {},
   "outputs": [
    {
     "data": {
      "text/html": [
       "<table>\n",
       "<tbody>\n",
       "\t<tr><td> 1</td><td> 2</td><td> 3</td></tr>\n",
       "\t<tr><td> 4</td><td> 5</td><td> 6</td></tr>\n",
       "\t<tr><td> 7</td><td> 8</td><td> 9</td></tr>\n",
       "\t<tr><td>10</td><td>11</td><td>12</td></tr>\n",
       "</tbody>\n",
       "</table>\n"
      ],
      "text/latex": [
       "\\begin{tabular}{lll}\n",
       "\t  1 &  2 &  3\\\\\n",
       "\t  4 &  5 &  6\\\\\n",
       "\t  7 &  8 &  9\\\\\n",
       "\t 10 & 11 & 12\\\\\n",
       "\\end{tabular}\n"
      ],
      "text/markdown": [
       "\n",
       "|  1 |  2 |  3 |\n",
       "|  4 |  5 |  6 |\n",
       "|  7 |  8 |  9 |\n",
       "| 10 | 11 | 12 |\n",
       "\n"
      ],
      "text/plain": [
       "     [,1] [,2] [,3]\n",
       "[1,]  1    2    3  \n",
       "[2,]  4    5    6  \n",
       "[3,]  7    8    9  \n",
       "[4,] 10   11   12  "
      ]
     },
     "metadata": {},
     "output_type": "display_data"
    }
   ],
   "source": [
    "rbind(A, B)"
   ]
  },
  {
   "cell_type": "markdown",
   "id": "c751290f-c92b-43b0-ae8b-b4dfda4a9fb3",
   "metadata": {
    "tags": []
   },
   "source": [
    "##### `cbind()`: Concatenation of column(s)"
   ]
  },
  {
   "cell_type": "markdown",
   "id": "1828b685-1132-4274-9abe-99552ac73171",
   "metadata": {},
   "source": [
    "Let, \n",
    "$\n",
    "A = \\begin{bmatrix}\n",
    "1 & 2 & 3 \\\\\n",
    "4 & 5 & 6 \\\\\n",
    "7 & 8 & 9\n",
    "\\end{bmatrix}\n",
    "$\n",
    "\n",
    "$\n",
    "B = \\begin{bmatrix}\n",
    "10 \\\\\n",
    "11 \\\\ \n",
    "12\n",
    "\\end{bmatrix}\n",
    "$\n",
    "\n",
    "and required as\n",
    "$\n",
    "C = \\begin{bmatrix}\n",
    "A & B\n",
    "\\end{bmatrix}\n",
    "$.. now.."
   ]
  },
  {
   "cell_type": "code",
   "execution_count": 77,
   "id": "097714af-0eaf-48e4-a7aa-16474d744188",
   "metadata": {},
   "outputs": [
    {
     "data": {
      "text/html": [
       "<table>\n",
       "<tbody>\n",
       "\t<tr><td>1</td><td>2</td><td>3</td></tr>\n",
       "\t<tr><td>4</td><td>5</td><td>6</td></tr>\n",
       "\t<tr><td>7</td><td>8</td><td>9</td></tr>\n",
       "</tbody>\n",
       "</table>\n"
      ],
      "text/latex": [
       "\\begin{tabular}{lll}\n",
       "\t 1 & 2 & 3\\\\\n",
       "\t 4 & 5 & 6\\\\\n",
       "\t 7 & 8 & 9\\\\\n",
       "\\end{tabular}\n"
      ],
      "text/markdown": [
       "\n",
       "| 1 | 2 | 3 |\n",
       "| 4 | 5 | 6 |\n",
       "| 7 | 8 | 9 |\n",
       "\n"
      ],
      "text/plain": [
       "     [,1] [,2] [,3]\n",
       "[1,] 1    2    3   \n",
       "[2,] 4    5    6   \n",
       "[3,] 7    8    9   "
      ]
     },
     "metadata": {},
     "output_type": "display_data"
    },
    {
     "data": {
      "text/html": [
       "<table>\n",
       "<tbody>\n",
       "\t<tr><td>10</td></tr>\n",
       "\t<tr><td>11</td></tr>\n",
       "\t<tr><td>12</td></tr>\n",
       "</tbody>\n",
       "</table>\n"
      ],
      "text/latex": [
       "\\begin{tabular}{l}\n",
       "\t 10\\\\\n",
       "\t 11\\\\\n",
       "\t 12\\\\\n",
       "\\end{tabular}\n"
      ],
      "text/markdown": [
       "\n",
       "| 10 |\n",
       "| 11 |\n",
       "| 12 |\n",
       "\n"
      ],
      "text/plain": [
       "     [,1]\n",
       "[1,] 10  \n",
       "[2,] 11  \n",
       "[3,] 12  "
      ]
     },
     "metadata": {},
     "output_type": "display_data"
    }
   ],
   "source": [
    "A\n",
    "B = matrix(10: 12) # By default takes as column..\n",
    "B"
   ]
  },
  {
   "cell_type": "code",
   "execution_count": 78,
   "id": "404cbbea-6fe0-42cb-b96f-c9a7c6f6eae0",
   "metadata": {},
   "outputs": [
    {
     "data": {
      "text/html": [
       "<table>\n",
       "<tbody>\n",
       "\t<tr><td>1 </td><td>2 </td><td>3 </td><td>10</td></tr>\n",
       "\t<tr><td>4 </td><td>5 </td><td>6 </td><td>11</td></tr>\n",
       "\t<tr><td>7 </td><td>8 </td><td>9 </td><td>12</td></tr>\n",
       "</tbody>\n",
       "</table>\n"
      ],
      "text/latex": [
       "\\begin{tabular}{llll}\n",
       "\t 1  & 2  & 3  & 10\\\\\n",
       "\t 4  & 5  & 6  & 11\\\\\n",
       "\t 7  & 8  & 9  & 12\\\\\n",
       "\\end{tabular}\n"
      ],
      "text/markdown": [
       "\n",
       "| 1  | 2  | 3  | 10 |\n",
       "| 4  | 5  | 6  | 11 |\n",
       "| 7  | 8  | 9  | 12 |\n",
       "\n"
      ],
      "text/plain": [
       "     [,1] [,2] [,3] [,4]\n",
       "[1,] 1    2    3    10  \n",
       "[2,] 4    5    6    11  \n",
       "[3,] 7    8    9    12  "
      ]
     },
     "metadata": {},
     "output_type": "display_data"
    }
   ],
   "source": [
    "cbind(A, B)"
   ]
  },
  {
   "cell_type": "markdown",
   "id": "819fbf1b-8ef8-40e5-b55f-742cc1c7626b",
   "metadata": {
    "jp-MarkdownHeadingCollapsed": true,
    "tags": []
   },
   "source": [
    "##### Dimensional Inconsitency.."
   ]
  },
  {
   "cell_type": "markdown",
   "id": "9c175b5f-7340-4baf-a2e1-42826dc9fcbd",
   "metadata": {},
   "source": [
    "Test on `rbind()`:\n",
    "****\n",
    "$\n",
    "A = \\begin{bmatrix}\n",
    "1 & 2 & 3 \\\\\n",
    "4 & 5 & 6 \\\\\n",
    "7 & 8 & 9\n",
    "\\end{bmatrix}\n",
    "$\n",
    "\n",
    "$\n",
    "B = \\begin{bmatrix}\n",
    "10 \\\\\n",
    "11 \\\\ \n",
    "12\n",
    "\\end{bmatrix}\n",
    "$\n",
    "\n",
    "\n",
    "and required as\n",
    "$\n",
    "C = \\begin{bmatrix}\n",
    "A \\\\\n",
    "B\n",
    "\\end{bmatrix}\n",
    "$ (i.e., `rbind()`) -- will this work..? __NO__\n",
    "\n",
    "> as $A$ has dimension of $3x3$, where as $B$ had $3x1$.\n",
    "  __For `rbind()`, columns in both must match__ right..??? here `3 != 1` -- _i.e., outer values in dimensions aren't same._ "
   ]
  },
  {
   "cell_type": "code",
   "execution_count": 84,
   "id": "ca900001-e303-4499-a403-a25b8560c6a6",
   "metadata": {},
   "outputs": [
    {
     "data": {
      "text/html": [
       "<table>\n",
       "<tbody>\n",
       "\t<tr><td>1</td><td>2</td><td>3</td></tr>\n",
       "\t<tr><td>4</td><td>5</td><td>6</td></tr>\n",
       "\t<tr><td>7</td><td>8</td><td>9</td></tr>\n",
       "</tbody>\n",
       "</table>\n"
      ],
      "text/latex": [
       "\\begin{tabular}{lll}\n",
       "\t 1 & 2 & 3\\\\\n",
       "\t 4 & 5 & 6\\\\\n",
       "\t 7 & 8 & 9\\\\\n",
       "\\end{tabular}\n"
      ],
      "text/markdown": [
       "\n",
       "| 1 | 2 | 3 |\n",
       "| 4 | 5 | 6 |\n",
       "| 7 | 8 | 9 |\n",
       "\n"
      ],
      "text/plain": [
       "     [,1] [,2] [,3]\n",
       "[1,] 1    2    3   \n",
       "[2,] 4    5    6   \n",
       "[3,] 7    8    9   "
      ]
     },
     "metadata": {},
     "output_type": "display_data"
    },
    {
     "data": {
      "text/html": [
       "<table>\n",
       "<tbody>\n",
       "\t<tr><td>10</td></tr>\n",
       "\t<tr><td>11</td></tr>\n",
       "\t<tr><td>12</td></tr>\n",
       "</tbody>\n",
       "</table>\n"
      ],
      "text/latex": [
       "\\begin{tabular}{l}\n",
       "\t 10\\\\\n",
       "\t 11\\\\\n",
       "\t 12\\\\\n",
       "\\end{tabular}\n"
      ],
      "text/markdown": [
       "\n",
       "| 10 |\n",
       "| 11 |\n",
       "| 12 |\n",
       "\n"
      ],
      "text/plain": [
       "     [,1]\n",
       "[1,] 10  \n",
       "[2,] 11  \n",
       "[3,] 12  "
      ]
     },
     "metadata": {},
     "output_type": "display_data"
    },
    {
     "ename": "ERROR",
     "evalue": "Error in rbind(A, B): number of columns of matrices must match (see arg 2)\n",
     "output_type": "error",
     "traceback": [
      "Error in rbind(A, B): number of columns of matrices must match (see arg 2)\nTraceback:\n",
      "1. rbind(A, B)"
     ]
    }
   ],
   "source": [
    "A = matrix(1:9, nrow=3, byrow=T)\n",
    "A\n",
    "B = matrix(10: 12) # By default takes as column..\n",
    "B\n",
    "rbind(A, B)"
   ]
  },
  {
   "cell_type": "markdown",
   "id": "15df7a89-2347-4cd9-bac3-adc00b506050",
   "metadata": {},
   "source": [
    "Test on `cbind()`:\n",
    "****\n",
    "$\n",
    "A = \\begin{bmatrix}\n",
    "1 & 2 & 3 \\\\\n",
    "4 & 5 & 6 \\\\\n",
    "7 & 8 & 9\n",
    "\\end{bmatrix}\n",
    "$\n",
    "\n",
    "$\n",
    "B = \\begin{bmatrix}\n",
    "10 & 11 & 12\\\\\n",
    "\\end{bmatrix}\n",
    "$\n",
    "\n",
    "\n",
    "and required as\n",
    "$\n",
    "C = \\begin{bmatrix}\n",
    "A &\n",
    "B\n",
    "\\end{bmatrix}\n",
    "$ (i.e., `cbind()`) -- will this work..? __NO__\n",
    "\n",
    "> as $A$ has dimension of $3x3$, where as $B$ had $1x3$.\n",
    "  __For `cbind()`, rows in both must match__ right..??? here `3 != 1` -- _i.e., inner values in dimensions aren't same._ "
   ]
  },
  {
   "cell_type": "code",
   "execution_count": 80,
   "id": "90cfffe2-0bc7-413a-830e-2e08811e3ba1",
   "metadata": {},
   "outputs": [
    {
     "data": {
      "text/html": [
       "<table>\n",
       "<tbody>\n",
       "\t<tr><td>10</td><td>11</td><td>12</td></tr>\n",
       "</tbody>\n",
       "</table>\n"
      ],
      "text/latex": [
       "\\begin{tabular}{lll}\n",
       "\t 10 & 11 & 12\\\\\n",
       "\\end{tabular}\n"
      ],
      "text/markdown": [
       "\n",
       "| 10 | 11 | 12 |\n",
       "\n"
      ],
      "text/plain": [
       "     [,1] [,2] [,3]\n",
       "[1,] 10   11   12  "
      ]
     },
     "metadata": {},
     "output_type": "display_data"
    }
   ],
   "source": [
    "B = matrix(10:12, nrow=1, byrow=T)\n",
    "B"
   ]
  },
  {
   "cell_type": "code",
   "execution_count": 81,
   "id": "ef9b7e86-ca2e-4906-93f9-6bc7476ce23a",
   "metadata": {},
   "outputs": [
    {
     "ename": "ERROR",
     "evalue": "Error in cbind(A, B): number of rows of matrices must match (see arg 2)\n",
     "output_type": "error",
     "traceback": [
      "Error in cbind(A, B): number of rows of matrices must match (see arg 2)\nTraceback:\n",
      "1. cbind(A, B)"
     ]
    }
   ],
   "source": [
    "cbind(A, B)"
   ]
  },
  {
   "cell_type": "markdown",
   "id": "2b8cbdfc-ca54-4701-93aa-444c400eff0e",
   "metadata": {
    "jp-MarkdownHeadingCollapsed": true,
    "tags": []
   },
   "source": [
    "#### Deleting a column"
   ]
  },
  {
   "cell_type": "markdown",
   "id": "b0a8f3ad-53ec-4737-a35f-32a6a0e135b6",
   "metadata": {},
   "source": [
    "Prefix the `-` sign before the column..\n",
    "\n",
    "Ex:"
   ]
  },
  {
   "cell_type": "code",
   "execution_count": 87,
   "id": "4de85d5f-9f42-40f3-96df-7ac2f60dd2cb",
   "metadata": {},
   "outputs": [
    {
     "data": {
      "text/html": [
       "<table>\n",
       "<tbody>\n",
       "\t<tr><td>1</td><td>2</td><td>3</td></tr>\n",
       "\t<tr><td>4</td><td>5</td><td>6</td></tr>\n",
       "\t<tr><td>7</td><td>8</td><td>9</td></tr>\n",
       "</tbody>\n",
       "</table>\n"
      ],
      "text/latex": [
       "\\begin{tabular}{lll}\n",
       "\t 1 & 2 & 3\\\\\n",
       "\t 4 & 5 & 6\\\\\n",
       "\t 7 & 8 & 9\\\\\n",
       "\\end{tabular}\n"
      ],
      "text/markdown": [
       "\n",
       "| 1 | 2 | 3 |\n",
       "| 4 | 5 | 6 |\n",
       "| 7 | 8 | 9 |\n",
       "\n"
      ],
      "text/plain": [
       "     [,1] [,2] [,3]\n",
       "[1,] 1    2    3   \n",
       "[2,] 4    5    6   \n",
       "[3,] 7    8    9   "
      ]
     },
     "metadata": {},
     "output_type": "display_data"
    }
   ],
   "source": [
    "A"
   ]
  },
  {
   "cell_type": "code",
   "execution_count": 88,
   "id": "bd3c4ce7-d25a-4199-a3df-b1a58a007bf3",
   "metadata": {},
   "outputs": [
    {
     "data": {
      "text/html": [
       "<table>\n",
       "<tbody>\n",
       "\t<tr><td>1</td><td>3</td></tr>\n",
       "\t<tr><td>4</td><td>6</td></tr>\n",
       "\t<tr><td>7</td><td>9</td></tr>\n",
       "</tbody>\n",
       "</table>\n"
      ],
      "text/latex": [
       "\\begin{tabular}{ll}\n",
       "\t 1 & 3\\\\\n",
       "\t 4 & 6\\\\\n",
       "\t 7 & 9\\\\\n",
       "\\end{tabular}\n"
      ],
      "text/markdown": [
       "\n",
       "| 1 | 3 |\n",
       "| 4 | 6 |\n",
       "| 7 | 9 |\n",
       "\n"
      ],
      "text/plain": [
       "     [,1] [,2]\n",
       "[1,] 1    3   \n",
       "[2,] 4    6   \n",
       "[3,] 7    9   "
      ]
     },
     "metadata": {},
     "output_type": "display_data"
    }
   ],
   "source": [
    "# Try deleting the column 2\n",
    "A[, -2]"
   ]
  },
  {
   "cell_type": "markdown",
   "id": "d013cb7a-a70d-4572-8633-3ad80ae1c415",
   "metadata": {
    "jp-MarkdownHeadingCollapsed": true,
    "tags": []
   },
   "source": [
    "#### Deleting a row"
   ]
  },
  {
   "cell_type": "code",
   "execution_count": 89,
   "id": "b577dca2-0ca9-4fd2-aa14-42125a199d10",
   "metadata": {},
   "outputs": [
    {
     "data": {
      "text/html": [
       "<table>\n",
       "<tbody>\n",
       "\t<tr><td>1</td><td>2</td><td>3</td></tr>\n",
       "\t<tr><td>7</td><td>8</td><td>9</td></tr>\n",
       "</tbody>\n",
       "</table>\n"
      ],
      "text/latex": [
       "\\begin{tabular}{lll}\n",
       "\t 1 & 2 & 3\\\\\n",
       "\t 7 & 8 & 9\\\\\n",
       "\\end{tabular}\n"
      ],
      "text/markdown": [
       "\n",
       "| 1 | 2 | 3 |\n",
       "| 7 | 8 | 9 |\n",
       "\n"
      ],
      "text/plain": [
       "     [,1] [,2] [,3]\n",
       "[1,] 1    2    3   \n",
       "[2,] 7    8    9   "
      ]
     },
     "metadata": {},
     "output_type": "display_data"
    }
   ],
   "source": [
    "# Try deleting the row 2\n",
    "A[-2, ]"
   ]
  },
  {
   "cell_type": "markdown",
   "id": "c463829d-3345-4407-acb2-086977521cbc",
   "metadata": {
    "tags": []
   },
   "source": [
    "### Matrix Algebra"
   ]
  },
  {
   "cell_type": "code",
   "execution_count": 92,
   "id": "90ceec36-fc4f-42c5-939e-054b26556064",
   "metadata": {},
   "outputs": [
    {
     "data": {
      "text/html": [
       "<table>\n",
       "<tbody>\n",
       "\t<tr><td>3</td><td>4</td><td>6</td><td>7</td></tr>\n",
       "\t<tr><td>2</td><td>3</td><td>5</td><td>6</td></tr>\n",
       "\t<tr><td>5</td><td>8</td><td>3</td><td>5</td></tr>\n",
       "</tbody>\n",
       "</table>\n"
      ],
      "text/latex": [
       "\\begin{tabular}{llll}\n",
       "\t 3 & 4 & 6 & 7\\\\\n",
       "\t 2 & 3 & 5 & 6\\\\\n",
       "\t 5 & 8 & 3 & 5\\\\\n",
       "\\end{tabular}\n"
      ],
      "text/markdown": [
       "\n",
       "| 3 | 4 | 6 | 7 |\n",
       "| 2 | 3 | 5 | 6 |\n",
       "| 5 | 8 | 3 | 5 |\n",
       "\n"
      ],
      "text/plain": [
       "     [,1] [,2] [,3] [,4]\n",
       "[1,] 3    4    6    7   \n",
       "[2,] 2    3    5    6   \n",
       "[3,] 5    8    3    5   "
      ]
     },
     "metadata": {},
     "output_type": "display_data"
    },
    {
     "data": {
      "text/html": [
       "<table>\n",
       "<tbody>\n",
       "\t<tr><td>5</td><td>4</td><td>3</td><td>7</td></tr>\n",
       "\t<tr><td>2</td><td>8</td><td>9</td><td>2</td></tr>\n",
       "\t<tr><td>4</td><td>5</td><td>7</td><td>1</td></tr>\n",
       "</tbody>\n",
       "</table>\n"
      ],
      "text/latex": [
       "\\begin{tabular}{llll}\n",
       "\t 5 & 4 & 3 & 7\\\\\n",
       "\t 2 & 8 & 9 & 2\\\\\n",
       "\t 4 & 5 & 7 & 1\\\\\n",
       "\\end{tabular}\n"
      ],
      "text/markdown": [
       "\n",
       "| 5 | 4 | 3 | 7 |\n",
       "| 2 | 8 | 9 | 2 |\n",
       "| 4 | 5 | 7 | 1 |\n",
       "\n"
      ],
      "text/plain": [
       "     [,1] [,2] [,3] [,4]\n",
       "[1,] 5    4    3    7   \n",
       "[2,] 2    8    9    2   \n",
       "[3,] 4    5    7    1   "
      ]
     },
     "metadata": {},
     "output_type": "display_data"
    }
   ],
   "source": [
    "P = matrix(c(3, 4, 6, 7, 2, 3, 5, 6, 5, 8, 3, 5), nrow=3, byrow=T)\n",
    "P\n",
    "Q = matrix(c(5, 4, 3, 7, 2, 8, 9, 2, 4, 5, 7, 1), nrow=3, byrow=T)\n",
    "Q"
   ]
  },
  {
   "cell_type": "markdown",
   "id": "337ca7e0-18d9-4bec-85c1-6c2867af1eb3",
   "metadata": {},
   "source": [
    "#### Matrix Addition"
   ]
  },
  {
   "cell_type": "code",
   "execution_count": 96,
   "id": "413cd927-9bad-4407-8199-41587c24c585",
   "metadata": {},
   "outputs": [
    {
     "data": {
      "text/html": [
       "<table>\n",
       "<tbody>\n",
       "\t<tr><td>8 </td><td> 8</td><td> 9</td><td>14</td></tr>\n",
       "\t<tr><td>4 </td><td>11</td><td>14</td><td> 8</td></tr>\n",
       "\t<tr><td>9 </td><td>13</td><td>10</td><td> 6</td></tr>\n",
       "</tbody>\n",
       "</table>\n"
      ],
      "text/latex": [
       "\\begin{tabular}{llll}\n",
       "\t 8  &  8 &  9 & 14\\\\\n",
       "\t 4  & 11 & 14 &  8\\\\\n",
       "\t 9  & 13 & 10 &  6\\\\\n",
       "\\end{tabular}\n"
      ],
      "text/markdown": [
       "\n",
       "| 8  |  8 |  9 | 14 |\n",
       "| 4  | 11 | 14 |  8 |\n",
       "| 9  | 13 | 10 |  6 |\n",
       "\n"
      ],
      "text/plain": [
       "     [,1] [,2] [,3] [,4]\n",
       "[1,] 8     8    9   14  \n",
       "[2,] 4    11   14    8  \n",
       "[3,] 9    13   10    6  "
      ]
     },
     "metadata": {},
     "output_type": "display_data"
    }
   ],
   "source": [
    "P+Q"
   ]
  },
  {
   "cell_type": "markdown",
   "id": "70157eb6-2f1b-4e50-bd0a-086f88d703d8",
   "metadata": {},
   "source": [
    "#### Matrix Subtraction"
   ]
  },
  {
   "cell_type": "code",
   "execution_count": 97,
   "id": "e1696826-9c3d-48a6-b114-f6071fe9d45e",
   "metadata": {},
   "outputs": [
    {
     "data": {
      "text/html": [
       "<table>\n",
       "<tbody>\n",
       "\t<tr><td>-2</td><td> 0</td><td> 3</td><td>0 </td></tr>\n",
       "\t<tr><td> 0</td><td>-5</td><td>-4</td><td>4 </td></tr>\n",
       "\t<tr><td> 1</td><td> 3</td><td>-4</td><td>4 </td></tr>\n",
       "</tbody>\n",
       "</table>\n"
      ],
      "text/latex": [
       "\\begin{tabular}{llll}\n",
       "\t -2 &  0 &  3 & 0 \\\\\n",
       "\t  0 & -5 & -4 & 4 \\\\\n",
       "\t  1 &  3 & -4 & 4 \\\\\n",
       "\\end{tabular}\n"
      ],
      "text/markdown": [
       "\n",
       "| -2 |  0 |  3 | 0  |\n",
       "|  0 | -5 | -4 | 4  |\n",
       "|  1 |  3 | -4 | 4  |\n",
       "\n"
      ],
      "text/plain": [
       "     [,1] [,2] [,3] [,4]\n",
       "[1,] -2    0    3   0   \n",
       "[2,]  0   -5   -4   4   \n",
       "[3,]  1    3   -4   4   "
      ]
     },
     "metadata": {},
     "output_type": "display_data"
    }
   ],
   "source": [
    "P-Q"
   ]
  },
  {
   "cell_type": "code",
   "execution_count": 98,
   "id": "befa7fad-1f3b-4e0c-a9c4-b7a5e2b1df33",
   "metadata": {},
   "outputs": [
    {
     "data": {
      "text/html": [
       "<table>\n",
       "<tbody>\n",
       "\t<tr><td> 2</td><td> 0</td><td>-3</td><td> 0</td></tr>\n",
       "\t<tr><td> 0</td><td> 5</td><td> 4</td><td>-4</td></tr>\n",
       "\t<tr><td>-1</td><td>-3</td><td> 4</td><td>-4</td></tr>\n",
       "</tbody>\n",
       "</table>\n"
      ],
      "text/latex": [
       "\\begin{tabular}{llll}\n",
       "\t  2 &  0 & -3 &  0\\\\\n",
       "\t  0 &  5 &  4 & -4\\\\\n",
       "\t -1 & -3 &  4 & -4\\\\\n",
       "\\end{tabular}\n"
      ],
      "text/markdown": [
       "\n",
       "|  2 |  0 | -3 |  0 |\n",
       "|  0 |  5 |  4 | -4 |\n",
       "| -1 | -3 |  4 | -4 |\n",
       "\n"
      ],
      "text/plain": [
       "     [,1] [,2] [,3] [,4]\n",
       "[1,]  2    0   -3    0  \n",
       "[2,]  0    5    4   -4  \n",
       "[3,] -1   -3    4   -4  "
      ]
     },
     "metadata": {},
     "output_type": "display_data"
    }
   ],
   "source": [
    "Q-P"
   ]
  },
  {
   "cell_type": "markdown",
   "id": "7529eefb-b2c1-45dd-b913-f88e117fff0e",
   "metadata": {},
   "source": [
    "#### Matrix Multiplication"
   ]
  },
  {
   "cell_type": "code",
   "execution_count": 99,
   "id": "8ba2ec4f-6f26-476c-ae59-f9f4a063cdd9",
   "metadata": {},
   "outputs": [
    {
     "data": {
      "text/html": [
       "<table>\n",
       "<tbody>\n",
       "\t<tr><td>15</td><td>16</td><td>18</td><td>49</td></tr>\n",
       "\t<tr><td> 4</td><td>24</td><td>45</td><td>12</td></tr>\n",
       "\t<tr><td>20</td><td>40</td><td>21</td><td> 5</td></tr>\n",
       "</tbody>\n",
       "</table>\n"
      ],
      "text/latex": [
       "\\begin{tabular}{llll}\n",
       "\t 15 & 16 & 18 & 49\\\\\n",
       "\t  4 & 24 & 45 & 12\\\\\n",
       "\t 20 & 40 & 21 &  5\\\\\n",
       "\\end{tabular}\n"
      ],
      "text/markdown": [
       "\n",
       "| 15 | 16 | 18 | 49 |\n",
       "|  4 | 24 | 45 | 12 |\n",
       "| 20 | 40 | 21 |  5 |\n",
       "\n"
      ],
      "text/plain": [
       "     [,1] [,2] [,3] [,4]\n",
       "[1,] 15   16   18   49  \n",
       "[2,]  4   24   45   12  \n",
       "[3,] 20   40   21    5  "
      ]
     },
     "metadata": {},
     "output_type": "display_data"
    }
   ],
   "source": [
    "P*Q   # Peforms element-wise.. not the dot-product.."
   ]
  },
  {
   "cell_type": "code",
   "execution_count": 105,
   "id": "2e4d7375-904d-4af5-b283-bea398f1213e",
   "metadata": {},
   "outputs": [
    {
     "ename": "ERROR",
     "evalue": "Error in P %*% Q: non-conformable arguments\n",
     "output_type": "error",
     "traceback": [
      "Error in P %*% Q: non-conformable arguments\nTraceback:\n"
     ]
    }
   ],
   "source": [
    "P%*%Q  # Performs actual dot-product\n",
    "# --- WHY not working..??"
   ]
  },
  {
   "cell_type": "code",
   "execution_count": 108,
   "id": "09149667-701a-4ccf-bcbe-46ed60a83e7e",
   "metadata": {},
   "outputs": [
    {
     "name": "stderr",
     "output_type": "stream",
     "text": [
      "also installing the dependencies ‘abind’, ‘magic’, ‘lpSolve’, ‘linprog’, ‘RcppProgress’\n",
      "\n",
      "Updating HTML index of packages in '.Library'\n",
      "Making 'packages.html' ... done\n"
     ]
    },
    {
     "data": {
      "text/html": [
       "<ol class=list-inline>\n",
       "\t<li>39</li>\n",
       "\t<li>80</li>\n",
       "\t<li>84</li>\n",
       "\t<li>66</li>\n",
       "</ol>\n"
      ],
      "text/latex": [
       "\\begin{enumerate*}\n",
       "\\item 39\n",
       "\\item 80\n",
       "\\item 84\n",
       "\\item 66\n",
       "\\end{enumerate*}\n"
      ],
      "text/markdown": [
       "1. 39\n",
       "2. 80\n",
       "3. 84\n",
       "4. 66\n",
       "\n",
       "\n"
      ],
      "text/plain": [
       "[1] 39 80 84 66"
      ]
     },
     "metadata": {},
     "output_type": "display_data"
    }
   ],
   "source": [
    "#install.packages(\"geometry\")\n",
    "library(geometry)\n",
    "dot(P, Q)"
   ]
  },
  {
   "cell_type": "markdown",
   "id": "2c69b04d-dac3-4c49-8df7-351222da27e5",
   "metadata": {},
   "source": [
    "#### Matrix division"
   ]
  },
  {
   "cell_type": "code",
   "execution_count": 112,
   "id": "32d8822d-703c-4552-90b0-e19f8ae37856",
   "metadata": {},
   "outputs": [
    {
     "data": {
      "text/html": [
       "<table>\n",
       "<tbody>\n",
       "\t<tr><td>0.60     </td><td>1.000    </td><td>2.0000000</td><td>1        </td></tr>\n",
       "\t<tr><td>1.00     </td><td>0.375    </td><td>0.5555556</td><td>3        </td></tr>\n",
       "\t<tr><td>1.25     </td><td>1.600    </td><td>0.4285714</td><td>5        </td></tr>\n",
       "</tbody>\n",
       "</table>\n"
      ],
      "text/latex": [
       "\\begin{tabular}{llll}\n",
       "\t 0.60      & 1.000     & 2.0000000 & 1        \\\\\n",
       "\t 1.00      & 0.375     & 0.5555556 & 3        \\\\\n",
       "\t 1.25      & 1.600     & 0.4285714 & 5        \\\\\n",
       "\\end{tabular}\n"
      ],
      "text/markdown": [
       "\n",
       "| 0.60      | 1.000     | 2.0000000 | 1         |\n",
       "| 1.00      | 0.375     | 0.5555556 | 3         |\n",
       "| 1.25      | 1.600     | 0.4285714 | 5         |\n",
       "\n"
      ],
      "text/plain": [
       "     [,1] [,2]  [,3]      [,4]\n",
       "[1,] 0.60 1.000 2.0000000 1   \n",
       "[2,] 1.00 0.375 0.5555556 3   \n",
       "[3,] 1.25 1.600 0.4285714 5   "
      ]
     },
     "metadata": {},
     "output_type": "display_data"
    }
   ],
   "source": [
    "P/Q  # Performed Element-Wise.. not the inverse o matrix.."
   ]
  },
  {
   "cell_type": "markdown",
   "id": "b24c39b2-479e-4ce8-914a-12cff2a5251f",
   "metadata": {
    "tags": []
   },
   "source": [
    "## Functions in R"
   ]
  },
  {
   "cell_type": "markdown",
   "id": "e5bd641b-c390-40d6-a314-b2d4ec925a10",
   "metadata": {},
   "source": [
    "* Created using `function()` command.\n",
    "__Syntax__:\n",
    "\n",
    "    ```R\n",
    "        function_name = function(arguments)\n",
    "        {\n",
    "            statements\n",
    "        }\n",
    "    ```"
   ]
  },
  {
   "cell_type": "code",
   "execution_count": 119,
   "id": "859cabc8-7921-4d7e-9c36-3b8ff0543876",
   "metadata": {},
   "outputs": [],
   "source": [
    "adder = function(a=0, b=0)  # with default-arguments..\n",
    "{\n",
    "    return (a+b);\n",
    "}"
   ]
  },
  {
   "cell_type": "code",
   "execution_count": 120,
   "id": "cfdc15e0-adb3-4adc-b056-841834950a37",
   "metadata": {},
   "outputs": [
    {
     "data": {
      "text/html": [
       "9"
      ],
      "text/latex": [
       "9"
      ],
      "text/markdown": [
       "9"
      ],
      "text/plain": [
       "[1] 9"
      ]
     },
     "metadata": {},
     "output_type": "display_data"
    }
   ],
   "source": [
    "result = adder(4, 5)\n",
    "result"
   ]
  },
  {
   "cell_type": "markdown",
   "id": "c50929ca-8535-44de-afcd-2e4a1d5f186f",
   "metadata": {},
   "source": [
    "In RStudio: _(a bit different)_\n",
    "   - Need to create the functions in a file (i.e., in a RScript file)\n",
    "   - Once done, save it. Load via __Source__ button on top of script-window (or) use `script(<path>)`.\n",
    "       - When done successfully, can see the function being appearing in the _Variable  Browser_.\n",
    "       - NOTE: Loading will not execute the function.\n",
    "   - __WARNING__: Whenever the file or function is updated or restarted RStudio, it has to be loaded again, else it considers the previously-loaded ones, and yields incorrect results."
   ]
  },
  {
   "cell_type": "markdown",
   "id": "72629ff0-94cb-4a5d-821a-1b2c70fcc57f",
   "metadata": {
    "jp-MarkdownHeadingCollapsed": true,
    "tags": []
   },
   "source": [
    "### Passing arguments to the function"
   ]
  },
  {
   "cell_type": "markdown",
   "id": "16a21251-6d0a-4b00-925f-a574d247ffb9",
   "metadata": {},
   "source": [
    "* Passing in the same order as in the definition.\n",
    "    * ```R\n",
    "        adder(3, 5) # returns 8\n",
    "     ```\n",
    "* Passing no arguments to the function.\n",
    "   * ```R\n",
    "       adder() # return 0\n",
    "     ```\n",
    "   * As the function contains _default arguements_ this works. What if not..?? it's ahead..\n",
    "* Passing in different order.\n",
    "   * ```R\n",
    "       adder(b=5, a=70)  # returns 75\n",
    "     ```\n",
    "   * i.e., By specifying the argument name, can pass in any order. But when without name, need to pass in the order."
   ]
  },
  {
   "cell_type": "markdown",
   "id": "2c62acd9-069e-4d9e-b3c9-dcf2c8413bdb",
   "metadata": {},
   "source": [
    "### Lazy evaluation of functions"
   ]
  },
  {
   "cell_type": "markdown",
   "id": "18eb365c-43d9-4aeb-898a-59e5b3fa67e0",
   "metadata": {},
   "source": [
    "* Functions are lazily evaluated in R. i.e., Even if some arguments are missing _(excluding the default ones)_, the function still gets exectued __as long as the function doesn't involve these arguments.__\n",
    "\n",
    "Hold on...!! See the R's cleverness..\n",
    "\n",
    "![Lazy functions, R's cleverness](resources/lazyfunctions_R's_cleverness.png)"
   ]
  },
  {
   "cell_type": "markdown",
   "id": "fe56fe33-f3ee-4191-a6a5-917261c246bc",
   "metadata": {},
   "source": [
    "Summary of creating functions in R\n",
    "* Create a function file, like a RScript file. First line of function_file should be ```R function_name=function(arguments)```.  Then define the body of it.\n",
    "    * _(There can be >1 functions defined in a single file)_.\n",
    "* Save the function file and load it by clicking **Source** _(Which will be at the top of editor-window)_. or via `source(<path>)`.\n",
    "* Invoke it by its `function_name` and proper arguments.\n",
    "\n",
    "__WARNING__: Need to load the function file when performed any changes in it or re-started RStudio. -- else may get incorrect results or error."
   ]
  },
  {
   "cell_type": "markdown",
   "id": "e2c07bec-5aad-4809-bfda-bd50e6e07258",
   "metadata": {},
   "source": [
    "### MIMO: Functions with _Multiple Inputs and Multiple outputs._"
   ]
  },
  {
   "cell_type": "markdown",
   "id": "7f27f82f-8810-4dd4-ad63-542f0352d4c3",
   "metadata": {},
   "source": [
    "* Already familiar that, one can pass mulitple arguments to the function. But also know that, a function can return only one value.\n",
    "* To overcome that, we make a vector or a matrix _(any grouping thing)_ of all those values, and simply return that one value. "
   ]
  },
  {
   "cell_type": "code",
   "execution_count": 127,
   "id": "7bfbbad2-ae6d-49f0-9d41-88c54a3014e1",
   "metadata": {},
   "outputs": [],
   "source": [
    "arithmetic = function(a, b){\n",
    "    return (c(\"+\"=a+b, \n",
    "              \"-\"=a-b,\n",
    "              \"*\"=a*b,\n",
    "              \"/\"=a/b,\n",
    "              \"%\"=a%%b))\n",
    "}"
   ]
  },
  {
   "cell_type": "code",
   "execution_count": 128,
   "id": "9244d753-3eb6-4f22-acf0-a3956517390b",
   "metadata": {},
   "outputs": [
    {
     "data": {
      "text/html": [
       "<dl class=dl-horizontal>\n",
       "\t<dt>+</dt>\n",
       "\t\t<dd>9</dd>\n",
       "\t<dt>-</dt>\n",
       "\t\t<dd>-1</dd>\n",
       "\t<dt>*</dt>\n",
       "\t\t<dd>20</dd>\n",
       "\t<dt>/</dt>\n",
       "\t\t<dd>0.8</dd>\n",
       "\t<dt>%</dt>\n",
       "\t\t<dd>4</dd>\n",
       "</dl>\n"
      ],
      "text/latex": [
       "\\begin{description*}\n",
       "\\item[+] 9\n",
       "\\item[-] -1\n",
       "\\item[*] 20\n",
       "\\item[/] 0.8\n",
       "\\item[\\textbackslash{}\\%] 4\n",
       "\\end{description*}\n"
      ],
      "text/markdown": [
       "+\n",
       ":   9-\n",
       ":   -1*\n",
       ":   20/\n",
       ":   0.8%\n",
       ":   4\n",
       "\n"
      ],
      "text/plain": [
       "   +    -    *    /    % \n",
       " 9.0 -1.0 20.0  0.8  4.0 "
      ]
     },
     "metadata": {},
     "output_type": "display_data"
    }
   ],
   "source": [
    "arithmetic(4, 5)"
   ]
  },
  {
   "cell_type": "markdown",
   "id": "3eef18de-b737-4a44-b4d2-b39b9a8aff18",
   "metadata": {},
   "source": [
    "### Inline functions..."
   ]
  },
  {
   "cell_type": "markdown",
   "id": "1e10813d-7f65-42ec-89f6-ac563db1dea8",
   "metadata": {},
   "source": [
    "Instead of creating a file -> Loading it -> Executing it... can adopt a simple approach, if had a simple task.\n",
    "\n",
    "```R\n",
    "    function_name = function(arguments) <body>\n",
    "```"
   ]
  },
  {
   "cell_type": "code",
   "execution_count": 130,
   "id": "8f389d0d-214c-462f-8f5b-e1933a1d6f89",
   "metadata": {},
   "outputs": [],
   "source": [
    "work = function(x, y) x+(y*10)/(x*0.2); "
   ]
  },
  {
   "cell_type": "code",
   "execution_count": 131,
   "id": "ae52e9b4-70da-4393-9924-f92103006559",
   "metadata": {},
   "outputs": [
    {
     "data": {
      "text/html": [
       "69.6666666666667"
      ],
      "text/latex": [
       "69.6666666666667"
      ],
      "text/markdown": [
       "69.6666666666667"
      ],
      "text/plain": [
       "[1] 69.66667"
      ]
     },
     "metadata": {},
     "output_type": "display_data"
    }
   ],
   "source": [
    "work(3, 4)"
   ]
  },
  {
   "cell_type": "markdown",
   "id": "e011a492-dd57-4552-aa58-4232ab15d434",
   "metadata": {
    "tags": []
   },
   "source": [
    "with multiple values.. simply use any collection.."
   ]
  },
  {
   "cell_type": "code",
   "execution_count": 132,
   "id": "188d8049-972d-4a81-89a1-2d6045d1fed5",
   "metadata": {},
   "outputs": [],
   "source": [
    "work = function(x, y) c(x+(y*10)/(x*0.2), x*y) "
   ]
  },
  {
   "cell_type": "code",
   "execution_count": 133,
   "id": "b11c808a-0497-4341-b9f0-e3f735f083b7",
   "metadata": {},
   "outputs": [
    {
     "data": {
      "text/html": [
       "<ol class=list-inline>\n",
       "\t<li>65</li>\n",
       "\t<li>30</li>\n",
       "</ol>\n"
      ],
      "text/latex": [
       "\\begin{enumerate*}\n",
       "\\item 65\n",
       "\\item 30\n",
       "\\end{enumerate*}\n"
      ],
      "text/markdown": [
       "1. 65\n",
       "2. 30\n",
       "\n",
       "\n"
      ],
      "text/plain": [
       "[1] 65 30"
      ]
     },
     "metadata": {},
     "output_type": "display_data"
    }
   ],
   "source": [
    "work(5, 6)"
   ]
  },
  {
   "cell_type": "markdown",
   "id": "1059c23e-17ec-4532-a259-582b0266560d",
   "metadata": {
    "tags": []
   },
   "source": [
    "### Looping over objects."
   ]
  },
  {
   "cell_type": "markdown",
   "id": "81e33738-9ffc-4538-80f9-d5a2b2c78160",
   "metadata": {},
   "source": [
    "* `apply()`:  Apply a function over the margins of an array or matrix.\n",
    "* `lapply()`: Apply a function over a list or a vector. __`l`__ in `lapply()` for *list*.\n",
    "* `mapply`:   Multivariate version of `lapply()`.  ....oOo.__`m`__ in `mapply()` for *multi-variate*.\n",
    "* `tapply()`: Apply a function over a ragged array.\n",
    "* `xxply()`: plyr package. -- sir din't explained this."
   ]
  },
  {
   "cell_type": "markdown",
   "id": "b49d1c2d-8d24-4478-b3cd-683c19a95847",
   "metadata": {
    "jp-MarkdownHeadingCollapsed": true,
    "tags": []
   },
   "source": [
    "#### `apply()` function.."
   ]
  },
  {
   "cell_type": "markdown",
   "id": "9faf0668-5958-4e55-9251-51195d91909b",
   "metadata": {},
   "source": [
    "* Apply a function over the margins of an array or matrix.\n",
    "* __Syntax__: \n",
    "    ```R apply(array, margins, function, ...)```. -- Here `margins` refers to the __dimensions of the matrix/vector upon which the function to be evaluated.__"
   ]
  },
  {
   "cell_type": "code",
   "execution_count": 137,
   "id": "cb1a6894-4b26-45b9-889a-5ee6bd61e78a",
   "metadata": {},
   "outputs": [
    {
     "data": {
      "text/html": [
       "<table>\n",
       "<tbody>\n",
       "\t<tr><td>2 </td><td>5 </td><td> 8</td></tr>\n",
       "\t<tr><td>3 </td><td>6 </td><td> 9</td></tr>\n",
       "\t<tr><td>4 </td><td>7 </td><td>10</td></tr>\n",
       "</tbody>\n",
       "</table>\n"
      ],
      "text/latex": [
       "\\begin{tabular}{lll}\n",
       "\t 2  & 5  &  8\\\\\n",
       "\t 3  & 6  &  9\\\\\n",
       "\t 4  & 7  & 10\\\\\n",
       "\\end{tabular}\n"
      ],
      "text/markdown": [
       "\n",
       "| 2  | 5  |  8 |\n",
       "| 3  | 6  |  9 |\n",
       "| 4  | 7  | 10 |\n",
       "\n"
      ],
      "text/plain": [
       "     [,1] [,2] [,3]\n",
       "[1,] 2    5     8  \n",
       "[2,] 3    6     9  \n",
       "[3,] 4    7    10  "
      ]
     },
     "metadata": {},
     "output_type": "display_data"
    }
   ],
   "source": [
    "M = matrix(2: 10, 3, 3)\n",
    "M"
   ]
  },
  {
   "cell_type": "code",
   "execution_count": 143,
   "id": "c19fbe5d-b865-4608-8645-a5c53133c2f0",
   "metadata": {},
   "outputs": [
    {
     "data": {
      "text/html": [
       "<ol class=list-inline>\n",
       "\t<li>15</li>\n",
       "\t<li>18</li>\n",
       "\t<li>21</li>\n",
       "</ol>\n"
      ],
      "text/latex": [
       "\\begin{enumerate*}\n",
       "\\item 15\n",
       "\\item 18\n",
       "\\item 21\n",
       "\\end{enumerate*}\n"
      ],
      "text/markdown": [
       "1. 15\n",
       "2. 18\n",
       "3. 21\n",
       "\n",
       "\n"
      ],
      "text/plain": [
       "[1] 15 18 21"
      ]
     },
     "metadata": {},
     "output_type": "display_data"
    }
   ],
   "source": [
    "# Find the sum of each ROW..\n",
    "apply(M, 1, sum)  # margin=1, tells to operate over rows.."
   ]
  },
  {
   "cell_type": "code",
   "execution_count": 140,
   "id": "4331b179-0e75-40a3-9196-a491d4122b68",
   "metadata": {},
   "outputs": [
    {
     "data": {
      "text/html": [
       "<ol class=list-inline>\n",
       "\t<li>9</li>\n",
       "\t<li>18</li>\n",
       "\t<li>27</li>\n",
       "</ol>\n"
      ],
      "text/latex": [
       "\\begin{enumerate*}\n",
       "\\item 9\n",
       "\\item 18\n",
       "\\item 27\n",
       "\\end{enumerate*}\n"
      ],
      "text/markdown": [
       "1. 9\n",
       "2. 18\n",
       "3. 27\n",
       "\n",
       "\n"
      ],
      "text/plain": [
       "[1]  9 18 27"
      ]
     },
     "metadata": {},
     "output_type": "display_data"
    }
   ],
   "source": [
    "# Find the sum of COLUMN..\n",
    "apply(M, 2, sum)   # margin=2, tells to operate over columns.."
   ]
  },
  {
   "cell_type": "code",
   "execution_count": 148,
   "id": "3d06eb5e-67ae-4411-a44d-6aaee9a56864",
   "metadata": {},
   "outputs": [
    {
     "ename": "ERROR",
     "evalue": "Error in if (d2 == 0L) {: missing value where TRUE/FALSE needed\n",
     "output_type": "error",
     "traceback": [
      "Error in if (d2 == 0L) {: missing value where TRUE/FALSE needed\nTraceback:\n",
      "1. apply(M, 3, diff)"
     ]
    }
   ],
   "source": [
    "apply(M, 3, diff)"
   ]
  },
  {
   "cell_type": "markdown",
   "id": "a4fd2038-1c16-4092-b556-7a8317cb29ac",
   "metadata": {
    "jp-MarkdownHeadingCollapsed": true,
    "tags": []
   },
   "source": [
    "#### `lapply()` function"
   ]
  },
  {
   "cell_type": "markdown",
   "id": "372a440f-cbfb-48e3-b9b1-c64ca2f5ddf8",
   "metadata": {},
   "source": [
    "* Used to apply a function over a list/vector.\n",
    "* It always returns the list of the length (as passed).\n",
    "    * Think.....oO) As with each value in the list, the function gets called, takes its results and places in the list. \n",
    "    * When this happens for the entire list, we get the results of all the functions, whose size will be equal to the size of list passed as an argument right...??.\n",
    "* __Syntax__:`lapply(list, function, ...)`."
   ]
  },
  {
   "cell_type": "code",
   "execution_count": 151,
   "id": "d2893d95-69fb-47d6-a1c5-471ccfe162ca",
   "metadata": {},
   "outputs": [
    {
     "data": {
      "text/html": [
       "<ol>\n",
       "\t<li>15</li>\n",
       "\t<li>40</li>\n",
       "</ol>\n"
      ],
      "text/latex": [
       "\\begin{enumerate}\n",
       "\\item 15\n",
       "\\item 40\n",
       "\\end{enumerate}\n"
      ],
      "text/markdown": [
       "1. 15\n",
       "2. 40\n",
       "\n",
       "\n"
      ],
      "text/plain": [
       "[[1]]\n",
       "[1] 15\n",
       "\n",
       "[[2]]\n",
       "[1] 40\n"
      ]
     },
     "metadata": {},
     "output_type": "display_data"
    }
   ],
   "source": [
    "a = matrix(1:5)\n",
    "b = matrix(6:10)\n",
    "c = list(a, b)\n",
    "# find the sum of each list..\n",
    "lapply(c, sum)"
   ]
  },
  {
   "cell_type": "code",
   "execution_count": 157,
   "id": "40419abe-5040-4c04-a435-e30787e2ea83",
   "metadata": {},
   "outputs": [
    {
     "data": {
      "text/html": [
       "<ol>\n",
       "\t<li>0</li>\n",
       "\t<li>0</li>\n",
       "\t<li>0</li>\n",
       "</ol>\n"
      ],
      "text/latex": [
       "\\begin{enumerate}\n",
       "\\item 0\n",
       "\\item 0\n",
       "\\item 0\n",
       "\\end{enumerate}\n"
      ],
      "text/markdown": [
       "1. 0\n",
       "2. 0\n",
       "3. 0\n",
       "\n",
       "\n"
      ],
      "text/plain": [
       "[[1]]\n",
       "[1] 0\n",
       "\n",
       "[[2]]\n",
       "[1] 0\n",
       "\n",
       "[[3]]\n",
       "[1] 0\n"
      ]
     },
     "metadata": {},
     "output_type": "display_data"
    }
   ],
   "source": [
    "F = matrix(1:9, 3, 3)\n",
    "G = matrix(10:18, 3, 3)\n",
    "H = matrix(20:18, 3, 3)\n",
    "\n",
    "# Calculate the determinant of each matrix..\n",
    "lapply(list(F, G, H), det) # or, we can use a loop and use apply, store each in a list.. "
   ]
  },
  {
   "cell_type": "markdown",
   "id": "29edd245-ba6b-4572-bf56-ed3ae0e2eaf0",
   "metadata": {},
   "source": [
    "For `G` sir got as 5.329071e-15... why this way then..??"
   ]
  },
  {
   "cell_type": "markdown",
   "id": "7d5b5aae-3d3c-4b85-9116-ce0d69d22772",
   "metadata": {
    "tags": []
   },
   "source": [
    "#### `mapply()` function\n"
   ]
  },
  {
   "cell_type": "markdown",
   "id": "a06ace4d-a8c9-4e97-9fd0-833870de2e24",
   "metadata": {},
   "source": [
    "* It's a multivariate version of the `lapply().\n",
    "* A function can be applied over several lists simultaneously.\n",
    "* __Syntax__: `mapply(function, list1, list2)`. __FOCUS__: the position of the argument `function`..!!"
   ]
  },
  {
   "cell_type": "code",
   "execution_count": 165,
   "id": "0fee4e1d-a345-4d1c-b19a-beca51286185",
   "metadata": {},
   "outputs": [
    {
     "data": {
      "text/html": [
       "<ol class=list-inline>\n",
       "\t<li>10</li>\n",
       "\t<li>10</li>\n",
       "\t<li>10</li>\n",
       "\t<li>10</li>\n",
       "\t<li>10</li>\n",
       "\t<li>10</li>\n",
       "\t<li>10</li>\n",
       "\t<li>10</li>\n",
       "\t<li>10</li>\n",
       "</ol>\n"
      ],
      "text/latex": [
       "\\begin{enumerate*}\n",
       "\\item 10\n",
       "\\item 10\n",
       "\\item 10\n",
       "\\item 10\n",
       "\\item 10\n",
       "\\item 10\n",
       "\\item 10\n",
       "\\item 10\n",
       "\\item 10\n",
       "\\end{enumerate*}\n"
      ],
      "text/markdown": [
       "1. 10\n",
       "2. 10\n",
       "3. 10\n",
       "4. 10\n",
       "5. 10\n",
       "6. 10\n",
       "7. 10\n",
       "8. 10\n",
       "9. 10\n",
       "\n",
       "\n"
      ],
      "text/plain": [
       "[1] 10 10 10 10 10 10 10 10 10"
      ]
     },
     "metadata": {},
     "output_type": "display_data"
    }
   ],
   "source": [
    "o = matrix(1:9)\n",
    "p = matrix(9:1)\n",
    "\n",
    "# Get the sum, by forming a pair by picking one from each list.\n",
    "mapply(sum, o, p)"
   ]
  },
  {
   "cell_type": "markdown",
   "id": "31ba2a4b-81f2-4903-99df-ae1261c185a6",
   "metadata": {
    "tags": []
   },
   "source": [
    "#### `tapply()` function"
   ]
  },
  {
   "cell_type": "markdown",
   "id": "b0f9aa22-6064-4807-9a9f-b77b28236da0",
   "metadata": {},
   "source": [
    "* It's used to apply a function over a subset of vectors given by a combination of factors.\n",
    "* __Syntax__: `tapply(vector, factors, function, ...)`"
   ]
  },
  {
   "cell_type": "code",
   "execution_count": 167,
   "id": "2c15d1e5-b18a-4163-8d26-68e3b75b478d",
   "metadata": {},
   "outputs": [
    {
     "data": {
      "text/html": [
       "<dl class=dl-horizontal>\n",
       "\t<dt>1</dt>\n",
       "\t\t<dd>10</dd>\n",
       "\t<dt>2</dt>\n",
       "\t\t<dd>18</dd>\n",
       "\t<dt>3</dt>\n",
       "\t\t<dd>17</dd>\n",
       "</dl>\n"
      ],
      "text/latex": [
       "\\begin{description*}\n",
       "\\item[1] 10\n",
       "\\item[2] 18\n",
       "\\item[3] 17\n",
       "\\end{description*}\n"
      ],
      "text/markdown": [
       "1\n",
       ":   102\n",
       ":   183\n",
       ":   17\n",
       "\n"
      ],
      "text/plain": [
       " 1  2  3 \n",
       "10 18 17 "
      ]
     },
     "metadata": {},
     "output_type": "display_data"
    }
   ],
   "source": [
    "id = c(1, 1, 1, 1, 2, 2, 2, 3, 3)\n",
    "values = 1:9\n",
    "# Add those values which are having same id's..\n",
    "tapply(values, id, sum)"
   ]
  },
  {
   "cell_type": "markdown",
   "id": "3ed501bf-3f9f-4a2c-ac39-67184799ac5e",
   "metadata": {},
   "source": [
    "Interpret as:\n",
    "\n",
    "![tapply](resources/tapply_function.png)"
   ]
  },
  {
   "cell_type": "markdown",
   "id": "ff0c8525-6585-40e5-9370-01e180255ac2",
   "metadata": {},
   "source": [
    "## Control Structures"
   ]
  },
  {
   "cell_type": "markdown",
   "id": "755ffdc5-fe79-4ed9-98e7-7eba8cf45021",
   "metadata": {},
   "source": [
    "Can be classified into two categories:\n",
    "   1. Execute certain statements, only when certain condition(s) are satisfied. Like `if-else`...\n",
    "   2. Execute certan statments repeatedly and use a certain logic to stop the iteration. Like `for`, `while`.."
   ]
  },
  {
   "cell_type": "markdown",
   "id": "b4651613-5a2d-4b41-a991-d51b7a3b76a8",
   "metadata": {},
   "source": [
    "`if`\n",
    "\n",
    "```R\n",
    "if(condition)\n",
    "{\n",
    "        statements\n",
    "}\n",
    "```"
   ]
  },
  {
   "cell_type": "markdown",
   "id": "94ec3d0e-a72f-402b-b3c0-fa742f6d774d",
   "metadata": {},
   "source": [
    "`if-else`\n",
    "\n",
    "```R\n",
    "if(condition)\n",
    "{\n",
    "        statements\n",
    "}\n",
    "else\n",
    "{\n",
    "        alternate_statments\n",
    "}\n",
    "```"
   ]
  },
  {
   "cell_type": "markdown",
   "id": "eff4873c-30e0-45ad-bdf9-d163f477061d",
   "metadata": {},
   "source": [
    "`if-else construct or ladder`\n",
    "\n",
    "```R\n",
    "if(condition)\n",
    "{\n",
    "        statements\n",
    "}\n",
    "else if(condition)\n",
    "{\n",
    "        statements\n",
    "}\n",
    "else if(condition)\n",
    "{\n",
    "    statements\n",
    "}\n",
    "else\n",
    "{\n",
    "        statements\n",
    "}\n",
    "```"
   ]
  },
  {
   "cell_type": "markdown",
   "id": "319fe1f4-f169-46f3-99ba-c8da2faae172",
   "metadata": {},
   "source": [
    "### `seq()` function"
   ]
  },
  {
   "cell_type": "markdown",
   "id": "e12d6c2f-a47a-4f81-9548-e7c907ec5a9f",
   "metadata": {},
   "source": [
    "Its one of the components of the `for` loop.\n",
    "* Syntax: `seq(from, to, by, length)` where\n",
    "    * `from`: starting number.\n",
    "    * `to`: ending number\n",
    "    * `by`: increment or decrement (width)\n",
    "    * `length`: number of elements required."
   ]
  },
  {
   "cell_type": "code",
   "execution_count": 169,
   "id": "88a7f81c-f963-43be-929c-8efa6bee5656",
   "metadata": {},
   "outputs": [
    {
     "data": {
      "text/html": [
       "<ol class=list-inline>\n",
       "\t<li>1</li>\n",
       "\t<li>3</li>\n",
       "\t<li>5</li>\n",
       "\t<li>7</li>\n",
       "\t<li>9</li>\n",
       "</ol>\n"
      ],
      "text/latex": [
       "\\begin{enumerate*}\n",
       "\\item 1\n",
       "\\item 3\n",
       "\\item 5\n",
       "\\item 7\n",
       "\\item 9\n",
       "\\end{enumerate*}\n"
      ],
      "text/markdown": [
       "1. 1\n",
       "2. 3\n",
       "3. 5\n",
       "4. 7\n",
       "5. 9\n",
       "\n",
       "\n"
      ],
      "text/plain": [
       "[1] 1 3 5 7 9"
      ]
     },
     "metadata": {},
     "output_type": "display_data"
    }
   ],
   "source": [
    "seq(from=1, to=10, by=2)"
   ]
  },
  {
   "cell_type": "code",
   "execution_count": 176,
   "id": "72c62d26-d7db-4606-837e-5e4a5ed9aee5",
   "metadata": {},
   "outputs": [
    {
     "data": {
      "text/html": [
       "<ol class=list-inline>\n",
       "\t<li>1</li>\n",
       "\t<li>5.5</li>\n",
       "\t<li>10</li>\n",
       "</ol>\n"
      ],
      "text/latex": [
       "\\begin{enumerate*}\n",
       "\\item 1\n",
       "\\item 5.5\n",
       "\\item 10\n",
       "\\end{enumerate*}\n"
      ],
      "text/markdown": [
       "1. 1\n",
       "2. 5.5\n",
       "3. 10\n",
       "\n",
       "\n"
      ],
      "text/plain": [
       "[1]  1.0  5.5 10.0"
      ]
     },
     "metadata": {},
     "output_type": "display_data"
    }
   ],
   "source": [
    "seq(from=1, to=10, length=3)  # When skipped `by`, uses length to make divisions."
   ]
  },
  {
   "cell_type": "code",
   "execution_count": 173,
   "id": "9bd2f607-4cd1-49b6-8767-11a8ffd2485d",
   "metadata": {},
   "outputs": [
    {
     "ename": "ERROR",
     "evalue": "Error in seq.default(from = 2, to = 15, by = 3, length = 2): too many arguments\n",
     "output_type": "error",
     "traceback": [
      "Error in seq.default(from = 2, to = 15, by = 3, length = 2): too many arguments\nTraceback:\n",
      "1. seq(from = 2, to = 15, by = 3, length = 2)",
      "2. seq.default(from = 2, to = 15, by = 3, length = 2)",
      "3. stop(\"too many arguments\")"
     ]
    }
   ],
   "source": [
    "seq(from=2, to=15, by=3, length=2)"
   ]
  },
  {
   "cell_type": "markdown",
   "id": "894de333-760f-486e-8bce-4dadb80b5902",
   "metadata": {},
   "source": [
    "### `for` loop"
   ]
  },
  {
   "cell_type": "markdown",
   "id": "a6f91192-3c90-44dd-ba27-ab080c72226b",
   "metadata": {},
   "source": [
    "```R\n",
    "    for(iterator in sequence)\n",
    "    {\n",
    "            statements\n",
    "    }\n",
    "```\n",
    "where:\n",
    "   * `iterator`: (generally) loop-variable\n",
    "   * `sequence`: could be a vector or a list."
   ]
  },
  {
   "cell_type": "code",
   "execution_count": 177,
   "id": "72adc5ff-36e3-42ec-98ff-3fd8b2d65bbf",
   "metadata": {},
   "outputs": [
    {
     "name": "stdout",
     "output_type": "stream",
     "text": [
      "[1] 1\n",
      "[1] 2\n",
      "[1] 3\n",
      "[1] 4\n",
      "[1] 5\n",
      "[1] 6\n",
      "[1] 7\n",
      "[1] 8\n",
      "[1] 9\n",
      "[1] 10\n"
     ]
    }
   ],
   "source": [
    "for ( i in 1:10)\n",
    "    print(i)"
   ]
  },
  {
   "cell_type": "code",
   "execution_count": 187,
   "id": "e5096e9d-674e-468b-8d80-658818e60406",
   "metadata": {},
   "outputs": [
    {
     "name": "stdout",
     "output_type": "stream",
     "text": [
      "[1] 1\n",
      "[1] 2\n",
      "[1] 3\n",
      "[1] 4\n",
      "[1] 5\n",
      "[1] 15\n"
     ]
    }
   ],
   "source": [
    "sum = 0\n",
    "for( i in seq(1, 5, by=1))\n",
    "{\n",
    "    sum = sum+i\n",
    "\n",
    "    print(i)\n",
    "}\n",
    "print(sum)"
   ]
  },
  {
   "cell_type": "markdown",
   "id": "5e86336a-416a-4fda-828e-1c12c192158b",
   "metadata": {},
   "source": [
    "with `break` statements.."
   ]
  },
  {
   "cell_type": "code",
   "execution_count": 190,
   "id": "09ece779-8f26-498c-8d6c-4eb88b01ead2",
   "metadata": {},
   "outputs": [
    {
     "name": "stdout",
     "output_type": "stream",
     "text": [
      "[1] 1\n",
      "[1] 4\n",
      "[1] 7\n",
      "[1] 10\n",
      "[1] 13\n"
     ]
    }
   ],
   "source": [
    "for( i in seq(1, 20, 3))\n",
    "{\n",
    "    print(i)\n",
    "    if(i>10)\n",
    "        break\n",
    "}"
   ]
  },
  {
   "cell_type": "markdown",
   "id": "88e935bc-8373-4ee0-9f7b-a9f172caad90",
   "metadata": {},
   "source": [
    "### `while` loop"
   ]
  },
  {
   "cell_type": "markdown",
   "id": "12faddd0-83db-483b-861c-e02ad5655d97",
   "metadata": {},
   "source": [
    "- Required in a context, where we need to keep on iterating until some condition is met.\n",
    "\n",
    "Syntax:\n",
    "\n",
    "```R\n",
    "    while(condition)\n",
    "    {\n",
    "        statements\n",
    "    }\n",
    "```"
   ]
  },
  {
   "cell_type": "code",
   "execution_count": 192,
   "id": "126e6365-ee2d-45a3-acaf-83ea5d03bc16",
   "metadata": {},
   "outputs": [
    {
     "name": "stdout",
     "output_type": "stream",
     "text": [
      "[1] 0\n",
      "[1] 2\n",
      "[1] 4\n",
      "[1] 6\n",
      "[1] 8\n"
     ]
    }
   ],
   "source": [
    "i=0\n",
    "while(i<10)  # keep running, as long as i<10\n",
    "{\n",
    "    print(i)\n",
    "    i = i+2\n",
    "}\n"
   ]
  },
  {
   "cell_type": "markdown",
   "id": "964fd1e5-cf0a-4770-867e-3e25ba00350d",
   "metadata": {
    "tags": []
   },
   "source": [
    "## Graphics in R"
   ]
  },
  {
   "cell_type": "markdown",
   "id": "73492908-269f-4522-9bf4-00b64c9a915f",
   "metadata": {
    "jp-MarkdownHeadingCollapsed": true,
    "tags": []
   },
   "source": [
    "### Scatter Plot"
   ]
  },
  {
   "cell_type": "code",
   "execution_count": 193,
   "id": "4ca04897-634c-4035-b47f-fdec0092c622",
   "metadata": {},
   "outputs": [
    {
     "data": {
      "image/png": "[encoded data removed]",
      "text/plain": [
       "plot without title"
      ]
     },
     "metadata": {},
     "output_type": "display_data"
    }
   ],
   "source": [
    "x = 1:10\n",
    "y = x^2\n",
    "plot(x, y)"
   ]
  },
  {
   "cell_type": "markdown",
   "id": "fd1d22f5-800d-4733-8a3d-6801ebd775b8",
   "metadata": {},
   "source": [
    "lets work on in-built dataset: `mtcars`"
   ]
  },
  {
   "cell_type": "code",
   "execution_count": 200,
   "id": "6608cab8-a75f-4e13-ad60-19d80d4c9df2",
   "metadata": {},
   "outputs": [
    {
     "data": {
      "image/png": "[encoded data removed]",
      "text/plain": [
       "Plot with title “mtcars dataset”"
      ]
     },
     "metadata": {},
     "output_type": "display_data"
    }
   ],
   "source": [
    "plot(mtcars$wt, mtcars$mpg, \n",
    "    main=\"mtcars dataset\",             # Graph label (title)\n",
    "    xlab=\"Car weight\",                 # X-label..\n",
    "    ylab=\"Miles per Gallon (MPG)\",     # Y-axis label..\n",
    "    pch=10)                            # shape of marker. here 19 refers to the filled-circle"
   ]
  },
  {
   "cell_type": "markdown",
   "id": "d0e6d0ea-d337-48dc-8ed4-71c61e79c4f6",
   "metadata": {},
   "source": [
    "### Line Plot"
   ]
  },
  {
   "cell_type": "code",
   "execution_count": 206,
   "id": "8dca0bbc-ec5a-4a36-991a-4470bb018133",
   "metadata": {},
   "outputs": [
    {
     "data": {
      "image/png": "[encoded data removed]",
      "text/plain": [
       "plot without title"
      ]
     },
     "metadata": {},
     "output_type": "display_data"
    }
   ],
   "source": [
    "x = 1:10\n",
    "y = x^3\n",
    "plot(x, y, type='l')  # Line plot.."
   ]
  },
  {
   "cell_type": "markdown",
   "id": "fc9f8b44-57a8-4477-85ec-74f3c20ec4c6",
   "metadata": {},
   "source": [
    "### Barplot"
   ]
  },
  {
   "cell_type": "markdown",
   "id": "e12281b5-82c7-4500-8a05-a05518b9b56b",
   "metadata": {},
   "source": [
    "```R\n",
    "    barplot(H, names.arg, xlab, main, names.arg, col)\n",
    "```\n",
    "Where:\n",
    "   * `H`: heights - can be vectors or matrix. (but we'll deal with the vectors for simple..) \n",
    "   * `names.arg`: It prints the names under each bar.\n",
    "   * `xlab` & `ylab`: X-axis label and Y-axis label.\n",
    "   * `main`: title of the plot\n",
    "   * `names.arg`: ??\n",
    "   * `col`: color"
   ]
  },
  {
   "cell_type": "code",
   "execution_count": 219,
   "id": "6370aede-1c4a-46fd-9fc3-f9ff210831ce",
   "metadata": {},
   "outputs": [
    {
     "data": {
      "image/png": "[encoded data removed]",
      "text/plain": [
       "Plot with title “Revenue chart”"
      ]
     },
     "metadata": {},
     "output_type": "display_data"
    }
   ],
   "source": [
    "H <- c(7, 12, 28, 3, 41)\n",
    "M <- c(\"March\", \"April\", \"May\", \"June\", \"July\")\n",
    "barplot(H, names.arg=M, xlab=\"Month\", ylab=\"Revenue\", col=\"orange\", main=\"Revenue chart\", border=\"blue\")"
   ]
  },
  {
   "cell_type": "code",
   "execution_count": 220,
   "id": "4d2a339e-fa71-42a0-9ce8-80d95e14a03b",
   "metadata": {},
   "outputs": [
    {
     "ename": "ERROR",
     "evalue": "Error in unique(tips$sex): object 'tips' not found\n",
     "output_type": "error",
     "traceback": [
      "Error in unique(tips$sex): object 'tips' not found\nTraceback:\n",
      "1. unique(tips$sex)"
     ]
    }
   ],
   "source": [
    "par(mfrow=c(2,4))\n",
    "days <- c(\"Thur\", \"Fri\", \"Sat\", \"Sun\")\n",
    "sexes <- unique(tips$sex)\n",
    "for (i in 1:length(sexes)) {\n",
    "for (j in 1:length(days)) {\n",
    "currdata <- tips[tips$day == days[j] & tips$sex == sexes[i],]\n",
    "plot(currdata$total_bill, currdata$tip/currdata$total_bill,\n",
    "main=paste(days[j], sexes[i], sep=\", \"), ylim=c(0,0.7), las=1)\n",
    "}\n",
    "}"
   ]
  },
  {
   "cell_type": "markdown",
   "id": "e9e4b896-9f79-4bef-9022-5a6a3fdbdf60",
   "metadata": {},
   "source": [
    "### Challenges"
   ]
  },
  {
   "cell_type": "markdown",
   "id": "8bf0f118-eabb-46de-823d-205d38a2c412",
   "metadata": {},
   "source": [
    "* Knowing when to introducye a for loop\n",
    "* Which columns of the dataframe to be selected.\n",
    "* The positioning of each graph in the grid..\n",
    "\n",
    "even though, we could try manage the above, at end we back at\n",
    "* Less pleasing visuals\n",
    "\n",
    "This need introduces the `ggplot2` library, which produce good plotting."
   ]
  },
  {
   "cell_type": "code",
   "execution_count": null,
   "id": "9ce57849-b80b-4b66-b933-c298b435b60e",
   "metadata": {},
   "outputs": [],
   "source": []
  }
 ],
 "metadata": {
  "kernelspec": {
   "display_name": "R",
   "language": "R",
   "name": "ir"
  },
  "language_info": {
   "codemirror_mode": "r",
   "file_extension": ".r",
   "mimetype": "text/x-r-source",
   "name": "R",
   "pygments_lexer": "r",
   "version": "3.6.1"
  },
  "toc-autonumbering": false,
  "toc-showcode": false,
  "toc-showmarkdowntxt": true
 },
 "nbformat": 4,
 "nbformat_minor": 5
}
