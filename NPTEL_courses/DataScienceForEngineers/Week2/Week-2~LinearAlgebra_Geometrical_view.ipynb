{
 "cells": [
  {
   "cell_type": "markdown",
   "id": "f3b13836-fab0-4b76-b9f1-90256ecc4463",
   "metadata": {},
   "source": [
    "on 2nd September, 2021 ~ Thursday (Ekadashi)"
   ]
  },
  {
   "cell_type": "markdown",
   "id": "e2488833-a9cc-4fb2-8da6-fc7252b0b4b9",
   "metadata": {},
   "source": [
    "![](resources/LinearAlgebra_GraphicalView_heading.png)"
   ]
  },
  {
   "cell_type": "markdown",
   "id": "e04268d6-d3f3-4837-80ac-eb968c313079",
   "metadata": {},
   "source": [
    "**Previously**, we seen the Linear Algebra in terms of equations, variables and solvability of the equations....\n",
    "\n",
    "Now..the same can be viewed as **Eigen Values, Eigen Vectors, Hyper planes, Half spaces..**\n",
    "![](resources/LinearAlgebra_GeometricView_Objectives.png)\n"
   ]
  },
  {
   "cell_type": "markdown",
   "id": "02a0dc99-4f52-405d-a796-48b3be1fa4ea",
   "metadata": {},
   "source": [
    "## Vectors and Lengths\n",
    "![](resources/GeometricView-Vectors-Lengths_Intro.png) -- if 2 variables, 2D space, if 3 variables, 3D Space..\n",
    "\n",
    "An example: \n",
    "\n",
    "(with one point..)\n",
    "\n",
    "![](resources/GeometricView-Vectors-Lengths_Example.png.png)\n",
    "![](resources/GeometricalView-VectorsAndLengths_Example.png)\n",
    "\n",
    "(with two points..)\n",
    "\n",
    "![](resources/GeometricalView-VectorsAndLengths_Example2.png)\n",
    "![](resources/GeometricalView-VectorsAndLengths_Example2_.png)"
   ]
  },
  {
   "cell_type": "markdown",
   "id": "573d2219-767a-4482-bccc-cb3e033cd180",
   "metadata": {},
   "source": [
    "## Unit Vector\n",
    "![](resources/UnitVector.png)"
   ]
  },
  {
   "cell_type": "markdown",
   "id": "c4f5dd1b-1466-4e5e-9064-7199976d6d47",
   "metadata": {},
   "source": [
    "## Orthogonal Vectors _(Vectors being perpendicular to each )_\n",
    "![](resources/OrthogonalVectors.png) -- think those $a$ and $b$ as $x$ and $y$. i.e., We multiply all the $x$ co-ordinates and $y$ co-ordinates, then add both _(considering 2D system)_. If it results in $0$, both are orthogonal(perpendicular) to each\n",
    "\n",
    "![](resources/OrthogonalVectorsExamples.png)\n",
    "![](resources/orthogonal_vectors.gif)\n",
    "=![](resources/orthogonal_vectors.gif \"segment\") \n",
    "--- Couldn't able to represent the angle between those two vectors, by the above sir's explanation, they will be surely perpendicular.\n",
    "\n",
    "--- Graphs are generated with help of GeoGebra."
   ]
  },
  {
   "cell_type": "markdown",
   "id": "4ee51d24-dcd0-43e1-ace2-6c5f43a725d3",
   "metadata": {},
   "source": [
    "![](resources/OrthonormalVectors.png)"
   ]
  },
  {
   "cell_type": "markdown",
   "id": "74cf8f1e-7244-439b-8810-a1bacfc76f5a",
   "metadata": {},
   "source": [
    "## Basis Vectors\n",
    "\n",
    "In the 2D Space ($R^2$), one can have infinite no. of vectors. So here the idea is that: **If one can represent these by using some basic elements and some combination of these basic elements**\n",
    "![](resources/BasisVectors.png)--- see, with $v_1$ and $v_2$, we could able to represent all the vectors. All the vectors can be written in some linear combination of these. Here ofcourse, the elements of the vectors are the combinations.\n",
    "\n",
    "**<mark>The keypoint here is that: </mark>**: While we have infinite vectors, they can all be generated as a linear combination of these 2 basic vectors. -------- These 2 vectors are called the **Basis** for the whole space, hence the name **Basis Vectors**-- and they are independent to each other.\n",
    "\n",
    "Why need those to be independent?\n",
    "> Because, every vector with these basis vector could generate a unique vector. If it was as a dependent, then that doesn't bring anything unique.\n",
    "\n",
    "Basis vectors has 2 properties.\n",
    "1. Evey vector in the basis, should bring something unique and, \n",
    "2. These basis vectors should be enough to enough to characterize the whole space --- _Spanning the whole space_\n",
    "\n",
    "Formally speaking..\n",
    "\n",
    "![](resources/BasisVectors_1.png)"
   ]
  },
  {
   "cell_type": "markdown",
   "id": "3323ed1d-172f-4a93-919f-6146c3542651",
   "metadata": {},
   "source": [
    "# <img src=\"resources/brain_and_bulb.jpeg\" height=8% width=8%> Are Basis vectors unique?? -- _No_\n",
    "-- No, there can be many.\n",
    "The only condition they hav to satisfy is the above : Should be independent and span the space.BasicVector's_Uniqueness.png"
   ]
  },
  {
   "cell_type": "markdown",
   "id": "721a251e-c3c2-46a0-8e19-a0b6608b80f8",
   "metadata": {},
   "source": [
    "![](resources/BasicVector's_Uniqueness.png)\n",
    "\n",
    "Unlike in the previous example, the co-efficents became the combinations, here its different. They are adjusted to land the vector at its point.\n",
    "* **How to check the adjusted ones..?**\n",
    "> Multiply the vector by the scalar present beside of it, and add the vectors. The resultant will be the same as the initial one."
   ]
  },
  {
   "cell_type": "markdown",
   "id": "7bb6fccc-ac74-49c2-8faf-0b77b7b813c8",
   "metadata": {},
   "source": [
    "### **Count of elements in vectors need not be same as the count of basis vectors...**\n",
    "Consider an example to understand..\n",
    "\n",
    "![](resources/BasisVectors_differentCase.png)\n",
    "\n",
    "However, this isn't valid for all the vectors. These are such special vectors those span in the 2D _(as 2 basis vectors are used)_ in the 4D space -- Called as **<mark>Sub-Space</mark>**.\n",
    "\n",
    "This is also important in the data-science perspective too -- Why?.. _<a href=\"DataSciencePerspectiveOfBasis\">[its addressed further...]_</a>"
   ]
  },
  {
   "cell_type": "markdown",
   "id": "87e5d446-09c5-43f4-bc82-58f4aba01bb7",
   "metadata": {},
   "source": [
    "![](resources/BasisVectors_Finding.png) -- this is same as the above data, but represented in the matrix form.  \n",
    "\n",
    "Say, this is the data you've got via the experiments, with some data generation process _(The $....$ in the above example, can here be generated using that same data generation process)_.\n",
    "\n",
    "**Now how many fundamental vectors do you need to represent all of these vectors..??**\n",
    "> That's given by the **rank of the matrix** -- which gives the no. of linearly independent columns. -- with which we can represent the other by some linear combination.\n",
    "![](resources/findingBasisVectors_2.png)\n",
    "It says that, with two linearly independent columns, we can get represent every column in the matrix.\n",
    "\n",
    "Ok, basis is 2, then what are those actual vectors then..??\n",
    "> We can pick any two linearly independent vectors (columns)..\n",
    "\n",
    "<p id=\"#DataSciencePerspectiveOfBasis\">Why this is important in datascience perspective</p>\n",
    "<blockquote>\n",
    "  <ul>\n",
    "     <li> Say you got some data as this way of 200 samples..(4 elements, we get 800 elements). Now we've done the same exercise on this too, we get two    vectors(4 elements in each) -- a total of 8 elements. \n",
    "     <li> Now we can store those as 2x4 matrix, for the remaining 198 samples, instead of storing the 3 numbers, can just store the 2 numbers -- which are the linear combination of the chosen basis vectors.\n",
    "     <li> In this way, can store only $(198 * 2)+8 = 404$ elements only. Saving space of $800-404=396$ elements ---  almost half reduction.\n",
    "          <ul>\n",
    "              <li> Say, if had the data in dimensions like 8, 10, 20, 30... and if the basis vectors very less (like 3, 5), then that would be a huge reduction in data storage.\n",
    "          </ul>\n",
    "     <li> There exists some more usages too like, With the basis can identify the model between the data, find the noise reduction in the data...\n",
    "  </ul>\n",
    "</blockquote>"
   ]
  },
  {
   "cell_type": "markdown",
   "id": "31665342-832f-4df8-acf7-7fd1a84f8976",
   "metadata": {},
   "source": [
    "End of part 1 of 3 in this topic.\n",
    "***"
   ]
  },
  {
   "cell_type": "markdown",
   "id": "37be7c06-d99b-4dd1-8bae-afaceda77929",
   "metadata": {},
   "source": [
    "Start of 2/3 nd topic..\n",
    "\n",
    "## on 3rd September, 2021 ~ Friday_1\n",
    "In this lecture (and the next one..)\n",
    "* Now think the equations in the multi-dimensional space, and\n",
    "* What geometric objects does these equations represent.."
   ]
  },
  {
   "cell_type": "markdown",
   "id": "f4e7f704-a78b-4262-bd43-aa071452ca77",
   "metadata": {},
   "source": [
    "Lets start looking what geometrical objects represent the equations.. starting with the 2Dimension space.... \n",
    "* (Say) We have space in the $X_1$ and $X_2$, and an equation $ax_1 + bx_2 + c = 0$ now, we are going to understand what this equation represents..\n",
    "    * In 2D space, it turns out to be a line. \n",
    "    \n",
    "**Ok, that's about single line.., What about two lines then..??**\n",
    "> <ul>\n",
    "      <li> Two equations (two lines), become a point if they become solvable -- not clear..?? Recollect the solving of linear equations in graphical form... those two lines are said to have a solution if they meet at some point (technically called as **Intersection ponit**). The same is depicted here..\n",
    "      <li> If had no relation between those, then they are representing the whole points in the 2D space  -- may be, sir might meant line this.. every point of a line, as there is no constraint to meet/be at one point, they take up the entire space ---------------------correct if found to be incorrect.  \n",
    "   </ul>\n",
    "   \n",
    "* The equation $ax_1 + bx_2 + c = 0$, can also be written as: $n^TX + b =0$, $n$ is the column vector $\\begin{bmatrix} a \\\\ b \\end{bmatrix}$ and $X$ is the vector of variables $X = \\begin{pmatrix}x_1 \\\\ x_2 \\end{pmatrix}$. _(here in this equation $b$ takes the position of $c$ in the first equation)_.\n",
    "\n",
    "![](resources/RepresentingLinesAndPlane_1.png).\n",
    "****\n",
    "<img src=\"resources/studentThinkingQuestion.png\" height=7% width=7%></img> **What does $n$ mean here?**\n",
    "> Here shown as normal\n",
    "\n",
    "and to see why that is true... In the line shown in figure ![](resources/RepresentingLinesAndPlane_2.png), the points $X_1$ and $X_2$ both lie on the line, and satisifies the equation $n^TX + b =0$ ![](resources/RepresentingLinesAndPlane_3.png). \n",
    "\n",
    "Interpreting...the part.. $X^2 - X^1$  as the vector addition <br/>![](resources/RepresentingLinesAndPlane_4.png)... i.e., ![](resources/VectorAddition.svg)\n",
    "\n",
    "and $n^T$ can be interpreted as.... _From the Orthogonal lecture, familiar that $a^Tb=0$, tells that $a$ and $b$ are perpendicular to each other_.. here too, the vector addition line ($X^2 - X^1$) and the normal ($n$) are perpendicular, that's what depicted in the sir's figure... and also connotated via equation $n^T(X^2 - X^1)=0$.\n",
    "****\n",
    "Putting it together..![](resources/RepresentingLinesAndPlane_5.png)\n",
    "\n",
    "In data science perspective, they are used in **Linearly separable classes** and **Separating classes that are linearly separable**."
   ]
  },
  {
   "cell_type": "markdown",
   "id": "66747934-6223-4dec-944d-85346862b311",
   "metadata": {},
   "source": [
    "**What an equation represents in a 3D plane..?**\n",
    "> A plane.\n",
    "\n",
    "* Fixing one of the variables (say $x_3$), it results in a plane. ---- Guess, if that $x_3$, can be a variable, then it beecomes a cuboid right..??\n",
    "* If two equations(planes), if solvable becomes a line (a 1 dimensional object) .. Imagine a bit ... like ![](resources/PlanesIntersecting.png) -- For understanding a line segment $GH$ has drawn..\n",
    "* If three equations(planes), then they represent a point (0 dimensional object). Can take a reference for imagination as ![](resources/3PlanesIntersecting.png)\n",
    "****\n",
    "![](resources/RepresentingLinesAndPlanes_7.png), the 2nd value used in the subtraction are the values that are fixed, then yields the corresponding object. If 0-> a 0 dimensional object - a Point, similarly, if 1-> a line, 2 -> a Plane."
   ]
  },
  {
   "cell_type": "code",
   "execution_count": null,
   "id": "91f2cd4a-f5b6-4ac7-83f6-7ee367188bc3",
   "metadata": {},
   "outputs": [],
   "source": [
    "multiplePeopleAskingDoubts.jpg\n",
    "raisingHand_forDoubt.jpg\n",
    "studentThinkingQuestion.jpg\n",
    "\n",
    "PlanesIntersecting.png"
   ]
  },
  {
   "cell_type": "markdown",
   "id": "d7dfe7bd-8fed-47b0-96cb-4c7fb6fa5156",
   "metadata": {},
   "source": [
    "coming to the next topic..\n",
    "# Projections.."
   ]
  },
  {
   "cell_type": "markdown",
   "id": "f31694cf-1cc0-453d-a349-9efd1557cd22",
   "metadata": {},
   "source": [
    "In data science, we even see coming this in many algorithms like Principal Component Analysis (PCA), etc...\n",
    "* **We are always intereseted projecting into vectors**, why..?? because many times we might want to represent data through smaller set of objects/number of vectors.So, in some sense, the data cannot not be completely represented by the smaller no. of object or no. of vectors."
   ]
  },
  {
   "cell_type": "markdown",
   "id": "1870aef4-75da-445b-bdad-ba2a8e538cef",
   "metadata": {
    "tags": []
   },
   "source": [
    "### September 4th, Sunday_1"
   ]
  },
  {
   "cell_type": "markdown",
   "id": "60c6fa94-b6b6-4b4e-b910-f44127497222",
   "metadata": {},
   "source": []
  },
  {
   "cell_type": "markdown",
   "id": "0a753c98-386c-4e06-8006-6b9716d7ad3b",
   "metadata": {},
   "source": []
  },
  {
   "cell_type": "markdown",
   "id": "647adabd-3e5f-4f97-8433-5f34246402c9",
   "metadata": {},
   "source": []
  },
  {
   "cell_type": "markdown",
   "id": "ff0e03c6-360e-43ac-96c5-36d3b715db52",
   "metadata": {},
   "source": []
  },
  {
   "cell_type": "markdown",
   "id": "cc550528-6b9f-498e-9766-0ac6a19d7291",
   "metadata": {},
   "source": []
  },
  {
   "cell_type": "markdown",
   "id": "5d528d32-c5cd-44ac-a03f-5026012ce8ca",
   "metadata": {},
   "source": []
  },
  {
   "cell_type": "markdown",
   "id": "d7971624-c138-44b8-8add-41e279c86078",
   "metadata": {},
   "source": []
  },
  {
   "cell_type": "markdown",
   "id": "f39cb955-1c8b-41ba-900f-9a0afb19c0e6",
   "metadata": {},
   "source": []
  },
  {
   "cell_type": "markdown",
   "id": "5a8d64de-d163-4fb3-99eb-9f648ce1895c",
   "metadata": {},
   "source": []
  },
  {
   "cell_type": "markdown",
   "id": "d4eeadf4-f2af-4949-bb43-e214b6107e21",
   "metadata": {},
   "source": []
  },
  {
   "cell_type": "markdown",
   "id": "3bd83889-b608-4ca6-8584-56bf74703029",
   "metadata": {},
   "source": []
  },
  {
   "cell_type": "markdown",
   "id": "85ec060f-bbf8-4bb3-a3ae-64c7e9cbeba4",
   "metadata": {},
   "source": []
  },
  {
   "cell_type": "markdown",
   "id": "0ba80099-c4b5-4d6f-a8d4-f5689c871fd2",
   "metadata": {},
   "source": []
  },
  {
   "cell_type": "markdown",
   "id": "ce45c3c9-62f6-4f5b-a6cc-5727a1ab2a28",
   "metadata": {},
   "source": []
  },
  {
   "cell_type": "markdown",
   "id": "0214c039-35f4-4f52-8db4-842d2aa2fa35",
   "metadata": {},
   "source": []
  },
  {
   "cell_type": "markdown",
   "id": "76b870d3-c39e-4c81-b0c1-7553b59d6c82",
   "metadata": {},
   "source": []
  },
  {
   "cell_type": "markdown",
   "id": "d6a69aa1-8cf7-4b8a-a36f-a9019b6ac481",
   "metadata": {},
   "source": []
  },
  {
   "cell_type": "markdown",
   "id": "6080f35c-f927-4c0b-abae-ff9957aa93cb",
   "metadata": {},
   "source": []
  },
  {
   "cell_type": "markdown",
   "id": "b2e45ad4-ad80-4703-bf6c-319e6a892f94",
   "metadata": {},
   "source": []
  },
  {
   "cell_type": "markdown",
   "id": "45120831-c52d-4ca1-9fb8-9a5eeca0a595",
   "metadata": {},
   "source": []
  },
  {
   "cell_type": "markdown",
   "id": "7af692e9-bd26-401d-8b4d-62b4f7d12559",
   "metadata": {},
   "source": []
  },
  {
   "cell_type": "markdown",
   "id": "23f941f3-9d0b-4b54-9b12-b0e8ee747ad6",
   "metadata": {},
   "source": []
  },
  {
   "cell_type": "markdown",
   "id": "dc1a0c53-3b67-4f1c-8011-dfc79baeb9ab",
   "metadata": {},
   "source": []
  },
  {
   "cell_type": "markdown",
   "id": "6525037b-d958-4d07-a15e-19a6ba0b9323",
   "metadata": {},
   "source": []
  },
  {
   "cell_type": "markdown",
   "id": "ac91929c-b807-49ad-8e56-64b49c625b7f",
   "metadata": {},
   "source": []
  },
  {
   "cell_type": "markdown",
   "id": "781c51e2-4674-4956-834d-20af4cb0fd38",
   "metadata": {},
   "source": []
  },
  {
   "cell_type": "markdown",
   "id": "ae68fe4f-c127-4a8f-927d-f56add1ea194",
   "metadata": {},
   "source": []
  },
  {
   "cell_type": "markdown",
   "id": "2fd32fce-f9ad-4d4e-9e7e-5e4bd8399195",
   "metadata": {},
   "source": []
  },
  {
   "cell_type": "markdown",
   "id": "1071d246-2b7a-4769-8eb9-f1611e8c0fa7",
   "metadata": {},
   "source": []
  },
  {
   "cell_type": "markdown",
   "id": "6fc9f537-dfcc-4cd7-9e8b-0c9dbed458c5",
   "metadata": {},
   "source": []
  },
  {
   "cell_type": "markdown",
   "id": "3c8ed745-821f-4349-bf32-593feaf99e95",
   "metadata": {},
   "source": []
  },
  {
   "cell_type": "markdown",
   "id": "5571e362-dd8a-40be-bd13-731f074252f7",
   "metadata": {},
   "source": []
  },
  {
   "cell_type": "markdown",
   "id": "828d02b3-1731-4e10-9684-a417b7cb008f",
   "metadata": {},
   "source": []
  },
  {
   "cell_type": "markdown",
   "id": "1a734ff5-6665-4e97-8c42-4c949c1b26e4",
   "metadata": {},
   "source": []
  },
  {
   "cell_type": "markdown",
   "id": "1e6b196b-09fd-431a-8796-e0f5cd38a86a",
   "metadata": {},
   "source": []
  },
  {
   "cell_type": "markdown",
   "id": "80e06f34-e25e-4c8e-900a-3c75934452d7",
   "metadata": {},
   "source": []
  },
  {
   "cell_type": "markdown",
   "id": "d7b20f74-2428-4186-8fd4-e956a26231f8",
   "metadata": {},
   "source": []
  },
  {
   "cell_type": "markdown",
   "id": "59c43792-b5be-4922-8aec-f3fba8406a63",
   "metadata": {},
   "source": []
  },
  {
   "cell_type": "markdown",
   "id": "4f3b3656-e798-4d66-b774-edc0bc9841fb",
   "metadata": {},
   "source": []
  },
  {
   "cell_type": "markdown",
   "id": "5b5d77b8-248b-42c7-81ab-815c462e2493",
   "metadata": {},
   "source": []
  },
  {
   "cell_type": "markdown",
   "id": "2142e6e8-925f-47d4-906a-afe5f87a5bd3",
   "metadata": {},
   "source": []
  },
  {
   "cell_type": "markdown",
   "id": "88c4ee9d-3696-42b7-a89f-aed1452f32b2",
   "metadata": {},
   "source": []
  },
  {
   "cell_type": "markdown",
   "id": "95c454f0-e466-40fa-8027-81ce46c78cc5",
   "metadata": {},
   "source": []
  },
  {
   "cell_type": "markdown",
   "id": "b85a5a54-6413-4d7b-99bb-82f560ee60cf",
   "metadata": {},
   "source": []
  },
  {
   "cell_type": "markdown",
   "id": "6bda15c3-e806-40ed-88e2-f90dc73baf2f",
   "metadata": {},
   "source": []
  },
  {
   "cell_type": "markdown",
   "id": "a0d05b04-5f5c-4df2-ad22-d607a8e8b119",
   "metadata": {},
   "source": []
  },
  {
   "cell_type": "markdown",
   "id": "de516852-2665-46ad-a19b-f444425e7aed",
   "metadata": {},
   "source": []
  },
  {
   "cell_type": "markdown",
   "id": "070cb5b8-5e35-4b73-bed0-4dda48d9cbce",
   "metadata": {},
   "source": []
  },
  {
   "cell_type": "markdown",
   "id": "f0443925-9676-4e37-b721-5c5e4bf5cf17",
   "metadata": {},
   "source": []
  },
  {
   "cell_type": "markdown",
   "id": "6b32d2a1-88a7-4f06-bc19-932dde5dad64",
   "metadata": {},
   "source": []
  },
  {
   "cell_type": "markdown",
   "id": "fa85e974-1a70-43f3-9853-79d58bff9f7f",
   "metadata": {},
   "source": []
  },
  {
   "cell_type": "markdown",
   "id": "5a60527a-3d8d-4baf-8df3-da05aa1a55aa",
   "metadata": {},
   "source": []
  },
  {
   "cell_type": "markdown",
   "id": "6cb252ca-23e8-4539-8901-7476e1b80e12",
   "metadata": {},
   "source": []
  },
  {
   "cell_type": "markdown",
   "id": "bb8cd6c7-2c0c-4d19-b73e-9d2899a4b30b",
   "metadata": {},
   "source": []
  },
  {
   "cell_type": "markdown",
   "id": "26bddcd5-56d1-40f5-9fdf-55f3cb3d2ab6",
   "metadata": {},
   "source": []
  },
  {
   "cell_type": "markdown",
   "id": "e0c39328-bae7-425c-a3d9-7fa786916928",
   "metadata": {},
   "source": []
  },
  {
   "cell_type": "markdown",
   "id": "cc71fa98-a0f8-4ce1-815b-fcf8baf1b3d2",
   "metadata": {},
   "source": []
  },
  {
   "cell_type": "markdown",
   "id": "b6bcb262-0888-4fff-89e7-521af7c3558e",
   "metadata": {},
   "source": []
  },
  {
   "cell_type": "markdown",
   "id": "4c8c43fe-3b3a-408d-aa12-127daf154c96",
   "metadata": {},
   "source": []
  },
  {
   "cell_type": "markdown",
   "id": "1bfb0fe4-27b3-4576-a032-daa4e1b849ff",
   "metadata": {},
   "source": []
  },
  {
   "cell_type": "markdown",
   "id": "e0aeae46-070e-40b2-941b-8c8fa30e58d9",
   "metadata": {},
   "source": []
  },
  {
   "cell_type": "markdown",
   "id": "e293c06e-b90b-4dc2-bd8f-a037f2e8b9cb",
   "metadata": {},
   "source": []
  },
  {
   "cell_type": "markdown",
   "id": "4784bc5b-f11a-4914-b644-0ca9fb8205ca",
   "metadata": {},
   "source": []
  },
  {
   "cell_type": "markdown",
   "id": "a90e82fa-2ddd-40a8-a169-bdec1af844cf",
   "metadata": {},
   "source": []
  },
  {
   "cell_type": "markdown",
   "id": "dd7fa174-c88d-45b0-90c0-46043fcdcfee",
   "metadata": {},
   "source": []
  },
  {
   "cell_type": "markdown",
   "id": "0d23af93-a54f-4ade-8f40-ca3fbc4ee23f",
   "metadata": {},
   "source": []
  },
  {
   "cell_type": "markdown",
   "id": "de1b09d0-4a54-41ac-83d5-4493bccdc148",
   "metadata": {},
   "source": []
  },
  {
   "cell_type": "markdown",
   "id": "eb0ed08e-27c2-4e1c-af4b-9ad5d1a4e969",
   "metadata": {},
   "source": []
  },
  {
   "cell_type": "markdown",
   "id": "539c5e01-473a-4a30-9054-129fcde364ec",
   "metadata": {},
   "source": []
  },
  {
   "cell_type": "markdown",
   "id": "4f45965a-835b-4b68-9781-71186b4f054f",
   "metadata": {},
   "source": []
  },
  {
   "cell_type": "markdown",
   "id": "01c85c59-0cec-4104-a193-7f23e90bf939",
   "metadata": {},
   "source": []
  },
  {
   "cell_type": "markdown",
   "id": "138d9c6c-a56c-418e-90e7-beb9016349eb",
   "metadata": {},
   "source": []
  },
  {
   "cell_type": "markdown",
   "id": "385dd827-edd6-48c3-b63c-b26a9386af82",
   "metadata": {},
   "source": []
  },
  {
   "cell_type": "markdown",
   "id": "d1640abb-86cb-4c38-bc7d-2530cd2f9515",
   "metadata": {},
   "source": []
  },
  {
   "cell_type": "markdown",
   "id": "3f36d8f2-d314-4c29-a6ef-e4f5f031bcf9",
   "metadata": {},
   "source": []
  },
  {
   "cell_type": "markdown",
   "id": "67b17007-b485-4b4f-9159-c1eed50b1ed1",
   "metadata": {},
   "source": []
  },
  {
   "cell_type": "markdown",
   "id": "9aeb6612-cdb6-42c8-ae54-321579a11e09",
   "metadata": {},
   "source": []
  }
 ],
 "metadata": {
  "kernelspec": {
   "display_name": "R",
   "language": "R",
   "name": "ir"
  },
  "language_info": {
   "codemirror_mode": "r",
   "file_extension": ".r",
   "mimetype": "text/x-r-source",
   "name": "R",
   "pygments_lexer": "r",
   "version": "3.6.1"
  }
 },
 "nbformat": 4,
 "nbformat_minor": 5
}
