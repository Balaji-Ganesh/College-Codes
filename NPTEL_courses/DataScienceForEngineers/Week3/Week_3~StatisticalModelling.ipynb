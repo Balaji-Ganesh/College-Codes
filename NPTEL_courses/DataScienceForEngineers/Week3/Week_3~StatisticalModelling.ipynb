{
 "cells": [
  {
   "cell_type": "markdown",
   "id": "95d1767b-8e24-4abb-938a-a4fe2e1c8322",
   "metadata": {},
   "source": [
    "## Contents"
   ]
  },
  {
   "cell_type": "markdown",
   "id": "4a1e67da-c04a-482c-9f12-00b6ec8c34d6",
   "metadata": {},
   "source": [
    "1. Random variables, Probability Density Functions\n",
    "    * Introduciton\n",
    "    * Random Phenomena\n",
    "    * Probability Measure\n",
    "    * Random Variables, Probability Density Functions (PDF)\n",
    "    * Some common PDFs, Moments of PDFs.\n",
    "2. Estimation, Hypothesis Testing\n",
    "    * Sample Statistics\n",
    "    * Estimation\n",
    "    * Hypothesis Testing"
   ]
  },
  {
   "cell_type": "markdown",
   "id": "e8feb24e-ea69-4c2d-81c0-6f071ffc62e3",
   "metadata": {},
   "source": [
    "### Types of Phenomena\n",
    "![](resources/TypesOfPhenomena.svg)\n",
    "\n",
    "Why are we dealing with ***Stochastic Phenomenon***?\n",
    "> Because all the data, which we get from experiments contains some error.\n",
    "What are the Sources of errors?\n",
    "* When we don't know all the rules that govern in the data generating process. i.e., Lack of knowledge in all laws/ causes that affects the outcome. -- called **Modelling Error**.\n",
    "* Even if we know everything, the sensors that we use for observing gives some error. -- **Measurement Error**\n",
    "\n",
    "These 2 errors are modeled via PDFs, therfore, the output is also predicted with some confidence interval. \n",
    "\n",
    " **Types of Random Phenomena**\n",
    "* **Discrete**: Outcomes are finite\n",
    "    * coin toss: (H, t}\n",
    "    * Throw of a die: {1, 2, 3, 4, 5, 6}\n",
    "    * Playing cards: {Spades, Diamonds, Hearts, Clubs}.\n",
    "* **Continous**: Infinite no. of outcomes\n",
    "    * Measurement of Body temparatures *(Varies much depending on activities, location, age...)*.\n",
    "    \n",
    "![](resources/CharacterizingRandomPhenomena.png)"
   ]
  },
  {
   "cell_type": "markdown",
   "id": "5ece8f30-acc1-43a3-a0d6-7582dcf2ae14",
   "metadata": {},
   "source": [
    "$\\textrm \\textit{Italic \\therefore}$"
   ]
  },
  {
   "cell_type": "markdown",
   "id": "21455ad7-401a-4b12-96f0-70a4f47e724e",
   "metadata": {},
   "source": []
  },
  {
   "cell_type": "markdown",
   "id": "cd111645-ffcd-47af-9985-d26cefa77e84",
   "metadata": {},
   "source": []
  },
  {
   "cell_type": "markdown",
   "id": "cf35bff5-4533-43ed-a262-a088058f9fba",
   "metadata": {},
   "source": []
  },
  {
   "cell_type": "markdown",
   "id": "177dee8a-c176-4faf-89be-ad6db112ad26",
   "metadata": {},
   "source": []
  },
  {
   "cell_type": "markdown",
   "id": "563fde08-899c-4db3-879c-6d9b744e221a",
   "metadata": {},
   "source": []
  },
  {
   "cell_type": "markdown",
   "id": "6b3dd986-7429-471e-bfc8-2279cd113713",
   "metadata": {},
   "source": []
  },
  {
   "cell_type": "markdown",
   "id": "80ec02fd-568c-4b82-b423-08bd8fa9bafe",
   "metadata": {},
   "source": []
  },
  {
   "cell_type": "markdown",
   "id": "8d1293b8-8411-4b2c-b978-dd3903f9cf0d",
   "metadata": {},
   "source": []
  },
  {
   "cell_type": "markdown",
   "id": "98359201-e077-4d3c-929e-a4cb11bea783",
   "metadata": {},
   "source": []
  },
  {
   "cell_type": "markdown",
   "id": "c80936da-a776-417c-972d-0312076d31f0",
   "metadata": {},
   "source": []
  },
  {
   "cell_type": "markdown",
   "id": "108f9941-6b96-4824-9b27-ef27b7672860",
   "metadata": {},
   "source": []
  },
  {
   "cell_type": "markdown",
   "id": "863b6629-04f0-460b-8cd3-98d95842c40d",
   "metadata": {},
   "source": []
  },
  {
   "cell_type": "markdown",
   "id": "9e9d305c-44cf-4ece-885f-f5ea10168693",
   "metadata": {},
   "source": [
    "Choose the note taking method based on the course-type, type of lecture.. --- Keep the point in note: You should able to think the subject/topic what you had listened, not just doing the verbatim-copy.\n",
    "\n",
    "Yes..!! for some courses/lectures.. this works -- but not for all -- _Its a play of wisdom here..!! which is of blessings by Maa_\n",
    "* Use pictures and mind maps -- take use of draw.io\n",
    "\n",
    "* Cornell Method <br/>\n",
    " ![](resources/CornellMethod.png)\n",
    "* The Outline method\n",
    "![](resources/CornellMethod.png)\n",
    "\n",
    "* Summary Sheets\n",
    "    - Two points to be focused on.. ![](resources/SummarShetsKeyPoints.png) -- don't just fill it with verbatim of lectures. Describe in you words --- by thinking.., understand deeply, make simplifications<br/>\n",
    "\n",
    "* Synthesis Questions\n",
    "\n",
    "First an work with Outline method, then with Synthesis Questions."
   ]
  },
  {
   "cell_type": "markdown",
   "id": "11c37679-1e0f-49fe-90ec-41131a9ecd53",
   "metadata": {},
   "source": [
    "* First an work with Outline method, then with Synthesis Questions."
   ]
  },
  {
   "cell_type": "markdown",
   "id": "8e9035ac-e307-40eb-aa6b-6f2cda73c73a",
   "metadata": {},
   "source": [
    "Step 1: Just flip through the pages, just looking at pictures, diagrams, graphs, etc. to just estimating how many words are there and how long the chapter is. Don't read at this point, just flip the pages.\n",
    "\n",
    "Step 2: Go to the end of the chapter and read the questions, if available. This gives you a sense of direction. What to look for in the book. What does the author consider important.\n",
    "\n",
    "Step 3: Read the bold print. Read the titles, the subtitles, the subheadings. This gives you a sense of structure.\n",
    "\n",
    "Step 4: Read the first sentence and last sentence in each paragraph. A good author would introduce the paragraph in the first sentence and sum it up in the last. \n",
    "\n",
    "*Keep this in mind if writing. *\n",
    "\n",
    "Note that we still haven't started reading for comprehension. We are reading for exposure.\n",
    "\n",
    "Analogy: We are not connecting the dots yet. We are building a map of the dots.\n",
    "\n",
    "Step 5: Now read the chapter for comprehension and take notes.\n",
    "\n",
    "This seems like a lot of work compared to reading and forgetting but compared to reading it for comprehension or remembering for a test, this is WAY easier and WAY less work.\n",
    "\n",
    "Repetition is the mother of learning.\n",
    "****\n",
    "[source](https://youtu.be/nqYmmZKY4sA), Copied from the comment of _Md Talha Ansari_."
   ]
  },
  {
   "cell_type": "code",
   "execution_count": null,
   "id": "bf6e879f-ff34-46ef-b56c-83077d22f4f2",
   "metadata": {},
   "outputs": [],
   "source": []
  }
 ],
 "metadata": {
  "kernelspec": {
   "display_name": "R",
   "language": "R",
   "name": "ir"
  },
  "language_info": {
   "codemirror_mode": "r",
   "file_extension": ".r",
   "mimetype": "text/x-r-source",
   "name": "R",
   "pygments_lexer": "r",
   "version": "3.6.1"
  }
 },
 "nbformat": 4,
 "nbformat_minor": 5
}
