{
 "cells": [
  {
   "cell_type": "markdown",
   "id": "cf27bee4-2415-4a58-90b4-c136d8cb895d",
   "metadata": {},
   "source": [
    "on 7th September, 2021 ~ Tuesday"
   ]
  },
  {
   "cell_type": "markdown",
   "id": "7fc54052-6d37-48bc-bfc5-0784efe4610f",
   "metadata": {
    "jp-MarkdownHeadingCollapsed": true,
    "tags": []
   },
   "source": [
    "## Module-1: **Predictive Modelling**\n",
    "![](resources/PredictiveModellingImg.png)"
   ]
  },
  {
   "cell_type": "markdown",
   "id": "c3dc9c53-e35d-458a-bda1-5c99301e8384",
   "metadata": {},
   "source": [
    "![](resources/Outline.png)"
   ]
  },
  {
   "cell_type": "markdown",
   "id": "46fd6e4a-67a4-4424-bbfe-e48af8714475",
   "metadata": {},
   "source": [
    "![](resources/CorrelationHeading.png)"
   ]
  },
  {
   "cell_type": "markdown",
   "id": "b2002052-bf04-456a-aa65-060d7c1243cb",
   "metadata": {},
   "source": [
    "![](resources/preliminaries.png)\n",
    "![](resources/CorrelationIntro.png)\n",
    "Understanding the correlation graphically --- via Observation of trend line _(in the scatter plot)_ -- called **Qualitative View**..\n",
    "* A line (L-to-R steepness) indicates that, $y$ increasing as $x$ increases.. --**Positive Trend**.\n",
    "* A line (R-to-L steepness) indictates that, $y$ decreasing as $x$ increases.. -- **Negative Trend**.\n",
    "* No such order -- tells no relation\n",
    "\n",
    "But to have some value, which tells even more accurately... comes the **Quantitative Metric** -- depending on kind of variables and type of association."
   ]
  },
  {
   "cell_type": "markdown",
   "id": "29d75a34-3190-4781-871d-1c80a44cfea3",
   "metadata": {},
   "source": [
    "## Pearson's Correlation"
   ]
  },
  {
   "cell_type": "markdown",
   "id": "3da3d328-f1a7-47cb-a77c-5a38b43bdc93",
   "metadata": {},
   "source": [
    "\n",
    "![](resources/RangeOfValuesPearsonsCorrelation.svg)"
   ]
  },
  {
   "cell_type": "markdown",
   "id": "d339631c-ee71-4a64-8543-922e7c969c83",
   "metadata": {},
   "source": [
    "![](resources/pearsonsCorrelation1.png)\n",
    "![](resources/pearsonsCorrelation2.png)\n",
    "![](resources/pearsonsCorrelation_Ex.png) -- notice that, it gives almost same value of _linear_ and _non-linear_.\n",
    "<br/>\n",
    "    It is a dataset, which contains only 8-13 points.\n",
    "<br/>\n",
    "Example:<br/>\n",
    "![](resources/pearsonsCorrelation_Ex1.svg)"
   ]
  },
  {
   "cell_type": "markdown",
   "id": "89ef2cdf-14d5-44e0-bc1e-a811a905dd19",
   "metadata": {},
   "source": [
    "## Spearman Rank Correlation"
   ]
  },
  {
   "cell_type": "markdown",
   "id": "63e9e5d0-0cc9-4b82-a0d6-d573f2a37cbc",
   "metadata": {},
   "source": [
    "![](resources/SpearmanRankCorrelation.png)"
   ]
  },
  {
   "cell_type": "markdown",
   "id": "f84251c9-5c47-4fd5-b44a-9a2af19b2718",
   "metadata": {},
   "source": [
    "<iframe src=\"resources/SpearmanRankCorrelation2.html\" width=400 height=400>"
   ]
  },
  {
   "cell_type": "code",
   "execution_count": 3,
   "id": "ed6a48fd-c2ca-40d4-9de0-7a424ebe17c1",
   "metadata": {},
   "outputs": [
    {
     "ename": "ERROR",
     "evalue": "Error in parse(text = x, srcfile = src): <text>:1:6: unexpected symbol\n1: from IPython.display\n         ^\n",
     "output_type": "error",
     "traceback": [
      "Error in parse(text = x, srcfile = src): <text>:1:6: unexpected symbol\n1: from IPython.display\n         ^\nTraceback:\n"
     ]
    }
   ],
   "source": [
    "from IPython.display import HTML\n",
    "HTML('<iframe src=\"resources/SpearmanRankCorrelation2.html\" width=400 height=400>')"
   ]
  },
  {
   "cell_type": "code",
   "execution_count": 4,
   "id": "18a98392-a291-40a7-b071-8492b5b94aad",
   "metadata": {},
   "outputs": [
    {
     "ename": "ERROR",
     "evalue": "Error in parse(text = x, srcfile = src): <text>:1:6: unexpected symbol\n1: from IPython.display\n         ^\n",
     "output_type": "error",
     "traceback": [
      "Error in parse(text = x, srcfile = src): <text>:1:6: unexpected symbol\n1: from IPython.display\n         ^\nTraceback:\n"
     ]
    }
   ],
   "source": [
    "from IPython.display import HTML"
   ]
  },
  {
   "cell_type": "code",
   "execution_count": 5,
   "id": "e072d8dc-edd5-448f-93e2-fba82cf411b3",
   "metadata": {},
   "outputs": [
    {
     "ename": "ERROR",
     "evalue": "Error in parse(text = x, srcfile = src): <text>:1:6: unexpected symbol\n1: from IPython.display\n         ^\n",
     "output_type": "error",
     "traceback": [
      "Error in parse(text = x, srcfile = src): <text>:1:6: unexpected symbol\n1: from IPython.display\n         ^\nTraceback:\n"
     ]
    }
   ],
   "source": [
    "from IPython.display import IFrame\n",
    "IFrame('http://stackoverflow.org', width=700, height=350)"
   ]
  },
  {
   "cell_type": "code",
   "execution_count": 6,
   "id": "2697aa76-96a5-4d25-bc85-0b315875ba7d",
   "metadata": {},
   "outputs": [
    {
     "ename": "ERROR",
     "evalue": "Error in parse(text = x, srcfile = src): <text>:1:8: unexpected symbol\n1: import IPython\n           ^\n",
     "output_type": "error",
     "traceback": [
      "Error in parse(text = x, srcfile = src): <text>:1:8: unexpected symbol\n1: import IPython\n           ^\nTraceback:\n"
     ]
    }
   ],
   "source": [
    "import IPython"
   ]
  },
  {
   "cell_type": "code",
   "execution_count": 9,
   "id": "558b7b54-453b-433b-afe1-d5c0a916c3ea",
   "metadata": {},
   "outputs": [
    {
     "data": {
      "text/html": [
       "\n",
       "        <iframe\n",
       "            width=\"880\"\n",
       "            height=\"550\"\n",
       "            src=\"resources/SpearmanRankCorrelation2.html\"\n",
       "            frameborder=\"0\"\n",
       "            allowfullscreen\n",
       "        ></iframe>\n",
       "        "
      ],
      "text/plain": [
       "<IPython.lib.display.IFrame at 0x7f5f98b35ac0>"
      ]
     },
     "execution_count": 9,
     "metadata": {},
     "output_type": "execute_result"
    }
   ],
   "source": [
    "from IPython.display import IFrame\n",
    "IFrame('resources/SpearmanRankCorrelation2.html', width=880, height=550)"
   ]
  },
  {
   "cell_type": "markdown",
   "id": "46cadf6c-8278-4dd6-bcd7-d8c1a890527c",
   "metadata": {},
   "source": [
    "Check..."
   ]
  },
  {
   "cell_type": "code",
   "execution_count": 14,
   "id": "9b248d9d-eef4-4f8f-9f97-4b12056ee909",
   "metadata": {},
   "outputs": [
    {
     "name": "stdout",
     "output_type": "stream",
     "text": [
      "0.8757575757575757\n"
     ]
    }
   ],
   "source": [
    "import numpy as np\n",
    "lst = np.array([4, 4, 2.25, 4, 4, 0.25, 1, 0, 1, 0])\n",
    "n=10\n",
    "print(1-sum(6*lst)/(n*(n**2-1)))"
   ]
  },
  {
   "cell_type": "code",
   "execution_count": 17,
   "id": "4c657828-5e8f-421a-a51f-32fa3230b8ea",
   "metadata": {},
   "outputs": [
    {
     "data": {
      "text/html": [
       "0.875757575757576"
      ],
      "text/latex": [
       "0.875757575757576"
      ],
      "text/markdown": [
       "0.875757575757576"
      ],
      "text/plain": [
       "[1] 0.8757576"
      ]
     },
     "metadata": {},
     "output_type": "display_data"
    }
   ],
   "source": [
    "lst = c(4, 4, 2.25, 4, 4, 0.25, 1, 0, 1, 0)\n",
    "n=10\n",
    "1-sum(lst*6)/(n*(n**2-1))"
   ]
  },
  {
   "cell_type": "markdown",
   "id": "327fb62a-65b5-486f-9953-c3bedb827052",
   "metadata": {},
   "source": [
    "![](resources/SpearmanRankCorrelation3.png)"
   ]
  },
  {
   "cell_type": "markdown",
   "id": "c9750d04-4d4d-4455-83ee-6897a389644e",
   "metadata": {},
   "source": [
    "### **Kendall Rank Correlation**"
   ]
  },
  {
   "cell_type": "code",
   "execution_count": 1,
   "id": "40043601-f071-4a65-b759-e2c0fe83b4ab",
   "metadata": {},
   "outputs": [
    {
     "data": {
      "text/html": [
       "\n",
       "        <iframe\n",
       "            width=\"950\"\n",
       "            height=\"800\"\n",
       "            src=\"resources/KendallRankCoeff.html\"\n",
       "            frameborder=\"0\"\n",
       "            allowfullscreen\n",
       "        ></iframe>\n",
       "        "
      ],
      "text/plain": [
       "<IPython.lib.display.IFrame at 0x7f60a8408f10>"
      ]
     },
     "execution_count": 1,
     "metadata": {},
     "output_type": "execute_result"
    }
   ],
   "source": [
    "from IPython.display import IFrame\n",
    "IFrame('resources/KendallRankCoeff.html', width=950, height=800)                  ## The graphs in the image, are via intuition(by GRACE)... correct if found to be working...."
   ]
  },
  {
   "cell_type": "markdown",
   "id": "55957e56-a90d-4be6-8bdd-6817dea41c90",
   "metadata": {},
   "source": [
    "An example...\n",
    "![](resources/KendallRankCorrel Correlationation_3.png) \n",
    "<br/>\n",
    "**How the matrix was filled...?**_(Looks like, for simple understanding.. consider either Expert1 column or Expert_2 col)_<br/>>> \n",
    "-- here consider items as $x_i$ and Expert_1 as $y_1$'s ad Expert_2 as $y_2$ -- try making pairs in this way -- and compare like.. take two rows(item's instances) and compare the values _(of both experts)_ only if both concordant -> Concordant, else discordant pairs.. .. its respectively filled in the matrix table beside.\n",
    "> **NOTE** that.. for 1,1 $x$ pairs(i.e, rowS), there is no change .. so as per previous slide -- this is ignored, -- this can be seen as empty value.\n",
    "\n",
    "* High +ve value indicates -- A strong agreement between associates.\n",
    "* High -ve value indicates -- A strong disagreement..\n",
    "\n",
    "![](resources/KendallRankCorrelation_4.png)\n",
    "****\n",
    "* So, before trying to build any model, try plotting these and get a priliminary idea, what it tells regardgint the type of association between variables .. **then.. then..** choose the appropriate model."
   ]
  },
  {
   "cell_type": "markdown",
   "id": "cd845886-5227-4351-b990-62546a3d12c8",
   "metadata": {},
   "source": [
    "![](resources/KendallRankCoeff.svg)"
   ]
  },
  {
   "cell_type": "markdown",
   "id": "90157183-183d-4473-ad0e-dd1b1e641a1f",
   "metadata": {},
   "source": [
    "summary..\n",
    "![](resources/QuantitativeMeasuresOfCorrelation.svg)"
   ]
  },
  {
   "cell_type": "markdown",
   "id": "b1f0d286-528f-41aa-9449-743317460111",
   "metadata": {},
   "source": [
    "Coming up next.. Linear Regression"
   ]
  },
  {
   "cell_type": "markdown",
   "id": "943ae1e8-fe03-405f-a3d5-f196fd5a1662",
   "metadata": {
    "tags": []
   },
   "source": [
    "## Module-2: **Linear Regression**\n",
    "![](resources/LinearRegression.png)"
   ]
  },
  {
   "cell_type": "markdown",
   "id": "899dacd2-0a32-4a6f-a64b-a5f83fbb7dbe",
   "metadata": {},
   "source": [
    "Let's start with the motivation..<br/>\n",
    "![](resources/LinearRegression1.png) <br/>\n",
    "In Engineering... _(for the above examples)_ -- finding their data via measurement instruments is difficult, but it can be inferred with some given parameters -- and its needed continously, to make inferences.  In these cases, the usage of model is absolutely needed.\n",
    "<br/>\n",
    "Brushing up basic terms...<br/>\n",
    "![](resources/LinearRegression2.png)<br/>\n",
    "Types of Regression: \n",
    "![](resources/LinearRegression3.png)"
   ]
  },
  {
   "cell_type": "markdown",
   "id": "b7f470a1-6c52-40fa-85de-0c48adbd195b",
   "metadata": {},
   "source": [
    "**How can we go with choosing Regression technique?**<br/>\n",
    "![](resources/LinearRegression4.png) -- needed at choosing the model and even at developing the model..<br/?\n",
    "Various techniques to go with regression..<br/>\n",
    "![](resources/LinearRegression5.png) -- Add SVM in the 2nd list...<br/>\n",
    "_(based on assumptions you made and kind of problem encountered)_"
   ]
  },
  {
   "cell_type": "markdown",
   "id": "6928d1ae-13b8-4170-a42a-d6477fa4c68c",
   "metadata": {},
   "source": [
    "![](resources/RegressionProcess_Iterative.svg)"
   ]
  },
  {
   "cell_type": "markdown",
   "id": "6f393d78-04e8-4f1a-af24-aead46da290b",
   "metadata": {},
   "source": [
    "Let's see some of the techniques..<br/>\n",
    "![](resources/LinearRegresson_OLS_1.png) -- In this (say) a service agent reports to his boss -- how many he repaired in the given time. Such way here 14 points are taken. -- This can be used for the purposes like, \n",
    "* Measuring the efficiency of the service-man or decision on increasing his salary.. or\n",
    "* Productivity level of the comany.. like some of those.."
   ]
  },
  {
   "cell_type": "markdown",
   "id": "95d19a0d-f260-49be-bea6-18af518a0148",
   "metadata": {},
   "source": [
    "Why error..($\\epsilon _i$)??\n",
    "* May be due to the model we've chosen is inadequate for this data.\n",
    "* May be some errors in the measurement of $x$ and $y$'s..'"
   ]
  },
  {
   "cell_type": "markdown",
   "id": "101f6e8c-3849-47b2-a1d2-90c1b7b60925",
   "metadata": {},
   "source": [
    "Here we assume that, $x$ has no error -- it has perfectly measured. $y$ can contain. <br/>\n",
    "This gives the decision of choosing the independent and dependent variable..\n",
    "> The one which had no errors --> Independent variable <br/>\n",
    " Which had some errors -> Dependent variable\n",
    " \n",
    "****\n",
    "Here in the given example...\n",
    ">**Units** is chosen as *Independent variable* -- with an idea that, he bills all the customers and the same copy-slips are returned in the office, so this can't be an error unless someone transcribes it.<br/>\n",
    ">**Minutes** as _Dependent variable_ as his measurement may include the timings like traffic, location(if far, takes much time than the service-time).. and many such.\n",
    "\n",
    "But, its also a arguable point that, some even tells to use **The one to be predicted as _Dependent variable_ and with which we can do that as __Independent variable_**, but, after building the model with the obtained equation, one can go in either way right..\n",
    "\n",
    "**** \n",
    "If both contain error, then we need to go for some other methods like _Sensitive Linear regression_.. "
   ]
  },
  {
   "cell_type": "markdown",
   "id": "5809182d-76f4-4d6c-a5fc-455f1d1d88c8",
   "metadata": {},
   "source": [
    "![](resources/LinearRegression_OLS_2.svg)\n",
    "![](resources/LinearRegression_OLS_3.svg)"
   ]
  },
  {
   "cell_type": "markdown",
   "id": "cc545fcd-e4ba-44ce-844e-b5ee3d8f54ec",
   "metadata": {},
   "source": [
    "![](resources/LinearRegression_Code_example_basic.png)"
   ]
  },
  {
   "cell_type": "markdown",
   "id": "efe1a763-9761-4e64-a0bb-bf294c5e9ed4",
   "metadata": {
    "jp-MarkdownHeadingCollapsed": true,
    "tags": []
   },
   "source": [
    "## Module-3: **Model Assessment**\n",
    "Now, we are done with the (basic version) of model building. Now lets assess it.. and there are various ways to achieve that..<br/>\n",
    "So, what are the questions that one can take..<br/>\n",
    "![](resources/ModelAssessment_1.svg)<br/>\n",
    "\n",
    "Before starting, need to estimate some of the parameters..<br/> \n",
    "![](resources/ModelAssessment_2.svg).\n",
    "\n",
    "Once we derived the distribution of paramters, we can go for hypothesis testing to decide, whether are these significantly equal to 0.<br/>\n",
    "And can also derive the confidence intervals.<br/>\n",
    "![](resources/ModelAssessment_3.svg)\n",
    "\n"
   ]
  },
  {
   "cell_type": "markdown",
   "id": "0c926106-0fe7-4ed6-a06c-eeaee7edb93e",
   "metadata": {},
   "source": []
  },
  {
   "cell_type": "markdown",
   "id": "74ba192e-4334-45e1-ac2e-406f599666d3",
   "metadata": {},
   "source": [
    "Once after constructing 95% interval, we can test whether unknown beta^_0 and unknown beta^_1 are equal to 0 or not.. <br/>\n",
    "Let's do that.. But.. **Why needed this Hypothesis test..??**\n",
    "<blockquote>\n",
    "We've fitted the linear model, assuming that, \n",
    "<ol>\n",
    "    <li>linear dependence between x and y and obtained an estimate of beta^_1, and also...\n",
    "    <li>fitted the intercept term.\n",
    "</ol>\n",
    "    <b> Now, we may want to ask, \n",
    "        <ol>\n",
    "            <li> <i> Is the intercept term ($\\beta _0)$ Significant: <code>*</code> </i>- May be line should pass through origin or not\n",
    "            <li> <i> Slope term ($\\beta _1$): </i> May be variable <code>y</code> does not depend on <code>x</code> -- i.e., not depending in significant manner(i.e., $\\beta _1$ is close to 0)\n",
    "        </ol>\n",
    "    </b>\n",
    "    <br/><br/><code>*</code> Significant\n",
    "    <hr/>\n",
    "    Considering the equation's view.... evaluating with <code>0</code> <i>(for intercept term, as its the const)</i> is as same as not writing the intercept right..?? -- so, does it had significance..?? if <code>0</code> not, and <code>!=0</code>, yes...\n",
    "   <br/>\n",
    "    <b>For graphical view..</b><br/>\n",
    "    <ol>\n",
    "        <li> <b> For intercept</b>: Does the line doesn't pass through origin or not.\n",
    "        <li>\n",
    "    </ol>\n",
    "</blockquote>\n",
    "\n",
    "Now, by NULL Hypothesis, we are testing for $\\beta _1 = 0$ vs $\\beta _1 \\neq 0$.\n",
    "> If $\\beta _1 = 0$ (H<sub>0</sub> is accepted) true, indicates that...**Independent variable (`x`) has no effect on dependent variable(`y`)**.<br/>\n",
    " If rejected NULL Hypothesis _(means accepting Alternative Hypothesis)_.... concludes that.. **Independent variable (`x`) has some effect on dependent variable(`y`)**.<br/>\n",
    "     "
   ]
  },
  {
   "cell_type": "markdown",
   "id": "2784ad91-d19e-4e2d-934f-df16d5bd8937",
   "metadata": {},
   "source": []
  },
  {
   "cell_type": "markdown",
   "id": "4250d4a6-efe9-4324-b3f9-4f902ac80a09",
   "metadata": {},
   "source": []
  },
  {
   "cell_type": "markdown",
   "id": "09074863-416c-4432-8c5c-d53a352a2f4c",
   "metadata": {},
   "source": []
  }
 ],
 "metadata": {
  "kernelspec": {
   "display_name": "R",
   "language": "R",
   "name": "ir"
  },
  "language_info": {
   "codemirror_mode": "r",
   "file_extension": ".r",
   "mimetype": "text/x-r-source",
   "name": "R",
   "pygments_lexer": "r",
   "version": "3.6.1"
  }
 },
 "nbformat": 4,
 "nbformat_minor": 5
}
