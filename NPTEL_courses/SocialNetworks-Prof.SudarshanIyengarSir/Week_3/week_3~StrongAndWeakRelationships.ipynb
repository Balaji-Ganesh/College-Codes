{
 "cells": [
  {
   "cell_type": "markdown",
   "id": "fee7f50d-121a-42eb-b700-75b19da7b512",
   "metadata": {
    "tags": []
   },
   "source": [
    "# <center>Week-3 ~ **<a href=\"https://www.youtube.com/watch?v=1K0IR0IoDVI&list=PL3DBHamkNmfc2ApZFnxIwceBkFcLq0fCz&index=1\">Strong and Weak Relationships</a>**</center>"
   ]
  },
  {
   "cell_type": "markdown",
   "id": "4e95b61c-350c-4d8c-b5ed-5af6f9aac682",
   "metadata": {},
   "source": [
    "Worked on \n",
    "* September 3rd, Saturday\n",
    "* September 4th, Sunday"
   ]
  },
  {
   "cell_type": "markdown",
   "id": "0ee9bde9-fb2f-4785-9e6c-4a20e256f837",
   "metadata": {
    "jp-MarkdownHeadingCollapsed": true,
    "tags": []
   },
   "source": [
    "## Module-01: **<a href=\"https://youtu.be/1K0IR0IoDVI\">Introduction</a>**"
   ]
  },
  {
   "cell_type": "markdown",
   "id": "9400b969-7cf4-49a1-b4e9-d91c8783b0fd",
   "metadata": {},
   "source": [
    "on 3rd September, 2021 ~ Friday"
   ]
  },
  {
   "cell_type": "markdown",
   "id": "32b32585-a8fd-4eee-9bb5-a0f161414b0d",
   "metadata": {},
   "source": [
    "Started with a short clip from the movie: **Harry potter and the Philosopher's Stone (2001), Directed by: Chris Columbus _(Based on Harry Potter by J.K. Rowling)_** in which...\n",
    "<blockquote>\n",
    "  <ul>\n",
    "     <li> Hagrid comes to take Harry Potter. He is perplexed, he is not sure who is this 8foot long person -- who knocks the door off and enters. \n",
    "     <li> And when he asked, Who are you?, Why are you here?\n",
    "     <li> Hagrid replies: Iam here to take you Hokwortz -- He doesn't even know what it is.. Its the school of Witchcraft and Wizadry and you are invited to come and join..\n",
    " </ul>\n",
    "</blockquote>\n",
    "\n",
    "To put the theme of usage of it in this week..\n",
    "> Hagrid comes to meet Harry potter and take him. And harry potter doesn't know him.\n",
    "\n",
    "Pause for a min... and think... Is this what happens in a real life..\n",
    "**Does opportunites come from those, whom we are not close.. or a really good friend..??** \n",
    "\n",
    "-- 2 cases:![](resources/introduction_cases.png).. Well study says, the case-2. i.e., Most pople get opportunites from which whom they are not close with.. -- something called as **Weak-Tie** (Tie means FriendShip), A Weak Friendship...\n",
    "![](resources/introduction_cases_1.png)\n",
    "\n",
    "****\n",
    "i.e., say if you have 100 friends, you'll get opprortunity from the one, who is not a close friend, but an acquaitance --- **How's that..??**, that's what makes this week, come let's explore.."
   ]
  },
  {
   "cell_type": "markdown",
   "id": "645c57ee-cf62-4f50-ba12-26e869688f1a",
   "metadata": {
    "jp-MarkdownHeadingCollapsed": true,
    "tags": []
   },
   "source": [
    "## Module-2: **<a href=\"https://youtu.be/uE8pVkXEtT0\">Granovetter's Strength of Weak ties</a>**"
   ]
  },
  {
   "cell_type": "markdown",
   "id": "f69fd4e4-a327-4fa8-b490-fd355d85da86",
   "metadata": {},
   "source": [
    "Assume I went to 100 people and asked them randomly, **You are working in this office, who told you about this job opportunity?** \n",
    "> More than 90% will say that... **This person's friend who is my friend's friend... or someone to whom I was not close to him, told about this job..  etc...**, very rarely we encounter like.. said by my father..![](resources/QuestioningPeople.png)\n",
    "\n",
    "* This might be counter-intuitive.... Is it like, our close friends don't want to say the job-opportunity?? ![](resources/close_friends....png)...Not really..!! the following reason, makes convincible..\n",
    "* Assume a scneario, you have 5 friends, 4 are of them are very close to you and all those are from same world(i.e., all  those work in a same place). Whatever they know, even you know most of them..Ofcourse, occasionally may tell a new information.\n",
    "* Now see the E's role (5th friend) here.., he is from different world together. Whatever he knows, you may not be getting from close friends.\n",
    "![](resources/friends_circle.png). This E's information, to which you are slightly aware of. So, he is the one who'll tell the information from his world, which increases your sample space of information, which A, B, C, D can't.\n",
    "* Given that E is a distant friend of you, probably a weaker friendship with him. That's called as **Weak Tie**, and with the A,B, C, D its called **Strong Tie** ![](resources/weakTieInfriends.png).\n",
    "* <u>Strong</u> ties are <u>weak</u> when it comes to telling a new job related information. And, <ins>Weak</ins> ties are <ins>strong</ins> in-terms of telling the new job opportunity, which will be of worth-knowing. Hence..\n",
    "\n",
    "> **Weak** ties are actually **Strong**, while the  **Strong** ties are actually **weak**.\n",
    "\n",
    "**** \n",
    "**Historical Perspective..**..\n",
    "\n",
    "* **Granovettor** in the late 1960s, conducted his experiment that: **From where do you got this job opportunity?**, and most of them replied **it was through Acquantainces**. \n",
    "* That is when, he observed, something counter-intuitive is being heppening, and conducted experiments and concluded that **Strength of weak-ties is in play here** and tried publishing a paper in 1969 -- but the scientific community didn't accepted it, so got rejected.\n",
    "* Later in 1973 people started accepting his vies , and it got accepted. Then after getting accepted, it became reslly really famous -- famous simply because, it is **Such an important concept yet very counter-intuitive**.\n",
    "****\n",
    "**MORAL**: Keep your acquantainces happy, you should not just treat your good friends. --_There is some fallacy here, if you started treating acaquaintances, then they become good friends and you may not get new information_.\n",
    "\n",
    "So, the point is: You should have a big friend circle, your opportunites increase, but the new opprotunites come acquantinces for the above reasons listed.\n",
    "\n",
    "So, now let's get familiar with the slightly abstract mathematical concepts around these.."
   ]
  },
  {
   "cell_type": "markdown",
   "id": "2febc924-e99b-46ae-b1a2-98f602bfdb39",
   "metadata": {
    "jp-MarkdownHeadingCollapsed": true,
    "tags": []
   },
   "source": [
    "## Module-3: **<a href=\"https://youtu.be/qSqSzzFdhSE\">Triads, Clustering coefficient & Neighborhood overlap</a>**"
   ]
  },
  {
   "cell_type": "markdown",
   "id": "d34bb0e5-a7d4-496a-8efa-de8d2479cf18",
   "metadata": {
    "jp-MarkdownHeadingCollapsed": true,
    "tags": []
   },
   "source": [
    "### **Triads and Triadic closure...**"
   ]
  },
  {
   "cell_type": "markdown",
   "id": "f9d2fa4c-72fa-4215-9579-fc3fd6b73e7a",
   "metadata": {},
   "source": [
    "-- Root-node is the person, and child-nodes are the people whom he is friend of. **NOTE:** Here child nodes doesn't know each other themselves directly.\n",
    "![](resources/Triad.png).\n",
    "\n",
    "Eventually one can expect that, those become friends each other.. then ..![](resources/Triad_1.png).\n",
    "\n",
    "* The structure is called a **Triad**, and the friendship that happens in this triad, making it a triangle -- this phenomenon is called the **Triadic closure**.\n",
    "    * See, its Traid, becoems closed -- so Triadic Closure. ![](resources/Triad_2.png)"
   ]
  },
  {
   "cell_type": "markdown",
   "id": "00fce1f6-5ab3-4a4f-a329-1e2c56a3082f",
   "metadata": {
    "jp-MarkdownHeadingCollapsed": true,
    "tags": []
   },
   "source": [
    "### **Clustering Coefficient**"
   ]
  },
  {
   "cell_type": "markdown",
   "id": "86d4ebc4-c070-4ee4-b691-0b166fa15d9c",
   "metadata": {},
   "source": [
    "\\begin{align}\n",
    "\\textbf{Clustering coefficient} =  \\frac{\\textit{Existing friendships}}{\\textit{Total possible friendships that can exist}}  \n",
    "\\end{align}"
   ]
  },
  {
   "cell_type": "markdown",
   "id": "11940684-6fc7-4f62-b8ee-08d5af80e11e",
   "metadata": {},
   "source": [
    "Consider 5 friends in 2 scenarios.. firstly, all of them not know them-selves, second all know themselves. Which one do you prefer _(to be the center-node in the graph)_..?? ![](resources/2scenarios.png) -- mostly second one.   Ofcourse, in some scenarios, where the 1st might be favourable.\n",
    "\n",
    "Let's try to quantify this matematically..!! there must be something in between these.. like some not being not-known to each...right..\n",
    "> i.e.,.. Say you are friend with 5 people and there are <mark><u>some</u></mark> friendships between them selves. Now how many possible friendships can happen between these.. In 5 people, 4 chooses to be friends... how many ways one can do that..? 5 friends in 4 different ways: so $5 \\cdot 4=20$ -- as we counted the SINGLE friendship TWICE(as from either-side), scale-down by half gives $ \\frac {5 \\cdot 4}{2}=\\frac {20}{2}=10$.\n",
    "\n",
    "* In the example, there are 6 friendships _(as represented in the figure, consider friendships among themselves, not including you[the center-node])_.![](resources/friendships.png)\n",
    "* The strength of friendships depends on the *friend ships between them*. The fraction $\\frac{6}{10}$ denotes the strength of friendships with these 5 friends -- formally called as **Clustering Coefficient**.i.e.,\n",
    "> In ${Nr}$ place the friendships that are existing between them, in ${Dr}$, place the total no. of friendships that can exist between them.\n",
    "\n",
    "If it is $1$, all know each other, if $0$, none of them know each other. ![](resources/clustering_coefficient.png). In between, tells the strongness... nearer to 1, stronger, nearer to 0, weaker..\n",
    "****\n",
    "Why this is important..??  \n",
    "> It is observed that, people who've committed suicides, had very less clustering co-efficient. ![](resources/lessClusteringCoefficient.png). <br/> Its not that, those people had less friends, they had, but of different circles. Whenever they need to meet, they'll meet one and comes back.. not together as all those aren't known to themselves.\n",
    "\n",
    "and in similar cases..."
   ]
  },
  {
   "cell_type": "markdown",
   "id": "086e279a-2d95-4edf-a5d6-b2f9d507be9d",
   "metadata": {
    "jp-MarkdownHeadingCollapsed": true,
    "tags": []
   },
   "source": [
    "### **Neighborhood Overlap**"
   ]
  },
  {
   "cell_type": "markdown",
   "id": "d61ac2d2-83cb-46d7-b7fc-c9112b57789a",
   "metadata": {},
   "source": [
    "Term may seem bit complex, let's go with the right analogy...<br/>\n",
    "**How to judge a person..??** Is it based on..\n",
    "_How much he earns..??_<br/>\n",
    "* i.e., if A earns > than B, then A is richer than B. <br/>![](resources/RichnessJudging.png)\n",
    "\n",
    "Let's try redifining it.. by ot looking at the bank balance.. instead.. as <br/>\n",
    "* In Dr, the earnings of person\n",
    "* In Nr, to where the money is spent on good deeds\n",
    "> ![](resources/richnessJudging.png)\n",
    "Then, if he spends ofr noble-causes, then I call as richest.\n",
    "\n",
    "Now see.. the richness is got defined as.. **The proportion of money how well the money is spent divided by how much one ears**.<br/>\n",
    "**Why used fraction here....??**<br/>\n",
    "If the Dr is large and Nr is small - that gives a very less value _(closer to $0$)_ -- then I don't call as rich, if equal, then it would be closer to $1$, then can call as rich.<br/>\n",
    "![](resources/richnessJudging_1.png)\n",
    "***\n",
    "Similarly.. **The strength of a friendship** can be defined as follows.... See the no.of common friends they had -- and designate it as their strength <br/> \n",
    "<center>or..</center><br/>\n",
    "Look, what fraction of friends are common in between. ![](resources/neighborhoodOverlap.png)i.e., $$\\textbf{Neighbourhood Overlap} = \\frac{\\text{# common friends}} {\\text{# total friends}}$$.\n",
    "athematically speaking.. its.. $$\\text{Neighbourhood Overlap} = \\frac{A \\cap B} {A \\cup B}$$\n",
    "If it is $\\text{close to}  1 \\text{Neighborhood Overlap is MAXimum}$, if  $\\text{close to}   \\text{Neighborhood Overlap is MINimum}$\n"
   ]
  },
  {
   "cell_type": "markdown",
   "id": "47e6c21d-fa93-4b8b-a920-4cc80f4056ba",
   "metadata": {
    "jp-MarkdownHeadingCollapsed": true,
    "tags": []
   },
   "source": [
    "## Module-4: **<a href=\"https://youtu.be/OguUuU8K9-I\">Structure of Weak ties, bridges and local bridges</a>**"
   ]
  },
  {
   "cell_type": "markdown",
   "id": "344dda75-ee46-4247-afba-516da2894424",
   "metadata": {},
   "source": [
    "Assume you are given a graph G, and asked to tell **What are the weak ties?**, Can you tell or can't? <br/>![](resources/weakTies.png)<br/>\n",
    "Say you are given this graph.. the one _(Recollect the graph of week-1: Connectedness.. )_.. ![](resources/weakTies_1.png)<br/>\n",
    "A and B are from two different islands, and those are friends, and they don't have any common friends in between..<br/>\n",
    "Then by definition it is the _Weak tie.._ -- May say that, they can also be good friends.. -- this isn't possible for the reason: \n",
    ">If they both are good friends, then B should have more friends than this and same for A too (because of triadic closure)\n",
    "\n",
    "So, given that, triadic closure is not there-- is itself and indication that, it's a Weak tie.\n",
    "So in this.![](resources/weakTies_2.png)-- that being only 1 edge is not possible in real life. So ![](resources/weakTies_3.png), removal of such edge, the graph becomes disconnected. It is called a **Bridge.**\n",
    "> A and B do not have any common friends, nor there is a path from A to B other than A to B.\n",
    "\n",
    "**Local Bridge** _(\"Weak bridge\" to remember intuitively)_<br/>\n",
    "[DEF]\n",
    "> Its a bridge(an edge), without having any triads on either side of the vertices.\n",
    "\n",
    "So, every bridge is a local bridge by definition.. ![](resources/LocalBridge.png)-- here A-B is not a bridge but a local bridge.<br/>\n",
    "Such local bridges can also be termed as Weak ties -- reason: none of friends of A, B knows and same for B -- if they would have known, it would have became a triad right.\n",
    "****\n",
    "So, Granovetter observed that, this local bridges form the weak ties. _(And a weak tie is mostly a local bridge-- they both don't have a common friends)_<br/>\n",
    "So, he argued as: such weak ties connect A to a new world of B from where the good opportunities arise."
   ]
  },
  {
   "cell_type": "markdown",
   "id": "94b7cdad-705f-4129-af48-82eb00977e98",
   "metadata": {},
   "source": [
    "### Strong Triadic Closure property\n",
    "\n",
    "Assume a friendship like..![](resources/StrongTriadicClosureProperty1.png)..  Its intuitive that, Even _Raj_ and _Ram_ becomes friends (May or may not be the strong tie, but a tie). So, this results in the triadic closure due to the strong tie ![](resources/StrongTriadicClosureProperty.png)-- (dotted line to denote, some tie) ---- which forms as **Strong triadic closure property**. pretty straight forward right...!!<br/> \n",
    "\n",
    "Now (say) in the graph of ![](resources/StrongTriadicClosureProperty3.png) if A has 50 friends ![](resources/StrongTriadicClosureProperty2.png).. and some of them are strong ties.<br/>\n",
    "based of Strong triadic closure property, .. there exists some tie between A and B ![](resources/StrongTriadicClosureProperty2.1.png). <br/>\n",
    "<br/>\n",
    "This results in: A and B not being in local bridge -- why, now there exists a common friend for both, thus forms a triadic closure. _(Even as per definition of local bridge, presence of a triad violates it to be a local bridge)_.\n",
    "**** \n",
    "To conclude..\n",
    "> A local bridge is mostly a weak tie.\n",
    "\n",
    "If there exists any triads _(between A and B)_ due to strong ties of A, _(as like in above: via \"Z\")_, then that violates to be a local bridge. _(by definition and intuition)_."
   ]
  },
  {
   "cell_type": "markdown",
   "id": "2579f602-7843-4810-815b-ef221daac6e6",
   "metadata": {
    "jp-MarkdownHeadingCollapsed": true,
    "tags": []
   },
   "source": [
    "## Module-5: **<a href=\"https://youtu.be/K5MzMPLNlnQ\">Validation of Granovetter's experiment weak tie using Cellphone data</a>**"
   ]
  },
  {
   "cell_type": "markdown",
   "id": "2f4137c8-f5ce-4bea-ae4e-b89007e27e1d",
   "metadata": {},
   "source": [
    "In the time of 1960s (the years in which Granovetter conducted his experiments on weak ties), there wasn't much data that time.<br/>\n",
    "Now, the fact which is going to be revealed is **The local bridges turnout to be weak ties** which Granovetter couldn't show back then -- not clear.. read the below conducted experiment and read this again..\n",
    "\n",
    "Now, due to this era, a lot of data exists. Im the year of 2007, there conducted an experiment using _Cell phone's data_, which is done s follows: <blockquote>\n",
    "    <ul>\n",
    "        <li> An edge is put between two people if they had a call. ![](resources/CellPhoneDataIntro.png) . The also recorded the *amount of time* they talk for a period of 18 months(4+1/2 months), and the observed the big network. (Its mostly 85% connected).\n",
    "    </ul>\n",
    "    A proxy definition for a weak bridge is a *Neighborhood overlap* -- if lower: local bridge, if higher: Not a local bridge _(Here sir, termed reversly, but in next, said in this form.)_<br/>\n",
    "   <ul>\n",
    "       <li> High neighnorhood means, longer durations of call and vice versa for less neighborhood. <br/> ![](resources/CellPhoneData1.png) i.e., ![](resources/CellPhoneData2.png).\n",
    "   </ul>\n",
    "</blockquote>\n",
    "\n",
    "* In the graph structure, edges that corresponds to smaller neighborhood overlap (that means, edges that are close to be the local bridges) -- we observe that, **cell phone talking duration is lesser** -- which means a weak tie. --- think, intuitive right..!!"
   ]
  },
  {
   "cell_type": "markdown",
   "id": "2cd128c1-28e1-4339-88f2-dd61ad85ecd5",
   "metadata": {
    "jp-MarkdownHeadingCollapsed": true,
    "tags": []
   },
   "source": [
    "## Module-6: **<a href=\"https://youtu.be/ZMZqMbhSg28\">Embeddedness</a>**"
   ]
  },
  {
   "cell_type": "markdown",
   "id": "c9918d1e-73c4-43b9-9917-8b10acca485a",
   "metadata": {},
   "source": [
    "Imagine a situation.. (Say) on a street.<br/>\n",
    "<blockquote>\n",
    "    <ul>\n",
    "        <li>You've met a person, and talked.... and soom became friends. Now if he suddenly asks for money, what's your immediatie reaction? <br/>\n",
    " <img src=\"resources/embeddness.png\">... Who is this person, we just became friends, and doesn't know really well -- how can I trust him..?? _(May be its a genuine request, but you don't)_</li>\n",
    "        <li> What if that person you've met turned out to be an old friend. Then you would have given him, because of duration which built trust. <br/> <img src=\"resources/embeddness1.png\"> -- there is still 1 more reason, which gets revealed in further discussion of lecture --- its the \n",
    "    </ul>\n",
    "</blockquote>\n",
    "**Embeddedness** "
   ]
  },
  {
   "cell_type": "markdown",
   "id": "1f25b4fc-dd1d-4ba9-9ff6-9b23c0ce3f43",
   "metadata": {},
   "source": [
    "It can be defined as follows..\n",
    "> Embeddedness between two friends is defined as the no. of common friends in betwee. _(Yes..!! We sae the siimilar ones in the past like neighborood overlap... but this is most pretty well studied in social-sciences literature)_.\n",
    "\n",
    "![](resources/embeddednessDef.png)\n",
    "Where they observed that **If there is high embeddedness -- its a strong relationship**.\n",
    "***\n",
    "In the above example, (for the first person), the embeddedness(#common friends) was zero -- ie., no common friends. <br/>\n",
    "Now, imagine that, suddenly in talk, he reminds your one of the good friend, and he is friend to hi -- then you probably would have trusted, and you may started to take the decision of giving money.<br/>\n",
    "> See that, the trust increased by many folds due to the embeddedness(no. of common friends).\n",
    "\n",
    "And say, if said 5 common friends, then you realize that he is not cheating you, and you feel some trust in him.\n",
    "****\n",
    "$$\\text{Embeddedness} \\propto \\text{Trust}$$\n",
    "let's see why this is true, with some examples..<br/>\n",
    "> You wen to bank for a loan, then the bank manager expects for the guarantee.. If in case you become the defaulter, he can ask the other one.\n",
    "\n",
    "Similar situation arises in friendship too..If had common friends in both, the chances of cheating are less -- why this is true..??<br/>\n",
    "If in case the do, then the common friends come in between to resolve it. And atleast in fear of so many friends they may not cheat.<br/>\n",
    "If had no common friends, then there are no one to pull in.\n",
    "\n",
    "-- So all these psychological factors come in place.. having more common friends means more trust and vice-versa.\n",
    "****\n",
    "Do you think every single relationship should have *High embeddedness*? (**Embeddedness** means: Its not w.r.t. a person(a node), its a person's friend ship with another (an edge))\n",
    "> Answer is: Yes and No.<br/>\n",
    "Yes because: above reasons like *Trust*, *Relation becomes stronger*<br/>\n",
    "No because: Not always the high embeddedness is good. -- How..?  Why..?? coming up next... _(Structural Holes)_"
   ]
  },
  {
   "cell_type": "markdown",
   "id": "835b2519-40cb-40eb-b600-7ddc0cb24b03",
   "metadata": {
    "tags": []
   },
   "source": [
    "## Module-7: **<a href=\"https://youtu.be/-5oW-EUmhf4\">Structural Holes</a>**"
   ]
  },
  {
   "cell_type": "markdown",
   "id": "6fa3b29d-3387-4051-a777-664af208e3a0",
   "metadata": {},
   "source": [
    "Say, there are two friends, and they have many common friends -- means more trust - means less chance of cheating..! <br/>\n",
    "![](resources/StructuralHoles_Intro1.png)\n",
    "\n",
    "Now, you and other friend -- no common friends in between. ![](resources/StructuralHoles_Intro2.png) .. if present inany structures like Business, Money transaction... intuitively.. some danger may happend (may not be.. always true).\n",
    "\n",
    "**Will this be of any advantageous..??** -- Yes, Why..? look at the community..\n",
    "> ![](resources/StructuralHoles_Intro3.png)Two communities are different. And if Sudarshan(sir) has to reach out to the other community, can only go via Ramya<br/>\n",
    "Now, if the sir would like to buy a house, then sir, need to knly consult Ramya, because she is the only known one to the community (Say that, sir doesn't know any other) -- here she ***Monopolises..*** due to Zero Embeddedness.<br/>\n",
    "<br/>\n",
    "Now, this becomes a huge advantage for Ramya, harnessing the fact that sir doesn't know anyone in that commnunity (If known, it affects her business)-- _this is similar to the Granovetter's Theory of Weak ties, she is the connection to a new world._\n",
    "<br/>\n",
    "Have you noticed the **Structural hole** inthe graph..?? i.e., Any one to reach from L.H.S. community to R.H.S. need to pass only by long chain -- any friend of Sudarshan(sir) then to Ramya, then to other community.<br/>\n",
    "![](resources/StructuralHoles_Intro4.png)\n",
    "\n",
    "****\n",
    "So, high embeddedness in the case of personal friendship -- builds trust <br/>\n",
    "When had structural holes like above, people like Ramya, benefits from it."
   ]
  },
  {
   "cell_type": "markdown",
   "id": "3a63b0d9-0909-4e8c-95fb-6a2ef48a3844",
   "metadata": {
    "jp-MarkdownHeadingCollapsed": true,
    "tags": []
   },
   "source": [
    "## Module-8: **<a href=\"https://youtu.be/LgxSp2G-mGA\">Social Captial</a>**"
   ]
  },
  {
   "cell_type": "markdown",
   "id": "8ca52b95-b360-42ce-9892-bcbbda722530",
   "metadata": {},
   "source": [
    "Consider facebook, say it wants to become even more popular. So for a one to stick to to it..(ah..hh..!!), one's newsfeed should be filled with a lot of content and that should be interesting. When you get this..?? When had similar kind of interested people..or they had something excited to share.. <br/>\n",
    "![](resources/SocialCaptial_Intro.png) <br/>\n",
    "<br/>\n",
    "<center>\n",
    "With this in mind, facebook wants to ensure that, you not only make friends randomly, but to those of similar interest. Every person can _maintain_ limited no. of friends, so they should be of similar interest.<br/>\n",
    "    </center>\n",
    "<br/>\n",
    "Say, you have 100 nodes, and you need to sprinkle 500 edges. Where exactly will he put edges..?<br/>\n",
    "This becomes Social Capital. You want to make a network and you get a atmost benefit from it.<br/>\n",
    "<img src=\"resources/SocialCaptial_Intro1.png\"></img>. For the companies like FaceBook, its the lot of attention on their UI.\n",
    "\n",
    "****\n",
    "Consider another example..<br/>\n",
    "There are a set of 20 employees (and you are the CEO). There exists 2 pairs of people with some disturbances/fighting. As matter of resolving, you can try out like, give some money(budget) and tell them to go for a lunch and bond up.. or for a theme park, go and play and bond up..  -- so that you create captial out of it. (Here, you may expect like, all to be a good team)\n",
    "<br/>\n",
    "<br/>\n",
    "<center>\n",
    "    Sometimes, the social network is itself the capital.<br/>\n",
    "    Nomination works well due to the complex structure in the social networks which is giving better productivity.\n",
    "</center>\n",
    "\n",
    "How to maximize it..?? -- is an open question. i.e., its not easy to tell that some protocol works... <br/>\n",
    "As an example, there are bunch of friends (say 1000), all are friends with each other.. Is there any fun in playing football with groups of 2 teams..?? (If one person had two children and they are playin chess. Now to whom should the person cheer for..?? When loved equally, how can one cheer for one side.. to make other person lose) -- there has to be two communities right..(where a lot of love is within and not across) <br/>\n",
    "![](resources/footballExample.png) -- so that, can form two teams and play. -- So, 100% unity here is boring..<br/>\n",
    "<br/>\n",
    "Here comes two terms: <br/>\n",
    "<dl>\n",
    "    <dt> <b>Closure</b> </dt>\n",
    "        <dd>A friend's friend should become friend. <br/><img src=\"resources/footballExample.png\">... This cascades, and every body is friend with another_ <img src=\"resources/closure_1.png\"> -- this way there is no fun</dd>\n",
    "    <center><b>vs </b><br/></center>\n",
    "    <dt> <b>Brokerage</b> </dt>\n",
    "        <dd>There should be an edge (a sort of local bridge), like the above module's example. ---i.e,. There should be some strucutral holes too. <br/> \n",
    "            <img src=\"resources/brokerage.png\">\n",
    "    </dd>\n",
    "</dl>\n",
    "    <center>So, Closure is important and Brokerage is also important <i>to have the communication to other community</i>. </center><br/>\n",
    "\n",
    "If given a 100 nodes and asked how would you sprinkle some edges to yield maximum benefit..?? _that's a tough question to answer, still research is going on -- because its not still well understood **What should be the exact structure?**_"
   ]
  },
  {
   "cell_type": "markdown",
   "id": "9d9d0724-b081-4137-af44-835f9188baa2",
   "metadata": {},
   "source": [
    "## Module-9: <a href=\"https://youtu.be/ncQMJmHe7Mw\">**Finding Communities in a graph _(Brute Force Method)_**</a>"
   ]
  },
  {
   "cell_type": "markdown",
   "id": "b742dad6-ee21-4b5a-bfdb-8d9e66191f5d",
   "metadata": {},
   "source": [
    "In this module, we are going to divide the whole graph into two communities(groups) -- in a brute force manner, and check with of those divisions are best. <br/>\n",
    "How do we check that.... as per the definition of communites..<br/>\n",
    "<center><b>The nodes which are part of a community, will have more no. of edges with other nodes in the same community and less with other community.</b></center>"
   ]
  },
  {
   "cell_type": "code",
   "execution_count": 16,
   "id": "94d48597-2363-47ff-b010-720212c977a8",
   "metadata": {},
   "outputs": [
    {
     "data": {
      "image/png": "[encoded data removed]",
      "text/plain": [
       "<Figure size 640x480 with 1 Axes>"
      ]
     },
     "metadata": {},
     "output_type": "display_data"
    }
   ],
   "source": [
    "import networkx as nx\n",
    "import matplotlib.pyplot as plt\n",
    "\n",
    "nx.draw(nx.barbell_graph(3, 0))\n",
    "plt.show()"
   ]
  },
  {
   "cell_type": "code",
   "execution_count": 17,
   "id": "894acc81-3c58-46cb-a850-e52a7c9e37f0",
   "metadata": {},
   "outputs": [
    {
     "data": {
      "text/plain": [
       "\u001b[0;31mSignature:\u001b[0m \u001b[0mnx\u001b[0m\u001b[0;34m.\u001b[0m\u001b[0mbarbell_graph\u001b[0m\u001b[0;34m(\u001b[0m\u001b[0mm1\u001b[0m\u001b[0;34m,\u001b[0m \u001b[0mm2\u001b[0m\u001b[0;34m,\u001b[0m \u001b[0mcreate_using\u001b[0m\u001b[0;34m=\u001b[0m\u001b[0;32mNone\u001b[0m\u001b[0;34m)\u001b[0m\u001b[0;34m\u001b[0m\u001b[0;34m\u001b[0m\u001b[0m\n",
       "\u001b[0;31mDocstring:\u001b[0m\n",
       "Returns the Barbell Graph: two complete graphs connected by a path.\n",
       "\n",
       "For $m1 > 1$ and $m2 >= 0$.\n",
       "\n",
       "Two identical complete graphs $K_{m1}$ form the left and right bells,\n",
       "and are connected by a path $P_{m2}$.\n",
       "\n",
       "The `2*m1+m2`  nodes are numbered\n",
       "    `0, ..., m1-1` for the left barbell,\n",
       "    `m1, ..., m1+m2-1` for the path,\n",
       "    and `m1+m2, ..., 2*m1+m2-1` for the right barbell.\n",
       "\n",
       "The 3 subgraphs are joined via the edges `(m1-1, m1)` and\n",
       "`(m1+m2-1, m1+m2)`. If `m2=0`, this is merely two complete\n",
       "graphs joined together.\n",
       "\n",
       "This graph is an extremal example in David Aldous\n",
       "and Jim Fill's e-text on Random Walks on Graphs.\n",
       "\u001b[0;31mFile:\u001b[0m      ~/anaconda3/envs/Python-R/lib/python3.8/site-packages/networkx/generators/classic.py\n",
       "\u001b[0;31mType:\u001b[0m      function\n"
      ]
     },
     "metadata": {},
     "output_type": "display_data"
    }
   ],
   "source": [
    "nx.barbell_graph?"
   ]
  },
  {
   "cell_type": "code",
   "execution_count": 11,
   "id": "fc743a25-71d0-46b9-9e14-20d1b1e3034e",
   "metadata": {},
   "outputs": [],
   "source": [
    "G = nx.barbell_graph(4, 0)\n",
    "nodes = G.nodes()\n",
    "n = G.number_of_nodes()"
   ]
  },
  {
   "cell_type": "markdown",
   "id": "b98a4f6f-d614-4ee8-8037-b4713805f370",
   "metadata": {},
   "source": [
    "Flow goes as: (Trying all possiblities is goes as below..)\n",
    "> 1st community  having 1 node, then 2nd -> n-1 and all its possiblites<br/>\n",
    "Then 1st having 2 nodes, then 2nd will have n-2.. so on.. -- _need to check all those possiblities_ <br/>\n",
    "Here a P2N: If could find the nodes which fall in the 1st community, then the rest will be of 2nd community -- so, our aim goes like: Get all the combination of nodes that fall in the 1st community.<br/>\n",
    "\n",
    "**How do we get the combinations..??**\n",
    "> via the package `itertools` (look out some test below.. )"
   ]
  },
  {
   "cell_type": "code",
   "execution_count": 3,
   "id": "fad37626-2c63-4f43-a5e9-8caa0e6d871d",
   "metadata": {},
   "outputs": [],
   "source": [
    "import itertools"
   ]
  },
  {
   "cell_type": "code",
   "execution_count": 4,
   "id": "cdee8fda-1c7e-4584-8e9c-5fd142fdf3d0",
   "metadata": {},
   "outputs": [
    {
     "data": {
      "text/plain": [
       "\u001b[0;31mInit signature:\u001b[0m \u001b[0mitertools\u001b[0m\u001b[0;34m.\u001b[0m\u001b[0mcombinations\u001b[0m\u001b[0;34m(\u001b[0m\u001b[0miterable\u001b[0m\u001b[0;34m,\u001b[0m \u001b[0mr\u001b[0m\u001b[0;34m)\u001b[0m\u001b[0;34m\u001b[0m\u001b[0;34m\u001b[0m\u001b[0m\n",
       "\u001b[0;31mDocstring:\u001b[0m     \n",
       "Return successive r-length combinations of elements in the iterable.\n",
       "\n",
       "combinations(range(4), 3) --> (0,1,2), (0,1,3), (0,2,3), (1,2,3)\n",
       "\u001b[0;31mType:\u001b[0m           type\n",
       "\u001b[0;31mSubclasses:\u001b[0m     \n"
      ]
     },
     "metadata": {},
     "output_type": "display_data"
    }
   ],
   "source": [
    "itertools.combinations?"
   ]
  },
  {
   "cell_type": "code",
   "execution_count": 5,
   "id": "012b7a1c-5da9-4754-b22f-46932d53ab4e",
   "metadata": {},
   "outputs": [
    {
     "data": {
      "text/plain": [
       "<itertools.combinations at 0x7fe7adeb3f90>"
      ]
     },
     "execution_count": 5,
     "metadata": {},
     "output_type": "execute_result"
    }
   ],
   "source": [
    "itertools.combinations([2, 3, 4, 5, 6, 7], 3)"
   ]
  },
  {
   "cell_type": "markdown",
   "id": "0e76ad56-a34a-44d1-aa9d-3e0ad2ee4737",
   "metadata": {
    "tags": []
   },
   "source": [
    "### Tests\n",
    "**-----------------------------------------------------------------------------------------------------------------------tests-------------------------------------------------------------------------------------------------------------------**"
   ]
  },
  {
   "cell_type": "markdown",
   "id": "6ebf90d5-86e5-4ccf-abdd-6e0560878945",
   "metadata": {},
   "source": [
    "It returns the object, which contains combinations as the tuples.."
   ]
  },
  {
   "cell_type": "code",
   "execution_count": 7,
   "id": "6c3682cc-0e58-4506-b3ba-839bdaa8bf16",
   "metadata": {},
   "outputs": [
    {
     "name": "stdout",
     "output_type": "stream",
     "text": [
      "(2, 3, 4)\n",
      "(2, 3, 5)\n",
      "(2, 3, 6)\n",
      "(2, 3, 7)\n",
      "(2, 4, 5)\n",
      "(2, 4, 6)\n",
      "(2, 4, 7)\n",
      "(2, 5, 6)\n",
      "(2, 5, 7)\n",
      "(2, 6, 7)\n",
      "(3, 4, 5)\n",
      "(3, 4, 6)\n",
      "(3, 4, 7)\n",
      "(3, 5, 6)\n",
      "(3, 5, 7)\n",
      "(3, 6, 7)\n",
      "(4, 5, 6)\n",
      "(4, 5, 7)\n",
      "(4, 6, 7)\n",
      "(5, 6, 7)\n"
     ]
    }
   ],
   "source": [
    "for combination in itertools.combinations([2, 3, 4, 5, 6, 7], 3):\n",
    "    print(combination)"
   ]
  },
  {
   "cell_type": "code",
   "execution_count": 8,
   "id": "9c33d0fb-fd72-44f8-a681-1dd3557104b3",
   "metadata": {},
   "outputs": [
    {
     "name": "stdout",
     "output_type": "stream",
     "text": [
      "[2, 3, 4]\n",
      "[2, 3, 5]\n",
      "[2, 3, 6]\n",
      "[2, 3, 7]\n",
      "[2, 4, 5]\n",
      "[2, 4, 6]\n",
      "[2, 4, 7]\n",
      "[2, 5, 6]\n",
      "[2, 5, 7]\n",
      "[2, 6, 7]\n",
      "[3, 4, 5]\n",
      "[3, 4, 6]\n",
      "[3, 4, 7]\n",
      "[3, 5, 6]\n",
      "[3, 5, 7]\n",
      "[3, 6, 7]\n",
      "[4, 5, 6]\n",
      "[4, 5, 7]\n",
      "[4, 6, 7]\n",
      "[5, 6, 7]\n"
     ]
    }
   ],
   "source": [
    "# To get as list..\n",
    "for combination in itertools.combinations([2, 3, 4, 5, 6, 7], 3):\n",
    "    print(list(combination))"
   ]
  },
  {
   "cell_type": "markdown",
   "id": "ef522e60-449b-40d3-9bfa-23a1fb9f3e19",
   "metadata": {},
   "source": [
    "**-----------------------------------------------------------------------------------------------------------------------tests-------------------------------------------------------------------------------------------------------------------**"
   ]
  },
  {
   "cell_type": "code",
   "execution_count": 21,
   "id": "678925cc-a40e-4582-a5e9-88c55caab72e",
   "metadata": {},
   "outputs": [],
   "source": [
    "# lets get all the node combinations of the first community..\n",
    "first_community = []\n",
    "for i in range(1, n//2 + 1):  # No need of checking till \"\"\"\"n\"\"\"\", 1st has k nodes, then 2nd will have n-k nodes, there is no need of checking for till n, as they will be the same. . `+1`, is due to range's upperbound exclusiveness.\n",
    "    combination = [list(combi) for combi in itertools.combinations(nodes, i)]  # Getting all the possible combinations with \"i\" limit\n",
    "    first_community.extend(combination)  # Used extend, so as to place the new combinations at end of list, not the list of combinations as one element(which happens when used .append(..)) -- try out to know difference.."
   ]
  },
  {
   "cell_type": "code",
   "execution_count": 25,
   "id": "0861cf91-4093-4ec3-b13c-9927b13d1c59",
   "metadata": {},
   "outputs": [
    {
     "data": {
      "text/plain": [
       "[[0],\n",
       " [1],\n",
       " [2],\n",
       " [3],\n",
       " [4],\n",
       " [5],\n",
       " [6],\n",
       " [7],\n",
       " [0, 1],\n",
       " [0, 2],\n",
       " [0, 3],\n",
       " [0, 4],\n",
       " [0, 5],\n",
       " [0, 6],\n",
       " [0, 7],\n",
       " [1, 2],\n",
       " [1, 3],\n",
       " [1, 4],\n",
       " [1, 5],\n",
       " [1, 6],\n",
       " [1, 7],\n",
       " [2, 3],\n",
       " [2, 4],\n",
       " [2, 5],\n",
       " [2, 6],\n",
       " [2, 7],\n",
       " [3, 4],\n",
       " [3, 5],\n",
       " [3, 6],\n",
       " [3, 7],\n",
       " [4, 5],\n",
       " [4, 6],\n",
       " [4, 7],\n",
       " [5, 6],\n",
       " [5, 7],\n",
       " [6, 7],\n",
       " [0, 1, 2],\n",
       " [0, 1, 3],\n",
       " [0, 1, 4],\n",
       " [0, 1, 5],\n",
       " [0, 1, 6],\n",
       " [0, 1, 7],\n",
       " [0, 2, 3],\n",
       " [0, 2, 4],\n",
       " [0, 2, 5],\n",
       " [0, 2, 6],\n",
       " [0, 2, 7],\n",
       " [0, 3, 4],\n",
       " [0, 3, 5],\n",
       " [0, 3, 6],\n",
       " [0, 3, 7],\n",
       " [0, 4, 5],\n",
       " [0, 4, 6],\n",
       " [0, 4, 7],\n",
       " [0, 5, 6],\n",
       " [0, 5, 7],\n",
       " [0, 6, 7],\n",
       " [1, 2, 3],\n",
       " [1, 2, 4],\n",
       " [1, 2, 5],\n",
       " [1, 2, 6],\n",
       " [1, 2, 7],\n",
       " [1, 3, 4],\n",
       " [1, 3, 5],\n",
       " [1, 3, 6],\n",
       " [1, 3, 7],\n",
       " [1, 4, 5],\n",
       " [1, 4, 6],\n",
       " [1, 4, 7],\n",
       " [1, 5, 6],\n",
       " [1, 5, 7],\n",
       " [1, 6, 7],\n",
       " [2, 3, 4],\n",
       " [2, 3, 5],\n",
       " [2, 3, 6],\n",
       " [2, 3, 7],\n",
       " [2, 4, 5],\n",
       " [2, 4, 6],\n",
       " [2, 4, 7],\n",
       " [2, 5, 6],\n",
       " [2, 5, 7],\n",
       " [2, 6, 7],\n",
       " [3, 4, 5],\n",
       " [3, 4, 6],\n",
       " [3, 4, 7],\n",
       " [3, 5, 6],\n",
       " [3, 5, 7],\n",
       " [3, 6, 7],\n",
       " [4, 5, 6],\n",
       " [4, 5, 7],\n",
       " [4, 6, 7],\n",
       " [5, 6, 7],\n",
       " [0, 1, 2, 3],\n",
       " [0, 1, 2, 4],\n",
       " [0, 1, 2, 5],\n",
       " [0, 1, 2, 6],\n",
       " [0, 1, 2, 7],\n",
       " [0, 1, 3, 4],\n",
       " [0, 1, 3, 5],\n",
       " [0, 1, 3, 6],\n",
       " [0, 1, 3, 7],\n",
       " [0, 1, 4, 5],\n",
       " [0, 1, 4, 6],\n",
       " [0, 1, 4, 7],\n",
       " [0, 1, 5, 6],\n",
       " [0, 1, 5, 7],\n",
       " [0, 1, 6, 7],\n",
       " [0, 2, 3, 4],\n",
       " [0, 2, 3, 5],\n",
       " [0, 2, 3, 6],\n",
       " [0, 2, 3, 7],\n",
       " [0, 2, 4, 5],\n",
       " [0, 2, 4, 6],\n",
       " [0, 2, 4, 7],\n",
       " [0, 2, 5, 6],\n",
       " [0, 2, 5, 7],\n",
       " [0, 2, 6, 7],\n",
       " [0, 3, 4, 5],\n",
       " [0, 3, 4, 6],\n",
       " [0, 3, 4, 7],\n",
       " [0, 3, 5, 6],\n",
       " [0, 3, 5, 7],\n",
       " [0, 3, 6, 7],\n",
       " [0, 4, 5, 6],\n",
       " [0, 4, 5, 7],\n",
       " [0, 4, 6, 7],\n",
       " [0, 5, 6, 7],\n",
       " [1, 2, 3, 4],\n",
       " [1, 2, 3, 5],\n",
       " [1, 2, 3, 6],\n",
       " [1, 2, 3, 7],\n",
       " [1, 2, 4, 5],\n",
       " [1, 2, 4, 6],\n",
       " [1, 2, 4, 7],\n",
       " [1, 2, 5, 6],\n",
       " [1, 2, 5, 7],\n",
       " [1, 2, 6, 7],\n",
       " [1, 3, 4, 5],\n",
       " [1, 3, 4, 6],\n",
       " [1, 3, 4, 7],\n",
       " [1, 3, 5, 6],\n",
       " [1, 3, 5, 7],\n",
       " [1, 3, 6, 7],\n",
       " [1, 4, 5, 6],\n",
       " [1, 4, 5, 7],\n",
       " [1, 4, 6, 7],\n",
       " [1, 5, 6, 7],\n",
       " [2, 3, 4, 5],\n",
       " [2, 3, 4, 6],\n",
       " [2, 3, 4, 7],\n",
       " [2, 3, 5, 6],\n",
       " [2, 3, 5, 7],\n",
       " [2, 3, 6, 7],\n",
       " [2, 4, 5, 6],\n",
       " [2, 4, 5, 7],\n",
       " [2, 4, 6, 7],\n",
       " [2, 5, 6, 7],\n",
       " [3, 4, 5, 6],\n",
       " [3, 4, 5, 7],\n",
       " [3, 4, 6, 7],\n",
       " [3, 5, 6, 7],\n",
       " [4, 5, 6, 7]]"
      ]
     },
     "execution_count": 25,
     "metadata": {},
     "output_type": "execute_result"
    }
   ],
   "source": [
    "first_community"
   ]
  },
  {
   "cell_type": "code",
   "execution_count": null,
   "id": "f6f95871-3334-4761-b992-125a4ccdb56c",
   "metadata": {},
   "outputs": [],
   "source": [
    "# Now its the turn for second _community ... this is going to be simple.. as we need not find the combinations again, can just use those which are not in nodes,\n",
    "second_community = []\n",
    "# Subtraction can be easily applied via `set.. -- which inturn returns a set.."
   ]
  },
  {
   "cell_type": "code",
   "execution_count": 29,
   "id": "233c0e74-f598-483e-bd0a-b5d3f4b2ff96",
   "metadata": {},
   "outputs": [
    {
     "data": {
      "text/plain": [
       "[4]"
      ]
     },
     "execution_count": 29,
     "metadata": {},
     "output_type": "execute_result"
    }
   ],
   "source": [
    "first_community[4]"
   ]
  },
  {
   "cell_type": "code",
   "execution_count": 27,
   "id": "e638c523-9eca-42b8-9fa3-14dac024648b",
   "metadata": {},
   "outputs": [
    {
     "data": {
      "text/plain": [
       "{0, 1, 3, 4, 5, 6, 7}"
      ]
     },
     "execution_count": 27,
     "metadata": {},
     "output_type": "execute_result"
    }
   ],
   "source": [
    "set(nodes) - set(first_community[2])  # See there will be no 4 in the result.."
   ]
  },
  {
   "cell_type": "code",
   "execution_count": 30,
   "id": "0ae05b45-d0ff-4ee2-9059-c4d6cbea9e89",
   "metadata": {},
   "outputs": [],
   "source": [
    "# come let's do it over all the elements of the first_community...\n",
    "for idx in  range(len(first_community)):\n",
    "    second_community.append(list(set(nodes) - set(first_community[idx])))"
   ]
  },
  {
   "cell_type": "markdown",
   "id": "9ad3f7e9-6153-4584-b58c-951db9a0720c",
   "metadata": {},
   "source": [
    "Now we have the set of divisions ready..!! Its time to make a decision, which division among those, is best..<br/>\n",
    "From the above addressed point..<br/>\n",
    "<center>\n",
    "    Nodes which are part of 1 community, will have more no. of intra community edges (i.e., connections within the same community.)<br/>\n",
    "    and very less inter-community edges (i.e., connections across the community)<br/>\n",
    "    <br/>\n",
    "    If the division is good, then the no. of <b>intra community edges should be HIGH</b> and <b>inter-community edges should be LESS</b>\n",
    "</center>"
   ]
  },
  {
   "cell_type": "code",
   "execution_count": 31,
   "id": "7ce43688-8adf-4a5b-a6df-7eea659048ef",
   "metadata": {},
   "outputs": [],
   "source": [
    "# So, let's keep track of that ratio.. (described below..)\n",
    "num_intra_edges1 = []\n",
    "num_intra_edges2 = []\n",
    "num_inter_edges = []"
   ]
  },
  {
   "cell_type": "markdown",
   "id": "ae42474f-1032-415e-97a1-8f853e644e3a",
   "metadata": {},
   "source": [
    "$$\n",
    "    \\text{ratio} = \\frac{\\sum \\text{ intra_community edges}}{\\text{inter-community edges}}\n",
    "$$"
   ]
  },
  {
   "cell_type": "code",
   "execution_count": 32,
   "id": "c5cd4996-d818-46fa-9c2b-a9f3785d2d60",
   "metadata": {},
   "outputs": [],
   "source": [
    "# Let's keep track that every division..\n",
    "ratio = []"
   ]
  },
  {
   "cell_type": "markdown",
   "id": "7ebdaf63-3d28-46d9-8a95-609e50f6dfa6",
   "metadata": {},
   "source": [
    "Now we have set of nodes which fall in their respective communities. <br/>\n",
    "**Now how do we find the no. of edges amongst the nodes...??**<br/>\n",
    "> `subgraph()` function comes to handy. <br/>\n",
    "Which takes the list of nodes of a graph, and returns the sub-graph with that nodes and the edges that exist among them in the graph G."
   ]
  },
  {
   "cell_type": "code",
   "execution_count": null,
   "id": "b6d77558-351b-412f-8398-934a06381eee",
   "metadata": {},
   "outputs": [],
   "source": []
  },
  {
   "cell_type": "code",
   "execution_count": 36,
   "id": "647a8b65-9381-4c36-b711-67bece65230d",
   "metadata": {},
   "outputs": [
    {
     "data": {
      "text/plain": [
       "EdgeView([(0, 3)])"
      ]
     },
     "execution_count": 36,
     "metadata": {},
     "output_type": "execute_result"
    }
   ],
   "source": [
    "G.subgraph(first_community[10]).edges()"
   ]
  },
  {
   "cell_type": "code",
   "execution_count": 37,
   "id": "34abe47b-0275-43c0-8dca-b4dba0f3e309",
   "metadata": {},
   "outputs": [],
   "source": [
    "# We need only the count of edges.. so let's do it for all the combinations of the nodes..\n",
    "# for the first_community..\n",
    "for idx in range(len(first_community)):\n",
    "    num_intra_edges1.append(G.subgraph(first_community[idx]).number_of_edges()) # sotring no of intra-edges in the first_community (for each combination,,)\n",
    "\n",
    "# for the second-community   \n",
    "for idx in range(len(second_community)):\n",
    "    num_intra_edges2.append(G.subgraph(second_community[idx]).number_of_edges())"
   ]
  },
  {
   "cell_type": "code",
   "execution_count": 42,
   "id": "d78bed09-0b51-4b0c-aa1d-89ab4bf67d62",
   "metadata": {},
   "outputs": [],
   "source": [
    "# Getting the number of inter edges...\n",
    "total_edges = G.number_of_edges()\n",
    "for idx in range(len(first_community)):\n",
    "    num_inter_edges.append(total_edges - num_intra_edges1[i] - num_intra_edges2[i])"
   ]
  },
  {
   "cell_type": "code",
   "execution_count": 55,
   "id": "1b020ff2-47eb-46ef-97fd-fd5d6d650350",
   "metadata": {},
   "outputs": [],
   "source": [
    "# Now we have values ready for finding the ratio..\n",
    "for idx in range(len(first_community)):\n",
    "    num_intra_edges = num_intra_edges1[i] + num_intra_edges2[i]\n",
    "    ratio.append((num_intra_edges / num_inter_edges[i]))"
   ]
  },
  {
   "cell_type": "code",
   "execution_count": 58,
   "id": "a7704d6f-dae5-47b6-9b08-4369654e38e5",
   "metadata": {},
   "outputs": [
    {
     "data": {
      "text/plain": [
       "(2.25, 0)"
      ]
     },
     "execution_count": 58,
     "metadata": {},
     "output_type": "execute_result"
    }
   ],
   "source": [
    "# Its time to get the max_ratio.. which tells the max-benefit..\n",
    "max_value = max(ratio)\n",
    "max_index = ratio.index(max_value)  # We need the index at which there is max_division, so that we can pull out that max_division..\n",
    "max_value, max_index"
   ]
  },
  {
   "cell_type": "code",
   "execution_count": 59,
   "id": "45f6e1f2-bb07-41fe-9a0c-777dc03c0f92",
   "metadata": {},
   "outputs": [
    {
     "data": {
      "text/plain": [
       "([0], [1, 2, 3, 4, 5, 6, 7])"
      ]
     },
     "execution_count": 59,
     "metadata": {},
     "output_type": "execute_result"
    }
   ],
   "source": [
    "# Let's know the divisions.. \n",
    "first_community[max_index], second_community[max_index]"
   ]
  },
  {
   "cell_type": "markdown",
   "id": "98e2e97c-9cb3-42ef-b1ee-1b6a34a0a59f",
   "metadata": {},
   "source": [
    "Now, all this packed in a script file named `FindingCommunitiesBruteForce.py`.. let's make some tests with it.."
   ]
  },
  {
   "cell_type": "code",
   "execution_count": 4,
   "id": "89d56f2e-d045-4cd7-affd-072c03c0dabe",
   "metadata": {},
   "outputs": [],
   "source": [
    "import FindingCommunitiesBruteForce as finder\n",
    "import networkx as nx"
   ]
  },
  {
   "cell_type": "code",
   "execution_count": 10,
   "id": "27e00561-7dd9-4c2c-bfe4-7f0c6ed917cc",
   "metadata": {},
   "outputs": [
    {
     "data": {
      "image/png": "[encoded data removed]",
      "text/plain": [
       "<Figure size 640x480 with 1 Axes>"
      ]
     },
     "metadata": {},
     "output_type": "display_data"
    }
   ],
   "source": [
    "import matplotlib.pyplot as plt\n",
    "G = nx.barbell_graph(5, 0)  # two sets of clusters of 5 nodes each, connected via 0 node in-between..\n",
    "nx.draw(G)\n",
    "plt.show()"
   ]
  },
  {
   "cell_type": "code",
   "execution_count": 12,
   "id": "3f318572-48f7-45a2-a82a-11a93855751e",
   "metadata": {},
   "outputs": [
    {
     "data": {
      "image/png": "[encoded data removed]",
      "text/plain": [
       "<Figure size 640x480 with 1 Axes>"
      ]
     },
     "metadata": {},
     "output_type": "display_data"
    }
   ],
   "source": [
    "G = nx.barbell_graph(6, 1)  # two sets of clusters of 6 nodes each, connected via 1 node in-between..\n",
    "nx.draw(G)\n",
    "plt.show()"
   ]
  },
  {
   "cell_type": "code",
   "execution_count": 13,
   "id": "de4ee3f0-17bd-41a5-abe4-5a9ba996501b",
   "metadata": {},
   "outputs": [
    {
     "data": {
      "image/png": "[encoded data removed]",
      "text/plain": [
       "<Figure size 640x480 with 1 Axes>"
      ]
     },
     "metadata": {},
     "output_type": "display_data"
    }
   ],
   "source": [
    "G = nx.barbell_graph(8, 3)  # two sets of clusters of 5 nodes each, connected via 0 node in-between..\n",
    "nx.draw(G)\n",
    "plt.show()"
   ]
  },
  {
   "cell_type": "code",
   "execution_count": 15,
   "id": "3d3ee955-eeef-42a0-9d7d-ffe17dcd92e4",
   "metadata": {},
   "outputs": [
    {
     "data": {
      "text/plain": [
       "([0], [1, 2, 3, 4, 5, 6, 7, 8, 9])"
      ]
     },
     "execution_count": 15,
     "metadata": {},
     "output_type": "execute_result"
    }
   ],
   "source": [
    "G = nx.barbell_graph(5, 0)  # two sets of clusters of 5 nodes each, connected via 0 node in-between..\n",
    "finder.find_communities_via_bruteForce(G)"
   ]
  },
  {
   "cell_type": "markdown",
   "id": "892d2fb5-eaa5-4e9b-ab97-5f3ae6a58bea",
   "metadata": {},
   "source": [
    "But madam got as ([0, 1,2, 3, 4], [8, 9, 5, 6, 7])"
   ]
  },
  {
   "cell_type": "markdown",
   "id": "e83750dd-7028-4968-8d56-52147fc6b3cb",
   "metadata": {},
   "source": [
    "This bruteforce approach doesn't meet scaling -- if had graph with more no. of nodes, it takes huge time<br/>\n",
    "There exists an algorithm named **Girvan Newmann Algorithm** let's explore it.."
   ]
  },
  {
   "cell_type": "markdown",
   "id": "1c2af755-4ee2-4afb-b9dc-3f5526d0b265",
   "metadata": {},
   "source": [
    "## Module-11: <a href=\"https://youtu.be/mua3LJFTj7s\">Community Detection Using Girvan Newman Algorithm</a>"
   ]
  },
  {
   "cell_type": "markdown",
   "id": "2d975dff-b890-4614-b158-1e76792696d3",
   "metadata": {},
   "source": [
    "This is based on the concept of **Edge betweenness** --\n",
    "> The edges that are linking from one community to the other community, they tend to to have a _High value of betweenness_ -- i.e., No. of shortest paths, that pass through these edges. <br/>\n",
    "So, if we could find the edge betweenness between these edges and we keep removing them, then it tends to become a community graph structure."
   ]
  },
  {
   "cell_type": "code",
   "execution_count": 16,
   "id": "1068dfd0-28b7-465e-a408-e438b6fe386c",
   "metadata": {},
   "outputs": [],
   "source": [
    "import networkx as nx"
   ]
  },
  {
   "cell_type": "code",
   "execution_count": 19,
   "id": "4bf3f173-dfc5-439d-880f-c11de487e4ed",
   "metadata": {},
   "outputs": [],
   "source": [
    "G = nx.barbell_graph(4,0)"
   ]
  },
  {
   "cell_type": "code",
   "execution_count": 20,
   "id": "51782bfc-8b7a-45ab-9bc0-3064735887e3",
   "metadata": {},
   "outputs": [
    {
     "ename": "AttributeError",
     "evalue": "module networkx has no attribute connected_component_subgraphs",
     "output_type": "error",
     "traceback": [
      "\u001b[0;31m---------------------------------------------------------------------------\u001b[0m",
      "\u001b[0;31mAttributeError\u001b[0m                            Traceback (most recent call last)",
      "\u001b[0;32m<ipython-input-20-ad1c14bb164c>\u001b[0m in \u001b[0;36m<module>\u001b[0;34m\u001b[0m\n\u001b[1;32m      1\u001b[0m \u001b[0;31m# Let's find the no. of components in the given graph G\u001b[0m\u001b[0;34m\u001b[0m\u001b[0;34m\u001b[0m\u001b[0;34m\u001b[0m\u001b[0m\n\u001b[0;32m----> 2\u001b[0;31m \u001b[0mnx\u001b[0m\u001b[0;34m.\u001b[0m\u001b[0mconnected_component_subgraphs\u001b[0m\u001b[0;34m(\u001b[0m\u001b[0mG\u001b[0m\u001b[0;34m)\u001b[0m \u001b[0;31m# It returns connected components as the subgraph.. So, if had 2 connected components, it returns 2 sub-graphs\u001b[0m\u001b[0;34m\u001b[0m\u001b[0;34m\u001b[0m\u001b[0m\n\u001b[0m",
      "\u001b[0;32m~/anaconda3/envs/Python-R/lib/python3.8/site-packages/networkx/__init__.py\u001b[0m in \u001b[0;36m__getattr__\u001b[0;34m(name)\u001b[0m\n\u001b[1;32m     49\u001b[0m             \u001b[0;34m\"This message will be removed in NetworkX 3.0.\"\u001b[0m\u001b[0;34m\u001b[0m\u001b[0;34m\u001b[0m\u001b[0m\n\u001b[1;32m     50\u001b[0m         )\n\u001b[0;32m---> 51\u001b[0;31m     \u001b[0;32mraise\u001b[0m \u001b[0mAttributeError\u001b[0m\u001b[0;34m(\u001b[0m\u001b[0;34mf\"module {__name__} has no attribute {name}\"\u001b[0m\u001b[0;34m)\u001b[0m\u001b[0;34m\u001b[0m\u001b[0;34m\u001b[0m\u001b[0m\n\u001b[0m\u001b[1;32m     52\u001b[0m \u001b[0;34m\u001b[0m\u001b[0m\n\u001b[1;32m     53\u001b[0m \u001b[0;34m\u001b[0m\u001b[0m\n",
      "\u001b[0;31mAttributeError\u001b[0m: module networkx has no attribute connected_component_subgraphs"
     ]
    }
   ],
   "source": [
    "# Let's find the no. of components in the given graph G\n",
    "nx.connected_component_subgraphs(G) # It returns connected components as the subgraph.. So, if had 2 connected components, it returns 2 sub-graphs"
   ]
  },
  {
   "cell_type": "code",
   "execution_count": 22,
   "id": "397075fc-b5f2-4355-8c63-9053b1012fb7",
   "metadata": {},
   "outputs": [
    {
     "name": "stdout",
     "output_type": "stream",
     "text": [
      "Object `nx.connected_component_subgraphs` not found.\n"
     ]
    }
   ],
   "source": [
    "nx.connected_component_subgraphs?"
   ]
  },
  {
   "cell_type": "markdown",
   "id": "35b9b461-8ef2-425c-900d-98ea187d645e",
   "metadata": {},
   "source": [
    "Oh..!! this is deprecated: [See here](https://networkx.org/documentation/networkx-2.1/reference/algorithms/generated/networkx.algorithms.components.connected_component_subgraphs.html) -- _got re-directed from [Stack Overflow](https://stackoverflow.com/questions/61154740/)_<br/>\n",
    "Alternatives:\n",
    "> ![](resources/alternativesConnectedComponents.png)<br/>\n",
    " Use `(G.subgraph(c) for c in connected_components(G))`\n",
    "        <br/>\n",
    "Or `(G.subgraph(c).copy() for c in connected_components(G))`\n",
    "\n",
    "    "
   ]
  },
  {
   "cell_type": "code",
   "execution_count": 26,
   "id": "8a3aab06-9faa-4bff-9b23-199cbe0e19da",
   "metadata": {},
   "outputs": [
    {
     "name": "stdout",
     "output_type": "stream",
     "text": [
      "Connected components found are:  1\n"
     ]
    }
   ],
   "source": [
    "components = [G.subgraph(component) for component in nx.connected_components(G)]\n",
    "print(\"Connected components found are: \", len(components))"
   ]
  },
  {
   "cell_type": "code",
   "execution_count": 37,
   "id": "0498f5b2-a23a-4d2f-8968-ad6109bd885a",
   "metadata": {},
   "outputs": [],
   "source": [
    "# Now we need to remove right.. so let's do that.. but wait..!! on which basis..?? -- based on betweenness.. So, lets first implement this..\n",
    "def edge_to_be_removed(G):\n",
    "    dic = nx.edge_betweenness_centrality(G) # It returns the dicitionary as: key being edge, and value being its centrality \n",
    "    # But dictionary doesn't maintan order.. so let's keep in a list..\n",
    "    list_of_tuples = list(dic.items())  # Returns as a tuple-format as: (key, value)\n",
    "    # Now, lets sort it.. based on edge-betweenness\n",
    "    list_of_tuples.sort(key = lambda x:x[1], reverse=True)  # need in DESC..\n",
    "    # Return the edge which had highest edge-betweenness...\n",
    "    return list_of_tuples[0][0] \n",
    "# As sorted in DESC, first element will be a tuple which had highest-edge_betweenness, and get the edge in (edge, value)"
   ]
  },
  {
   "cell_type": "code",
   "execution_count": 38,
   "id": "7d22962a-d972-4974-8289-09d6d9421187",
   "metadata": {},
   "outputs": [
    {
     "data": {
      "text/plain": [
       "(3, 4)"
      ]
     },
     "execution_count": 38,
     "metadata": {},
     "output_type": "execute_result"
    }
   ],
   "source": [
    "# A test..\n",
    "edge_to_be_removed(G)"
   ]
  },
  {
   "cell_type": "code",
   "execution_count": null,
   "id": "23f72939-a20a-4f46-877a-03cb037995bd",
   "metadata": {},
   "outputs": [],
   "source": [
    "# Now, lets try removing the edge..\n",
    "G.remove_edge(*edge_to_be_removed(G))  # will get as ((src, target)), but need (src, target) .. prefixing \"\"*\"\"\n",
    "\n",
    "# Now, find the no. of connected components.. again..\n",
    "components = [G.subgraph(component) for component in nx.connected_components(G)]\n",
    "print(\"Connected components found are: \", len(components))"
   ]
  },
  {
   "cell_type": "markdown",
   "id": "8b39cd0a-5b70-47ce-95f4-176b005e5b41",
   "metadata": {},
   "source": [
    "We need to do this until we be with one connected component..  and stop as soon as we get >1 (say 2) component ...so, going for a loop.."
   ]
  },
  {
   "cell_type": "code",
   "execution_count": 52,
   "id": "a87934e0-0294-427b-993a-995e15500bab",
   "metadata": {},
   "outputs": [
    {
     "name": "stdout",
     "output_type": "stream",
     "text": [
      "Connected components found are:  2\n"
     ]
    }
   ],
   "source": [
    "components = [G.subgraph(component) for component in nx.connected_components(G)]\n",
    "print(\"Connected components found are: \", len(components))\n",
    "\n",
    "while len(components) == 1:  # Stop when connected components are != 1\n",
    "    G.remove_edge(*edge_to_be_removed(G))  ## ((a, b)) -to-> (a, b)\n",
    "    components = [G.subgraph(component) for component in nx.connected_components(G)]\n",
    "    print(\"Connected components found are: \", len(components))"
   ]
  },
  {
   "cell_type": "markdown",
   "id": "15250491-d048-401e-ad24-1a3669457191",
   "metadata": {},
   "source": [
    "Putting the algorithm together..."
   ]
  },
  {
   "cell_type": "code",
   "execution_count": 53,
   "id": "36dfa869-64d9-4222-b705-58c703948ad4",
   "metadata": {},
   "outputs": [],
   "source": [
    "def girvan_newman(G):\n",
    "    # Finding the count of connected components..\n",
    "    components = [G.subgraph(component) for component in nx.connected_components(G)]\n",
    "    print(\"Connected components found are: \", len(components))\n",
    "    \n",
    "    while len(components) == 1:  # Stop when connected components are != 1\n",
    "        G.remove_edge(*edge_to_be_removed(G))  ## ((a, b)) -to-> (a, b)\n",
    "        components = [G.subgraph(component) for component in nx.connected_components(G)]\n",
    "        print(\"Connected components found are: \", len(components))\n",
    "    \n",
    "    return components"
   ]
  },
  {
   "cell_type": "code",
   "execution_count": 54,
   "id": "519b0d15-d207-4b29-986d-b509ec2ac69e",
   "metadata": {},
   "outputs": [
    {
     "name": "stdout",
     "output_type": "stream",
     "text": [
      "Connected components found are:  1\n",
      "Connected components found are:  2\n",
      "[0, 1, 2, 3, 4]\n",
      "[5, 6, 7, 8, 9]\n"
     ]
    }
   ],
   "source": [
    "# Let's test it..\n",
    "G = nx.barbell_graph(5, 0)\n",
    "components = girvan_newman(G)\n",
    "\n",
    "# Let's get the nodes in each component..\n",
    "for component in components:\n",
    "    print(component.nodes())"
   ]
  },
  {
   "cell_type": "code",
   "execution_count": 66,
   "id": "65129449-1671-46ba-9c30-d493f173ccfe",
   "metadata": {},
   "outputs": [
    {
     "name": "stdout",
     "output_type": "stream",
     "text": [
      "Connected components found are:  1\n",
      "Connected components found are:  1\n",
      "Connected components found are:  1\n",
      "Connected components found are:  1\n",
      "Connected components found are:  1\n",
      "Connected components found are:  1\n",
      "Connected components found are:  1\n",
      "Connected components found are:  1\n",
      "Connected components found are:  1\n",
      "Connected components found are:  1\n",
      "Connected components found are:  1\n",
      "Connected components found are:  2\n",
      "[0, 1, 3, 4, 5, 6, 7, 10, 11, 12, 13, 16, 17, 19, 21] --- length: 15\n",
      "[2, 8, 9, 14, 15, 18, 20, 22, 23, 24, 25, 26, 27, 28, 29, 30, 31, 32, 33] --- length: 19\n"
     ]
    }
   ],
   "source": [
    "# Let's check for Zachary karate club..\n",
    "G = nx.karate_club_graph()\n",
    "components = girvan_newman(G)\n",
    "\n",
    "# Let's get the nodes in each component..\n",
    "for component in components:\n",
    "    print(component.nodes(), end=\" --- length: \")\n",
    "    print(len(component.nodes()))"
   ]
  },
  {
   "cell_type": "code",
   "execution_count": 64,
   "id": "775d63fc-4688-4383-bef4-b968edcf32f0",
   "metadata": {},
   "outputs": [
    {
     "ename": "TypeError",
     "evalue": "draw_networkx_labels() missing 1 required positional argument: 'pos'",
     "output_type": "error",
     "traceback": [
      "\u001b[0;31m---------------------------------------------------------------------------\u001b[0m",
      "\u001b[0;31mTypeError\u001b[0m                                 Traceback (most recent call last)",
      "\u001b[0;32m<ipython-input-64-1e3ff2de76e8>\u001b[0m in \u001b[0;36m<module>\u001b[0;34m\u001b[0m\n\u001b[0;32m----> 1\u001b[0;31m \u001b[0mnx\u001b[0m\u001b[0;34m.\u001b[0m\u001b[0mdraw_networkx_labels\u001b[0m\u001b[0;34m(\u001b[0m\u001b[0mG\u001b[0m\u001b[0;34m)\u001b[0m\u001b[0;34m\u001b[0m\u001b[0;34m\u001b[0m\u001b[0m\n\u001b[0m\u001b[1;32m      2\u001b[0m \u001b[0mplt\u001b[0m\u001b[0;34m.\u001b[0m\u001b[0mshow\u001b[0m\u001b[0;34m(\u001b[0m\u001b[0;34m)\u001b[0m\u001b[0;34m\u001b[0m\u001b[0;34m\u001b[0m\u001b[0m\n",
      "\u001b[0;31mTypeError\u001b[0m: draw_networkx_labels() missing 1 required positional argument: 'pos'"
     ]
    }
   ],
   "source": [
    "nx.draw_networkx_labels(G)\n",
    "plt.show()"
   ]
  },
  {
   "cell_type": "code",
   "execution_count": 61,
   "id": "ac50ac18-9849-4586-a97c-a7407f29a2cc",
   "metadata": {},
   "outputs": [
    {
     "data": {
      "text/plain": [
       "\u001b[0;31mSignature:\u001b[0m \u001b[0mnx\u001b[0m\u001b[0;34m.\u001b[0m\u001b[0mdraw\u001b[0m\u001b[0;34m(\u001b[0m\u001b[0mG\u001b[0m\u001b[0;34m,\u001b[0m \u001b[0mpos\u001b[0m\u001b[0;34m=\u001b[0m\u001b[0;32mNone\u001b[0m\u001b[0;34m,\u001b[0m \u001b[0max\u001b[0m\u001b[0;34m=\u001b[0m\u001b[0;32mNone\u001b[0m\u001b[0;34m,\u001b[0m \u001b[0;34m**\u001b[0m\u001b[0mkwds\u001b[0m\u001b[0;34m)\u001b[0m\u001b[0;34m\u001b[0m\u001b[0;34m\u001b[0m\u001b[0m\n",
       "\u001b[0;31mDocstring:\u001b[0m\n",
       "Draw the graph G with Matplotlib.\n",
       "\n",
       "Draw the graph as a simple representation with no node\n",
       "labels or edge labels and using the full Matplotlib figure area\n",
       "and no axis labels by default.  See draw_networkx() for more\n",
       "full-featured drawing that allows title, axis labels etc.\n",
       "\n",
       "Parameters\n",
       "----------\n",
       "G : graph\n",
       "    A networkx graph\n",
       "\n",
       "pos : dictionary, optional\n",
       "    A dictionary with nodes as keys and positions as values.\n",
       "    If not specified a spring layout positioning will be computed.\n",
       "    See :py:mod:`networkx.drawing.layout` for functions that\n",
       "    compute node positions.\n",
       "\n",
       "ax : Matplotlib Axes object, optional\n",
       "    Draw the graph in specified Matplotlib axes.\n",
       "\n",
       "kwds : optional keywords\n",
       "    See networkx.draw_networkx() for a description of optional keywords.\n",
       "\n",
       "Examples\n",
       "--------\n",
       ">>> G = nx.dodecahedral_graph()\n",
       ">>> nx.draw(G)\n",
       ">>> nx.draw(G, pos=nx.spring_layout(G))  # use spring layout\n",
       "\n",
       "See Also\n",
       "--------\n",
       "draw_networkx\n",
       "draw_networkx_nodes\n",
       "draw_networkx_edges\n",
       "draw_networkx_labels\n",
       "draw_networkx_edge_labels\n",
       "\n",
       "Notes\n",
       "-----\n",
       "This function has the same name as pylab.draw and pyplot.draw\n",
       "so beware when using `from networkx import *`\n",
       "\n",
       "since you might overwrite the pylab.draw function.\n",
       "\n",
       "With pyplot use\n",
       "\n",
       ">>> import matplotlib.pyplot as plt\n",
       ">>> G = nx.dodecahedral_graph()\n",
       ">>> nx.draw(G)  # networkx draw()\n",
       ">>> plt.draw()  # pyplot draw()\n",
       "\n",
       "Also see the NetworkX drawing examples at\n",
       "https://networkx.org/documentation/latest/auto_examples/index.html\n",
       "\u001b[0;31mFile:\u001b[0m      ~/anaconda3/envs/Python-R/lib/python3.8/site-packages/networkx/drawing/nx_pylab.py\n",
       "\u001b[0;31mType:\u001b[0m      function\n"
      ]
     },
     "metadata": {},
     "output_type": "display_data"
    }
   ],
   "source": [
    "nx.draw?"
   ]
  },
  {
   "cell_type": "code",
   "execution_count": null,
   "id": "85b03d68-a834-4ff9-9132-ae5db86039b9",
   "metadata": {},
   "outputs": [],
   "source": []
  },
  {
   "cell_type": "code",
   "execution_count": 39,
   "id": "8b715d74-f759-4eae-a670-e9e4f9bbd711",
   "metadata": {},
   "outputs": [
    {
     "data": {
      "text/plain": [
       "EdgeView([(0, 1), (0, 2), (0, 3), (1, 2), (1, 3), (2, 3), (3, 4), (4, 5), (4, 6), (4, 7), (5, 6), (5, 7), (6, 7)])"
      ]
     },
     "execution_count": 39,
     "metadata": {},
     "output_type": "execute_result"
    }
   ],
   "source": [
    "G.edges()"
   ]
  },
  {
   "cell_type": "markdown",
   "id": "09800493-70ba-4f89-ba0b-c9bdfa4b3f68",
   "metadata": {},
   "source": [
    "## Module-11: [**Visualising Communities using Gephi**](https://youtu.be/_fUQI1lU720)"
   ]
  },
  {
   "cell_type": "markdown",
   "id": "1936017c-4323-49a8-8335-1bf974d80129",
   "metadata": {},
   "source": [
    "Previously gephi worked for week-2 lectures, but now getting an error: <br/>\n",
    "![](resources/gephi-error.png)"
   ]
  },
  {
   "cell_type": "markdown",
   "id": "60fee857-921b-4ae1-b8f4-b598bfd78053",
   "metadata": {},
   "source": [
    "Errors that occured in 1st run of week-2.. and solutions..<br/>\n",
    "* doing `export LIBGL_SOFTWARE_ALWAYS=1` and\n",
    "* java version should also be 8.\n",
    "\n",
    "from this [reference](https://github.com/gephi/gephi/issues/2189).\n",
    "\n",
    "\n",
    "this is even noted in the text file and saved in the Gephi's bin folder.\n"
   ]
  },
  {
   "cell_type": "markdown",
   "id": "61996c7a-2e2d-47ed-bcaf-5471c4d51a2d",
   "metadata": {},
   "source": [
    "Solve this error..."
   ]
  },
  {
   "cell_type": "markdown",
   "id": "6bc23fcd-f066-4d6d-884f-9bba46ef901d",
   "metadata": {},
   "source": [
    "****\n",
    "****\n",
    "<center> End </center>\n",
    "\n",
    "****\n",
    "****"
   ]
  },
  {
   "cell_type": "markdown",
   "id": "a84f4326-ffe0-44e1-89ba-849947489a08",
   "metadata": {
    "jp-MarkdownHeadingCollapsed": true,
    "tags": []
   },
   "source": [
    "## Rough work.."
   ]
  },
  {
   "cell_type": "markdown",
   "id": "af84d261-8e39-48c5-af3b-bd8197d2ab5c",
   "metadata": {},
   "source": [
    "$ \\( f(x) = \\sum_{i=0}^{n} \\frac{a_i}{1+x} \\)$\n",
    "\n",
    "\\[ f(x) = \\sum_{i=0}^{n} \\frac{a_i}{1+x} \\]$"
   ]
  },
  {
   "cell_type": "code",
   "execution_count": 3,
   "id": "1e4eae1c-8a3c-47bd-b33e-232e7e5b60c1",
   "metadata": {},
   "outputs": [
    {
     "data": {
      "text/latex": [
       "$ \\( f(x) = \\sum_{i=0}^{n} \\frac{a_i}{1+x} \\)$\n",
       "\n",
       "\\[ f(x) = \\sum_{i=0}^{n} \\frac{a_i}{1+x} \\]\n"
      ],
      "text/plain": [
       "<IPython.core.display.Latex object>"
      ]
     },
     "metadata": {},
     "output_type": "display_data"
    }
   ],
   "source": [
    "%%latex\n",
    "$ \\( f(x) = \\sum_{i=0}^{n} \\frac{a_i}{1+x} \\)$\n",
    "\n",
    "\\[ f(x) = \\sum_{i=0}^{n} \\frac{a_i}{1+x} \\]"
   ]
  },
  {
   "cell_type": "markdown",
   "id": "307dff36-da71-444e-82af-34ee8f91b047",
   "metadata": {},
   "source": [
    "\\begin{align}\n",
    "H←120 ​+​ \\frac{​​30(R−G)​​}{Vmax−Vmin}  ​​, if V​max​​ = B\n",
    "\\end{align}"
   ]
  }
 ],
 "metadata": {
  "kernelspec": {
   "display_name": "Python 3",
   "language": "python",
   "name": "python3"
  },
  "language_info": {
   "codemirror_mode": {
    "name": "ipython",
    "version": 3
   },
   "file_extension": ".py",
   "mimetype": "text/x-python",
   "name": "python",
   "nbconvert_exporter": "python",
   "pygments_lexer": "ipython3",
   "version": "3.8.11"
  }
 },
 "nbformat": 4,
 "nbformat_minor": 5
}
