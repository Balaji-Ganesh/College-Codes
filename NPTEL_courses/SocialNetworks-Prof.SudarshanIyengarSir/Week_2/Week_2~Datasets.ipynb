{
 "cells": [
  {
   "cell_type": "markdown",
   "id": "cfda486e-39f1-478f-bba9-ce7b0b4fe975",
   "metadata": {
    "jp-MarkdownHeadingCollapsed": true,
    "tags": []
   },
   "source": [
    "## Week-2: Real World Network Datasets"
   ]
  },
  {
   "cell_type": "markdown",
   "id": "1154e1c7-26e0-4a74-bde3-1f20207a6f39",
   "metadata": {},
   "source": [
    "In the earlier days, there wasn't much data to crunch... but now, totally contrast.. today we have data, such that *We don't know how to make sense out of it*.\n",
    "\n",
    "For an example:\n",
    "* There was a time, people looked at networks of 30-35 nodes.. popularly called as **Zachary Karate Network** It had 34 edges and 78 edges. Its a widely studied and a popular network..\n",
    "![](resources/ZacharyKarateClub.png)\n",
    "\n",
    "But today, due to the advent of internet and storage facilites.. we can crunch the data -- We can crunch or not, but we have a whole lot of data..\n",
    "![](resources/data_crunch.png)\n",
    "****\n",
    "### This week..\n",
    "* What are social network datasets..?\n",
    "* How to make sense out of those datasets?\n",
    "****\n",
    "\n",
    "### An analogy...\n",
    ">Have you seen **Play-Dough**. The options are multitude, you can go on doing whatever you can..the limit is just is in your imagination..\n",
    "![](resources/PlayDough.png)\n",
    "\n",
    "### Similarly....\n",
    "When people saw a large datasets... they realized that, one can ask many questions on this data..like..\n",
    "\n",
    "_(Say)_ A classroom of 100 students, you have data available with you, who is friend with whom.. now..\n",
    "* Is the network **connected**..??\n",
    "    * Most of the networks are connected..\n",
    "* What is the **degree** of a person?\n",
    "    * degree: How many friends, does one had..\n",
    "    * Make a list of all those.. make the average, standard deviation --- ie., tells Is *Is is widely accepted or sparsely..*\n",
    "\n",
    "* Datasets, gave this ability to ask **Random questions** -- like the Play dough..play-around and arrive at *Fantastic Results*.\n",
    "****\n",
    "\n",
    "Here, in the course, some 8-10 datasets are picked up and carefully studied.. \n"
   ]
  },
  {
   "cell_type": "markdown",
   "id": "91005a78-6e9d-41c7-b825-9a7c88620f42",
   "metadata": {
    "jp-MarkdownHeadingCollapsed": true,
    "tags": []
   },
   "source": [
    "## 1. Ingredients Dataset"
   ]
  },
  {
   "cell_type": "markdown",
   "id": "d0ed91a8-fb24-472e-bfc9-0223dee408b7",
   "metadata": {},
   "source": [
    "(Say) In preparation of dishes, needs some ingredients..(Say for a simple dish 5-6 ingredients).\n",
    "* Now, with taking all possible ingredients in the world, you put an edge between two ingredients, if they are part of a dish.\n",
    "* Say, with 200 ingredients.. ![](resources/IngredientsDataset1.png). This way, might get like any two ingredients are part of a dish..\n",
    "* So, lets take only the popular ingredients. Like Salt and Sugar (Mostly used). so one can put an edge between these two. But Chilli and Sugar ( not much, with an exceptions like *Chilli Chocolate*).. one or two never used together. -- So there is no edge between these two.\n",
    "* Now if we take the entire big network. We'll observe **Strong communities**.. ![](resources/IngredientsDataset2.png). i.e., some bunch of ingredients are moslty connected, but no connections across.\n",
    "\n",
    "**Why one would study this??**\n",
    "> * Plain intersting *(This may not be, but other..)*\n",
    "  * Community structure (Such community structures contain, a lot of hints on overall behaviour of the system)\n",
    "\n",
    "So, we'll study more such properties of networks.."
   ]
  },
  {
   "cell_type": "markdown",
   "id": "2f0d4dc7-529b-4030-ad1e-b3f5b030492f",
   "metadata": {
    "jp-MarkdownHeadingCollapsed": true,
    "tags": []
   },
   "source": [
    "## 2. Synonymy Dataset"
   ]
  },
  {
   "cell_type": "markdown",
   "id": "fa4cbb57-05f2-43e9-9405-209bc9fec066",
   "metadata": {},
   "source": [
    "One more weird example.. let's take all the English words, and put an edge between those - if they are synonyms.\n",
    "* like *Love* and *Passion*, *Bad* and *Hate*...would have an edge..\n",
    "\n",
    "Now, the obvious question.. **Is the graph connected?**, Yes -- will get a large component..\n",
    "\n",
    "![](resources/SynonymyNetwork.png)\n",
    "****\n",
    "A very interesting happens here.. as the graph is connected, words like **Love** and **Hate**, **Friend** and **Enemy** _(Opposite words)_ would have some path between these.. -- i.e., You move synonymously.\n",
    "\n",
    "![](resources/SynonymyNetwork2.png)\n",
    "\n",
    "i.e., If A is a synonym of B, and B is a synonym of C, then C should be synonym of A -- A kind of like a *Transitive property*..\n",
    "Now, Friend is synonymous to Enemy, Love is synonymous to hate..-- how wierd it is,.. A graph theoretic analysis tells such wierdity.\n",
    "****\n",
    "But, the synonym network is not actually symmetric. i.e., If A is synonymous to B, and B is synonymous to C, then one can't say as C is also synonym to A. ie., some Degradation happens..\n",
    "\n",
    "![](resources/SynonymyNetwork3.png)\n",
    "***\n",
    "This is one of the example of a network theoretic question, gives sometimes eyebrow raising results --which are mostly, generally unexpected."
   ]
  },
  {
   "cell_type": "markdown",
   "id": "28ff9db5-4335-48a2-bb20-e327d715e622",
   "metadata": {
    "jp-MarkdownHeadingCollapsed": true,
    "tags": []
   },
   "source": [
    "## 3. Web Graph - WWW"
   ]
  },
  {
   "cell_type": "markdown",
   "id": "3c367109-6637-4af3-8071-d2b7b62a336c",
   "metadata": {},
   "source": [
    "Now, yet another seeemingly useless example, but extremely useful one.\n",
    "\n",
    "(Say), you had a website, in your homepage, you link to your friend's home page (like, for more info, refer here..). Now you put an edge between your friend's home page and your's.\n",
    "\n",
    "Doing it for all the pages..\n",
    "\n",
    "![](resources/WebGraph1.png) (Each page considering as node).\n",
    "****\n",
    "What's the use of such collection..?? it seems like a no use..\n",
    "> But, this resulted in a Multi billion dollar network - **GOOGLE**. Google harness the fact that, deep within these connections is the clue to answer to this question: **How can one get best search results?** when typed a query..\n",
    "\n",
    "![](resources/WebGraph2.png) the answer is in this web graph.. ![](resources/WebGraph3.png).\n",
    "And Google unleashed this.\n",
    "****\n",
    "So, a WebGraph -- seemingly useless work, but with bit of mining gives a answer to the huge question, that people didn't realized in the early 90's. But in the late 90's Larry page and co, came out with the beautiful algorithm: this is where, one can search for an answer for the question --- How does one **rank**, the output of the results."
   ]
  },
  {
   "cell_type": "markdown",
   "id": "41a4f9ad-5dce-43df-89dd-e51ad00b7c29",
   "metadata": {
    "jp-MarkdownHeadingCollapsed": true,
    "tags": []
   },
   "source": [
    "## 4. Social networks dataset"
   ]
  },
  {
   "cell_type": "markdown",
   "id": "064c0961-5b96-4328-8dbf-beeebc3992fb",
   "metadata": {},
   "source": [
    "Now, let's look at the social network dataset.. like a Google+, FaceBook, Twitter, LinkedIn.. When one is friend with other, the other is also a fried to him -- a mutualness -- you put an edge between those.\n",
    "\n",
    "Do this of entire friends.\n",
    "***\n",
    "Again, seemingly useless dataset.. Facebook made a good use of it, by asking a question. _(Here is a bunch of friends list)_ Now, who can be his next friend\n",
    "![](resources/SocialNetworks1.png)\n",
    "\n",
    "Need a pause to go further..\n",
    "****\n",
    "Say, one has 1000 friends in facebook, now who do you choose one *prospective friend* out of (say) 7Billion nodes. \n",
    "* All those work on **numbers**. The more the number you have, the more the people glued to the screens being on their site. \n",
    "* So, they want to increase the count. The can only increase the count, only if they show the prospective friend (like your childhood friend or in someone you found something interesting or whatsover reason..) .............. How come facebook know about these..?\n",
    "> The answer  is hidden in the network structure\n",
    "![](resources/SocialNetworks2.png)\n",
    "\n",
    "Like in a hotel, a food recommending system.. with a good recommendations..\n",
    "\n",
    "![](resources/SocialNetworks3.png)\n",
    "\n",
    "Similarly, in the friend list too, it not just increases their count, they also populates with other good friends _(Good: whatever you define)_\n",
    "\n",
    "This is the **Link Prediction**, and facebook friendlist is a good play ground."
   ]
  },
  {
   "cell_type": "markdown",
   "id": "630b3d88-4a36-4044-a28b-2e115400dbaf",
   "metadata": {},
   "source": [
    "/signin## Real world Network Datasets"
   ]
  },
  {
   "cell_type": "markdown",
   "id": "21ea1846-7571-419e-af16-9428f768b384",
   "metadata": {
    "tags": []
   },
   "source": [
    "### Some examples:"
   ]
  },
  {
   "cell_type": "markdown",
   "id": "12dfd4c0-8916-435a-b6b2-9ebb5ccab9b1",
   "metadata": {},
   "source": [
    "- Undirected (or Bidirectional) network _(as they are mutual..)_\n",
    "    - Friendship network\n",
    "    - Road network\n",
    "- Directed network _(as, its link from another side, it doesn't mean from other end too..)_\n",
    "    - Email network: _One sending email to another_.\n",
    "    - Citation network: _Research papers citing other papers._\n",
    "    - Collaboration / Co-authorship network: _Like who authored which papers, who collaborated with whom in a research.._\n",
    "Ofcourse, there are wide range of networks... these are some of the examples.."
   ]
  },
  {
   "cell_type": "markdown",
   "id": "9b555d2f-f61b-4d1e-b9b1-6e4cea8783e9",
   "metadata": {
    "tags": []
   },
   "source": [
    "### Network datasets formats"
   ]
  },
  {
   "cell_type": "markdown",
   "id": "2b2af99e-5542-40b5-873b-553b06401aff",
   "metadata": {},
   "source": [
    "(Most commonly used formats)..\n",
    "* CSV: _Comma Separated values_\n",
    "* GML: _Graph Modelling Language_\n",
    "* Pajek Net\n",
    "* GraphML\n",
    "* GEXF"
   ]
  },
  {
   "cell_type": "markdown",
   "id": "3dff173a-c859-4248-a4f5-52e36f87bfed",
   "metadata": {
    "tags": []
   },
   "source": [
    "#### CSV: Comma Separated Values"
   ]
  },
  {
   "cell_type": "markdown",
   "id": "e1a186ee-383c-4acb-95e6-1410f0538d8d",
   "metadata": {},
   "source": [
    "- Extension: `*.txt` or `*.csv`\n",
    "- Can be in \n",
    "    - Edge list format\n",
    "    - Adjacency list format\n",
    "\n",
    "**Edge list format**\n",
    "* Each row represents an edge\n",
    "* First value: *Source*, next successive *Target*\n",
    "\n",
    "![](resources/DatasetFormats-CSV-EdgeList.png) Each \n",
    "\n",
    "Can even have weights.. (the third column,,)\n",
    "\n",
    "![](resources/DatasetFormats-CSV-EdgeList_Weighted.png)\n",
    "\n",
    "**Adjacency List Format**\n",
    "* Each row tells, all the nodes adjacent to it.\n",
    "* First node represents the source node, successive ones denote the nodes, having an edge with this\n",
    "\n",
    "\n",
    "**Limitation**\n",
    "* Cannot hold **non-numeric** values.\n",
    "* You cannot change the labels, cannot add an attribute"
   ]
  },
  {
   "cell_type": "markdown",
   "id": "3959d351-2306-4f91-a0e9-c1aae7bac00a",
   "metadata": {
    "tags": []
   },
   "source": [
    "#### GML Format: Graph Modelling Language"
   ]
  },
  {
   "cell_type": "markdown",
   "id": "13718b70-ff94-4cc3-9e97-977b91ebf564",
   "metadata": {},
   "source": [
    "* Most commonly used format.\n",
    "* Starts with `graph`.\n",
    "* Then list the `node`, inside it can have id, label... -- list all such nodes..\n",
    "* Now, edges as `edge`\n",
    "\n",
    "![](resources/DatasetFormats-GML.png)\n",
    "\n",
    "**GML format with labels**\n",
    "\n",
    "![](resources/DatasetFormats-GML_with-labels.png)\n",
    "\n",
    "**GML format with attributes**\n",
    "Along with the node and edge properties, we can even have the graph properties.\n",
    "![](resources/DatasetFormats-GML_with-attributes.png) "
   ]
  },
  {
   "cell_type": "markdown",
   "id": "afec1130-109c-463f-8d12-0ede51ba6f51",
   "metadata": {},
   "source": [
    "### Pajek Net format: Uses `*.net` / `*.paj` extension"
   ]
  },
  {
   "cell_type": "markdown",
   "id": "aa60cb59-e7e8-45c6-ab88-80b7a6e81799",
   "metadata": {},
   "source": [
    "* Will be started with keyword `*Vertices`, followed by `count_of_vertices`\n",
    "* Then in the subsequent rows, `node_no node_label` ---_list out all the nodes_-.\n",
    "* Once done about the nodes, next the edges as `*arcs` or `*edges`, in the subsequent rows `source_node target_node`\n",
    "\n",
    "![](resources/DatasetFormats-Pajek.png)\n",
    "\n",
    "If had no labels to the nodes, then need not list those all.. simply can go as below..\n",
    "\n",
    "![](resources/DatasetFormats-Pajek-nodes_without_labels.png)\n",
    "\n",
    "Can also give the attributes to the edges (i.e., weights) as..\n",
    "\n",
    "![](resources/DatasetFormats-Pajek-edge_attributes(weight).png)"
   ]
  },
  {
   "cell_type": "markdown",
   "id": "be7258f1-f47b-440d-93ca-e155b4ba2e6c",
   "metadata": {},
   "source": [
    "#### GraphML format: `*.graphml` extension"
   ]
  },
  {
   "cell_type": "markdown",
   "id": "95476152-5eb3-4452-a9c8-7533ceeea44d",
   "metadata": {},
   "source": [
    "Her ML used of XML format.\n",
    "\n",
    "* First an `<?xml..` tag, next `<graphml ..`. Inside it we have `<graph ...` tag, inside which contains `<node... ` tags, then after `<edge.. ` tags. \n",
    "![](resources/DatasetFormats-GraphML1.png)\n",
    "\n",
    "Structure seems complex, but the flexibility it provides in terms of attributes is better than previous.\n",
    "\n",
    "Another example: _Assigning the attributes to the nodes and edges._\n",
    "\n",
    "![](resources/DatasetFormats-GraphML2.png)\n",
    "The first `<key..` is for the Nodes, then next's `<key..` is for the Edges, then as usual, `<graph..` tag."
   ]
  },
  {
   "cell_type": "markdown",
   "id": "0910bdd6-867c-43d6-bf18-9e75c68fa6fe",
   "metadata": {},
   "source": [
    "#### GEXF format: Graph Exchange XML Format "
   ]
  },
  {
   "cell_type": "markdown",
   "id": "91580a63-a07a-4d17-ab38-ae26c22325d8",
   "metadata": {},
   "source": [
    "* Its created by **Gephi**, an open-source software which is used to analyze and visualize the social networks.\n",
    "* Its inspired from XML.\n",
    "\n",
    "![](resources/DatasetFormats-GEXF.png)\n",
    "\n",
    "This is quite similar to the XML format, but this is much cleaner."
   ]
  },
  {
   "cell_type": "markdown",
   "id": "0cdf3716-228f-44eb-ac0a-44810f5c5306",
   "metadata": {},
   "source": [
    "NetworkX provides functions, through which one can read in one format and can write in another format. Like can read in GML format and can write in GEXF format."
   ]
  },
  {
   "cell_type": "markdown",
   "id": "60ec457c-7718-4693-b64c-7b75bf23c30c",
   "metadata": {
    "tags": []
   },
   "source": [
    "## Downloading datasets"
   ]
  },
  {
   "cell_type": "markdown",
   "id": "b2db3b55-fa20-4528-8b7d-7a6b9c73866a",
   "metadata": {},
   "source": [
    "Some resources.\n",
    "* [SNAP - Stanford Large Network Dataset Collection](https://snap.stanford.edu/data/)\n",
    "* [The UCI Network Data Repository](https://networkdata.ics.uci.edu/resources.php) - maintained by University of California.\n",
    "* [Konect](http://konect.cc/](Konect)"
   ]
  },
  {
   "cell_type": "markdown",
   "id": "8856b6e0-4200-428f-8ad3-ad6472fa2a29",
   "metadata": {},
   "source": [
    "## Datasets analyzation using NetworkX"
   ]
  },
  {
   "cell_type": "code",
   "execution_count": 2,
   "id": "c9f80403-0433-4ba9-a932-6a10e328174a",
   "metadata": {},
   "outputs": [],
   "source": [
    "import networkx as nx\n",
    "import matplotlib.pyplot as plt"
   ]
  },
  {
   "cell_type": "markdown",
   "id": "5939ed03-7019-40a0-8388-428b655b4f04",
   "metadata": {},
   "source": [
    "Reading edgelist"
   ]
  },
  {
   "cell_type": "code",
   "execution_count": 58,
   "id": "d5071b89-2164-47ce-907a-3c4c3529b78b",
   "metadata": {},
   "outputs": [],
   "source": [
    "#G = nx.read_edgelist('resources/datasets/facebook_combined.txt')  # Returns the graph object.."
   ]
  },
  {
   "cell_type": "markdown",
   "id": "ea777ac3-dcb4-46bb-bd96-4c7eebc39aa1",
   "metadata": {},
   "source": [
    "Reading Pajek files"
   ]
  },
  {
   "cell_type": "code",
   "execution_count": 49,
   "id": "0cd5a8af-a26e-4779-b9e2-960251155744",
   "metadata": {},
   "outputs": [],
   "source": [
    "#G = nx.read_pajek('resources/datasets/football.net')\n",
    "G = nx.read_pajek('resources/datasets/ZacharyKarateClub.paj')"
   ]
  },
  {
   "cell_type": "markdown",
   "id": "08309a71-f454-4d63-b77f-1d016a3a37d3",
   "metadata": {},
   "source": [
    "Reading GraphML files"
   ]
  },
  {
   "cell_type": "code",
   "execution_count": 57,
   "id": "4f055a95-9bf1-4173-bb7b-9248e52b0589",
   "metadata": {},
   "outputs": [],
   "source": [
    "#G = nx.read_graphml('resources/datasets/airlines.graphml')"
   ]
  },
  {
   "cell_type": "markdown",
   "id": "d7b0aa71-3ab8-49e1-b107-7df6afd57fe8",
   "metadata": {},
   "source": [
    "Reading GEXF files"
   ]
  },
  {
   "cell_type": "code",
   "execution_count": 56,
   "id": "6834f74d-05b6-4b15-a209-09666a8079ae",
   "metadata": {
    "tags": []
   },
   "outputs": [],
   "source": [
    "#G = nx.read_gexf(r'resources/datasets/eurosis/EuroSiS_Generale_Pays.gexf')"
   ]
  },
  {
   "cell_type": "code",
   "execution_count": 37,
   "id": "c921a1b4-d050-43a9-84f0-0bec3936bac5",
   "metadata": {},
   "outputs": [
    {
     "name": "stdout",
     "output_type": "stream",
     "text": [
      "Graph with 4039 nodes and 88234 edges\n"
     ]
    },
    {
     "data": {
      "text/plain": [
       "False"
      ]
     },
     "execution_count": 37,
     "metadata": {},
     "output_type": "execute_result"
    }
   ],
   "source": [
    "print (nx.info(G))\n",
    "nx.is_directed(G)"
   ]
  },
  {
   "cell_type": "code",
   "execution_count": 39,
   "id": "88dae407-cca1-430b-8d26-b5d2c17e42a3",
   "metadata": {},
   "outputs": [],
   "source": [
    "#list(set(dict(nx.degree(G)).values()))"
   ]
  },
  {
   "cell_type": "code",
   "execution_count": 73,
   "id": "2de73507-8d64-43ec-bafb-29186e028ef1",
   "metadata": {},
   "outputs": [],
   "source": [
    "def plot_degrees_distribution(G):\n",
    "    degrees_contained = list(dict(nx.degree(G)).values())\n",
    "    unique_degrees = list(set(degrees_contained))  #as  Converting into \"Set\" eliminates the duplicates right..??\n",
    "    frequencies = []\n",
    "    # Get the frequency of each degree.,.\n",
    "    for degree in unique_degrees:\n",
    "        temp = degrees_contained.count(degree)\n",
    "        frequencies.append(temp)    \n",
    "    \n",
    "    # Plot on a graph..\n",
    "    plt.plot(unique_degrees, frequencies, 'g-o')\n",
    "    # plt.loglog(unique_degrees, frequencies)  # If the graph was of Power-log distributio, we should get a straight line. (It performs log of x and y values)\n",
    "    plt.title(\"Plot of degree distribution of Zachary Karate Club\")\n",
    "    plt.xlabel(\"Degrees\")\n",
    "    plt.ylabel(\"Frequencies\")\n",
    "    plt.show()"
   ]
  },
  {
   "cell_type": "code",
   "execution_count": null,
   "id": "1e4b741d-29b5-429a-92ff-1708fc3f2622",
   "metadata": {},
   "outputs": [],
   "source": [
    "plt.average_clister "
   ]
  },
  {
   "cell_type": "code",
   "execution_count": 74,
   "id": "cd82f595-7afd-4ebb-9c88-f1b91ef3235f",
   "metadata": {},
   "outputs": [
    {
     "data": {
      "image/png": "[encoded data removed]",
      "text/plain": [
       "<Figure size 640x480 with 1 Axes>"
      ]
     },
     "metadata": {},
     "output_type": "display_data"
    }
   ],
   "source": [
    "plot_degrees_distribution(G)"
   ]
  },
  {
   "cell_type": "markdown",
   "id": "d84fd68f-a1da-48dc-82a1-1d0db18ba451",
   "metadata": {},
   "source": [
    "Most of the real world datasets, exhibit (**Power log distribution** _(Name might be incorrect)_) - i.e., There will be few nodes having a high degree, and a lot nodes having less degree."
   ]
  },
  {
   "cell_type": "markdown",
   "id": "32c9c12e-fc57-4e8b-8662-48c0abc0f5bd",
   "metadata": {
    "tags": []
   },
   "source": [
    "#### Density of a graph $\\frac{1}{4}$"
   ]
  },
  {
   "cell_type": "markdown",
   "id": "50861e3f-e5b7-487d-aabc-c47256423ec9",
   "metadata": {},
   "source": [
    "$Density = \\frac{Number\\ of\\ edges\\ present}{Total\\ posssible\\ edges..}$, where $Total\\ possible\\ edges = 2^{n\\choose\\ k}$"
   ]
  },
  {
   "cell_type": "markdown",
   "id": "04ec763e-4a3f-43cc-a896-bf9793c5b135",
   "metadata": {},
   "source": []
  },
  {
   "cell_type": "markdown",
   "id": "79508a76-4865-4262-9f19-0ddca7c47317",
   "metadata": {},
   "source": []
  },
  {
   "cell_type": "markdown",
   "id": "41d5829b-94e3-4b92-b4a9-408e57498d6c",
   "metadata": {},
   "source": []
  },
  {
   "cell_type": "markdown",
   "id": "c27e44ba-284b-4a9b-9b63-a6c6d4deb8a3",
   "metadata": {},
   "source": []
  },
  {
   "cell_type": "markdown",
   "id": "fdf38ddf-a220-4129-8b9d-69569998ca00",
   "metadata": {},
   "source": [
    "on September 3rd, 2021 ~ Friday"
   ]
  },
  {
   "cell_type": "code",
   "execution_count": 2,
   "id": "65850942-b128-43e5-8cf3-557d9fe41136",
   "metadata": {},
   "outputs": [],
   "source": [
    "import networkx as nx\n",
    "\n",
    "# Adding the nodes to the gfraph\n",
    "def add_nodes(n):\n",
    "    G = nx.Graph()\n",
    "    G.add_nodes_from(range(n))\n",
    "    return G"
   ]
  },
  {
   "cell_type": "code",
   "execution_count": 3,
   "id": "c3edb6d3-ec8d-49de-9649-d42b4f2d0597",
   "metadata": {},
   "outputs": [],
   "source": [
    "G = add_nodes(10)"
   ]
  },
  {
   "cell_type": "code",
   "execution_count": 40,
   "id": "c267ce7f-546b-43ae-a85e-c0256f0dc798",
   "metadata": {},
   "outputs": [
    {
     "data": {
      "text/plain": [
       "10"
      ]
     },
     "execution_count": 40,
     "metadata": {},
     "output_type": "execute_result"
    }
   ],
   "source": [
    "G.number_of_nodes()"
   ]
  },
  {
   "cell_type": "code",
   "execution_count": 10,
   "id": "a235fcd8-02da-4871-9253-8cb5e2e0a987",
   "metadata": {},
   "outputs": [
    {
     "data": {
      "text/plain": [
       "0"
      ]
     },
     "execution_count": 10,
     "metadata": {},
     "output_type": "execute_result"
    }
   ],
   "source": [
    "G.number_of_edges()"
   ]
  },
  {
   "cell_type": "code",
   "execution_count": 6,
   "id": "e6a63456-b8ad-42e8-b77d-c33226cb0525",
   "metadata": {},
   "outputs": [
    {
     "data": {
      "text/plain": [
       "False"
      ]
     },
     "execution_count": 6,
     "metadata": {},
     "output_type": "execute_result"
    }
   ],
   "source": [
    "nx.is_connected(G)"
   ]
  },
  {
   "cell_type": "code",
   "execution_count": 4,
   "id": "13b6cabb-0359-461c-b4b5-adad3f363aab",
   "metadata": {},
   "outputs": [],
   "source": [
    "# Let's try addding the random edge in the graph..\n",
    "import random\n",
    "def add_random_edge(G):\n",
    "    choice1 = random.choice(list(G.nodes()))\n",
    "    choice2 = random.choice(list(G.nodes()))\n",
    "    if choice1 != choice2:              # To avoid self-loops..\n",
    "        G.add_edge(choice1, choice2)\n",
    "    \n",
    "    return G"
   ]
  },
  {
   "cell_type": "code",
   "execution_count": 6,
   "id": "e092058d-18da-404e-aba4-726a58038652",
   "metadata": {},
   "outputs": [
    {
     "data": {
      "text/plain": [
       "(False, 2)"
      ]
     },
     "execution_count": 6,
     "metadata": {},
     "output_type": "execute_result"
    }
   ],
   "source": [
    "G = add_random_edge(G) \n",
    "nx.is_connected(G), G.number_of_edges()"
   ]
  },
  {
   "cell_type": "code",
   "execution_count": 17,
   "id": "21d2ad2f-85c8-45ee-8b7d-05d584ebcbb3",
   "metadata": {},
   "outputs": [],
   "source": [
    "# Now the activity is... keep adding the edges, until it becomes connected...\n",
    "def add_till_gets_connected(G):\n",
    "    while (nx.is_connected(G) == False):  # keep running as long as it is not-connected..\n",
    "        G = add_random_edge(G)\n",
    "    \n",
    "    return G   # returned when got connected.."
   ]
  },
  {
   "cell_type": "code",
   "execution_count": 18,
   "id": "97b2ab03-a997-4883-a3a5-39d6383207ad",
   "metadata": {},
   "outputs": [
    {
     "data": {
      "text/plain": [
       "(True, 10)"
      ]
     },
     "execution_count": 18,
     "metadata": {},
     "output_type": "execute_result"
    }
   ],
   "source": [
    "G = add_till_gets_connected(G)\n",
    "nx.is_connected(G), G.number_of_nodes()"
   ]
  },
  {
   "cell_type": "code",
   "execution_count": 19,
   "id": "a230fb83-2768-405f-81d0-b02ce6ff54b3",
   "metadata": {},
   "outputs": [],
   "source": [
    "# Let's group together... -- it takes a input-\"n\", and returns the no. of edges taken for it to get connected..\n",
    "def create_instance(n):\n",
    "    G = add_nodes(n)\n",
    "    return add_till_gets_connected(G).number_of_edges()"
   ]
  },
  {
   "cell_type": "code",
   "execution_count": 20,
   "id": "6043781a-e2c8-4bd8-bd08-435f24768068",
   "metadata": {},
   "outputs": [
    {
     "name": "stdin",
     "output_type": "stream",
     "text": [
      "Enter the value of n:  5\n"
     ]
    },
    {
     "data": {
      "text/plain": [
       "6"
      ]
     },
     "execution_count": 20,
     "metadata": {},
     "output_type": "execute_result"
    }
   ],
   "source": [
    "create_instance(int(input(\"Enter the value of n: \")))"
   ]
  },
  {
   "cell_type": "code",
   "execution_count": 57,
   "id": "484df6f6-2c0d-4ea8-92dd-9f6e6690e335",
   "metadata": {},
   "outputs": [],
   "source": [
    "%matplotlib inline"
   ]
  },
  {
   "cell_type": "code",
   "execution_count": 21,
   "id": "102f3778-62d6-4abb-b426-241e9181a719",
   "metadata": {},
   "outputs": [],
   "source": [
    "# Make the plot of it..\n",
    "import matplotlib.pyplot as plt\n",
    "def plot_connectivity():\n",
    "    x = []\n",
    "    y = []\n",
    "    for num_nodes in range(1, 400):\n",
    "        x.append(num_nodes)\n",
    "        y.append(create_instance(num_nodes))  # Getting its total required no. of edges required to get connected for the passed \"num_edges\"..\n",
    "    plt.title(\"Emergence of Connectivity\")\n",
    "    plt.xlabel(\"no. of nodes\")\n",
    "    plt.ylabel(\"no. of edges required to get connected\")\n",
    "    plt.plot(x, y)\n",
    "    plt.show()"
   ]
  },
  {
   "cell_type": "code",
   "execution_count": 22,
   "id": "b4be9ff1-88ec-497c-9242-668d69c7ed82",
   "metadata": {},
   "outputs": [
    {
     "data": {
      "image/png": "[encoded data removed]",
      "text/plain": [
       "<Figure size 640x480 with 1 Axes>"
      ]
     },
     "metadata": {},
     "output_type": "display_data"
    }
   ],
   "source": [
    "plot_connectivity()"
   ]
  },
  {
   "cell_type": "markdown",
   "id": "97c7de5d-6605-4be5-a811-fb6d9369d504",
   "metadata": {},
   "source": [
    "There seems much spikes in the plot, due to the randomness..\n",
    "\n",
    "\n",
    "Let's try averaging for a set of no_of_nodes.."
   ]
  },
  {
   "cell_type": "code",
   "execution_count": 58,
   "id": "f7ddc3b7-d902-41ed-a1e9-7478831c4756",
   "metadata": {},
   "outputs": [],
   "source": [
    "# Make the plot of it..\n",
    "import numpy as np\n",
    "import matplotlib.pyplot as plt\n",
    "def plot_connectivity_updated(test_size=100, batch_size=10):\n",
    "    x, x1 = [], []\n",
    "    y, y1 = [], []\n",
    "    for num_nodes in range(1, test_size):\n",
    "        x.append(num_nodes)\n",
    "        temp = []\n",
    "        for i in range(batch_size):\n",
    "            temp.append(create_instance(num_nodes))\n",
    "            #num_nodes += 1\n",
    "        y.append(sum(temp)/batch_size)  # Getting its total required no. of edges required to get connected for the passed \"num_edges\"..\n",
    "        \n",
    "        x1.append(num_nodes)\n",
    "        y1.append(num_nodes*(np.log(num_nodes)/2))# As the ORDER of nlogn doesn't affect with the constants, as the constants are neglected in evaluation of order.\n",
    "        \n",
    "    plt.title(\"Emergence of Connectivity\")\n",
    "    plt.xlabel(\"no. of nodes\")\n",
    "    plt.ylabel(\"no. of edges required to get connected\")\n",
    "    plt.plot(x, y)\n",
    "    # For the comparison with the nlogn..\n",
    "    plt.plot(x1, y1)\n",
    "    \n",
    "    plt.legend([\"Actual plot\", \"nlogn\"])\n",
    "    plt.show()"
   ]
  },
  {
   "cell_type": "code",
   "execution_count": 57,
   "id": "ed37e4de-d161-42c9-acd8-031ab11a444b",
   "metadata": {},
   "outputs": [
    {
     "data": {
      "image/png": "[encoded data removed]",
      "text/plain": [
       "<Figure size 640x480 with 1 Axes>"
      ]
     },
     "metadata": {},
     "output_type": "display_data"
    }
   ],
   "source": [
    "plot_connectivity_updated(test_size=200, batch_size=10)"
   ]
  },
  {
   "cell_type": "code",
   "execution_count": 56,
   "id": "113e8e1e-08fb-4d15-bbe8-38444f5a6355",
   "metadata": {},
   "outputs": [
    {
     "data": {
      "image/png": "[encoded data removed]",
      "text/plain": [
       "<Figure size 640x480 with 1 Axes>"
      ]
     },
     "metadata": {},
     "output_type": "display_data"
    }
   ],
   "source": [
    "plot_connectivity_updated(test_size=50, batch_size=50)"
   ]
  },
  {
   "cell_type": "markdown",
   "id": "d8ec4d5d-055b-4c6d-8630-57065733e173",
   "metadata": {},
   "source": [
    "See the proximity between the plots.... almost nearer"
   ]
  },
  {
   "cell_type": "code",
   "execution_count": 14,
   "id": "50f26d9d-a286-4502-8996-d7a68916618c",
   "metadata": {},
   "outputs": [
    {
     "data": {
      "text/plain": [
       "[<matplotlib.lines.Line2D at 0x7febad8e2790>]"
      ]
     },
     "execution_count": 14,
     "metadata": {},
     "output_type": "execute_result"
    }
   ],
   "source": [
    "a = [a for a in range(10)]\n",
    "plt.plot(a, [b*b for b in range(10)])"
   ]
  },
  {
   "cell_type": "code",
   "execution_count": 15,
   "id": "7ba9ff2b-65c7-4e31-a584-5ff2cf545dbb",
   "metadata": {},
   "outputs": [
    {
     "data": {
      "text/plain": [
       "45"
      ]
     },
     "execution_count": 15,
     "metadata": {},
     "output_type": "execute_result"
    }
   ],
   "source": [
    "sum(a)"
   ]
  },
  {
   "cell_type": "code",
   "execution_count": 16,
   "id": "c659d04e-a0ff-41ee-a453-e177b98f9dcd",
   "metadata": {},
   "outputs": [
    {
     "ename": "NameError",
     "evalue": "name 'x' is not defined",
     "output_type": "error",
     "traceback": [
      "\u001b[0;31m---------------------------------------------------------------------------\u001b[0m",
      "\u001b[0;31mNameError\u001b[0m                                 Traceback (most recent call last)",
      "\u001b[0;32m<ipython-input-16-c898de1027d7>\u001b[0m in \u001b[0;36m<module>\u001b[0;34m\u001b[0m\n\u001b[0;32m----> 1\u001b[0;31m \u001b[0mplt\u001b[0m\u001b[0;34m.\u001b[0m\u001b[0mplot\u001b[0m\u001b[0;34m(\u001b[0m\u001b[0mx\u001b[0m\u001b[0;34m,\u001b[0m \u001b[0mnum_nodes\u001b[0m\u001b[0;34m*\u001b[0m\u001b[0mnp\u001b[0m\u001b[0;34m.\u001b[0m\u001b[0mlog\u001b[0m\u001b[0;34m(\u001b[0m\u001b[0mnum_nodes\u001b[0m\u001b[0;34m)\u001b[0m\u001b[0;34m)\u001b[0m\u001b[0;34m\u001b[0m\u001b[0;34m\u001b[0m\u001b[0m\n\u001b[0m\u001b[1;32m      2\u001b[0m \u001b[0mplt\u001b[0m\u001b[0;34m.\u001b[0m\u001b[0mshow\u001b[0m\u001b[0;34m(\u001b[0m\u001b[0;34m)\u001b[0m\u001b[0;34m\u001b[0m\u001b[0;34m\u001b[0m\u001b[0m\n",
      "\u001b[0;31mNameError\u001b[0m: name 'x' is not defined"
     ]
    }
   ],
   "source": [
    "plt.plot(x, num_nodes*np.log(num_nodes))\n",
    "plt.show()"
   ]
  },
  {
   "cell_type": "code",
   "execution_count": null,
   "id": "6d008dc9-3cf3-4b0b-9ccb-864cc6a7a2e3",
   "metadata": {},
   "outputs": [],
   "source": []
  },
  {
   "cell_type": "code",
   "execution_count": null,
   "id": "24eb9c00-b913-4b5d-9e96-783d93124c96",
   "metadata": {},
   "outputs": [],
   "source": []
  },
  {
   "cell_type": "markdown",
   "id": "3831c229-a660-4d12-91f4-98e8f724ca2c",
   "metadata": {},
   "source": [
    "## Summary to the week-2"
   ]
  },
  {
   "cell_type": "markdown",
   "id": "1abaac80-9cd2-4314-b0e4-1ef75b972cbc",
   "metadata": {},
   "source": [
    "We've seen:\n",
    "* Introduction to the datasets\n",
    "* Why datasets?\n",
    "* Making inferences from datasets, via python, networkx..\n",
    "* Graph visualization -- like Gephi\n",
    "* Emergence of Connectedness. \n",
    "    * You start with a graph with no edges, you start putting the edge each time.. at one point, the graph becomes connected --- that happens with $nlog(n)$ no. of edges.\n",
    "    * Proven mathematically and via program.\n",
    "* Power of Synthetic datasets\n",
    "    * Synthetic means.... Say if had 2000 nodes,.. (some big dataset), and you want to know the pattern in that. -- here you would like to create your own network _(as we have done for the Emergence of connectedness)_.\n",
    "*****\n",
    "In a nutshell.. seen about..\n",
    "* Learnt about datasets\n",
    "* Emergence of connectedness\n",
    "* Power of synthetic datasets.\n",
    "\n",
    "****\n",
    "Coming up next....\n",
    "* Google page rank..\n",
    "* and some more as discussed in the motivational pushs in these 2 weeks.."
   ]
  },
  {
   "cell_type": "code",
   "execution_count": null,
   "id": "66132d72-b44a-49e9-aee7-d4772a67780b",
   "metadata": {},
   "outputs": [],
   "source": []
  }
 ],
 "metadata": {
  "kernelspec": {
   "display_name": "Python 3",
   "language": "python",
   "name": "python3"
  },
  "language_info": {
   "codemirror_mode": {
    "name": "ipython",
    "version": 3
   },
   "file_extension": ".py",
   "mimetype": "text/x-python",
   "name": "python",
   "nbconvert_exporter": "python",
   "pygments_lexer": "ipython3",
   "version": "3.8.11"
  },
  "toc-autonumbering": false,
  "toc-showmarkdowntxt": true
 },
 "nbformat": 4,
 "nbformat_minor": 5
}
