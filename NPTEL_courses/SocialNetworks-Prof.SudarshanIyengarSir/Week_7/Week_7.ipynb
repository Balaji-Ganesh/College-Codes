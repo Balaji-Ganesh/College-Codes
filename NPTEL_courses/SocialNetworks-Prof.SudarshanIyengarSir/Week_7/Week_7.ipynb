{
 "cells": [
  {
   "cell_type": "markdown",
   "id": "bdbcf4c5-b7dd-48dc-91a5-2cf698cdac84",
   "metadata": {},
   "source": [
    "# Week-7: **Cascading behaviour in networks**"
   ]
  },
  {
   "cell_type": "code",
   "execution_count": null,
   "id": "8fc1de71-30aa-43af-9a8c-8bb6cea3a84b",
   "metadata": {},
   "outputs": [],
   "source": []
  },
  {
   "cell_type": "markdown",
   "id": "2c57f059-c6d2-40fe-86ba-b194464b3f9e",
   "metadata": {},
   "source": [
    "## Module-1: **We Follow**"
   ]
  },
  {
   "cell_type": "markdown",
   "id": "16ab388a-77ab-4e71-8112-c900dce564ac",
   "metadata": {},
   "source": [
    "Keypoints:\n",
    "* Shown some cases of **Follow**ing, with a short clip --- where a group of people in a lift, one or two tries to do an action and all others repeat.\n",
    "    * Like, some people tilt to the walls of lift, and all the ones in the lift tilt.\n",
    "    * Some people, remove their hats and place back, and all does the same.\n",
    "\n",
    "Why did they follow?? --- seems like a silly reason.... Look at some cases...<br/>\n",
    "1. ![](resources/road-blockage-decision.png) Decision at a road-block..<br/>\n",
    "    * Some people going in one side of the road, (**MAY BE** due to some construction work happening over there.. or any reasonn) and even they don't know the reason.\n",
    "    * Now, what do you do..?\n",
    "\n",
    "2. ![](resources/restaurant-items.png) Ordering items in restaurant<br/>\n",
    "    * All the items you've ordered are out of stock or spoiled. The they announced discount on one item.\n",
    "    * Now, what do you do..?? Go with others like -- choosing it   or negotiate with refund..??\n",
    "\n",
    "3. ![](resources/student-decision.png) Taking a decision to choose the direction after 10th class.\n",
    "    * You asked different options from various people you know and you saw your friends where they are going.\n",
    "    * Now, what do you choose..?? Take your own decision or follow your friends..??"
   ]
  },
  {
   "cell_type": "markdown",
   "id": "92f99719-7364-4d28-827d-7bff2d5246a9",
   "metadata": {},
   "source": [
    "## Module-2: **Why do we Follow?**"
   ]
  },
  {
   "cell_type": "markdown",
   "id": "52851e8d-1f83-4d4a-8185-4657dda0a71e",
   "metadata": {},
   "source": [
    "Ok, we follow someone. But....... .... But, <br/>\n",
    "1. ![](resources/well-falling.png) Some people falling in a well.\n",
    "    * Now do you follow that..??\n",
    "2. ![](resources/exam-one-answer.png) In an exam hall, invigilator went out. Some of your friends are discussing answer or some validating..\n",
    "    * for 4th question you got 40, and you are quite sure about it.\n",
    "    * But, your friends got as 30.\n",
    "    * what do you do..?? Will you update it or keep it as is...\n",
    "3. ![](resources/some-examples-of-following.png), ![](resources/some-examples-of-following1.png)\n",
    "    * Some people smoking, do you?\n",
    "    * Some people using iPad, and you liked it, do you buy?\n",
    "    * some one was very fond of some song, and they told you. Do you listen..??\n",
    "    \n",
    "**Why do we follow..??** -- _(let's see with an example..)_<br/>\n",
    "> ![](resources/shoe-example1.png) One of your friend approached you and asked to advertise the shoes. \n",
    "> * There are a lot of products in the market. So, should you care about it?\n",
    "> * What if he approaches with some monetory benefit or a free pair of shoes..<br/>\n",
    "![](resources/shoe-example2.png). Now what...??\n",
    "> * May likely..\n",
    "\n",
    "Agriculture example..<br/>\n",
    "![](resources/agriculture-example.png)<br/>\n",
    "* One of the Sohan's friend... his income from crop got double by using some hybrid seeds. and even other friends did after knowing.\n",
    "* Now.... do you follow..??\n",
    "    * May be, as profit getting doubled.\n",
    "    \n",
    "A doctor's situation..<br/>\n",
    "![](resources/doctor-example.png)\n",
    "* One of his patient need the vaccine which he didn't know/aware. His friends know it.\n",
    "* Now will he..??\n",
    "    * For purpose of saving his patient life, may be..\n",
    "**** \n",
    "**Conclusion**<br/>\n",
    "* So, people follow if they get some benefit or some need to be fulfilled by them."
   ]
  },
  {
   "cell_type": "markdown",
   "id": "1d942dff-e896-43ba-8fed-82e746cc5451",
   "metadata": {},
   "source": [
    "## Module-3: **Diffusion in Networks**"
   ]
  },
  {
   "cell_type": "markdown",
   "id": "7d1eeb85-d556-4c65-afb2-4d97dd20ff79",
   "metadata": {},
   "source": [
    "Consider the example of **Shoes advertisement of a friend** example..<br/>\n",
    "You adopted it, and you recommended it and they recommended to others...\n",
    "![](resources/diffusion-illustration.png) -- See how its getting branched..<br/>\n",
    "-------------------------------------------That's called **Diffusion**. Started with 1, branched to 2, then to 4....<br/>\n",
    "\n",
    "Now, a question **Will all adopt the recommendation/idea..??**<br/>\n",
    "If so, then it diffused over entire network...![](resources/diffusion-illustration1.png)<br/>\n",
    "or<b/r>\n",
    "If some adopted it, it soon dies ..<br/>\n",
    "![](resources/diffusion-illustration2.png)\n",
    "\n",
    "****\n",
    "It depends on product or information which needs to be diffused.\n",
    "\n",
    "But, **How do we quantify this..??**<br/>\n",
    "coming up.."
   ]
  },
  {
   "cell_type": "markdown",
   "id": "046ad63c-f9d1-41fe-a071-b571f011808e",
   "metadata": {},
   "source": [
    "## Module-4: **Modeling Diffusion**"
   ]
  },
  {
   "cell_type": "markdown",
   "id": "86693566-29be-4fea-9695-ca5643d18d53",
   "metadata": {},
   "source": [
    "On a sunny day, (say)your options are...<br/>\n",
    "![](resources/sunny-day-options.png).. What do you choose?? Library, to complete the Wednesday's assignment or shopping to have fun..??<br/>\n",
    "\n",
    "Let it become a puzzle...<br/>\n",
    "![](resources/sunny-day-friends_option.png).. Now..??<br/>\n",
    "\n",
    "**How do you weigh your options..??**<br/>\n",
    "> First factor, **How much it interests you*** as **PayOff**.\n",
    "\n",
    "For you, its like ![](resources/payoff-comparision.png)\n",
    "\n",
    "> 2nd factor, the count of friends.\n",
    "\n",
    "**How do we compare this notion of friends..?**<br/>\n",
    "![](resources/payoff-comparision-friends.png). To keep it simple, consider one friend and work on options..![](resources/1-friend-options.png)<br/>\n",
    "There is no payoff for diff activities, as they don't do it together. They get a payoff, when they do the same thing (for them its some value).<br/>\n",
    "> Hence, for one friend case, you choose the option, which has much payoff.\n",
    "\n",
    "But, how it applies to many friends (which is our actual case..)..??<br/>\n",
    "![](resources/multiple-friends-options.png) -- How... Consider as pairs![](resources/multiple-friends-options-payoffs.png).<br/>\n",
    "Say payoff is 2 for library and 3 for outside. Now, ![](resources/multiple-friends-options-payoffs-calculated.png). As **Going to library is more, may choose this**<br/>\n",
    "\n",
    "A test... Which option do you choose..??\n",
    "![](resources/multiple-friends-options-payoffs-a-test.png)--  $12 \\cdot 2 = 24$ for Library, and $9 \\cdot 3 = 27$. As per weights $24 < 27$, so outside _(based on payoffs given)_."
   ]
  },
  {
   "cell_type": "markdown",
   "id": "83860ddc-1452-4988-8230-1c4ac073c449",
   "metadata": {},
   "source": [
    "## Module-5: **Modeling Diffusion (continued)**"
   ]
  },
  {
   "cell_type": "markdown",
   "id": "767d9011-9702-40cc-87eb-86eb897e19b2",
   "metadata": {},
   "source": [
    "Let's define it a bit rigourously..<br/.\n",
    "* Consider two events $A$ and $B$, and the payoffs associated with them are $a$ and $b$ respectively.\n",
    "* $p$ fraction of friends are interested in event $A$, so for event $B$, its $1-p$.\n",
    "* So, what's the payoff would you get if adopted $A$... is $p \\cdot a$, whereas for $B$, it would be $(1-p) \\cdot b$<br/>\n",
    "![](resources/defining-rigourously_1.png). To adopt $A$, its total-payoff should be more than $B$ right..?? ie., $p \\cdot a \\ge (1-p) \\cdot b$, then <br/>\n",
    "![](resources/defining-rigourously_2.png)\n",
    "\\begin{align*}\n",
    "    & pa \\ge (1-p)b \\\\\n",
    "    & pa + pb \\ge b \\\\\n",
    "    & p(a+b) \\ge b \\\\\n",
    "    & p \\ge \\frac{b}{(a+b)} \\\\    \n",
    "  \\end{align*}\n",
    "\n",
    "![](resources/choosing-options-from-rigourously.png) So depending on value of $p$, you choose the option.\n",
    "****\n",
    "What's happening there..?? Consider an example. You had 10 friends, and 4 of them need to go outside to take you outside. And look it sequentially..<br/>\n",
    "You've decided to go to library and do the assignment, and your friends come one by one...<br/>\n",
    "* ![](resources/1st-friend-comes.png)1st friend comes and tells, Iam going outside. You'll  be steady.<br/>\n",
    "* ![](resources/2nd-3rd-4th-friends-comes.png), and you r 2nd, 3rd,. 4th friends come and tells the same, and you...![](resources/2nd-3rd-4th-friends-comes-your-mood-disturbs.png), you got disturbed. \n",
    "\n",
    "This phenomenon is called **Social Reinforcement** -- when more and more people come and tell, we tend to beleive that information.\n",
    "***\n",
    "Let's extend to the big network..\n",
    "* There, not just one who look sides and decide rather, all do the same, looks others and decides, weighing their options and getting impacted by them.\n",
    "\n",
    "Let's put it clearly,... A class of students and all decided to work on assignment.<br/>\n",
    "![](resources/40-people.png). But 2 outrageous people, decided to have fun..![](resources/outrageous-people.png)<br/>\n",
    "* Now, the decision becomes playful... everybody, looks them and flips around the decision -- either outside or fun.\n",
    "* So, what happens at the end.. how it stabilizes??\n",
    "    * Will everybody flips to go out..??\n",
    "    * All decided to go to library.\n",
    "    * Two clusters forming.. one of **fun** and other of **library**.\n",
    "\n",
    "![](resources/end-results.png)"
   ]
  },
  {
   "cell_type": "markdown",
   "id": "ae7e7ea8-ff36-449e-8235-def2891f6e08",
   "metadata": {},
   "source": [
    "\\begin{align*}\n",
    "    & pa \\ge (1-p)b \\\\\n",
    "    & pa + pb \\ge b \\\\\n",
    "    & p(a+b) \\ge b \\\\\n",
    "    & p \\ge \\frac{b}{(a+b)} \\\\    \n",
    "  \\end{align*}"
   ]
  },
  {
   "cell_type": "markdown",
   "id": "791e0300-b0f0-47af-9474-f5aa271609ce",
   "metadata": {},
   "source": [
    "## Module-6: **Impact of Commmunities on Diffusion)**"
   ]
  },
  {
   "cell_type": "markdown",
   "id": "c3a00c13-855b-4091-9b22-91f850df6676",
   "metadata": {},
   "source": [
    "Linking the above reslts to the Weak-ties..<br/>\n",
    "![](resources/weak-ties_view.png) Those two are communities.<br/>\n",
    "* Infecting a person in Community-2, is difficult as around him are all of **Going to library**, so they can't easily convince him.<br/><br/>\n",
    "\n",
    "Another example... Release of new OS, and people adopting to it. <br/>\n",
    "* **There is a problem here....**, its like risky if they don't know how to operate on it after switching.\n",
    "\n",
    "Another examples...\n",
    "* You've seen a bike in your college, now should you convince your sibling or mother to buy that for you.. Or will you approach house-head. After house-head accepts, it might fulfill very soon. Sibling's and mother's can't make much impact(.... in their case..)\n",
    "\n",
    "This is what happens  to promote a product by some celebrity. Like...<br/>\n",
    "![](resources/navratna-oil-ad-promotion.jpg)etc.,... this tye of marketing is called **Viral Marketing**.<br/>\n",
    "![](resources/influence-via-network.png), if could convince them, then all other soon.<br/>\n",
    "![](resources/communities-revisited.png), but the communities at here, remain unaffected as there were not much links. If need to convince the other community too, then find some key people.\n",
    "****\n",
    "A question, do you think, the density of community has any effect on this.<br/>\n",
    "> **Density of community** means, how well the community is connected.<br/>\n",
    "> * Mathematically, its $\\frac {\\text{Actual edges}} {\\text{Total no. of possible edges}}$<br/>\n",
    "> Ex: If had a community with 10 links, then.. ![](resources/example-of-density.png)\n",
    "\n",
    "So, Density of the community has a role in spreading of a info..<br/>\n",
    "![](resources/information-spreading.png)\n",
    "> A story recap...\n",
    "> * 3 sons of a father always fights themselves -- father, want to teach a lesson -- 3 sticks -- break them -- individual try, all breaks -- try together, they couldn't.\n",
    "\n",
    "![](resources/information-spreading-view1.png), if they are not strong enough (about trust in relatinship), then some chance of affecting.<br/>\n",
    "If of having a good relationship, they won't ![](resources/information-spreading-view2.png)\n",
    "________________________________________________-|<br/>\n",
    "Apply the same to the two clusters of the class. If they are good trust, others couldn't break it.\n",
    "****\n",
    "****\n",
    "**Conclusion** (In role of density)\n",
    "> The higher the density, the difficult for an idea to inject, the lower vice-versa."
   ]
  },
  {
   "cell_type": "code",
   "execution_count": null,
   "id": "cbb1a5d8-f2b4-45f5-8608-24ff97f01622",
   "metadata": {},
   "outputs": [],
   "source": []
  },
  {
   "cell_type": "markdown",
   "id": "7ebd78d0-d308-4ed9-afa5-509fb5214d61",
   "metadata": {},
   "source": [
    "## Module-7: **Cascade and Clusters**"
   ]
  },
  {
   "cell_type": "markdown",
   "id": "a5f60207-a516-40dd-a08a-ada1d3e2da8e",
   "metadata": {},
   "source": [
    "The above claim, **Higher the density, difficult it is to infect**, is an intuitive way. Now let's prove it mathematically...<br/>\n",
    "A scenario, to tackle it..Unlike earlier, not just 2 clusters, but more than it. Say like..<![](resources/a-scenario.png) -- even this happens in actual classroom right... <br/>\n",
    "Now, these people would like to have fun...![](resources/2-people-need-fun-.png) (look at yellow circles at left-bottom)<br/>\n",
    "Now, **will this idea spread over the class........?** or a group, despite even all went to fun, they would go to library..![](resources/one-group-exception.png)\n",
    "***\n",
    "So, whenever an idea diffuses, the trajectory of diffusion is called **<mark style=\"font-size:1.5em; color:red\">Cascade</mark>** ![](resources/cascade-in-network.png)\n",
    "***\n",
    "Our question, **Will this be complete spread..??**, for that let's revise some definitions..<br/>\n",
    "**Threshold$(q)$**: _If the fraction of a person's friend going out **exceeds** this threshold, then even he'll go_. <br/>\n",
    "![](resources/threshold.png). If 40%, go to fun and 60% to library, then choice would be -- to library.<br/>\n",
    "Threshold will be for every node.<br/>\n",
    "i.e., **If atleast $q$th fraction of person's friends, adopt a idea/decision, then it impacts them.**\n",
    "***"
   ]
  },
  {
   "cell_type": "markdown",
   "id": "9fa1ae56-c7bc-4062-8ec3-ca6050e926db",
   "metadata": {},
   "source": [
    "**<mark style=\"font-size:1.5em; color:red\">Density of a cluster</mark>** :\n",
    " _Density of cluster is $D$, if you look at every node in the cluster and atleast $D$ fraction of that node is in the same cluster_.<br/>\n",
    "Ex: If said 30% for a cluster, then out of 100%, 30% of their connections should be within.. i.e., if said 10 friends, 3 should be within <br/>\n",
    "![](resources/cluster-density_1.png) for one node, ![](resources/cluster-density_2.png) for next node.... for entire...![](resources/cluster-density_n.png)\n",
    "***\n",
    "Now a claim....in a network, the $q$ (the threshold of adoption) is for every node in network, then cascade cannot complete itself.<br/>\n",
    "Means, cascading starts from a node, and it can't spread to whole.<br/>\n",
    "Complete cascade fails, if there exists a cluster of density greater than $1-q$ ![](resources/a-claim.png)<br/>\n",
    "**How do we prove it..?** consider an example...<br/>\n",
    "![](resources/how-do-we--prove-it.png). **What does cluster-density >60% means**, >60% of their friends are within the cluster.<br/>\n",
    "Now, the idea diffuses..![](resources/how-do-we--prove-it.png), what happens now...??\n",
    "> As it threshold condition is not reached (as it is 60%, and the coming one is of 40%), so he won't convince (stays in library). ... <br/>![](resources/idea-diffusing.png). This happens for every node in that cluster.\n",
    "\n",
    "So, this way the whole cascading fails. \n",
    "******\n",
    "A test, **Given a network, and an info of _Cascading didn't complete_**, then what does it mean...??\n",
    "> Surely, there exits a cluster whose clustrering coefficient is higher -- i.e, there are some nodes which didn't adopt the idea.<br/>\n",
    "\n",
    "So, the above one and now.. state the same thing.. they are bi-implication..<br/>\n",
    "![](resources/a-biconditional-stmt.png)"
   ]
  },
  {
   "cell_type": "markdown",
   "id": "099bf956-6ab4-42c3-acfb-8b841068ceda",
   "metadata": {},
   "source": [
    "asdf"
   ]
  },
  {
   "cell_type": "markdown",
   "id": "e61a7617-583c-45b6-b823-30b318437638",
   "metadata": {},
   "source": []
  },
  {
   "cell_type": "markdown",
   "id": "0f6c4987-74ba-4507-80ec-708412625d60",
   "metadata": {},
   "source": [
    "![](resources/screencast-banner.png)\n",
    "Recap of 4 main scenarios....<br/>\n",
    "1. ![](resources/scenario_1.png) Every one in network has adpoted some idea(the blues -- to library) and ther comes a new idea(red -- to fun).\n",
    "    * As the cascading action, behaviour goes on..But some may find it risky..![](resources/scenario_1.1.png)\n",
    "    * then, ![](resources/scenario_1.2-payoff.png) -- as we increase benefits associated with it, it finally cascades. --------------- in screencast-1\n",
    "\n",
    "2. Choosing the right people.<br/>\n",
    "![](resources/scenario_2.png)-- started with here, couldn't cascade..![](resources/scenario_2-1.png)-- here too.<br/>\n",
    "![](resources/scenario_2-2.png) -- here you could -- as well connected with that node.\n",
    "\n",
    "3. ![](resources/scenario_3.png). An idea spreading in a network(in one of the community)\n",
    "    * It cascades that comunity ![](resources/scenario_3-1.png)\n",
    "    * but difficult to spread to other community.\n",
    "    \n",
    "4. ![](resources/scenario_4.png)\n",
    "    * **Cluster of density $p$:** _If each and every node in the cluster has **atleast** $p$ fraction of friends are in the same cluster_.\n",
    "    * **Threshold associated with new idea $q$:** _If $\\ge$ of a person's friends adopt a new idea, then he too adopts it_ \n",
    "So the theorem says as..\n",
    "> If a cluster of density $>(1-q)$ in the network, then idea can't diffuse in it.\n",
    "\n",
    "![](resources/scenario_4-1.png). Even if the idea cascades the rest, it couldn't to that cluster as its cluster density is >."
   ]
  },
  {
   "cell_type": "markdown",
   "id": "39b0bdce-d337-4649-b333-395ecc38fcc8",
   "metadata": {},
   "source": []
  },
  {
   "cell_type": "markdown",
   "id": "7f0bdfb4-8675-4a00-899f-262cc1263ae7",
   "metadata": {},
   "source": []
  },
  {
   "cell_type": "markdown",
   "id": "0351e5de-3ea4-4cdc-bdcf-a4cded26b307",
   "metadata": {},
   "source": []
  },
  {
   "cell_type": "markdown",
   "id": "d431a228-3dc3-43ce-809d-aa87b3eb1fb6",
   "metadata": {},
   "source": []
  },
  {
   "cell_type": "markdown",
   "id": "13d50df8-0e10-4eae-abfc-5c498d4f75a9",
   "metadata": {},
   "source": []
  },
  {
   "cell_type": "markdown",
   "id": "501d4495-edaf-47a5-a502-5d5a8d0f4b18",
   "metadata": {},
   "source": []
  },
  {
   "cell_type": "markdown",
   "id": "db51f936-8507-4fdd-bec1-1b9c6fcfbbab",
   "metadata": {},
   "source": [
    "\n"
   ]
  },
  {
   "cell_type": "markdown",
   "id": "d4674c8e-fd06-4176-90b6-678c2c21a438",
   "metadata": {},
   "source": []
  },
  {
   "cell_type": "markdown",
   "id": "7b3b6cd2-ee3e-44bf-92c6-a5039e67da46",
   "metadata": {},
   "source": []
  },
  {
   "cell_type": "markdown",
   "id": "75d87630-49a1-49aa-86d4-c3b5ee0f79b6",
   "metadata": {},
   "source": []
  },
  {
   "cell_type": "markdown",
   "id": "836cf2c5-0a31-4e94-99b6-1444b317f840",
   "metadata": {},
   "source": []
  },
  {
   "cell_type": "markdown",
   "id": "21b69b9b-8503-4852-88c2-a6ebb232726a",
   "metadata": {},
   "source": []
  },
  {
   "cell_type": "markdown",
   "id": "c2b9c6e4-6008-40fe-a97a-4b76f0dd618f",
   "metadata": {},
   "source": []
  },
  {
   "cell_type": "markdown",
   "id": "a03552ea-5f42-4889-9c1e-64ac2d37e4e9",
   "metadata": {},
   "source": []
  },
  {
   "cell_type": "markdown",
   "id": "724002db-ac13-42cb-a7a6-9391701e2411",
   "metadata": {},
   "source": []
  },
  {
   "cell_type": "markdown",
   "id": "2d2ec165-f707-486f-a2b6-1e366fbf8e35",
   "metadata": {},
   "source": []
  },
  {
   "cell_type": "markdown",
   "id": "7ee50244-25df-47fb-8346-abc0d302b0b1",
   "metadata": {},
   "source": []
  },
  {
   "cell_type": "markdown",
   "id": "2c588e13-0943-4a4e-aa8c-44f78a83f97b",
   "metadata": {},
   "source": []
  }
 ],
 "metadata": {
  "kernelspec": {
   "display_name": "Python 3",
   "language": "python",
   "name": "python3"
  },
  "language_info": {
   "codemirror_mode": {
    "name": "ipython",
    "version": 3
   },
   "file_extension": ".py",
   "mimetype": "text/x-python",
   "name": "python",
   "nbconvert_exporter": "python",
   "pygments_lexer": "ipython3",
   "version": "3.8.11"
  }
 },
 "nbformat": 4,
 "nbformat_minor": 5
}
