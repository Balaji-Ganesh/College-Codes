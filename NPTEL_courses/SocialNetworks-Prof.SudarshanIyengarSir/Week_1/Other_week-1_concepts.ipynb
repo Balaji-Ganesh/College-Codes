{
 "cells": [
  {
   "cell_type": "markdown",
   "id": "84ee5881-b772-41cc-9a9f-75bdbbaf06d1",
   "metadata": {},
   "source": [
    "# On 21st August, 2021 ~ Saturday_3"
   ]
  },
  {
   "cell_type": "markdown",
   "id": "cfb34975-20d0-4b98-bf19-3cee1448d18b",
   "metadata": {
    "tags": []
   },
   "source": [
    "# From LectureLecture 07 - Social Networks: The Challenge (4 min)"
   ]
  },
  {
   "cell_type": "markdown",
   "id": "01827147-c9f0-4397-9ca4-ddbbcf6a84f8",
   "metadata": {},
   "source": [
    "Let me ask you a **non-trivial** question about social-networks... an seemingly un-related question **What are the total no. of atoms in the universe..??**\n",
    "\n",
    "![](resources/A_Non-Trivial_Question.png)\n",
    "\n",
    "So what..??"
   ]
  },
  {
   "cell_type": "markdown",
   "id": "8cfd3d67-2fb0-469d-973a-c2a9463e2dca",
   "metadata": {},
   "source": [
    "Observe..!!\n",
    "What are the total no. of friendships between 50 people in a class..??\n",
    "\n",
    "![](resources/friendShip_1.png)\n",
    "\n",
    "i.e., \n",
    "\n",
    "![](resources/friendShip_2.png) so, on... and so, forth..\n",
    "\n",
    "**How many total graphs on 50 nodes are possible..??**\n",
    "\n",
    "![](resources/friendShip_3.png)\n",
    "\n",
    "it tells that. \n",
    "> What are all possible graphs that can be take on these (just) 50 people...?\n",
    "![](resources/friendShip_4.png) -- a lot lot more than the no. of atoms in the universe..\n",
    "\n",
    "That's what makes Social networks so complex, that even super-computer can't handle it easily....\n",
    "Despite this much complexity, we tend to observe the nice properties in it.\n",
    "![](resources/nice_properties_friendship.png)\n",
    "\n",
    "Let's see some of interesting cases.."
   ]
  },
  {
   "cell_type": "markdown",
   "id": "567df7c2-63d8-423a-a6c5-86ae2622f312",
   "metadata": {
    "jp-MarkdownHeadingCollapsed": true,
    "tags": []
   },
   "source": [
    "### 1. Google Page Rank"
   ]
  },
  {
   "cell_type": "markdown",
   "id": "4c310761-1112-42ca-9860-5df179d9ea2d",
   "metadata": {},
   "source": [
    "Say, given a network of friends, who is the most important person in those..??\n",
    "\n",
    "![](resources/page-rank_1.png)\n",
    "\n",
    "> Is it the **no. of links that one has** or any thing..?\n",
    "\n",
    "This is the question that yielded 450 Billion Industry..\n",
    "\n",
    "![](resources/page_rank_2.png)\n",
    "\n",
    "It might seem very obvious, but it took a team of two people to bring this to the lime-light..\n",
    "\n",
    "![](resources/page_rank_3.png) and used this seemingly simple concept to solve one of the most-important problems in computer science -- **How do you rank nodes in a network...?**\n",
    "\n"
   ]
  },
  {
   "cell_type": "markdown",
   "id": "185cffc6-fef4-4ad8-b69d-9efa270cf5dd",
   "metadata": {
    "jp-MarkdownHeadingCollapsed": true,
    "tags": []
   },
   "source": [
    "### 2. Searching in a Network"
   ]
  },
  {
   "cell_type": "markdown",
   "id": "0d852216-f702-4457-b60b-7bb55c22b3f1",
   "metadata": {},
   "source": [
    "Given a 1 Billion nodes, how do you search for a node?\n",
    "![](resources/SearchingInNetwork.png)\n",
    "\n",
    "There can be no. of networks with even 15nodes, then how do we go here..???\n",
    "> Such complicated questions, very interstingly, they have simple and straight forward answer..\n",
    "![](resources/SearchingInNetwork_2.png) ot be precise, its log^2.. \n",
    "\n",
    "**Brush up, what do you know about logarithm..**\n",
    "> Logarithm of any number, is simply counting the no. of digits in it..\n",
    "say for a big number.. it just takes be 10 or 20 +.. ... transactions..\n",
    "\n",
    "**Why..?? How..??**\n",
    "> We exploit a property in such networks.. called the **Small world Phenomenon**\n",
    "![](resources/SearchingInNetwork_4.png)\n",
    "Its simple, but very beautiful and very elegant.. and a starkling part is that, it gives answer in a charm.."
   ]
  },
  {
   "cell_type": "markdown",
   "id": "c38ded0a-adcc-4729-afa1-3ddbba78d7cc",
   "metadata": {
    "jp-MarkdownHeadingCollapsed": true,
    "tags": []
   },
   "source": [
    "### 3. Link Prediction"
   ]
  },
  {
   "cell_type": "markdown",
   "id": "76c69351-4314-46eb-ae1e-d006ec1270c1",
   "metadata": {},
   "source": [
    "Predicting the future by seeing their hand is very debatable.. but prediciton in network is accurate..\n",
    "![](resources/LinkPrediction1.png)\n",
    "\n",
    "i.e., Looking at ones friendship network, and telling, **who can be your next friend..**\n",
    "\n",
    "![](resources/LinkPrediction2.png)\n",
    "\n",
    "Sounds like the familiar thing... **He could be your prospectus friend..** (friend's friend..) -- friendship suggestion in facebook..\n",
    "\n",
    "![](resources/LinkPrediction3.png)\n",
    "\n",
    "The don't show a random person, who had a most connections with you.. .. there is a sophisticated algorithm behind it.. -- we'll be looking at in the *Link Prediction* chapter.."
   ]
  },
  {
   "cell_type": "markdown",
   "id": "157be3a5-5396-4124-abc9-0bd1d76ca8e4",
   "metadata": {
    "jp-MarkdownHeadingCollapsed": true,
    "tags": []
   },
   "source": [
    "### 4. Contagions"
   ]
  },
  {
   "cell_type": "markdown",
   "id": "23cc7d69-9ecf-4a5b-81ad-ebdd0c8fe12a",
   "metadata": {},
   "source": [
    "Next, we'll be seeing the *most-humanly questions..* i.e.,\n",
    "\n",
    "![](resources/Contagions_1.png) with elegant Computer science and Mathematics..\n",
    "\n",
    "What are those..?\n",
    "\n",
    "**Is Obesity contagious?**\n",
    ">[](resources/Contagions_2.png)\n",
    " * If you are friend of obes, you run into danger of becoming obes..\n",
    "\n",
    "**Is happniness contagious?**\n",
    "> ![](resources/Contagions_3.png)\n",
    "  * If you are surrounded by happy people, you too become happy.\n",
    "\n",
    "i.e., If your friend's friend is happy, you will be happy. --- Sounds like a cooked-up story.. NO, its a very well established scientific fact.\n"
   ]
  },
  {
   "cell_type": "markdown",
   "id": "08084a04-a943-40fd-957d-519920759d18",
   "metadata": {},
   "source": [
    "### 5. Importance of Acquaintances"
   ]
  },
  {
   "cell_type": "markdown",
   "id": "29bf7097-9b1f-4403-b0fa-153e39b4cd65",
   "metadata": {},
   "source": [
    "Looking for a good job..\n",
    "\n",
    "* How to get a good job..?\n",
    "* What kind of friends should one make to get a good job?\n",
    "\n",
    "![](resources/Acquaintances_1.png)\n",
    "\n",
    "This comes under the topic of **Strength of Weak ties**.\n",
    "\n",
    "![](resources/Acquaintances_2.png)\n",
    "> Acquaintances: Friends who are not very close are called ..like not close friends, but ya..!! they are friends.\n",
    "\n",
    "Those kind of people are important for getting dream job..\n",
    "\n",
    "And even, your prospective's spouse is also a recommendation given by a far-away person.. An acquaintance who is not a close friend."
   ]
  }
 ],
 "metadata": {
  "kernelspec": {
   "display_name": "Python 3",
   "language": "python",
   "name": "python3"
  },
  "language_info": {
   "codemirror_mode": {
    "name": "ipython",
    "version": 3
   },
   "file_extension": ".py",
   "mimetype": "text/x-python",
   "name": "python",
   "nbconvert_exporter": "python",
   "pygments_lexer": "ipython3",
   "version": "3.8.11"
  }
 },
 "nbformat": 4,
 "nbformat_minor": 5
}
