{
 "cells": [
  {
   "cell_type": "markdown",
   "id": "4949d9d7-81df-4376-9cb6-b3affab01e23",
   "metadata": {},
   "source": [
    "Consider a case of... **You've went to a local book-store....**<br/>\n",
    "<img src=\"resources/bookstore.png\" width=200px>\n",
    "<img src=\"resources/bookshelf.png\" width=200px>\n",
    "<img src=\"resources/bookshelf_1.png\" width=200px>\n",
    "* Obviously, you'll see the most popular books along with the less popular books. And another P2N here is... _The proportion of non-popular books will be more than the popular books_. Correct right..??, you would have seen it probably. -- Yes.\n",
    "* Now think of.. **If you were in the position of the owner of the book-store**..and try answering this question..\n",
    "    * **For what reason, you kept the less-popular books, when the most-popular books gives you the more sales than the less-popular books?**, you can simply discard those right..?? But **Why** the popular or whatever books-store will have those..??<br/>\n",
    "    ![](resources/long-tail_intro.png)"
   ]
  },
  {
   "cell_type": "markdown",
   "id": "1b1e1c08-bb31-4bc4-a7cf-33a38ac17257",
   "metadata": {},
   "source": [
    "The question has to be posed in a different manner..<br/>\n",
    "* **Plot a graph**: On **_X-axis_** take the -- from _Most-popular_ way to the _Least popular_ on all books and over Y-axis, the _Sales_ it made to store-keeper.\n",
    "> It resembles the **Power Law** right..!!._(Please look the below figure)_\n",
    "\n",
    "* Take some (Say-10) popular books and find the total sales (White hatch).\n",
    "* and rest of the less-popular books.<br/>\n",
    "\n",
    "Now question .. **What % of sales do each make..??**<br/>\n",
    "![](resources/example-bookstore-power-law-plot.png)<br/>\n",
    "****\n",
    "This answers the question:\n",
    "> See the proportion..***Which books % of sales is more?***, its clearly the _Less-popular ones_. Hence, to have the sales, they even need to have the less-popular ones too.\n",
    "\n",
    "Another view...<br/>\n",
    "Do you think...**A best-seller book now, will ever be the best one..???** -- slight thougt says.. \n",
    "> **No**. It means, book in 20%, will some day lands in 80% _(it can also be like 30-70, 50-50,..)_---- as nothing worldly stays ever constant right..\n",
    "****\n",
    "<img src=\"resources/YTLogo_old_new_animation.0.gif\" width=20%>\n",
    "\n",
    "Even **Youtube** is the same way right.. It won't just have the **Most viewed videos**, but also the less-viewed ones too. And it doesn't say like, all the less-viewed ones to be removed.. right..!!"
   ]
  },
  {
   "cell_type": "markdown",
   "id": "e6abec2d-a97b-4cb8-b6d7-84035b252a29",
   "metadata": {},
   "source": [
    "The same case with the **English Language**...<br/>\n",
    "![](resources/english-language-zipf's-law.png)."
   ]
  },
  {
   "cell_type": "markdown",
   "id": "834de7b9-4aa2-4c8d-ad35-dec6a08caa32",
   "metadata": {},
   "source": [
    "<img src=\"resources/target.png\" width=10%> Focus the **........LLLLLL OOOOO NNN GG TAIL**"
   ]
  },
  {
   "cell_type": "markdown",
   "id": "1a2d1130-7df6-4f82-a25b-f3337f5c737c",
   "metadata": {},
   "source": [
    "**LONG-tail** concept: Popular products are less in number, less products are more in number. "
   ]
  },
  {
   "cell_type": "markdown",
   "id": "a18fad26-1b1d-4cfd-a65a-9bdbe0086ae9",
   "metadata": {},
   "source": [
    "****\n",
    "****"
   ]
  },
  {
   "cell_type": "markdown",
   "id": "3cb351c9-bde8-4db0-b4de-91b2517e9f5c",
   "metadata": {
    "jp-MarkdownHeadingCollapsed": true,
    "tags": []
   },
   "source": [
    "## Module-3: **Epidemics - An Introduction**"
   ]
  },
  {
   "cell_type": "markdown",
   "id": "88b7df3c-b644-4493-b939-fa4a4ef5bff3",
   "metadata": {},
   "source": [
    "Recollect....<br/>\n",
    "<mark style=\"font-size: 2em\">Cascading behavior in networks</mark> -- where we seen, How <b>Ideas, actions, behaviors spread on a network</b>, with some examples like..\n",
    "* Shoes advertisement\n",
    "* Smoking friends\n",
    "* Obesity contagiousnes. \n",
    "* iPad...<br/>\n",
    "![](resources/social-contagion_week_7_recap.png)\n",
    "<i><p style=\"text-align:right\">-------------------------All these are **Social contagions**<br/>\n",
    "    That's what we done in the Week-7</p></i>\n",
    "****\n",
    "Now.... gonna look only at the **Contagion** in social contagion -- i.e., about the contagious diseases.<br/>\n",
    "![](resources/contagious_diseases.png)<br/>\n",
    "Why need to study about them..????????????????????????\n",
    "![](resources/people-wearing-mask.png)\n",
    "> Helps in fighting epidemics. (like the recent **CoViD-19 pandemic**)\n",
    "****"
   ]
  },
  {
   "cell_type": "markdown",
   "id": "7512a101-5369-4939-a791-6a22b0110fc5",
   "metadata": {},
   "source": [
    "So, we are going to study about the **Spreading of contagious diseases**....<br/>\n",
    "\n",
    "<img src=\"resources/question-mark.png\" width=18%>  .. Are we...?? YES![](resources/fields-discussion.png)\n",
    "**Why..??** because its happens in the (loosely-speaking..) tree-fashion....<br/>\n",
    "![](resources/tree-structure.png). But is it as like the spread- of idea .. NO.. **WHY.............??**<br/>\n",
    "1. ![](resources/choice-comparisons_1.png) -- If its a bad song recommendation, you can ignore. For virus, you can't if it harms(say, you could have identified it) ---------------------------------i.e., <mark>No proper control over the spread of disease.</mark>\n",
    "2. ![](resources/choice-comparisons_2.png) -- in case of idea. can know, from whom it came, but for this **How** can one tell.??\n",
    "****\n",
    "Hence, we need some different kind of model for it.. as its the **Random Process**.<br/>\n",
    "<p style=\"text-align:center\">-------------------------Come let's explore it further..-----------------</p>"
   ]
  },
  {
   "cell_type": "markdown",
   "id": "253251d6-428c-4c48-b0d4-2eeb5155d7c7",
   "metadata": {
    "jp-MarkdownHeadingCollapsed": true,
    "tags": []
   },
   "source": [
    "## Module-4: **Introduction to epidemics (contd..)**"
   ]
  },
  {
   "cell_type": "markdown",
   "id": "abb46156-6ea1-47a7-a828-8b5fd01715da",
   "metadata": {},
   "source": [
    "<img src=\"resources/presentation.png\" width=18%>Assume the scenario.. You were in the class, some one had the flu. He sneezed or coughed, and it starts spreading.., **how will you model this..??**<br/>\n",
    "Some ideas...\n",
    "1. Know what is spreading..?? i.e., the type of Pathogens.  -- to be specific--> **Degree of contagiousness**: How quickly or slowly it spreads..\n",
    "2. Network structure\n",
    "    * **If network is sparse**: Takes time to spread.\n",
    "    * **If denser**: Quicker.<br/>\n",
    "    \n",
    "![](resources/ways-of-modelling.png): Contact network:- Red for HIV (which spreads slowly) -- so sparse, Blue for flu (which spreads faster) -- denser"
   ]
  },
  {
   "cell_type": "markdown",
   "id": "3128006a-3d3a-44a2-b5bc-737d0c466471",
   "metadata": {
    "jp-MarkdownHeadingCollapsed": true,
    "tags": []
   },
   "source": [
    "## Module-5: **Simple Branching Process for Modeling Epidemics**"
   ]
  },
  {
   "cell_type": "markdown",
   "id": "e54df639-47f9-4616-9253-df5d2c076c60",
   "metadata": {},
   "source": [
    "Now, we are ready to jump-in to the modelling -- _(for the starting steps -- a simple one)_<br/>\n",
    "![](resources/simple-model.png) \n",
    "* Consider a person (root-node), and he as 4 friends -- and they in-turn have the 4 friends --- ofcourse, in a real-network there will be even triads (for simple model, let's go for this.).\n",
    "* (Say), now the root-person is affected, and (say) the chances of spreading to his friends(descendant nodes) is of probability $0.5$.\n",
    "\n",
    "Taking the top-part...... **What does it mean by spreading from one person to another with 0.5 probablity...??** <br/>\n",
    "![](resources/top-part.png) Consider a toss of fair coin. If $H$: Infected _(Red-circle)_, $T$: _(White-circle)_.<br/>\n",
    "But what's on an average..?? i.e., the **\"\"expected value\"\"**.<br/>\n",
    "Mathematically..............<br/>\n",
    "* Consider all of them are independent events.\n",
    "* They are mapped to a random variable _(to be precise, its **Indicator random-variable** -  the variable which holds either 0 or 1)_. Here $\\\\H->1, \\\\ T->0$\n",
    "![](resources/maths-part.png) -- !!!! Don't link the numbers on network and the written-solution.<br/>\n",
    "* **Intuitive-way**: If a coin is tossed 4 times, what is the probability of getting heads..?? $50\\%$ chance, so $50\\% \\text{of } 4 = 2$\n",
    "***"
   ]
  },
  {
   "cell_type": "markdown",
   "id": "f326bd0c-2e00-4857-8e48-3294f7306635",
   "metadata": {},
   "source": [
    "Now,.... lets do some variation.. this time with the probability of $0.25$. But, how do we do this..<br/>\n",
    "> via a Biased coin -- which gives $H$, with 0.25 probability of getting Head, and $0.75$ of getting Tail. _A fair coin is the one which has equal chance of getting both the sides._\n",
    "\n",
    "Doing so, in the above manner.. yields..<br/>\n",
    "![](resources/0.25-probability-of-spread.png) **Understand as...**: If the root gets affected, **any ONE** of the child may get affected."
   ]
  },
  {
   "cell_type": "markdown",
   "id": "bec73595-4d26-42f1-b80d-3eb2545ca259",
   "metadata": {},
   "source": [
    "**Generalized version**<br/>\n",
    "![](resources/generalized-version.png)"
   ]
  },
  {
   "cell_type": "markdown",
   "id": "b47505a6-8496-4566-8b53-841941150c22",
   "metadata": {
    "jp-MarkdownHeadingCollapsed": true,
    "tags": []
   },
   "source": [
    "## Module-6: **Simple Branching Process for Modeling Epidemics (contd..)**"
   ]
  },
  {
   "cell_type": "markdown",
   "id": "4703145a-b516-4e76-8070-8119a9e33335",
   "metadata": {},
   "source": [
    "Now look at hihger levels<br/>\n",
    "i.e., Earlier looked that, via one person, how it spreads to its child nodes. Now, will be looking at further levels..\n",
    "![](resources/looking-at-many-levels.png) -- Tells, as how level increases, the no. of people increases.<br/>\n",
    "Now, lets look at the spread via probability $p$.<br/>\n",
    "![](resources/looking-at-probabilities.png) ---------Its called as <mark style=\"font-size:2em\">Branching Model</mark>\n",
    "****\n",
    "Now, recollect, why are we doing this..?? \n",
    "> To know the measure of spread of a disease .........................right..??\n",
    "\n",
    "So, is it possible to tell **Whether a disease is an _Epidemic_ or not..??** _(Given the fact that,, $p$ and $k$ are given.)_<br/>\n",
    "![](resources/is-it-epidemic.png)\n",
    "> YES _(coming up in the next lecture..)_\n",
    "\n",
    "an intuitive way... if the number becomes very large (When went to deeper levels).. coonotates that..\n",
    "> Its epidemic.<br/>\n",
    "> **How...??**: If the diseases would have dead at the top or middle levels, it wouldn't have spread till the end right. If it came till the end means, it became epidemic right..??\n",
    "**************\n",
    "***"
   ]
  },
  {
   "cell_type": "markdown",
   "id": "ac403fb0-f888-4751-a735-5631464f74ad",
   "metadata": {
    "tags": []
   },
   "source": [
    "## Module-7: **Basic Reproductive Number**"
   ]
  },
  {
   "cell_type": "markdown",
   "id": "1897cb1a-1697-4211-95cb-fa299eb6a678",
   "metadata": {},
   "source": [
    "Previously we've seen what $p \\cdot k$ tells... It tells, the spread in $k^\\text{th}$ level. <br/>\n",
    "Say, the spread starts from the root node, and from it, with what rate it spreads to the next level... -- so on to the  $k^\\text{th}$ level.<br/>\n",
    "![](resources/reproductive-number.png) -- Its called the <mark style=\"font-size:2em\">Reproductive Number $R_0$</mark><br/>\n",
    "Let's unravel the facts revealed by this number... ----- ***Tells about the chances of becoming Epidemic or not***<br/>\n",
    "\n",
    "Case: **$R_0 < 1$**: <br/>\n",
    "![](resources/case-r-lesser_than-1.png) ----------------------this contagion is not going to become an epidemic. Why? as it couldn't survive for the longer levels, its strength weakened in the initial levels itself.\n",
    "\n",
    "<i><p style=\"text-align:right\">-------------------------Here it (won't even) survive, and for sure($P=1$) -- it dies.</p></i>\n",
    "\n",
    "Case: **$R_0 > 1$**: <br/>\n",
    "![](resources/case-r-greater_than-1.png)\n",
    "Here it survives with high probability---ie., **BECOMES the EPIDEMIC**, but still there are **(VERY.. VERY)chances** of becoming weak and ultimately to death.\n",
    "\n",
    "<i><p style=\"text-align:right\">--------<mark style=\"font-size: 1.4em\">Notice.... that</mark> its not of sure($P=1$) becoming Epidemic (its a bit less -- which gives scope of death to the contagions) -- it dies.</p></i>\n",
    "![](resources/to-sum-up.png)\n",
    "****\n",
    "If $<1$ .. it dies<br/>\n",
    "&nbsp;&nbsp;&nbsp;&nbsp;&nbsp; $>1$, it spreads virally.<br/>\n",
    "**What's the $1$ doing by sitting there..?**\n",
    "> Its very important.\n",
    "> * Its like the edge of a sharp-knife. i.e. _value of $R_0$ slightly >1, chances of becoming viral... and slightly $<1$ -- what..?? chances of decreasing right..??. Yes that's it_.  ----------- \n",
    "> * Even happen from other side too... i.e., when the value is slightly $<1$, and when it becomes $>1$, chances of it growing goes on.\n",
    "\n",
    "**How it helps us..??**\n",
    "> We can try getting the value $<1$, by either controlling $p$ or $k$.... because, they both are in product. Hence, by reducing any one of it, the ultimate value reduces.\n",
    "> * $p$ (The degree of contagious) -- informing people to, have a good healthy diet, doing proper exercise.........\n",
    "> * $k$ (the no. of people in spreading) ---- Placing the Lockdowns to the localities, and quanrantining, isolating the people who were attacked with the contagious disease.\n",
    "![](resources/knife-edge_property.png) -- its called the <mark style=\"font-size: 1.4em\">Knife-edge property</mark>\n",
    "<p style=\"text-align:right\">--------<img src=\"resources/covid-19.png\" width=40%> <br/>is the good and experienced example to link</p>\n",
    "\n",
    "****\n",
    "****"
   ]
  },
  {
   "cell_type": "markdown",
   "id": "7ddccf4c-5305-4ed9-89d0-5c7c4742106d",
   "metadata": {
    "tags": []
   },
   "source": [
    "## Module-8: **Modeling epidemics on complex networks**"
   ]
  },
  {
   "cell_type": "markdown",
   "id": "c27e9c8c-7fd0-4431-be50-ff8781b96b02",
   "metadata": {},
   "source": [
    "**What's going to be in this chapter..?**<br/>\n",
    "![](resources/simple-networks.png) -- Till now seen about the basic networks, which were not going to work actually in this world as the network is complex here..!!<br/>\n",
    "So, that's what we are going to look in this chapter..!! Modelling epidemics on complex networks.\n",
    "****\n",
    "How are we going to convert to a complex network..?? making it graph from tree.<br/>\n",
    "![](resources/network-snapshot.png) Let's simulate the spreading on this..     ![](resources/spreading-on-network-simulation.png)<br/>\n",
    "* (Say) it started with A, (can spread via its edges -- INDEPENDENTLY with SAME PROBABILITY).\n",
    "* Once, A has done, its role completed. \n",
    "\n",
    "    * **How its role completes..??**\n",
    "    > Once it got disease, throught his/her contact it spread to B and C (say), and now A will have the chances of recovery. _(Have the picture of **Spread of CoVid-19**)_, once a person is affected, by his travel/contacts.. it spreads to some people, but he/she will also recover right.. So, after their recovery, their task of spreading role is more likely of completed right..!! -- Yes!!, think for a while to get a idea.\n",
    "    \n",
    "Further this is even more elaborated. Wait for a while to get a complete picture."
   ]
  },
  {
   "cell_type": "markdown",
   "id": "427d8dbe-2ff5-4db4-9c09-a9ea93e73cd3",
   "metadata": {},
   "source": [
    "Now going to discuss a brand new model, which not just works for the tree networks, but for any networks.<br/>\n",
    "<b><mark style=\"font-size:2.1em\">SIR MODEL</mark></b> --as it talks about 3 cycles."
   ]
  },
  {
   "cell_type": "markdown",
   "id": "f8904bf1-b215-4958-bbe3-7e185e357e82",
   "metadata": {},
   "source": [
    "* **Susceptible**: happily living, not infected from disease.\n",
    "* **Infected**: Got contacted with some person having disease.\n",
    "* **Recovered**: The one who built-up the immunity against the disease, will get recovered.\n",
    "* **Removed**: -- The terminal illness. ie., infected person has faced death.\n",
    "\n",
    "![](resources/SIR-model.png) -- what the $T_I$  tells..?? (its noted a bit below... please look down)\n",
    "\n",
    "Its used for two types of diseases...\n",
    "1. For **Terminal diseases**, the one who affected, ultimately lands in hands of death god. --------- removed from the network\n",
    "2. For **Recoverable Diseases**, those, when a person gets affected, their body develops the life-time immunity. Ex: **Measles.**.\n",
    "\n",
    "**NOTE**: One can't be in >= two states at any instant - only in one phase at a time.\n",
    "****\n",
    "***What $T_I$ tells..??**\n",
    "> The time period which one remains infected. Like, 3-days, 4-days...\n",
    "> During this time, he is going to spread it to others. If 3-days, you will affect some other people in that span.\n",
    "\n",
    "Coming up....<br/>\n",
    "* Implementing this on the complex network."
   ]
  },
  {
   "cell_type": "markdown",
   "id": "1b22e83e-8b4c-42bf-9084-e50f9ae54db2",
   "metadata": {},
   "source": [
    "## Module-8: **SIR and SIS spreading model**"
   ]
  },
  {
   "cell_type": "markdown",
   "id": "e71c583f-49bf-41b0-8ab1-5164fd18e4f5",
   "metadata": {},
   "source": [
    "Spreading of measles in  no of iterations and no .of days on a network.<br/> (for our example, probability is taken equally over all the edges)<br/>\n",
    "![](resources/snapshot-at-t_0.png) -- For sake of example, consider the duration of disease being int the person is 1day (but measles stays for even longer days than that) -- and note that after the $T_I$, the immunity will be developed(For measles, its life-time).<br/>\n",
    "Let's see the spread of the disease day-by-day..<br/>\n",
    "\n",
    "**NOTE**: BLUE-circles: Susceptible, RED-INFECTED, YELLOW-Recovered/Removed.<br/>\n",
    "At day_0 (beginning)..![](resources/snapshot-at-day_0_1.png) It spreads through some(like earlier, taken as 0.5) probability -- Nodes are selected **RANDOMLY**.<br/>\n",
    "\n",
    "\n",
    "At day-1(beginning): ![](resources/snapshot-at-day_1-1.png): Hold on..!! By end of day_1,![](resources/snapshot-at-day_1.png)**node-1** gets recovered...!!, so circled with yellow. \n",
    "\n",
    "At day-2: beginning..![](resources/snapshot-at-day_2-1.png). By end of day-2, ![](resources/snapshot-at-day_2-2.png)3 and 5 does its work (3 couldn't able to affect, but 5 could, to 4 ). As by end o f day-2, nodes 3 and 5 complete their $T_I$, so circled with Yellow.<br/>\n",
    "\n",
    "At day-3: Beginning -- ![](resources/snapshot-at-day_3-1.png), at end of day-3 ![](resources/snapshot-at-day_3-2.png)"
   ]
  },
  {
   "cell_type": "raw",
   "id": "23984eb8-1da4-460c-b783-ef93fd42df71",
   "metadata": {},
   "source": []
  },
  {
   "cell_type": "markdown",
   "id": "8966646f-8752-4d28-bea7-d34cfb3ba089",
   "metadata": {},
   "source": []
  },
  {
   "cell_type": "markdown",
   "id": "206a9a1a-3e82-4f5e-a61b-05e8df4fba2e",
   "metadata": {
    "tags": []
   },
   "source": [
    "## Module-9: **Comparison between SIR and SIS spreading models**"
   ]
  },
  {
   "cell_type": "markdown",
   "id": "27650373-2c3c-4520-98c9-d56f4cceb39d",
   "metadata": {},
   "source": [
    "Till now, we've seen two models (SIR and SIS)... right..??<br/>\n",
    "Have you noticed that...\n",
    "> Initially, the network was with one color (blue -- susceptible), then later one or more gets infected(then changed to red), then after their recovery/removal, turned to yellow.\n",
    "\n",
    "**A question....Will this color changing stops??**\n",
    "> * For deadly diseases, there is no chance of getting affected again. (like measles) -- changing stops. (may the network gets vanished, after sometime),\n",
    "> * But , what about diseases that will occur again even after the recovery.. it goes on right..!!\n",
    "![](resources/Will-the-color-changing-stops.png)\n",
    "\n",
    "Let's look at individually..!!<br/>\n",
    "![](resources/contrasting-SIR-model.png) The locked refers to the \"\"**Recoverable**\"\" or \"\"**Removed**\"\". Meant as.. after they attain the life-time immunity or the node was removed, its not going to be affected. So, the state of it doesn't change -- the LOCKed connotates that.<br/>\n",
    "The end configurations of the SIR model..<br/>\n",
    "![](resources/SIR-end-configurations.png). (Starts all the nodes with susceptible and one got infected)\n",
    "* Some may remain susceptible and some got recovered or removed.........or...\n",
    "* All would have got recovered.\n",
    "So, this tells that, it won't run for infinite time, it stops some time.\n",
    "****\n",
    "A look at SIS..<br/>\n",
    "![](resources/a-look-at-SIS.png)(Starts all the nodes with susceptible and one got infected)\n",
    "* Chance that, the node which got turned from susceptible to infected, may again come to susceptible, again to infected. -------------- this cycle may go on indefinately.\n",
    "* But, if all the nodes became susceptible, then it would surely stop.\n",
    "****\n",
    "So, in conclusion..<br/>\n",
    "![](resources/conclusion-of-comparison.png)\n",
    "*****"
   ]
  },
  {
   "cell_type": "markdown",
   "id": "bac228fc-37d7-481d-b8f9-0b8b2bb32971",
   "metadata": {},
   "source": []
  },
  {
   "cell_type": "markdown",
   "id": "c6a015f2-98ad-4a3b-b589-a5f3388de2b0",
   "metadata": {
    "tags": []
   },
   "source": [
    "## Module-10: **Basic Reproductive Number Revisited for Complex Networks**"
   ]
  },
  {
   "cell_type": "markdown",
   "id": "ad3b3bf5-cd11-4f9d-9a25-aa980e069964",
   "metadata": {},
   "source": [
    "A short recap of the content till now, and a question..<br/>\n",
    "![](resources/recap-and-a-question.png)<br/>\n",
    "**Question**: The concept of reproductive number worked fro Branching model,... Now will it work even for the SIS and SIR model..??\n",
    "> No <br/>\n",
    "How..??<br/>\n",
    "Let's go with an example..<br/>\n",
    "![](resources/basic-network-.png).. \n",
    "* The first two are infected..\n",
    "* Each subsequent nodes are connected by two parents.\n",
    "\n",
    "Now, interested in looking at...\n",
    "> None of the people at level-2 are infected.<br/>\n",
    "![](resources/level-2-infected-probability_1.png) -- If any one of the 4 links work, either of the two get infected.<br/>\n",
    "* So, when will none of them are infected...?? \n",
    "> Obvious answer would be like... when none worked out..![](resources/level-2-infected-probability_2.png)<br/>\n",
    "\n",
    "* Probability of infection spread across an edge $2/3$.\n",
    "* **Hence**, probability of not transmission is simply $1 - \\text{Pr(not transmit, )} 1-2/3 = 1/3$\n",
    "***\n",
    "Now, looking it for further levels (Recollect the Multiplication rule... from Disc Math).... -- as needed, will this survive in the network. So seeing in all successive levels.<br/>\n",
    "![](resources/infected-probability-over-levels.png) -- So the that's happening here counter-intuitively is..\n",
    "> Even though $R_0 > 1$, the disease ends with with the surity of $P = 1$.\n",
    "****\n",
    "A final comment by **Yayati Gupta** -- _(May be, she is the madam behind the screen)_<br/>\n",
    "> Yayati Gupta\n",
    "```\n",
    "Probability of the disease dying at layer n\n",
    "= 1 - Pr[Disease reaches layer n]\n",
    "= 1 - Pr[Disease reaches from layer 1 to layer 2] * Pr[Disease reaches from layer 2 to layer 3] .... * Pr[Disease reaches from layer n-1 to layer n]\n",
    "= 1- (80/81)^n\n",
    "As n tends to infinity, the second term of the above expression tends to be 0\n",
    "Hence, Pr[Disease dies away at level n when n tends to infinity] = 1 \n",
    "```\n",
    "****\n",
    "If a question like..<br/>\n",
    "![](resources/a-question-of-probability.png) <br/>\n",
    "src: from the comment section of the [lecture video](https://youtu.be/E9NDifVfKgM)"
   ]
  },
  {
   "cell_type": "markdown",
   "id": "5e519138-0468-421a-a64b-bf43159b5797",
   "metadata": {},
   "source": [
    "## Module-11: **Percolation model**\n",
    "\n",
    "*---------Its not a new model, instead its a **new angle to view the existing models***<br/>\n",
    "(At end.... look that, explained vie pipes-flow... meaning that,  Water is percolating in the network over pipes of edges)"
   ]
  },
  {
   "cell_type": "markdown",
   "id": "003949f9-a450-456d-821b-90aba466653d",
   "metadata": {
    "tags": []
   },
   "source": [
    "Meaning of percolation\n",
    "-----------------------------------------------------------------------------\n",
    "In physics, chemistry and materials science, percolation refers to the movement and filtering of fluids through porous materials. It is described by Darcy's law. \n",
    "\n",
    "---- as per Wikipedia"
   ]
  },
  {
   "cell_type": "markdown",
   "id": "063c8d12-24a9-4395-955e-55575591eafd",
   "metadata": {},
   "source": [
    "### **What's that different angle of looking...??**<br/>\n",
    "Consider a network on which we simluate the SIR model, with $T_I = 1$ _(i.e., Infection stays for 1 day, after it, they gain the life-time immunity)_<br/>\n",
    "![](resources/percolation-model-SIR-model-simulation.png) Say, intially ($t_0$), the top-node is the infected one.<br/>\n",
    "* See that, it is connected with 4 other childs, the probability of infection spread is ... $p$.\n",
    "* For choosing the node is either infected or not, using a toss -- \n",
    "    * if $H$, we consider as infection transmitted and the person becomes red-color _(meant as INFECTED)_\n",
    "    * if $T$, considred as not transmitted, and they stay susceptible _(as the previous color in which they are)_.\n",
    "   \n",
    "![](resources/percolation-model-SIR-model-simulation_1.png). After transmission, it gets recovered(so, it won't spread further), as its one-day time.<br/>\n",
    "![](resources/percolation-model-SIR-model-simulation_2.png). Now at $t_2$. via the middle one or right one (but not from the top, as it recovered). Next they get recover.<br/>\n",
    "![](resources/percolation-model-SIR-model-simulation_3.png). -- In next iteration.--> ![](resources/percolation-model-SIR-model-simulation_4.png)<br/>\n",
    "****\n",
    "Now focus..!! on how we did this....<br/>\n",
    "> Via time-stamps.\n",
    "> i.e., At $t_0$, this node was infected, and at $t_0$, these nodes ... so on....\n",
    "> * It's like the dynamic process (i.e.,, Which one will get infected next, is purely time-based _**[like in programming terms, decision at run-time]**_)<br/>"
   ]
  },
  {
   "cell_type": "markdown",
   "id": "f7209cc1-241e-4181-885e-286a8d03825c",
   "metadata": {},
   "source": [
    "Now, percolation model asks this question.... **Could you remove the notion of time and make it static...???**<br/>\n",
    "Say, in the initial network, we are interested in knowing, whether the person at bottom _(where arrow is shown in image)_, **Will get infected or not..??**.<br/>\n",
    "![](resources/question-of-percolation-model.png)\n",
    "> For that, we ran the simulation of the SIR model, and came to know that in $t_2$, it got infected in terms of time..\n",
    "\n",
    "A noble way is... can we make it static..<br/>\n",
    "![](resources/percolation-model-style-of-solving_1.png) -- For each edge, coin is tossed, and written at its right ---- **!!!! At beginning itself**, whereas for SIR, **we've done it on the go _(i.e., time-based)_ at each node**\n",
    "\n",
    "Now... <br/>\n",
    "Now.. Imagine<img src=\"resources/imagine.png\" width=20%> the edges as the pipe flows..  ![](resources/percolation-model-style-of-solving_2-pipes-view.png)\n",
    "$H$ for connection-open (as green color). and $T$ for connection-close (red-colored).<br/>\n",
    "Now, our recollect the question... (look at the hand arrow in figure) ![](resources/our-question-percolation-model.png)<br/>\n",
    "At the end of the process, will this node will get infected or not..??\n",
    "\n",
    "> From the figure can say as, as there is a open-connection (green-colored ones) pipes, Yes, it gets infected.\n",
    "\n",
    "If we see the righ-most, where only the red-pipes are connected, -- is not the one who goes under infection.\n",
    "*****\n",
    "Extend this for any pair of nodes. If open-path exists, its YES, else NO.\n",
    "****\n",
    "this type of view, is important in theoretical analysis of such process. "
   ]
  },
  {
   "cell_type": "markdown",
   "id": "be018123-6649-460a-9665-c8d7ea259082",
   "metadata": {},
   "source": []
  },
  {
   "cell_type": "markdown",
   "id": "ada50876-5edd-4ff4-be2b-90f0476525e2",
   "metadata": {},
   "source": [
    "Hosting (free)\n",
    "* Netlify (for frontend)\n",
    "* Heroku (for backend APIs)-- completely free\n",
    "\n",
    "Royalty Free images & Video\n",
    "* Unsplash.com\n",
    "* Pexels.com\n",
    "* coverr.co\n",
    "* undraw.co/illustrations --- Free and open ---- no attributions required..\n",
    "\n",
    "Icons and Fonts\n",
    "* google fonts\n",
    "* font awesome\n",
    "* flaticon\n",
    "* icons8.com/animated-icons\n",
    "\n",
    "Learning\n",
    "* freecodecamp\n",
    "* theodinproject.com -- full stack curriculum, supported by open-src commuity\n",
    "* mem.dev --- for practising what we learnt\n",
    "\n",
    "Mockup tools -- how the application is going to look and feel\n",
    "* figma.com\n",
    "* zeplin.io - better way to share, organize and collaborate on designs\n",
    "\n",
    "Freelancing\n",
    "* upwork.com     -- for the projects, worked till months\n",
    "* freelancer.com  -- same\n",
    "* fiverr.com     -- short, small one-time projects\n",
    "\n",
    "Design ideas\n",
    "* awwwards.com/websites -- contains ratings of different websites\n",
    "* dribble.com\n",
    "\n",
    "Exercise, Algorithms, improving logical thinking..\n",
    "* leetcode.com         -- C, Java...\n",
    "* exercism.io         -- More webdesign friendly.\n",
    "* codewars.com\n",
    "\n",
    "General tools\n",
    "* emailjs.com         -- ability to send the emails, without any server code. Especially needed for the portfolio things, and not much interested on backend of mailing.\n",
    "* caniuse.com         -- Checks the syntax-- is it usable on all devices..\n",
    "* imagecompressor.com\n",
    "* css-tricks.com\n",
    "* stackoverflow.com\n",
    "- src: JavascriptMastery"
   ]
  },
  {
   "cell_type": "markdown",
   "id": "393cae00-2f1b-463a-bb43-d5615d82a379",
   "metadata": {},
   "source": [
    "* [100 Daily UI free](https://100dailyui.webflow.io/)\n",
    "* [icons8](https://icons8.com/)\n",
    "* UI kits\n",
    "    * [In Vision](https://www.invisionapp.com/)\n",
    "    * [Uplabs](https://www.uplabs.com/)\n",
    "    * [SketchAppSources](https://www.sketchappsources.com/)\n",
    "    * [Free UI designs](https://www.uidesigndaily.com/)\n",
    "* Images and illustrations\n",
    "    * Opens-source Illustration website [UnDraw](https://undraw.co/)\n",
    "    * For background patterns [Paaatterns](https://products.ls.graphics/paaatterns/)\n",
    "    * [https://www.manypixels.co/](https://www.manypixels.co/)\n",
    "    * [Human illustrations] (https://www.humaaans.com/)\n",
    "    * A Free Set of Open-Source Illustrations, [OpenDoodles](https://www.opendoodles.com/)\n",
    "* Backgrounds\n",
    "    * [Free Illustrations](https://www.freellustrations.com/)\n",
    "    * IRA design,  opensource gradient collections(https://iradesign.io/)\n",
    "   \n",
    "    \n",
    "    "
   ]
  },
  {
   "cell_type": "markdown",
   "id": "7163023f-5f4e-4665-acf5-d5b59f4ca115",
   "metadata": {},
   "source": []
  },
  {
   "cell_type": "markdown",
   "id": "3d2205df-1514-4275-b588-f820a92b779b",
   "metadata": {},
   "source": []
  },
  {
   "cell_type": "markdown",
   "id": "37cbd956-3925-4faf-b133-6779d9ce3ff0",
   "metadata": {},
   "source": []
  },
  {
   "cell_type": "markdown",
   "id": "325d497b-8e40-4eb5-b54f-47b71b1921f0",
   "metadata": {},
   "source": []
  },
  {
   "cell_type": "markdown",
   "id": "44ebba33-d946-4978-a7cf-12a040202569",
   "metadata": {},
   "source": []
  },
  {
   "cell_type": "markdown",
   "id": "197a53f0-1c53-4c4e-b09e-da8bb10aa908",
   "metadata": {},
   "source": []
  },
  {
   "cell_type": "markdown",
   "id": "50c7067c-061f-4130-9163-efd0add11d34",
   "metadata": {},
   "source": []
  },
  {
   "cell_type": "markdown",
   "id": "9b8b0edf-cb74-49a8-81ef-a90ccc9d0de8",
   "metadata": {},
   "source": []
  },
  {
   "cell_type": "markdown",
   "id": "36cc3df1-95fa-486e-a988-e7e338fa59b5",
   "metadata": {},
   "source": []
  },
  {
   "cell_type": "markdown",
   "id": "c6261d8b-f25c-42a5-aa88-2e61284a77ca",
   "metadata": {},
   "source": []
  },
  {
   "cell_type": "markdown",
   "id": "1edfeef4-7ebf-4e94-98a9-f5c4a36bb5a4",
   "metadata": {},
   "source": []
  },
  {
   "cell_type": "markdown",
   "id": "626664a7-87cc-4691-90bc-84af274af175",
   "metadata": {},
   "source": []
  },
  {
   "cell_type": "markdown",
   "id": "d22c8ed6-a4c3-4813-b595-db53459c088d",
   "metadata": {},
   "source": []
  },
  {
   "cell_type": "markdown",
   "id": "a5e14578-13a4-47d2-b3ac-61bcaa233d36",
   "metadata": {},
   "source": []
  },
  {
   "cell_type": "markdown",
   "id": "fcc48544-52f5-4ab3-8d55-7ea5313ccccb",
   "metadata": {},
   "source": []
  },
  {
   "cell_type": "markdown",
   "id": "40cb818c-723c-4642-90df-1065b22cb0a4",
   "metadata": {},
   "source": []
  },
  {
   "cell_type": "markdown",
   "id": "d8adfa39-31bb-45dd-82ba-011f36ebb789",
   "metadata": {},
   "source": []
  },
  {
   "cell_type": "markdown",
   "id": "41705f34-e7bd-4e52-93d9-b060ba4db505",
   "metadata": {},
   "source": []
  },
  {
   "cell_type": "markdown",
   "id": "860df5af-57b7-48ea-aa32-bf2671c11ae2",
   "metadata": {},
   "source": []
  },
  {
   "cell_type": "markdown",
   "id": "61b1e485-e781-424d-b779-356e283773f3",
   "metadata": {},
   "source": []
  },
  {
   "cell_type": "markdown",
   "id": "abd88324-8ced-4335-a1dc-8357cc48abbb",
   "metadata": {},
   "source": []
  },
  {
   "cell_type": "markdown",
   "id": "2a09415b-1af5-4ecb-9154-60c80f7534d7",
   "metadata": {},
   "source": []
  },
  {
   "cell_type": "markdown",
   "id": "eda57e1f-3011-4b73-8599-92f4e6e44924",
   "metadata": {},
   "source": []
  },
  {
   "cell_type": "markdown",
   "id": "b78637cc-f66d-4fe3-83ee-c261ba1ab014",
   "metadata": {},
   "source": []
  },
  {
   "cell_type": "markdown",
   "id": "3c9359e5-4bdb-401f-a99d-c79c38a8c55a",
   "metadata": {},
   "source": []
  },
  {
   "cell_type": "markdown",
   "id": "42344768-196c-4ef2-bd19-95e9d35c7077",
   "metadata": {},
   "source": []
  },
  {
   "cell_type": "markdown",
   "id": "4d41d2cc-3427-45ef-8f60-de34dac0dbfb",
   "metadata": {},
   "source": []
  },
  {
   "cell_type": "markdown",
   "id": "88adf0d9-1a51-4704-b5a9-b8ccfceaf6fc",
   "metadata": {},
   "source": []
  },
  {
   "cell_type": "markdown",
   "id": "dc923021-e42d-41ca-9412-bbaf4ed77bda",
   "metadata": {},
   "source": []
  },
  {
   "cell_type": "markdown",
   "id": "7775dba1-b023-4de2-9e63-ee0ee3fb55ee",
   "metadata": {},
   "source": []
  },
  {
   "cell_type": "markdown",
   "id": "a46ee8cd-9138-4022-a6df-78a73c186086",
   "metadata": {},
   "source": []
  },
  {
   "cell_type": "markdown",
   "id": "caafc462-4778-495e-8308-90196d5ccb8f",
   "metadata": {},
   "source": []
  },
  {
   "cell_type": "markdown",
   "id": "ad355138-9184-4603-aca5-9718efd3a39e",
   "metadata": {},
   "source": []
  },
  {
   "cell_type": "markdown",
   "id": "1017932f-9d6d-48d6-ba74-b976d5d30d78",
   "metadata": {},
   "source": []
  },
  {
   "cell_type": "markdown",
   "id": "2e5be137-d4aa-4ab6-96bd-59e55b7b2c7f",
   "metadata": {},
   "source": []
  },
  {
   "cell_type": "markdown",
   "id": "755e035a-665f-4ff6-98dd-8e20caf52543",
   "metadata": {},
   "source": []
  },
  {
   "cell_type": "markdown",
   "id": "f41c49fd-9d68-4a46-8e28-e26287905ef0",
   "metadata": {},
   "source": []
  },
  {
   "cell_type": "markdown",
   "id": "864c0811-4d53-4f64-a086-c70b2ad9409f",
   "metadata": {},
   "source": []
  },
  {
   "cell_type": "markdown",
   "id": "3fb1e877-b579-4c6c-8673-4b2d137af284",
   "metadata": {},
   "source": [
    "Vector-Image-credits: flaticon.com"
   ]
  }
 ],
 "metadata": {
  "kernelspec": {
   "display_name": "Python 3",
   "language": "python",
   "name": "python3"
  },
  "language_info": {
   "codemirror_mode": {
    "name": "ipython",
    "version": 3
   },
   "file_extension": ".py",
   "mimetype": "text/x-python",
   "name": "python",
   "nbconvert_exporter": "python",
   "pygments_lexer": "ipython3",
   "version": "3.8.11"
  }
 },
 "nbformat": 4,
 "nbformat_minor": 5
}
