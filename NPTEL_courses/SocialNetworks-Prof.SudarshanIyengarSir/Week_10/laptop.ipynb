{
 "cells": [
  {
   "cell_type": "markdown",
   "id": "e890cb62-db98-4933-a802-4c5bc4a304f4",
   "metadata": {
    "tags": []
   },
   "source": [
    "# Week-10: **Rich Get Richer Phenomenon-2**"
   ]
  },
  {
   "cell_type": "markdown",
   "id": "a1feaee6-21c9-42df-854f-b484cdd78fe1",
   "metadata": {
    "tags": []
   },
   "source": [
    "## Module-1: **Rich get richer - A possible Reason**"
   ]
  },
  {
   "cell_type": "markdown",
   "id": "1700ae76-f0a1-4f86-9817-86ed80a50f21",
   "metadata": {},
   "source": [
    "A paradigm called **Rich get richer**.<br/>\n",
    "**What's happening there..??**\n",
    "> People having more degree, becoming even of more degree. To put it simply: _People having more friends attracting more friends_\n",
    "<p style=\"text-align: right\"><i>-----------------This is the validated hypothesis on several data.</i></p>\n",
    "\n",
    "Its suspected that: **Is it really happening??**\n",
    "> Yes Indeed..!!\n",
    "****\n",
    "A slightly un-related question _(to networks)_, but related..**------ Looking back the history ------**\n",
    "> * Even still today, the **Alice in Wonderland** a popular story?, And some like.. **Harry Potter** by J. K. Rowling..\n",
    "> * Barack Obama was the president of US earlier, now, can he became again the president?\n",
    "> All those started with **`0`** , like J. K. Rowling, before her story-publishing, now one knew her.. later became famous.<br/>\n",
    "So, by (say)luck they became rich, then after .. richer... richer......richer.\n",
    "****\n",
    "A nice experiment was conducted earlier _(to repeat the scene and test... Is it really happening)_.<br/>\n",
    "**A bunch of people were asked to download the songs of their wish from 48 songs through a portal**. Now....\n",
    "> with time they observed that, **some** songs which are downloaded by more people _(They took the downloaded distribution of each)_, sooner became popular.<br/>\n",
    "<p style=\"text-align:center\">Now, assume the same case for a parallel world"
   ]
  },
  {
   "cell_type": "markdown",
   "id": "afd48946-9700-48e0-b148-816679901c4b",
   "metadata": {},
   "source": []
  },
  {
   "cell_type": "markdown",
   "id": "cadf9521-0c80-4f7b-9e7e-cd94c53137a5",
   "metadata": {},
   "source": []
  },
  {
   "cell_type": "markdown",
   "id": "fe27dfe9-ff04-4a1f-b9c0-e7250aa2f3f8",
   "metadata": {},
   "source": []
  },
  {
   "cell_type": "markdown",
   "id": "cd10ebdd-9f85-40fa-957f-c546420934da",
   "metadata": {},
   "source": []
  },
  {
   "cell_type": "markdown",
   "id": "2312ecfb-3225-4c65-be1a-0bfc46924328",
   "metadata": {},
   "source": [
    "Lecture 135: Comparison between SIR and SIS spreading models"
   ]
  },
  {
   "cell_type": "markdown",
   "id": "f385b096-2963-4c13-8721-e6c2ea754d9c",
   "metadata": {},
   "source": [
    "Till now, we've seen two models (SIR and SIS)... right..??<br/>\n",
    "Have you noticed that...\n",
    "> Initially, the network was with one color (blue -- susceptible), then later one or more gets infected(then changed to red), then after their recovery/removal, turned to yellow.\n",
    "\n",
    "**A question....Will this color changing stops??**\n",
    "> * For deadly diseases, there is no chance of getting affected again. (like measles) -- changing stops. (may the network gets vanished, after sometime),\n",
    "> * But , what about diseases that will occur again even after the recovery.. it goes on right..!!\n",
    "![](resources/Will-the-color-changing-stops.png)\n",
    "\n",
    "Let's look at individually..!!<br/>\n",
    "![](resources/contrasting-SIR-model.png) The locked refers to the \"\"**Recoverable**\"\" or \"\"**Removed**\"\". Meant as.. after they attain the life-time immunity or the node was removed, its not going to be affected. So, the state of it doesn't change -- the LOCKed connotates that.<br/>\n",
    "The end configurations of the SIR model..<br/>\n",
    "![](resources/SIR-end-configurations.png). (Starts all the nodes with susceptible and one got infected)\n",
    "* Some may remain susceptible and some got recovered or removed.........or...\n",
    "* All would have got recovered.\n",
    "So, this tells that, it won't run for infinite time, it stops some time.\n",
    "****\n",
    "A look at SIS..<br/>\n",
    "![](resources/a-look-at-SIS.png)(Starts all the nodes with susceptible and one got infected)\n",
    "* Chance that, the node which got turned from susceptible to infected, may again come to susceptible, again to infected. -------------- this cycle may go on indefinately.\n",
    "* But, if all the nodes became susceptible, then it would surely stop.\n",
    "****\n",
    "So, in conclusion..<br/>\n",
    "![](resources/conclusion-of-comparison.png)\n",
    "*****"
   ]
  },
  {
   "cell_type": "markdown",
   "id": "0c87cfc1-1aae-472a-8b92-b21ccac9b8aa",
   "metadata": {},
   "source": []
  },
  {
   "cell_type": "markdown",
   "id": "97df7c00-1edc-4d5c-bccb-d7d637b8fe7d",
   "metadata": {},
   "source": []
  },
  {
   "cell_type": "markdown",
   "id": "e2658c81-36e9-4c12-8666-ab5a7a1bdf74",
   "metadata": {},
   "source": [
    "Basic Reproductive Number Revisited for Complex Networks"
   ]
  },
  {
   "cell_type": "markdown",
   "id": "46be38a9-6ec8-488e-bac6-1f3dd0a7df4b",
   "metadata": {},
   "source": []
  },
  {
   "cell_type": "markdown",
   "id": "4e1d4b1b-6eff-4dc6-976d-7e6c4b6039be",
   "metadata": {},
   "source": []
  },
  {
   "cell_type": "markdown",
   "id": "5ff2c84c-2288-4cad-83d9-59261c65623b",
   "metadata": {},
   "source": []
  },
  {
   "cell_type": "markdown",
   "id": "d8640945-3a0d-4318-9fca-b20e4433948b",
   "metadata": {},
   "source": []
  },
  {
   "cell_type": "markdown",
   "id": "2258e485-7aa8-4222-9776-f9884e925bd7",
   "metadata": {},
   "source": []
  },
  {
   "cell_type": "markdown",
   "id": "c41ffc0c-ca7b-47fc-b0da-e1b07d67b67f",
   "metadata": {},
   "source": []
  },
  {
   "cell_type": "markdown",
   "id": "3516d844-f77e-4ac5-94bd-929aab1979c7",
   "metadata": {},
   "source": []
  },
  {
   "cell_type": "markdown",
   "id": "63fc2a47-918f-4b5f-b9a3-c007bc5bee91",
   "metadata": {},
   "source": []
  },
  {
   "cell_type": "markdown",
   "id": "a0fb4e51-5445-44ce-9be2-2b71f4f1f8c3",
   "metadata": {},
   "source": []
  },
  {
   "cell_type": "markdown",
   "id": "b0c59156-b07a-43f6-b0f6-5864ca275ae3",
   "metadata": {},
   "source": []
  },
  {
   "cell_type": "markdown",
   "id": "18892033-a139-44ee-a77c-7b52e99aff91",
   "metadata": {},
   "source": []
  },
  {
   "cell_type": "markdown",
   "id": "74ce8e9a-a25e-4c7b-a36c-ec74bb6b1397",
   "metadata": {},
   "source": []
  },
  {
   "cell_type": "markdown",
   "id": "9f76afc9-abab-40f1-a5e1-4f33f306455a",
   "metadata": {},
   "source": []
  },
  {
   "cell_type": "markdown",
   "id": "ada1dd80-3cf9-4545-8c67-c26edee88dcc",
   "metadata": {},
   "source": []
  },
  {
   "cell_type": "markdown",
   "id": "777c07fe-a0c5-47ae-9e80-bc7f65177fe5",
   "metadata": {},
   "source": []
  },
  {
   "cell_type": "markdown",
   "id": "49c52ab3-f4de-4b9f-8686-457bd947f426",
   "metadata": {},
   "source": []
  },
  {
   "cell_type": "markdown",
   "id": "88c244ee-c472-4924-8cf1-1e30b4cda837",
   "metadata": {},
   "source": []
  },
  {
   "cell_type": "markdown",
   "id": "3555192d-1db2-4a7c-984f-b04839140c26",
   "metadata": {},
   "source": []
  },
  {
   "cell_type": "markdown",
   "id": "3aa5ef54-910b-4cbf-aa13-fc80535ad567",
   "metadata": {},
   "source": []
  },
  {
   "cell_type": "markdown",
   "id": "9ed6fc70-4d70-4ce5-812e-ce3254a20fdf",
   "metadata": {},
   "source": []
  },
  {
   "cell_type": "markdown",
   "id": "9b0d9748-588e-477a-a321-d935ec2940b0",
   "metadata": {},
   "source": []
  }
 ],
 "metadata": {
  "kernelspec": {
   "display_name": "Python 3 (ipykernel)",
   "language": "python",
   "name": "python3"
  },
  "language_info": {
   "codemirror_mode": {
    "name": "ipython",
    "version": 3
   },
   "file_extension": ".py",
   "mimetype": "text/x-python",
   "name": "python",
   "nbconvert_exporter": "python",
   "pygments_lexer": "ipython3",
   "version": "3.9.7"
  }
 },
 "nbformat": 4,
 "nbformat_minor": 5
}
