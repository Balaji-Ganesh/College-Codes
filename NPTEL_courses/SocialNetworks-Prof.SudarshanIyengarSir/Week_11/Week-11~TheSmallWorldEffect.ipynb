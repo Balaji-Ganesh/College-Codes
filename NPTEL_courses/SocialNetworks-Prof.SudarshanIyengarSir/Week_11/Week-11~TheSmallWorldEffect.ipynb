{
 "cells": [
  {
   "cell_type": "markdown",
   "id": "488e8d56-c187-47a1-9708-31433f2b8e98",
   "metadata": {},
   "source": [
    "# Week-11: **The Small World Effect**\n",
    "--- on 12th October, 2021 ~ Wednesday_2"
   ]
  },
  {
   "cell_type": "markdown",
   "id": "b4849746-7cd4-4429-bd04-fe19035fd114",
   "metadata": {
    "tags": []
   },
   "source": [
    "## Module-01: **Introduction**"
   ]
  },
  {
   "cell_type": "markdown",
   "id": "600493f4-c5f4-4f14-8129-6ae3070bd03f",
   "metadata": {},
   "source": [
    "!There's a person named **Ram** in the city of Delhi, and would need to contact **Jennifer** who is in Los Angelas (LA) for some business requirement --- say, its in the back 1970s, at which there is no existance of Internet.\n",
    "![](resources/small-world-effect-intro_1.png) -- Now, how would he contact her..??. An Idea would be like.. ![](resources/small-world-effect-intro_2.png) -- contact via someone who knows Jennifer.<br/>\n",
    "But, how likely is this possible....?? -- it may or may not exist..but.but....<br/>\n",
    "![](resources/small-world-effect-intro_3.png). Ram knows someone, who knows someone, they knows someone......... they in-turn knows Jennier. -- This too, may or may not. Are they even connected..?? May or may not.,....\n",
    "****\n",
    "Now, let's try an experiment, is the world connected..???i.e,. meant as...<br/>\n",
    "Let's take two people from two different people. Person-1, knows someone, they knows someone....they.... at end they reach at person-2.<br/>\n",
    "![](resources/small-world-effect-intro_4.png). In terms of graph theory and took the whole earth, ![](resources/small-world-effect-intro_5.png). You put an edge b/w any two chosen random people, if they are connected,\n",
    "* Nowm if the whole world is connected, then there exists a path between any two chosen nodes.\n",
    "* If not (i.e.,if broken..), then not.\n",
    "****\n",
    "Let us re-visit the first example...<br/>\n",
    "* Say, Ram has a friend in London, named Mike. And asks **Hello Mike, do you know *Jennifer* in LA?**<br/>\n",
    "![](resources/revisted-Ram-Jennifer-example.png)... **NOTE**, here too, still Ram is not sure that, he knows Jennifer*, but, still would like to explore the path/chance .<br/>\n",
    "* But Mike knows someone in Boston, **Peter**, who earlier lived in LA. And asks about the contact. But they too don't. They knows **Monica**, hwo is a close friend of **Jennifer**, and contact finishes.<br/>\n",
    "![](resources/revisted-Ram-Jennifer-example_1.png)--- it happened in 4 hops. --- but note that its a story.\n",
    " \n",
    "Here goes the question..**Is the friendship-network connected..?? If yes, what's the distance between them?**<br/>\n",
    "![](resources/is-connected.png) --- \n",
    "> YES....the world is connected. In what sense..?? Any two chosen people, are connected via some intermediary people.\n",
    "> So, about the distance (as connected..) its... **6**. (on an **average**) -- as scientists observed.\n",
    "\n",
    "But how could one conducted such experiments and would able to validate such a statement...??<br/>\n",
    "That's for the next lecture...."
   ]
  },
  {
   "cell_type": "markdown",
   "id": "0f14f86f-01d3-4c97-a021-f961096a198d",
   "metadata": {},
   "source": [
    "## Module-02: **Milgram's Experiment** \n",
    "-- conducted in the year of 1967"
   ]
  },
  {
   "cell_type": "markdown",
   "id": "3cfe088a-eddc-473a-aeaa-82453536d123",
   "metadata": {},
   "source": [
    "**How the experiment was conducted..?** (with the following rules)\n",
    "> 1. Chosen two people individually (uniformly at random), and they don't know each other. The one in those given a letter, and need to post to other.\n",
    "> 2. The address is mentioned on the letter, but shouldn't post it directly.<br/>\n",
    "![](resources/Milgrams-experiment-rules.png)\n",
    "\n",
    "then how the letter reaches the other person..??<br/>\n",
    "> Should pass to someone he knows and suspects that, they know **P2**. -- ***NOTE**, the cases of not being transmitted and going in reverse direction are low, because, they are sent to the person who atleast know her or close to her place.*<br/>\n",
    "![](resources/Milgrams-observation.png) -- happened in 6 hops (on avg). And published this in the article **Psychology Today**.\n",
    "****\n",
    "Looking at the counter-intuitive part...<br/>\n",
    "![](resources/Milgrams-observation.png) Big(in-terms o fbig population). Small (as separated by 6 people)<br/>\n",
    "But its not so counter-intuitve...<br/>\n",
    "* (Say) You had 100 friends, they in-turn had 100 friends, they in-turn had 100 friends....... <br/>\n",
    "![](resources/intuitive-part.png). So when you want to contact a person in level-10, you just need 10 hops in between. -- See the number $100^{10}$ and the level $10$"
   ]
  },
  {
   "cell_type": "markdown",
   "id": "0b0e55e8-cf2a-465f-b6e1-dd7ef19093d0",
   "metadata": {},
   "source": []
  },
  {
   "cell_type": "markdown",
   "id": "4b8c6c6e-e782-49b9-823a-f2ee0636dfa5",
   "metadata": {},
   "source": []
  },
  {
   "cell_type": "markdown",
   "id": "2f25a716-b321-4050-a124-902a55d7580c",
   "metadata": {},
   "source": [
    "## Module-03: **The Reason** \n",
    "--- the same experiment was **re**-conducted by **Watts** and **Strogatz** in the year of 1998 on the e-mail networks. \n",
    "* Its popularly called as **Watts-Strogatz Model** and observed the *Small world phenomena*.\n",
    "\n",
    "<img src=\"resources/doubtful.png\" width=20%>   <b>How they re-conducted, and observed the phenomena..??</b><br/>\n",
    "Look ahead.."
   ]
  },
  {
   "cell_type": "markdown",
   "id": "5f332fdf-b529-4a5a-b03b-a46565d22cd3",
   "metadata": {},
   "source": [
    "How could they observe the *Small world phenomena....??* via the following two reasons..<br/> \n",
    "![](resources/Watts-Strogatz-model_intro.png)<br/>\n",
    "They said... in a given network of nodes with some edges.. ie., let's have a look at each of the above ..\n",
    "* The are like the grid..i.e., <br/>\n",
    "![](resources/locality-view-watts-strogatz-model.png) Assume it as your locality, and you'll have **more** friends around your locality and less friends are out of locality.<br/>\n",
    "Let's model into a grid...Nodes being friends/houses and edges are the connected lines<br/>\n",
    "Here, say the two friends are of differently-located (that's about the curvy-line b/w two circled nodes) -- Imagine for 100x 100 grid(i.e., extend to a large network).<br/>\n",
    "![](resources/observed-small-phenomena.png) You have more friends in your locality and less out of locality.\n",
    "* Proposed as....\n",
    "> **Because of _Homophily_ and the _Weak ties_, in a grid like above, you tend to make mor friends near you and some out of it** -- this is what leading to small world phenomena. -- i.e.,\n",
    "![](resources/how-lead-to-small-phenomena.png) -- In the example of Letter passing..<br/>\n",
    "* $P_1$ need to pass the letter to $P_2$. As can't pass directly, gives to $A_1$ who is very close (say), he in-turn gives to $A_2$, who is not close to $A_1$, but close to $P-2$, and the letter lands near $P_2$. ................................ <mark>Read once to get the insight.</mark>\n",
    "\n",
    "Speaking it generically.. Consider multiple regions, and one needs to send a letter to another..\n",
    "* If other person happens to be in the same region, it happens instantly -- as connected in multiple ways.\n",
    "* If it happens to be the person in other region, then...\n",
    "   * Any one of the person in the sender region would know the another person in another region. That person to another region.. finally lands near $P_2$.\n",
    "   ![](resources/how-lead-to-small-phenomena-regions.png)\n",
    "\n",
    "The edges between the regions are the **Weak ties**"
   ]
  },
  {
   "cell_type": "markdown",
   "id": "51a55f57-6b79-4a45-9b6b-bb3f5c2ca37c",
   "metadata": {},
   "source": [
    "so, Homophily(friends like them) coupled with Weak ties results in such phenomena.\n",
    "\n",
    "\n",
    "Is this true...??<img src=\"resources/yes-or-no.png\" width=20%> .. \n",
    "> Yes, some networks really forms clusters like these and behaves as described above.\n",
    "\n",
    "How..??<img src=\"resources/confused.png\" width=20%> How..?? \n",
    "> Assume you had some friends close to you (these form a territory/cluster/region), as well as youi'll have some friends who are not close to your locality. These **outside-network connections (weak-ties) and the territorial connections (homophily) make the world connected**.<br/>\n",
    "![](resources/how-homophily-and-weakties.png) -- think for a while, it makes a sense...."
   ]
  },
  {
   "cell_type": "markdown",
   "id": "7e1d183a-909a-4682-aa27-9013fa38e5c2",
   "metadata": {},
   "source": [
    "## Module-04: **The Generative Model** \n",
    "\n",
    "**Hypothesis**: Something is proposed as true, but no proper complete scientific evidence."
   ]
  },
  {
   "cell_type": "markdown",
   "id": "7d159910-c526-4199-aca0-12bb39bdf259",
   "metadata": {},
   "source": [
    "The observed small world phenomena, ..\n",
    "* Weak ties and Homophily could be the reason for happening this. \n",
    "****\n",
    "Now they gives a **Generative Model** -- i.e., a method to construct the graphs with the property having *Small world properties*.<br/>\n",
    "Their proposal was...\n",
    "1. Put the nodes in a circle like form. ![](resources/node-in-circle-form.png)\n",
    "2. Start drawing the edges to their nearest edges. ![](resources/node-in-circle-form-connections.png) _(In this example....say every body is friend to next friend)_ --------its very much similar to the grid....<br/>\n",
    "\n",
    "What they proposed is....<br/>\n",
    "**Randomly re-wire a few edges.** -- i.e., take some edge, and place it between some other nodes, randomly. With some probablity $p$.\n",
    "\n",
    "Doing so.. gives the .. <br/>\n",
    "![](resources/finally-observed-result.png) i.e., Any two nodes are in-fact close to each other.\n",
    "\n",
    "So, that's the motivation fo rthis.. **Why the world is big yet so small**"
   ]
  },
  {
   "cell_type": "markdown",
   "id": "97c9aecf-387b-42e5-8980-82d2f2412a7a",
   "metadata": {},
   "source": []
  },
  {
   "cell_type": "markdown",
   "id": "f0f49dff-aa85-46c9-86d7-1f2dbef2ddfd",
   "metadata": {},
   "source": []
  },
  {
   "cell_type": "markdown",
   "id": "652caae6-eb58-44ed-97eb-b23e06e16542",
   "metadata": {},
   "source": []
  },
  {
   "cell_type": "markdown",
   "id": "e0559a3e-f9c1-4fe7-ab2a-d2813b59cbc7",
   "metadata": {},
   "source": []
  },
  {
   "cell_type": "markdown",
   "id": "a057f77b-95ab-4744-ba58-c0ae0071c92f",
   "metadata": {},
   "source": []
  },
  {
   "cell_type": "markdown",
   "id": "7012b3a5-212b-497d-b1cf-d724662f6dd3",
   "metadata": {},
   "source": []
  },
  {
   "cell_type": "markdown",
   "id": "a0a30f13-c383-4998-84a5-ec186959e0c3",
   "metadata": {},
   "source": []
  },
  {
   "cell_type": "markdown",
   "id": "da8f923a-720b-4fb7-931f-0d2b7f30dcb2",
   "metadata": {},
   "source": []
  },
  {
   "cell_type": "markdown",
   "id": "10ec301a-cd19-4288-a3dc-48de816ed516",
   "metadata": {},
   "source": []
  },
  {
   "cell_type": "markdown",
   "id": "c218e9a1-2f2d-410f-b164-53efeab5a9e3",
   "metadata": {},
   "source": []
  },
  {
   "cell_type": "markdown",
   "id": "dd277526-04ad-4d10-a866-d43afebc1294",
   "metadata": {},
   "source": []
  },
  {
   "cell_type": "markdown",
   "id": "a4cde5f6-5744-43b9-975a-d2c095e34936",
   "metadata": {},
   "source": []
  },
  {
   "cell_type": "markdown",
   "id": "28a54874-871c-4875-9aab-564b0bce099d",
   "metadata": {},
   "source": []
  },
  {
   "cell_type": "markdown",
   "id": "eb92a7d6-65c7-4d35-9f03-95fc712b5892",
   "metadata": {},
   "source": []
  },
  {
   "cell_type": "markdown",
   "id": "0b2b24c8-60ca-4c00-b17c-8ba80c60f1a8",
   "metadata": {},
   "source": []
  },
  {
   "cell_type": "markdown",
   "id": "4bded231-e72e-45d9-9758-ef6f7cf986f5",
   "metadata": {},
   "source": []
  },
  {
   "cell_type": "markdown",
   "id": "b69872c4-ed41-49f4-a571-b639819d2621",
   "metadata": {},
   "source": []
  },
  {
   "cell_type": "markdown",
   "id": "4ce2db39-d5c8-444a-a9bc-e80ec85bbe1b",
   "metadata": {},
   "source": []
  },
  {
   "cell_type": "markdown",
   "id": "b0a69858-3512-439d-b999-d8d9a41f061e",
   "metadata": {},
   "source": []
  },
  {
   "cell_type": "markdown",
   "id": "e0d7ae7a-a11a-4682-8ba3-17d52a3e6970",
   "metadata": {},
   "source": []
  },
  {
   "cell_type": "markdown",
   "id": "67dea15f-d385-41e6-902e-42c930f304e8",
   "metadata": {},
   "source": []
  },
  {
   "cell_type": "markdown",
   "id": "760102cc-e796-40c9-bae0-204b9555fc9c",
   "metadata": {},
   "source": []
  }
 ],
 "metadata": {
  "kernelspec": {
   "display_name": "Python 3",
   "language": "python",
   "name": "python3"
  },
  "language_info": {
   "codemirror_mode": {
    "name": "ipython",
    "version": 3
   },
   "file_extension": ".py",
   "mimetype": "text/x-python",
   "name": "python",
   "nbconvert_exporter": "python",
   "pygments_lexer": "ipython3",
   "version": "3.8.11"
  }
 },
 "nbformat": 4,
 "nbformat_minor": 5
}
